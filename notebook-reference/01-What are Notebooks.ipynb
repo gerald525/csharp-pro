{
  "cells": [
    {
      "cell_type": "markdown",
      "metadata": {},
      "source": [
        "## What are Notebooks?\n",
        "Notebooks are an interactive tool for mixing code (C#, F#, Python, ...), their output/visualization, and documentation (Markdown) all in one spot.\n",
        "\n",
        "## What are they used for?\n",
        "Notebooks are popular in Statistics, DataScience, and Machine Learning applications. Each of those fields use notebooks as a tool for trying things out, making changes, and seeing how it effects the output. The experimental and exploratory nature of Data Science and Machine Learning make Notebooks a great home but it's certainly not the only use for Notebooks!\n",
        "\n",
        "## How do I get started?\n",
        "Hit play below ![Something](http://addplaybuttontoimage.way4info.net/Images/Icons/25.png) or \"Run All\" above! "
      ]
    },
    {
      "cell_type": "code",
      "execution_count": 1,
      "metadata": {
        "dotnet_interactive": {
          "language": "csharp"
        }
      },
      "source": [
        "Console.WriteLine(\"Hello Notebooks!\");"
      ],
      "outputs": [
        {
          "output_type": "execute_result",
          "data": {
            "text/plain": "Hello Notebooks!\r\n"
          },
          "execution_count": 1,
          "metadata": {}
        }
      ]
    }
  ],
  "metadata": {
    "kernelspec": {
      "display_name": ".NET (C#)",
      "language": "C#",
      "name": ".net-csharp"
    },
    "language_info": {
      "file_extension": ".cs",
      "mimetype": "text/x-csharp",
      "name": "C#",
      "pygments_lexer": "csharp",
      "version": "8.0"
    }
  },
  "nbformat": 4,
  "nbformat_minor": 4
}