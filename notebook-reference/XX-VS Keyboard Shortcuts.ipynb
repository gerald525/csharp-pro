{
  "cells": [
    {
      "cell_type": "markdown",
      "metadata": {},
      "source": [
        "# Keyboard shortcuts\n",
        "\n",
        "| Key  |When      |  Command |\n",
        "|----------|-------------|------|\n",
        "| K|  Notebook Editor focused && input not focused | Focus move up |\n",
        "| J |  Notebook Editor focused && input not focused   |focus move down |\n",
        "| A|Notebook Editor focused && input not focused    |  Insert cell above |\n",
        "| B|Notebook Editor focused && input not focused    |  Insert cell below |\n",
        "| DD|Notebook Editor focused && input not focused    | Delete cell |\n",
        "| Z|Notebook Editor focused && input not focused    | Undo|\n",
        "| S|Notebook Editor focused && input not focused    | Save |\n",
        "| C|Notebook Editor focused && input not focused    |  Cell copy |\n",
        "| X|Notebook Editor focused && input not focused    | Cell cut |\n",
        "| V|Notebook Editor focused && input not focused    | Cell past|\n",
        "| L|Notebook Editor focused && input not focused    |  Toggle Line Numbers|\n",
        "| O|Notebook Editor focused && input not focused    |  Toggle outputs|\n",
        "| II|Notebook Editor focused && input not focused    | Cancel cell execution|\n",
        "| 00|Notebook Editor focused && input not focused    | Restart kernel|\n",
        "| ctrl+shift+-|Notebook Editor focused && input focused    |  Split cell|\n",
        "| ctrl+enter|Notebook Editor focused && input focused    |  Excute/run cell|\n",
        "| shift+enter|Notebook Editor focused && input focused    |  Excute/run cell and move focuse down|"
      ]
    }
  ],
  "metadata": {
    "kernelspec": {
      "display_name": ".NET (C#)",
      "language": "C#",
      "name": ".net-csharp"
    },
    "language_info": {
      "file_extension": ".cs",
      "mimetype": "text/x-csharp",
      "name": "C#",
      "pygments_lexer": "csharp",
      "version": "8.0"
    }
  },
  "nbformat": 4,
  "nbformat_minor": 4
}