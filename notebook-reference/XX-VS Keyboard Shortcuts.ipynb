{
  "cells": [
    {
      "cell_type": "markdown",
      "metadata": {},
      "source": [
        "# VS Notebook Editor Keyboard shortcuts\n",
        "\n",
        "## Editor Shortcuts\n",
        "These shortcuts only work when the focus is inside the editors for Code or Markdown. When focus is on the cell you can press ENTER to move focus into the editor.\n",
        "\n",
        "| Key  |  Command |\n",
        "|----------|------|\n",
        "| ESC | Move focus out to cell |\n",
        "| ctrl+shift+- |  Split cell|\n",
        "| ctrl+enter |  Excute/run cell|\n",
        "| shift+enter | Excute/run cell and move focuse down|\n",
        "\n",
        "## Cell Shortcuts\n",
        "These shortcuts only work when the focus is at the cell level. When focus is on the edtior you can press ESC to move focus to the cell.\n",
        "\n",
        "| Key  |  Command |\n",
        "|----------|------|\n",
        "| ENTER | Move focus into editor|\n",
        "| K | Focus move up|\n",
        "| J  | Focus move down |\n",
        "| A | Insert cell above |\n",
        "| B | Insert cell below |\n",
        "| DD | Delete cell |\n",
        "| Z | Undo |\n",
        "| S | Save |\n",
        "| C |  Copy Cell |\n",
        "| X | Cut Cell |\n",
        "| V | Paste Cell |\n",
        "| L | Toggle Line Numbers|\n",
        "| O | Toggle outputs|\n",
        "| II | Stop Cell Execution|\n",
        "| 00 | Restart kernel|\n",
        "\n",
        ""
      ]
    }
  ],
  "metadata": {
    "kernelspec": {
      "display_name": ".NET (C#)",
      "language": "C#",
      "name": ".net-csharp"
    },
    "language_info": {
      "file_extension": ".cs",
      "mimetype": "text/x-csharp",
      "name": "C#",
      "pygments_lexer": "csharp",
      "version": "8.0"
    }
  },
  "nbformat": 4,
  "nbformat_minor": 4
}