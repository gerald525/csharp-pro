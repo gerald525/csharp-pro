{
  "cells": [
    {
      "cell_type": "markdown",
      "metadata": {},
      "source": [
        "## ==**This notebook is under active development**==\n",
        "\n",
        "# Model Evaluation\n",
        "\n",
        "In this notebook you will learn:\n",
        "\n",
        "- What is model evaluation?\n",
        "- What are common evaluation metrics?\n",
        "- How to evaluate a model in ML.NET\n",
        "- Train and evaluate models with cross-validation\n",
        "- Model explainability\n",
        "- How to improve your models"
      ]
    },
    {
      "cell_type": "markdown",
      "metadata": {},
      "source": [
        "## What is model evaluation?\n",
        "\n",
        "Training is the process of applying algorithms to historical data in order to create a model that accurately represents that data. That model is then used on new data to make predictions. \n",
        "\n",
        "To determine  "
      ]
    },
    {
      "cell_type": "markdown",
      "metadata": {},
      "source": [
        "## What are common evaluation metrics?"
      ]
    },
    {
      "cell_type": "markdown",
      "metadata": {},
      "source": [
        "## How to evaluate a model in ML.NET"
      ]
    },
    {
      "cell_type": "markdown",
      "metadata": {},
      "source": [
        "### Reference ML.NET Daily Build Feed"
      ]
    },
    {
      "cell_type": "code",
      "execution_count": 1,
      "metadata": {
        "dotnet_interactive": {
          "language": "csharp"
        }
      },
      "source": [
        "#i \"nuget:https://pkgs.dev.azure.com/dnceng/public/_packaging/MachineLearning/nuget/v3/index.json\""
      ],
      "outputs": [
        {
          "output_type": "execute_result",
          "data": {
            "text/html": "<div><div><strong>Restore sources</strong><ul><li><span>https://pkgs.dev.azure.com/dnceng/public/_packaging/MachineLearning/nuget/v3/index.json</span></li></ul></div><div></div><div></div></div>"
          },
          "execution_count": 1,
          "metadata": {}
        }
      ]
    },
    {
      "cell_type": "markdown",
      "metadata": {},
      "source": [
        "### Install dependencies"
      ]
    },
    {
      "cell_type": "code",
      "execution_count": 1,
      "metadata": {
        "dotnet_interactive": {
          "language": "csharp"
        }
      },
      "source": [
        "#r \"nuget:Microsoft.Data.Analysis,0.20.0-preview.22226.2\"\n",
        "#r \"nuget:Microsoft.ML.AutoML,0.20.0-preview.22226.2\""
      ],
      "outputs": [
        {
          "output_type": "execute_result",
          "data": {
            "text/html": "<div><div><strong>Restore sources</strong><ul><li><span>https://pkgs.dev.azure.com/dnceng/public/_packaging/MachineLearning/nuget/v3/index.json</span></li></ul></div><div></div><div><strong>Installed Packages</strong><ul><li><span>Microsoft.Data.Analysis, 0.20.0-preview.22226.2</span></li><li><span>Microsoft.ML.AutoML, 0.20.0-preview.22226.2</span></li></ul></div></div>"
          },
          "execution_count": 1,
          "metadata": {}
        },
        {
          "output_type": "execute_result",
          "data": {
            "text/markdown": "Loading extensions from `Microsoft.Data.Analysis.Interactive.dll`"
          },
          "execution_count": 1,
          "metadata": {}
        }
      ]
    },
    {
      "cell_type": "markdown",
      "metadata": {},
      "source": [
        "Reference packages with `using` statements"
      ]
    },
    {
      "cell_type": "code",
      "execution_count": 1,
      "metadata": {
        "dotnet_interactive": {
          "language": "csharp"
        }
      },
      "source": [
        "using System.Text.Json;\n",
        "using Microsoft.Data.Analysis;\n",
        "using Microsoft.ML;\n",
        "using Microsoft.ML.AutoML;\n",
        "using Microsoft.ML.Data;\n",
        "using Microsoft.ML.Trainers.FastTree;\n",
        "using static Microsoft.ML.Transforms.OneHotEncodingEstimator;"
      ],
      "outputs": []
    },
    {
      "cell_type": "markdown",
      "metadata": {},
      "source": [
        "### Load your data\n",
        "\n",
        "Use the `#!value` and `#!share` magic commands to fetch the data from GitHub, store it in the `taxi_data` variable and load it into a `DataFrame` "
      ]
    },
    {
      "cell_type": "code",
      "execution_count": 1,
      "metadata": {
        "dotnet_interactive": {
          "language": "csharp"
        }
      },
      "source": [
        "#!value --name taxi_data --from-url https://github.com/dotnet/csharp-notebooks/raw/main/machine-learning/data/taxi-fare.csv"
      ],
      "outputs": []
    },
    {
      "cell_type": "code",
      "execution_count": 1,
      "metadata": {
        "dotnet_interactive": {
          "language": "csharp"
        }
      },
      "source": [
        "#!share taxi_data --from value"
      ],
      "outputs": []
    },
    {
      "cell_type": "code",
      "execution_count": 1,
      "metadata": {
        "dotnet_interactive": {
          "language": "csharp"
        }
      },
      "source": [
        "var df = DataFrame.LoadCsvFromString(taxi_data);"
      ],
      "outputs": []
    },
    {
      "cell_type": "markdown",
      "metadata": {},
      "source": [
        "Once the data is loaded, use the `Head` method to preview the first five rows."
      ]
    },
    {
      "cell_type": "code",
      "execution_count": 1,
      "metadata": {
        "dotnet_interactive": {
          "language": "csharp"
        }
      },
      "source": [
        "df.Head(5)"
      ],
      "outputs": [
        {
          "output_type": "execute_result",
          "data": {
            "text/html": "<table id=\"table_637894307040300479\"><thead><tr><th><i>index</i></th><th>vendor_id</th><th>rate_code</th><th>passenger_count</th><th>trip_time_in_secs</th><th>trip_distance</th><th>payment_type</th><th>fare_amount</th></tr></thead><tbody><tr><td><i><div class=\"dni-plaintext\">0</div></i></td><td>CMT</td><td><div class=\"dni-plaintext\">1</div></td><td><div class=\"dni-plaintext\">1</div></td><td><div class=\"dni-plaintext\">1271</div></td><td><div class=\"dni-plaintext\">3.8</div></td><td>CRD</td><td><div class=\"dni-plaintext\">17.5</div></td></tr><tr><td><i><div class=\"dni-plaintext\">1</div></i></td><td>CMT</td><td><div class=\"dni-plaintext\">1</div></td><td><div class=\"dni-plaintext\">1</div></td><td><div class=\"dni-plaintext\">474</div></td><td><div class=\"dni-plaintext\">1.5</div></td><td>CRD</td><td><div class=\"dni-plaintext\">8</div></td></tr><tr><td><i><div class=\"dni-plaintext\">2</div></i></td><td>CMT</td><td><div class=\"dni-plaintext\">1</div></td><td><div class=\"dni-plaintext\">1</div></td><td><div class=\"dni-plaintext\">637</div></td><td><div class=\"dni-plaintext\">1.4</div></td><td>CRD</td><td><div class=\"dni-plaintext\">8.5</div></td></tr><tr><td><i><div class=\"dni-plaintext\">3</div></i></td><td>CMT</td><td><div class=\"dni-plaintext\">1</div></td><td><div class=\"dni-plaintext\">1</div></td><td><div class=\"dni-plaintext\">181</div></td><td><div class=\"dni-plaintext\">0.6</div></td><td>CSH</td><td><div class=\"dni-plaintext\">4.5</div></td></tr><tr><td><i><div class=\"dni-plaintext\">4</div></i></td><td>CMT</td><td><div class=\"dni-plaintext\">1</div></td><td><div class=\"dni-plaintext\">1</div></td><td><div class=\"dni-plaintext\">661</div></td><td><div class=\"dni-plaintext\">1.1</div></td><td>CRD</td><td><div class=\"dni-plaintext\">8.5</div></td></tr></tbody></table>"
          },
          "execution_count": 1,
          "metadata": {}
        }
      ]
    },
    {
      "cell_type": "markdown",
      "metadata": {},
      "source": [
        "### Initialize MLContext\n",
        "\n",
        "All ML.NET operations start in the [MLContext](https://docs.microsoft.com/dotnet/api/microsoft.ml.mlcontext) class. Initializing mlContext creates a new ML.NET environment that can be shared across the model creation workflow objects. It's similar, conceptually, to DBContext in Entity Framework."
      ]
    },
    {
      "cell_type": "code",
      "execution_count": 1,
      "metadata": {
        "dotnet_interactive": {
          "language": "csharp"
        }
      },
      "source": [
        "var mlContext = new MLContext();"
      ],
      "outputs": []
    },
    {
      "cell_type": "markdown",
      "metadata": {},
      "source": [
        "### Split the data into train and test sets\n",
        "\n",
        "The train set is what you'll use to learn the patterns of your data. The test set is the dataset used to evaluate the performance of your model using evaluation metrics for the regression task. \n",
        "\n",
        "In this case, 80% of the data is used for training and 20% is used for test/evaluation as defined by the `testFraction` parameter."
      ]
    },
    {
      "cell_type": "code",
      "execution_count": 1,
      "metadata": {
        "dotnet_interactive": {
          "language": "csharp"
        }
      },
      "source": [
        "var trainTestData = mlContext.Data.TrainTestSplit(df,testFraction:0.2);\n",
        "var validationTestData = mlContext.Data.TrainTestSplit(trainTestData.TestSet,testFraction:0.5);"
      ],
      "outputs": []
    },
    {
      "cell_type": "code",
      "execution_count": 1,
      "metadata": {
        "dotnet_interactive": {
          "language": "csharp"
        }
      },
      "source": [
        "var trainSet = trainTestData.TrainSet;\n",
        "var validationSet = validationTestData.TrainSet;\n",
        "var testSet = validationTestData.TestSet;"
      ],
      "outputs": []
    },
    {
      "cell_type": "markdown",
      "metadata": {},
      "source": [
        "### Create training pipeline\n",
        "\n",
        "For ths dataset, the following transforms are applie:\n",
        "\n",
        "- OneHotEncoding to convert categorical values into numerical values\n",
        "- ReplaceMIssingValues which as the name suggests is to replace any missing values.\n",
        "- Concatenate takes all of the features and creates a feature vector\n",
        "\n",
        "AutoML is used to define a regression experiment using the `fare_amount` column as the column to predict or label column. "
      ]
    },
    {
      "cell_type": "code",
      "execution_count": 1,
      "metadata": {
        "dotnet_interactive": {
          "language": "csharp"
        }
      },
      "source": [
        "var pipeline = \n",
        "\tmlContext.Transforms.Categorical.OneHotEncoding(new[] { new InputOutputColumnPair(@\"vendor_id\", @\"vendor_id\"), new InputOutputColumnPair(@\"payment_type\", @\"payment_type\")},outputKind: OutputKind.Binary)\n",
        "\t\t.Append(mlContext.Transforms.ReplaceMissingValues(new[] { new InputOutputColumnPair(@\"rate_code\", @\"rate_code\"), new InputOutputColumnPair(@\"passenger_count\", @\"passenger_count\"), new InputOutputColumnPair(@\"trip_time_in_secs\", @\"trip_time_in_secs\"), new InputOutputColumnPair(@\"trip_distance\", @\"trip_distance\") }))\n",
        "        .Append(mlContext.Transforms.Concatenate(@\"Features\", new[] { @\"vendor_id\", @\"payment_type\", @\"rate_code\", @\"passenger_count\", @\"trip_time_in_secs\", @\"trip_distance\" }))\n",
        "        .Append(mlContext.Auto().Regression(labelColumnName: \"fare_amount\"));"
      ],
      "outputs": []
    },
    {
      "cell_type": "markdown",
      "metadata": {},
      "source": [
        "### Configure experiment\n",
        "\n",
        "Use AutoML to configure our experiment to train for 60 seconds using the pipeline you've just defined. \n",
        "\n",
        "By default, AutoML evaluates the models it trains using the evaluation metric you want to optimize. In this case it's R-Squared which is calculated by comaring the actual value `fare_amount` against the predicted value `Score`. "
      ]
    },
    {
      "cell_type": "code",
      "execution_count": 1,
      "metadata": {
        "dotnet_interactive": {
          "language": "csharp"
        }
      },
      "source": [
        "var experiment = \n",
        "\tmlContext.Auto().CreateExperiment()\n",
        "\t\t.SetPipeline(pipeline)\n",
        "        .SetTrainingTimeInSeconds(60)\n",
        "        .SetDataset(trainSet, validationSet)\n",
        "        .SetEvaluateMetric(RegressionMetric.RSquared, \"fare_amount\", \"Score\");"
      ],
      "outputs": []
    },
    {
      "cell_type": "markdown",
      "metadata": {},
      "source": [
        "### Run experiment"
      ]
    },
    {
      "cell_type": "code",
      "execution_count": 1,
      "metadata": {
        "dotnet_interactive": {
          "language": "csharp"
        }
      },
      "source": [
        "var result = await experiment.Run();"
      ],
      "outputs": []
    },
    {
      "cell_type": "markdown",
      "metadata": {},
      "source": [
        "### View evaluation metrics of best model"
      ]
    },
    {
      "cell_type": "code",
      "execution_count": 1,
      "metadata": {
        "dotnet_interactive": {
          "language": "csharp"
        }
      },
      "source": [
        "$\"R-Squared: {result.Metric}\""
      ],
      "outputs": [
        {
          "output_type": "execute_result",
          "data": {
            "text/plain": "R-Squared: 0.9095435852083756"
          },
          "execution_count": 1,
          "metadata": {}
        }
      ]
    },
    {
      "cell_type": "markdown",
      "metadata": {},
      "source": [
        "Note that during training, the evaluation metrics were calculated using the validation set. To see how well your model performs on new data, evaluate its performance against the test set. \n",
        "\n",
        "Start by getting the best model using the `Model` property from the training results. Then, use the `Transform` method to use the model to make predictions against the test dataset."
      ]
    },
    {
      "cell_type": "code",
      "execution_count": 1,
      "metadata": {
        "dotnet_interactive": {
          "language": "csharp"
        }
      },
      "source": [
        "ITransformer bestModel = result.Model;\n",
        "var predictions = bestModel.Transform(testSet);"
      ],
      "outputs": []
    },
    {
      "cell_type": "markdown",
      "metadata": {},
      "source": [
        "Inspect the first few predictions (`Score` column) and compare them against the actual value (`fare_amount` column). Then, calculate the difference between them."
      ]
    },
    {
      "cell_type": "code",
      "execution_count": 1,
      "metadata": {
        "dotnet_interactive": {
          "language": "csharp"
        }
      },
      "source": [
        "var actual = predictions.GetColumn<float>(\"fare_amount\");\n",
        "var predicted = predictions.GetColumn<float>(\"Score\");\n",
        "\n",
        "var compare = \n",
        "\tactual\n",
        "\t\t.Zip(predicted,(actual,pred) => new {Actual=actual, Predicted=pred, Difference=actual-pred})\n",
        "\t\t.Take(5);\n",
        "\n",
        "compare"
      ],
      "outputs": [
        {
          "output_type": "execute_result",
          "data": {
            "text/html": "<table><thead><tr><th><i>index</i></th><th>Actual</th><th>Predicted</th><th>Difference</th></tr></thead><tbody><tr><td>0</td><td><div class=\"dni-plaintext\">24.5</div></td><td><div class=\"dni-plaintext\">22.489357</div></td><td><div class=\"dni-plaintext\">2.010643</div></td></tr><tr><td>1</td><td><div class=\"dni-plaintext\">9.5</div></td><td><div class=\"dni-plaintext\">8.760716</div></td><td><div class=\"dni-plaintext\">0.73928356</div></td></tr><tr><td>2</td><td><div class=\"dni-plaintext\">4.5</div></td><td><div class=\"dni-plaintext\">5.5181503</div></td><td><div class=\"dni-plaintext\">-1.0181503</div></td></tr><tr><td>3</td><td><div class=\"dni-plaintext\">8</div></td><td><div class=\"dni-plaintext\">8.760716</div></td><td><div class=\"dni-plaintext\">-0.76071644</div></td></tr><tr><td>4</td><td><div class=\"dni-plaintext\">52</div></td><td><div class=\"dni-plaintext\">52.465206</div></td><td><div class=\"dni-plaintext\">-0.46520615</div></td></tr></tbody></table>"
          },
          "execution_count": 1,
          "metadata": {}
        }
      ]
    },
    {
      "cell_type": "markdown",
      "metadata": {},
      "source": [
        "Just by quickly comparing the first few values you can see the predictions are generally just a few cents off from the actual amount. \n",
        "\n",
        "With ML.NET, you don't have to manually calculate the evaluation metrics for your models. ML.NET provides a built-in `Evaluate` method for each of the machine learning tasks it supports.  Use the `Evaluate` method for the regression task to calculate the evaluation metrics for the test set where the `fare_amount` column is the actual value and the `Score` column is te predicted value."
      ]
    },
    {
      "cell_type": "code",
      "execution_count": 1,
      "metadata": {
        "dotnet_interactive": {
          "language": "csharp"
        }
      },
      "source": [
        "var evaluationMetrics = mlContext.Regression.Evaluate(predictions,\"fare_amount\", \"Score\");"
      ],
      "outputs": []
    },
    {
      "cell_type": "markdown",
      "metadata": {},
      "source": [
        "Using the `Evaluate` method not only calculates the metric you optimized for during training (R-Squared), but also all the metrics for the regression task. "
      ]
    },
    {
      "cell_type": "code",
      "execution_count": 1,
      "metadata": {
        "dotnet_interactive": {
          "language": "csharp"
        }
      },
      "source": [
        "evaluationMetrics"
      ],
      "outputs": [
        {
          "output_type": "execute_result",
          "data": {
            "text/html": "<table><thead><tr><th>MeanAbsoluteError</th><th>MeanSquaredError</th><th>RootMeanSquaredError</th><th>LossFunction</th><th>RSquared</th></tr></thead><tbody><tr><td><div class=\"dni-plaintext\">0.9942549315384456</div></td><td><div class=\"dni-plaintext\">8.621650263904534</div></td><td><div class=\"dni-plaintext\">2.9362646787891133</div></td><td><div class=\"dni-plaintext\">8.621650257944713</div></td><td><div class=\"dni-plaintext\">0.9066165113489004</div></td></tr></tbody></table>"
          },
          "execution_count": 1,
          "metadata": {}
        }
      ]
    },
    {
      "cell_type": "markdown",
      "metadata": {},
      "source": [
        "### Using metrics to evaluate models\n",
        "\n",
        "TO-DO: Explain Evaluation Metrics"
      ]
    },
    {
      "cell_type": "markdown",
      "metadata": {},
      "source": [
        "## Train and evaluate models using cross-validation"
      ]
    },
    {
      "cell_type": "markdown",
      "metadata": {},
      "source": [
        "### What is cross-validation?\n",
        "\n",
        "Cross-validation is a training and model evaluation technique that splits the data into several partitions and trains multiple models on these partitions. This technique improves the robustness of the model by holding out data from the training process. In addition to improving performance on unseen observations, in data-constrained environments it can be an effective tool for training models with a smaller dataset."
      ]
    },
    {
      "cell_type": "markdown",
      "metadata": {},
      "source": [
        "### Train a model using cross-validation"
      ]
    },
    {
      "cell_type": "markdown",
      "metadata": {},
      "source": [
        "Start off by initializing the `MLContext`. "
      ]
    },
    {
      "cell_type": "code",
      "execution_count": 1,
      "metadata": {
        "dotnet_interactive": {
          "language": "csharp"
        }
      },
      "source": [
        "var cvMLContext = new MLContext();"
      ],
      "outputs": []
    },
    {
      "cell_type": "markdown",
      "metadata": {},
      "source": [
        "Then, define your pipeline. In this case, the actual trainer is used instead of the `SweepableEstimator` from AutoML."
      ]
    },
    {
      "cell_type": "code",
      "execution_count": 1,
      "metadata": {
        "dotnet_interactive": {
          "language": "csharp"
        }
      },
      "source": [
        "var cvMLPipeline = \n",
        "\tcvMLContext.Transforms.Categorical.OneHotEncoding(new[] { new InputOutputColumnPair(@\"vendor_id\", @\"vendor_id\"), new InputOutputColumnPair(@\"payment_type\", @\"payment_type\")},outputKind: OutputKind.Binary)\n",
        "\t\t.Append(cvMLContext.Transforms.ReplaceMissingValues(new[] { new InputOutputColumnPair(@\"rate_code\", @\"rate_code\"), new InputOutputColumnPair(@\"passenger_count\", @\"passenger_count\"), new InputOutputColumnPair(@\"trip_time_in_secs\", @\"trip_time_in_secs\"), new InputOutputColumnPair(@\"trip_distance\", @\"trip_distance\") }))\n",
        "        .Append(cvMLContext.Transforms.Concatenate(@\"Features\", new[] { @\"vendor_id\", @\"payment_type\", @\"rate_code\", @\"passenger_count\", @\"trip_time_in_secs\", @\"trip_distance\" }))\n",
        "\t\t.Append(cvMLContext.Regression.Trainers.FastForest(labelColumnName: \"fare_amount\"));"
      ],
      "outputs": []
    },
    {
      "cell_type": "markdown",
      "metadata": {},
      "source": [
        "Use the `CrossValidate` method to start the training and evaluation on your data using the defined pipeline. By default, data is split into five subsets but you can set this to any value you prefer using the `numberOfFolds` parameter."
      ]
    },
    {
      "cell_type": "code",
      "execution_count": 1,
      "metadata": {
        "dotnet_interactive": {
          "language": "csharp"
        }
      },
      "source": [
        "var cvResults = cvMLContext.Regression.CrossValidate(trainSet, cvMLPipeline, labelColumnName: \"fare_amount\");"
      ],
      "outputs": []
    },
    {
      "cell_type": "code",
      "execution_count": 1,
      "metadata": {
        "dotnet_interactive": {
          "language": "csharp"
        }
      },
      "source": [
        "cvResults.Select(x => x.Metrics)"
      ],
      "outputs": [
        {
          "output_type": "execute_result",
          "data": {
            "text/html": "<table><thead><tr><th><i>index</i></th><th>MeanAbsoluteError</th><th>MeanSquaredError</th><th>RootMeanSquaredError</th><th>LossFunction</th><th>RSquared</th></tr></thead><tbody><tr><td>0</td><td><div class=\"dni-plaintext\">1.4827485647771026</div></td><td><div class=\"dni-plaintext\">11.963041452547971</div></td><td><div class=\"dni-plaintext\">3.4587629945614906</div></td><td><div class=\"dni-plaintext\">11.963041604103823</div></td><td><div class=\"dni-plaintext\">0.8720854037232295</div></td></tr><tr><td>1</td><td><div class=\"dni-plaintext\">1.2375841321457335</div></td><td><div class=\"dni-plaintext\">9.705592823696339</div></td><td><div class=\"dni-plaintext\">3.1153800448254043</div></td><td><div class=\"dni-plaintext\">9.705592741963914</div></td><td><div class=\"dni-plaintext\">0.8966878554543226</div></td></tr><tr><td>2</td><td><div class=\"dni-plaintext\">1.2889469436427767</div></td><td><div class=\"dni-plaintext\">8.062997905014296</div></td><td><div class=\"dni-plaintext\">2.8395418477307737</div></td><td><div class=\"dni-plaintext\">8.062997855546088</div></td><td><div class=\"dni-plaintext\">0.9103292917917389</div></td></tr><tr><td>3</td><td><div class=\"dni-plaintext\">1.4536211884205645</div></td><td><div class=\"dni-plaintext\">10.900438423862004</div></td><td><div class=\"dni-plaintext\">3.3015812005555767</div></td><td><div class=\"dni-plaintext\">10.900438445337578</div></td><td><div class=\"dni-plaintext\">0.8814025459794065</div></td></tr><tr><td>4</td><td><div class=\"dni-plaintext\">1.221032141380664</div></td><td><div class=\"dni-plaintext\">8.696668332553719</div></td><td><div class=\"dni-plaintext\">2.9490114161450305</div></td><td><div class=\"dni-plaintext\">8.696668288676296</div></td><td><div class=\"dni-plaintext\">0.9040812184308328</div></td></tr></tbody></table>"
          },
          "execution_count": 1,
          "metadata": {}
        }
      ]
    },
    {
      "cell_type": "code",
      "execution_count": 1,
      "metadata": {
        "dotnet_interactive": {
          "language": "csharp"
        }
      },
      "source": [
        "var cvTestEvalMetrics = \n",
        "\tcvResults\n",
        "\t\t.Select(fold => fold.Model.Transform(testSet))\n",
        "\t\t.Select(predictions => cvMLContext.Regression.Evaluate(predictions, \"fare_amount\", \"Score\"));"
      ],
      "outputs": []
    },
    {
      "cell_type": "code",
      "execution_count": 1,
      "metadata": {
        "dotnet_interactive": {
          "language": "csharp"
        }
      },
      "source": [
        "cvTestEvalMetrics"
      ],
      "outputs": [
        {
          "output_type": "execute_result",
          "data": {
            "text/html": "<table><thead><tr><th><i>index</i></th><th>MeanAbsoluteError</th><th>MeanSquaredError</th><th>RootMeanSquaredError</th><th>LossFunction</th><th>RSquared</th></tr></thead><tbody><tr><td>0</td><td><div class=\"dni-plaintext\">1.4710497047764914</div></td><td><div class=\"dni-plaintext\">11.568454485871067</div></td><td><div class=\"dni-plaintext\">3.4012430795035904</div></td><td><div class=\"dni-plaintext\">11.56845458503681</div></td><td><div class=\"dni-plaintext\">0.874698856352953</div></td></tr><tr><td>1</td><td><div class=\"dni-plaintext\">1.2358056159405482</div></td><td><div class=\"dni-plaintext\">9.908180408259156</div></td><td><div class=\"dni-plaintext\">3.1477262282891054</div></td><td><div class=\"dni-plaintext\">9.908180533672343</div></td><td><div class=\"dni-plaintext\">0.8926817460247235</div></td></tr><tr><td>2</td><td><div class=\"dni-plaintext\">1.2984243246192024</div></td><td><div class=\"dni-plaintext\">10.056430381877949</div></td><td><div class=\"dni-plaintext\">3.1711875349587806</div></td><td><div class=\"dni-plaintext\">10.056430374682195</div></td><td><div class=\"dni-plaintext\">0.8910760093843826</div></td></tr><tr><td>3</td><td><div class=\"dni-plaintext\">1.4455370180379776</div></td><td><div class=\"dni-plaintext\">11.06478393768647</div></td><td><div class=\"dni-plaintext\">3.326376998730972</div></td><td><div class=\"dni-plaintext\">11.064783904037112</div></td><td><div class=\"dni-plaintext\">0.8801542519536311</div></td></tr><tr><td>4</td><td><div class=\"dni-plaintext\">1.2200094360419682</div></td><td><div class=\"dni-plaintext\">9.984998343437963</div></td><td><div class=\"dni-plaintext\">3.15990479974286</div></td><td><div class=\"dni-plaintext\">9.98499836559539</div></td><td><div class=\"dni-plaintext\">0.891849709632804</div></td></tr></tbody></table>"
          },
          "execution_count": 1,
          "metadata": {}
        }
      ]
    },
    {
      "cell_type": "markdown",
      "metadata": {},
      "source": [
        "## Model explainability"
      ]
    },
    {
      "cell_type": "markdown",
      "metadata": {},
      "source": [
        "### Explain models with Permutation Feature Importance (PFI)"
      ]
    },
    {
      "cell_type": "markdown",
      "metadata": {},
      "source": [
        "### Explain models with Feature Contribution Calculation (FCC)"
      ]
    },
    {
      "cell_type": "code",
      "execution_count": 1,
      "metadata": {
        "dotnet_interactive": {
          "language": "csharp"
        }
      },
      "source": [
        "var fccMLContext = new MLContext();"
      ],
      "outputs": []
    },
    {
      "cell_type": "code",
      "execution_count": 1,
      "metadata": {
        "dotnet_interactive": {
          "language": "csharp"
        }
      },
      "source": [
        "var fccDataPipeline = \n",
        "\tfccMLContext.Transforms.Categorical.OneHotEncoding(new[] { new InputOutputColumnPair(@\"vendor_id\", @\"vendor_id\"), new InputOutputColumnPair(@\"payment_type\", @\"payment_type\")},outputKind: OutputKind.Binary)\n",
        "\t\t.Append(fccMLContext.Transforms.ReplaceMissingValues(new[] { new InputOutputColumnPair(@\"rate_code\", @\"rate_code\"), new InputOutputColumnPair(@\"passenger_count\", @\"passenger_count\"), new InputOutputColumnPair(@\"trip_time_in_secs\", @\"trip_time_in_secs\"), new InputOutputColumnPair(@\"trip_distance\", @\"trip_distance\") }))\n",
        "        .Append(fccMLContext.Transforms.Concatenate(@\"Features\", new[] { @\"vendor_id\", @\"payment_type\", @\"rate_code\", @\"passenger_count\", @\"trip_time_in_secs\", @\"trip_distance\" }));"
      ],
      "outputs": []
    },
    {
      "cell_type": "code",
      "execution_count": 1,
      "metadata": {
        "dotnet_interactive": {
          "language": "csharp"
        }
      },
      "source": [
        "var fccTrainer = fccMLContext.Regression.Trainers.Sdca(labelColumnName: \"fare_amount\");"
      ],
      "outputs": []
    },
    {
      "cell_type": "code",
      "execution_count": 1,
      "metadata": {
        "dotnet_interactive": {
          "language": "csharp"
        }
      },
      "source": [
        "var transformedData = fccDataPipeline.Fit(trainSet).Transform(trainSet);\n",
        "var fccModel = fccTrainer.Fit(transformedData);"
      ],
      "outputs": []
    },
    {
      "cell_type": "code",
      "execution_count": 1,
      "metadata": {
        "dotnet_interactive": {
          "language": "csharp"
        }
      },
      "source": [
        "var fccPredictions = fccModel.Transform(transformedData); "
      ],
      "outputs": []
    },
    {
      "cell_type": "code",
      "execution_count": 1,
      "metadata": {
        "dotnet_interactive": {
          "language": "csharp"
        }
      },
      "source": [
        "var fcc = \n",
        "\tfccMLContext.Transforms.CalculateFeatureContribution(fccModel,normalize:false).Fit(fccPredictions);"
      ],
      "outputs": []
    },
    {
      "cell_type": "code",
      "execution_count": 1,
      "metadata": {
        "dotnet_interactive": {
          "language": "csharp"
        }
      },
      "source": [
        "var contributions = fcc.Transform(fccPredictions);"
      ],
      "outputs": []
    },
    {
      "cell_type": "markdown",
      "metadata": {},
      "source": [
        "#### Get slot names"
      ]
    },
    {
      "cell_type": "code",
      "execution_count": 1,
      "metadata": {
        "dotnet_interactive": {
          "language": "csharp"
        }
      },
      "source": [
        "var featureContributionColumn = contributions.Schema.GetColumnOrNull(\"FeatureContributions\");\n",
        "var slotNames = new VBuffer<ReadOnlyMemory<char>>();\n",
        "column.Value.GetSlotNames(ref slotNames)\n",
        "var slotNameValues = slotNames.DenseValues();"
      ],
      "outputs": []
    },
    {
      "cell_type": "code",
      "execution_count": 1,
      "metadata": {
        "dotnet_interactive": {
          "language": "csharp"
        }
      },
      "source": [
        "var featureContributionValues = contributions.GetColumn<float[]>(\"FeatureContributions\");"
      ],
      "outputs": []
    },
    {
      "cell_type": "code",
      "execution_count": 1,
      "metadata": {
        "dotnet_interactive": {
          "language": "csharp"
        }
      },
      "source": [
        "var contribMapping = \n",
        "\tcontributionCalc\n",
        "\t\t.Select(x => x.Zip(dv,(a,b) => new KeyValuePair<string,float>(b.ToString(),a)));"
      ],
      "outputs": []
    },
    {
      "cell_type": "code",
      "execution_count": 1,
      "metadata": {
        "dotnet_interactive": {
          "language": "csharp"
        }
      },
      "source": [
        "contribMapping.First()"
      ],
      "outputs": [
        {
          "output_type": "execute_result",
          "data": {
            "text/html": "<table><thead><tr><th><i>index</i></th><th>Key</th><th>Value</th></tr></thead><tbody><tr><td>0</td><td>vendor_id.Bit2</td><td><div class=\"dni-plaintext\">0</div></td></tr><tr><td>1</td><td>vendor_id.Bit1</td><td><div class=\"dni-plaintext\">0</div></td></tr><tr><td>2</td><td>vendor_id.Bit0</td><td><div class=\"dni-plaintext\">0</div></td></tr><tr><td>3</td><td>payment_type.Bit3</td><td><div class=\"dni-plaintext\">0</div></td></tr><tr><td>4</td><td>payment_type.Bit2</td><td><div class=\"dni-plaintext\">0</div></td></tr><tr><td>5</td><td>payment_type.Bit1</td><td><div class=\"dni-plaintext\">0</div></td></tr><tr><td>6</td><td>payment_type.Bit0</td><td><div class=\"dni-plaintext\">0</div></td></tr><tr><td>7</td><td>rate_code</td><td><div class=\"dni-plaintext\">8.500199</div></td></tr><tr><td>8</td><td>passenger_count</td><td><div class=\"dni-plaintext\">-0.54379815</div></td></tr><tr><td>9</td><td>trip_time_in_secs</td><td><div class=\"dni-plaintext\">8.0872555</div></td></tr><tr><td>10</td><td>trip_distance</td><td><div class=\"dni-plaintext\">1.1004126</div></td></tr></tbody></table>"
          },
          "execution_count": 1,
          "metadata": {}
        }
      ]
    },
    {
      "cell_type": "markdown",
      "metadata": {},
      "source": [
        "## How can I improve my model?"
      ]
    },
    {
      "cell_type": "markdown",
      "metadata": {},
      "source": [
        "## Continue learning\n",
        "\n",
        "> [⏪ Last Module - Training and AutoML](https://raw.githubusercontent.com/JakeRadMSFT/csharp-notebooks/main/machine-learning/03-Training%20and%20AutoML.ipynb)\n",
        "\n",
        "### More End to End Examples\n",
        "\n",
        "- [Binary Classification with Titanic Dataset](https://raw.githubusercontent.com/JakeRadMSFT/csharp-notebooks/main/machine-learning/E2E-Binary%20Classification%20with%20Titanic%20Dataset.ipynb)  \n",
        "- [Value Prediction(Regression) with Taxi Dataset](https://raw.githubusercontent.com/JakeRadMSFT/csharp-notebooks/main/machine-learning/E2E-Value%20Prediction(Regression)%20with%20Taxi%20Dataset.ipynb)  \n",
        ""
      ]
    }
  ],
  "metadata": {
    "kernelspec": {
      "display_name": ".NET (C#)",
      "language": "C#",
      "name": ".net-csharp"
    },
    "language_info": {
      "file_extension": ".cs",
      "mimetype": "text/x-csharp",
      "name": "C#",
      "pygments_lexer": "csharp",
      "version": "8.0"
    }
  },
  "nbformat": 4,
  "nbformat_minor": 4
}