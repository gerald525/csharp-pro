{
  "cells": [
    {
      "cell_type": "markdown",
      "metadata": {},
      "source": [
        "# Model Evaluation"
      ]
    },
    {
      "cell_type": "markdown",
      "metadata": {},
      "source": [
        "# Under Contstruction! Coming soon!"
      ]
    },
    {
      "cell_type": "markdown",
      "metadata": {},
      "source": [
        "# Continue learning\n",
        "\n",
        "> [⏪ Last Module - Training and AutoML](https://raw.githubusercontent.com/JakeRadMSFT/csharp-notebooks/main/machine-learning/03-Training%20and%20AutoML.ipynb)\n",
        "\n",
        "## More End to End Examples\n",
        "\n",
        "- [Binary Classification with Titanic Dataset](https://raw.githubusercontent.com/JakeRadMSFT/csharp-notebooks/main/machine-learning/E2E-Binary%20Classification%20with%20Titanic%20Dataset.ipynb)  \n",
        "- [Value Prediction(Regression) with Taxi Dataset](https://raw.githubusercontent.com/JakeRadMSFT/csharp-notebooks/main/machine-learning/E2E-Value%20Prediction(Regression)%20with%20Taxi%20Dataset.ipynb)  \n"
      ]
    }
  ],
  "metadata": {
    "kernelspec": {
      "display_name": ".NET (C#)",
      "language": "C#",
      "name": ".net-csharp"
    },
    "language_info": {
      "file_extension": ".cs",
      "mimetype": "text/x-csharp",
      "name": "C#",
      "pygments_lexer": "csharp",
      "version": "8.0"
    }
  },
  "nbformat": 4,
  "nbformat_minor": 4
}
