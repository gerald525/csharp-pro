{
  "cells": [
    {
      "cell_type": "markdown",
      "metadata": {},
      "source": [
        "### Forecasting the next-hour load using SSA on Luna dataset\n",
        "\n",
        "This example shows how to train a time-series forecasting model using the Luna dataset. In this notebook you will learn:\n",
        "- How to run hyper-parameter optimization and search for the best model for your data using SSA and built-in `AutoMLExperiment` class.\""
      ]
    },
    {
      "cell_type": "markdown",
      "metadata": {},
      "source": [
        "## Install NuGet packages for training ML.NET models and plotting:"
      ]
    },
    {
      "cell_type": "code",
      "execution_count": null,
      "metadata": {
        "dotnet_interactive": {
          "language": "csharp"
        },
        "vscode": {
          "languageId": "dotnet-interactive.csharp"
        }
      },
      "outputs": [
        {
          "data": {
            "text/html": [
              "<div><div><strong>Restore sources</strong><ul><li><span>https://mlnetcli.blob.core.windows.net/mlnetcli/index.json</span></li><li><span>https://pkgs.dev.azure.com/dnceng/public/_packaging/dotnet-tools/nuget/v3/index.json</span></li><li><span>https://pkgs.dev.azure.com/dnceng/public/_packaging/dotnet5/nuget/v3/index.json</span></li><li><span>https://pkgs.dev.azure.com/dnceng/public/_packaging/MachineLearning/nuget/v3/index.json</span></li></ul></div><div></div><div><strong>Installed Packages</strong><ul><li><span>Microsoft.Data.Analysis, 0.20.0-preview.22259.2</span></li><li><span>Microsoft.ML.AutoML, 0.20.0-preview.22259.2</span></li><li><span>MLNetAutoML.InteractiveExtension, 0.1.1</span></li><li><span>Plotly.Net.Interactive, 2.0.0-preview.16</span></li><li><span>XPlot.Plotly.Interactive, 4.0.6</span></li></ul></div></div>"
            ]
          },
          "metadata": {},
          "output_type": "display_data"
        },
        {
          "data": {
            "text/markdown": [
              "Loading extensions from `Plotly.NET.Interactive.dll`"
            ]
          },
          "metadata": {},
          "output_type": "display_data"
        },
        {
          "data": {
            "text/markdown": [
              "Loading extensions from `Microsoft.Data.Analysis.Interactive.dll`"
            ]
          },
          "metadata": {},
          "output_type": "display_data"
        },
        {
          "data": {
            "text/markdown": [
              "Loading extensions from `MLNetAutoML.InteractiveExtension.dll`"
            ]
          },
          "metadata": {},
          "output_type": "display_data"
        },
        {
          "data": {
            "text/markdown": [
              "Loading extensions from `XPlot.Plotly.Interactive.dll`"
            ]
          },
          "metadata": {},
          "output_type": "display_data"
        },
        {
          "data": {
            "text/markdown": [
              "Configuring PowerShell Kernel for XPlot.Plotly integration."
            ]
          },
          "metadata": {},
          "output_type": "display_data"
        },
        {
          "data": {
            "text/markdown": [
              "Installed support for XPlot.Plotly."
            ]
          },
          "metadata": {},
          "output_type": "display_data"
        }
      ],
      "source": [
        "#i \"nuget:https://pkgs.dev.azure.com/dnceng/public/_packaging/dotnet5/nuget/v3/index.json\" \n",
        "#i \"nuget:https://pkgs.dev.azure.com/dnceng/public/_packaging/dotnet-tools/nuget/v3/index.json\"\n",
        "#i \"nuget:https://mlnetcli.blob.core.windows.net/mlnetcli/index.json\"\n",
        "#i \"nuget:https://pkgs.dev.azure.com/dnceng/public/_packaging/MachineLearning/nuget/v3/index.json\"\n",
        "#r \"nuget:MLNetAutoML.InteractiveExtension,0.1.1\"\n",
        "#r \"nuget:XPlot.Plotly.Interactive,4.0.6\"\n",
        "#r \"nuget:Plotly.Net.Interactive,2.0.0-preview.16\"\n",
        "#r \"nuget:Microsoft.ML.AutoML,0.20.0-preview.22259.2\"\n",
        "#r \"nuget:Microsoft.Data.Analysis,0.20.0-preview.22259.2\""
      ]
    },
    {
      "cell_type": "markdown",
      "metadata": {},
      "source": [
        "## Import packages"
      ]
    },
    {
      "cell_type": "code",
      "execution_count": null,
      "metadata": {
        "dotnet_interactive": {
          "language": "csharp"
        },
        "vscode": {
          "languageId": "dotnet-interactive.csharp"
        }
      },
      "outputs": [],
      "source": [
        "using static Microsoft.DotNet.Interactive.Formatting.PocketViewTags;\n",
        "using Microsoft.Data.Analysis;\n",
        "using System;\n",
        "using System.IO;\n",
        "using Microsoft.ML;\n",
        "using Microsoft.ML.AutoML;\n",
        "using Microsoft.ML.Data;\n",
        "using MLNetAutoML.InteractiveExtension;\n",
        "using Plotly.NET;\n",
        "using Microsoft.ML.Transforms.TimeSeries;\n",
        "using Microsoft.ML.SearchSpace;\n",
        "using System.Diagnostics;"
      ]
    },
    {
      "cell_type": "markdown",
      "metadata": {},
      "source": [
        "### Import Dataset\n",
        "\n",
        "Luna is a time-series dataset which records the metric of hourly-active usage of an internal-used service on Azure. It has two columns: `DateTime` and `load` where `load` column records the metric of hourly-active usage. Luna shows a strong weekly seasonal pattern given its nature of an Azure service, and a slow trend (growth with time) as well. Those features allow you to build a forecasting model to predict the next hour load metric to adjust the size of computing power accordingly.\n",
        "\n",
        "In the code block below, we show how to load dataset into `DataFrame`."
      ]
    },
    {
      "cell_type": "code",
      "execution_count": null,
      "metadata": {
        "dotnet_interactive": {
          "language": "csharp"
        },
        "vscode": {
          "languageId": "dotnet-interactive.csharp"
        }
      },
      "outputs": [],
      "source": [
        "var dataPath = @\"./data/Luna.csv\";\n",
        "var df = DataFrame.LoadCsv(dataPath);\n",
        "var loads = df[\"load\"].Cast<float?>();"
      ]
    },
    {
      "cell_type": "markdown",
      "metadata": {},
      "source": [
        "### Plotting last three weeks of Luna"
      ]
    },
    {
      "cell_type": "code",
      "execution_count": null,
      "metadata": {
        "dotnet_interactive": {
          "language": "csharp"
        },
        "vscode": {
          "languageId": "dotnet-interactive.csharp"
        }
      },
      "outputs": [
        {
          "data": {
            "text/html": [
              "<div id=\"dfea2b9e-11c1-4318-a121-4c00e86bfec8\"><!-- Plotly chart will be drawn inside this DIV --></div>\r\n",
              "<script type=\"text/javascript\">\r\n",
              "\r\n",
              "            var renderPlotly_dfea2b9e11c14318a1214c00e86bfec8 = function() {\r\n",
              "            var fsharpPlotlyRequire = requirejs.config({context:'fsharp-plotly',paths:{plotly:'https://cdn.plot.ly/plotly-2.6.3.min'}}) || require;\r\n",
              "            fsharpPlotlyRequire(['plotly'], function(Plotly) {\r\n",
              "\r\n",
              "            var data = [{\"type\":\"scatter\",\"name\":\"load\",\"mode\":\"lines\",\"x\":[0,1,2,3,4,5,6,7,8,9,10,11,12,13,14,15,16,17,18,19,20,21,22,23,24,25,26,27,28,29,30,31,32,33,34,35,36,37,38,39,40,41,42,43,44,45,46,47,48,49,50,51,52,53,54,55,56,57,58,59,60,61,62,63,64,65,66,67,68,69,70,71,72,73,74,75,76,77,78,79,80,81,82,83,84,85,86,87,88,89,90,91,92,93,94,95,96,97,98,99,100,101,102,103,104,105,106,107,108,109,110,111,112,113,114,115,116,117,118,119,120,121,122,123,124,125,126,127,128,129,130,131,132,133,134,135,136,137,138,139,140,141,142,143,144,145,146,147,148,149,150,151,152,153,154,155,156,157,158,159,160,161,162,163,164,165,166,167,168,169,170,171,172,173,174,175,176,177,178,179,180,181,182,183,184,185,186,187,188,189,190,191,192,193,194,195,196,197,198,199,200,201,202,203,204,205,206,207,208,209,210,211,212,213,214,215,216,217,218,219,220,221,222,223,224,225,226,227,228,229,230,231,232,233,234,235,236,237,238,239,240,241,242,243,244,245,246,247,248,249,250,251,252,253,254,255,256,257,258,259,260,261,262,263,264,265,266,267,268,269,270,271,272,273,274,275,276,277,278,279,280,281,282,283,284,285,286,287,288,289,290,291,292,293,294,295,296,297,298,299,300,301,302,303,304,305,306,307,308,309,310,311,312,313,314,315,316,317,318,319,320,321,322,323,324,325,326,327,328,329,330,331,332,333,334,335,336,337,338,339,340,341,342,343,344,345,346,347,348,349,350,351,352,353,354,355,356,357,358,359,360,361,362,363,364,365,366,367,368,369,370,371,372,373,374,375,376,377,378,379,380,381,382,383,384,385,386,387,388,389,390,391,392,393,394,395,396,397,398,399,400,401,402,403,404,405,406,407,408,409,410,411,412,413,414,415,416,417,418,419,420,421,422,423,424,425,426,427,428,429,430,431,432,433,434,435,436,437,438,439,440,441,442,443,444,445,446,447,448,449,450,451,452,453,454,455,456,457,458,459,460,461,462,463,464,465,466,467,468,469,470,471,472,473,474,475,476,477,478,479,480,481,482,483,484,485,486,487,488,489,490,491,492,493,494,495,496,497,498,499,500,501,502,503],\"y\":[1244682.0,993425.0,784059.0,659575.0,618020.0,587536.0,656175.0,719350.0,782053.0,377668.0,41744.0,41259.0,59032.0,84875.0,129043.0,131641.0,289836.0,324920.0,491942.0,469317.0,271060.0,790696.0,28481.0,25086.0,1166220.0,1375564.0,10131135.0,13797705.0,720077.0,443333.0,424187.0,438539.0,447839.0,490204.0,572431.0,760359.0,925447.0,1015902.0,1036829.0,1005726.0,1018290.0,879402.0,857873.0,788077.0,705716.0,680384.0,511480.0,519391.0,458420.0,437325.0,389174.0,341664.0,330065.0,331946.0,309777.0,364589.0,381155.0,392688.0,494031.0,591913.0,729360.0,839978.0,879891.0,808652.0,826177.0,789247.0,701204.0,737962.0,719838.0,708549.0,653841.0,698137.0,717881.0,766936.0,699714.0,630697.0,632418.0,672336.0,791854.0,947877.0,1025792.0,1100498.0,1265976.0,1762765.0,2582223.0,3525729.0,3889515.0,3948050.0,3745920.0,3394873.0,3383188.0,3285317.0,3036515.0,2517527.0,1626746.0,1475707.0,1427133.0,1270143.0,961586.0,821726.0,742111.0,758311.0,890960.0,980905.0,1078892.0,1151264.0,1301542.0,1768634.0,2669396.0,3642494.0,4075830.0,3983445.0,3640118.0,3609375.0,3488198.0,3332503.0,2979552.0,2492888.0,1655599.0,1507789.0,1312478.0,1173607.0,951998.0,847015.0,789866.0,797501.0,933284.0,1033695.0,1040847.0,1140580.0,1333189.0,1796120.0,2559730.0,3191097.0,3413288.0,3656260.0,3480386.0,3316502.0,3241861.0,3180167.0,2945007.0,2486358.0,1625965.0,1512705.0,1383126.0,1249839.0,991129.0,852538.0,1094460.0,787062.0,895449.0,1032035.0,1175511.0,1134514.0,1429905.0,1861162.0,2761320.0,3532327.0,3770989.0,3949709.0,3757184.0,3454248.0,3406394.0,3285810.0,3019567.0,2507959.0,1695169.0,1547924.0,1396631.0,1239369.0,974823.0,866852.0,848025.0,820796.0,907761.0,1021858.0,1060416.0,1144608.0,1368263.0,1783984.0,2297043.0,2715306.0,2731480.0,2881350.0,2821269.0,2725415.0,2740686.0,2708103.0,2506036.0,2101946.0,1344942.0,1225594.0,1021260.0,876134.0,651912.0,556682.0,503380.0,466372.0,448718.0,525430.0,517454.0,560738.0,662374.0,774495.0,900277.0,1031882.0,1115998.0,1064012.0,984538.0,859138.0,786860.0,748414.0,711653.0,643469.0,522330.0,507266.0,482923.0,479022.0,416528.0,354112.0,362443.0,332783.0,366223.0,404525.0,411918.0,423643.0,509883.0,661678.0,797081.0,869201.0,939310.0,860191.0,896668.0,790226.0,830925.0,797267.0,730847.0,710141.0,622980.0,710878.0,731457.0,790050.0,673955.0,607948.0,659456.0,651493.0,775742.0,926070.0,1036212.0,1109769.0,1374389.0,1900993.0,2830465.0,3730390.0,4063176.0,4075144.0,3921920.0,3698129.0,3498237.0,3271959.0,3081571.0,2585828.0,1781072.0,1585949.0,1449976.0,1251014.0,942425.0,828102.0,779533.0,766892.0,827139.0,999466.0,1027640.0,1151513.0,1382976.0,1891899.0,2860401.0,3876586.0,4236497.0,4281556.0,3795041.0,3662663.0,3485182.0,3293806.0,3159509.0,2625952.0,1780764.0,1561361.0,1381776.0,1189885.0,972750.0,840883.0,905355.0,855915.0,964200.0,1112917.0,1142336.0,1281667.0,1589824.0,2062153.0,2837300.0,3586612.0,3760053.0,3965720.0,3728705.0,3677397.0,3653702.0,3518544.0,3403602.0,2870308.0,1998886.0,2141190.0,1973818.0,1674698.0,1426299.0,1286974.0,1196719.0,1165946.0,1313885.0,1497647.0,1512771.0,1694122.0,2050635.0,2616435.0,3738119.0,5171418.0,5571983.0,5607505.0,5428267.0,5170756.0,4995878.0,4852746.0,4353343.0,3670371.0,2442195.0,2475439.0,2140878.0,1895147.0,1579756.0,1402062.0,1322785.0,1165658.0,1131081.0,1244647.0,1313523.0,1327327.0,1506570.0,1799622.0,2468453.0,3322579.0,3490262.0,3537042.0,3357287.0,3054315.0,2878427.0,2817847.0,2560142.0,2086403.0,1311481.0,1131604.0,835595.0,706414.0,564374.0,501562.0,460359.0,407497.0,524727.0,513550.0,498451.0,471818.0,568307.0,736493.0,880628.0,980110.0,1056655.0,960999.0,944985.0,792694.0,730271.0,704140.0,667614.0,615589.0,464296.0,476380.0,456389.0,435793.0,371625.0,335967.0,349326.0,320461.0,360233.0,401795.0,400516.0,397158.0,480181.0,593995.0,728192.0,791722.0,842580.0,787016.0,789116.0,720734.0,727569.0,693815.0,700541.0,675098.0,602570.0,654610.0,700733.0,754041.0,716777.0,641627.0,647768.0,720232.0,826600.0,955412.0,989776.0,1085038.0,1248893.0,1755543.0,2648495.0,3460453.0,3797630.0,3866752.0,3578963.0,3419092.0,3371077.0,3133834.0,2904028.0,2427113.0,1536951.0,1431362.0,1240912.0,1152746.0,1017037.0,879557.0,794088.0,776213.0,866713.0,994684.0,1053025.0,1082314.0,1272833.0,1740110.0,2559427.0,3543817.0,3795470.0,3786953.0,3478702.0,3325876.0,3290135.0,3147765.0,2918741.0,2411975.0,1507603.0,1415209.0,1207824.0,1049837.0,891704.0,899598.0,859797.0,852082.0,1017008.0,1110451.0,1186555.0,1212441.0,1413617.0,1954505.0,2815706.0,3879214.0,4287130.0,4297613.0,4004459.0,3668727.0,3560500.0,3427783.0,3095399.0,2544989.0,1552230.0,1468952.0,1401150.0,1246200.0,1018963.0,893128.0,836865.0,838962.0,888329.0,1035122.0,1092601.0,1138552.0,1369574.0,1856648.0,2527278.0,3220888.0,3388005.0,3576955.0,3282861.0,3294191.0,3219435.0,3105795.0,2722333.0,2231878.0,1382403.0,1330587.0],\"marker\":{},\"line\":{}}];\r\n",
              "            var layout = {\"width\":600,\"height\":600,\"template\":{\"layout\":{\"title\":{\"x\":0.05},\"font\":{\"color\":\"rgba(42, 63, 95, 1.0)\"},\"paper_bgcolor\":\"rgba(255, 255, 255, 1.0)\",\"plot_bgcolor\":\"rgba(229, 236, 246, 1.0)\",\"autotypenumbers\":\"strict\",\"colorscale\":{\"diverging\":[[0.0,\"#8e0152\"],[0.1,\"#c51b7d\"],[0.2,\"#de77ae\"],[0.3,\"#f1b6da\"],[0.4,\"#fde0ef\"],[0.5,\"#f7f7f7\"],[0.6,\"#e6f5d0\"],[0.7,\"#b8e186\"],[0.8,\"#7fbc41\"],[0.9,\"#4d9221\"],[1.0,\"#276419\"]],\"sequential\":[[0.0,\"#0d0887\"],[0.1111111111111111,\"#46039f\"],[0.2222222222222222,\"#7201a8\"],[0.3333333333333333,\"#9c179e\"],[0.4444444444444444,\"#bd3786\"],[0.5555555555555556,\"#d8576b\"],[0.6666666666666666,\"#ed7953\"],[0.7777777777777778,\"#fb9f3a\"],[0.8888888888888888,\"#fdca26\"],[1.0,\"#f0f921\"]],\"sequentialminus\":[[0.0,\"#0d0887\"],[0.1111111111111111,\"#46039f\"],[0.2222222222222222,\"#7201a8\"],[0.3333333333333333,\"#9c179e\"],[0.4444444444444444,\"#bd3786\"],[0.5555555555555556,\"#d8576b\"],[0.6666666666666666,\"#ed7953\"],[0.7777777777777778,\"#fb9f3a\"],[0.8888888888888888,\"#fdca26\"],[1.0,\"#f0f921\"]]},\"hovermode\":\"closest\",\"hoverlabel\":{\"align\":\"left\"},\"coloraxis\":{\"colorbar\":{\"outlinewidth\":0.0,\"ticks\":\"\"}},\"geo\":{\"showland\":true,\"landcolor\":\"rgba(229, 236, 246, 1.0)\",\"showlakes\":true,\"lakecolor\":\"rgba(255, 255, 255, 1.0)\",\"subunitcolor\":\"rgba(255, 255, 255, 1.0)\",\"bgcolor\":\"rgba(255, 255, 255, 1.0)\"},\"mapbox\":{\"style\":\"light\"},\"polar\":{\"bgcolor\":\"rgba(229, 236, 246, 1.0)\",\"radialaxis\":{\"linecolor\":\"rgba(255, 255, 255, 1.0)\",\"gridcolor\":\"rgba(255, 255, 255, 1.0)\",\"ticks\":\"\"},\"angularaxis\":{\"linecolor\":\"rgba(255, 255, 255, 1.0)\",\"gridcolor\":\"rgba(255, 255, 255, 1.0)\",\"ticks\":\"\"}},\"scene\":{\"xaxis\":{\"ticks\":\"\",\"linecolor\":\"rgba(255, 255, 255, 1.0)\",\"gridcolor\":\"rgba(255, 255, 255, 1.0)\",\"gridwidth\":2.0,\"zerolinecolor\":\"rgba(255, 255, 255, 1.0)\",\"backgroundcolor\":\"rgba(229, 236, 246, 1.0)\",\"showbackground\":true},\"yaxis\":{\"ticks\":\"\",\"linecolor\":\"rgba(255, 255, 255, 1.0)\",\"gridcolor\":\"rgba(255, 255, 255, 1.0)\",\"gridwidth\":2.0,\"zerolinecolor\":\"rgba(255, 255, 255, 1.0)\",\"backgroundcolor\":\"rgba(229, 236, 246, 1.0)\",\"showbackground\":true},\"zaxis\":{\"ticks\":\"\",\"linecolor\":\"rgba(255, 255, 255, 1.0)\",\"gridcolor\":\"rgba(255, 255, 255, 1.0)\",\"gridwidth\":2.0,\"zerolinecolor\":\"rgba(255, 255, 255, 1.0)\",\"backgroundcolor\":\"rgba(229, 236, 246, 1.0)\",\"showbackground\":true}},\"ternary\":{\"aaxis\":{\"ticks\":\"\",\"linecolor\":\"rgba(255, 255, 255, 1.0)\",\"gridcolor\":\"rgba(255, 255, 255, 1.0)\"},\"baxis\":{\"ticks\":\"\",\"linecolor\":\"rgba(255, 255, 255, 1.0)\",\"gridcolor\":\"rgba(255, 255, 255, 1.0)\"},\"caxis\":{\"ticks\":\"\",\"linecolor\":\"rgba(255, 255, 255, 1.0)\",\"gridcolor\":\"rgba(255, 255, 255, 1.0)\"},\"bgcolor\":\"rgba(229, 236, 246, 1.0)\"},\"xaxis\":{\"title\":{\"standoff\":15},\"ticks\":\"\",\"automargin\":true,\"linecolor\":\"rgba(255, 255, 255, 1.0)\",\"gridcolor\":\"rgba(255, 255, 255, 1.0)\",\"zerolinecolor\":\"rgba(255, 255, 255, 1.0)\",\"zerolinewidth\":2.0},\"yaxis\":{\"title\":{\"standoff\":15},\"ticks\":\"\",\"automargin\":true,\"linecolor\":\"rgba(255, 255, 255, 1.0)\",\"gridcolor\":\"rgba(255, 255, 255, 1.0)\",\"zerolinecolor\":\"rgba(255, 255, 255, 1.0)\",\"zerolinewidth\":2.0},\"annotationdefaults\":{\"arrowcolor\":\"#2a3f5f\",\"arrowhead\":0,\"arrowwidth\":1},\"shapedefaults\":{\"line\":{\"color\":\"rgba(42, 63, 95, 1.0)\"}},\"colorway\":[\"rgba(99, 110, 250, 1.0)\",\"rgba(239, 85, 59, 1.0)\",\"rgba(0, 204, 150, 1.0)\",\"rgba(171, 99, 250, 1.0)\",\"rgba(255, 161, 90, 1.0)\",\"rgba(25, 211, 243, 1.0)\",\"rgba(255, 102, 146, 1.0)\",\"rgba(182, 232, 128, 1.0)\",\"rgba(255, 151, 255, 1.0)\",\"rgba(254, 203, 82, 1.0)\"]},\"data\":{\"bar\":[{\"marker\":{\"line\":{\"color\":\"rgba(229, 236, 246, 1.0)\",\"width\":0.5},\"pattern\":{\"fillmode\":\"overlay\",\"size\":10,\"solidity\":0.2}},\"errorx\":{\"color\":\"rgba(42, 63, 95, 1.0)\"},\"errory\":{\"color\":\"rgba(42, 63, 95, 1.0)\"}}],\"barpolar\":[{\"marker\":{\"line\":{\"color\":\"rgba(229, 236, 246, 1.0)\",\"width\":0.5},\"pattern\":{\"fillmode\":\"overlay\",\"size\":10,\"solidity\":0.2}}}],\"carpet\":[{\"aaxis\":{\"linecolor\":\"rgba(255, 255, 255, 1.0)\",\"gridcolor\":\"rgba(255, 255, 255, 1.0)\",\"endlinecolor\":\"rgba(42, 63, 95, 1.0)\",\"minorgridcolor\":\"rgba(255, 255, 255, 1.0)\",\"startlinecolor\":\"rgba(42, 63, 95, 1.0)\"},\"baxis\":{\"linecolor\":\"rgba(255, 255, 255, 1.0)\",\"gridcolor\":\"rgba(255, 255, 255, 1.0)\",\"endlinecolor\":\"rgba(42, 63, 95, 1.0)\",\"minorgridcolor\":\"rgba(255, 255, 255, 1.0)\",\"startlinecolor\":\"rgba(42, 63, 95, 1.0)\"}}],\"choropleth\":[{\"colorbar\":{\"outlinewidth\":0.0,\"ticks\":\"\"},\"colorscale\":[[0.0,\"#0d0887\"],[0.1111111111111111,\"#46039f\"],[0.2222222222222222,\"#7201a8\"],[0.3333333333333333,\"#9c179e\"],[0.4444444444444444,\"#bd3786\"],[0.5555555555555556,\"#d8576b\"],[0.6666666666666666,\"#ed7953\"],[0.7777777777777778,\"#fb9f3a\"],[0.8888888888888888,\"#fdca26\"],[1.0,\"#f0f921\"]]}],\"contour\":[{\"colorbar\":{\"outlinewidth\":0.0,\"ticks\":\"\"},\"colorscale\":[[0.0,\"#0d0887\"],[0.1111111111111111,\"#46039f\"],[0.2222222222222222,\"#7201a8\"],[0.3333333333333333,\"#9c179e\"],[0.4444444444444444,\"#bd3786\"],[0.5555555555555556,\"#d8576b\"],[0.6666666666666666,\"#ed7953\"],[0.7777777777777778,\"#fb9f3a\"],[0.8888888888888888,\"#fdca26\"],[1.0,\"#f0f921\"]]}],\"contourcarpet\":[{\"colorbar\":{\"outlinewidth\":0.0,\"ticks\":\"\"}}],\"heatmap\":[{\"colorbar\":{\"outlinewidth\":0.0,\"ticks\":\"\"},\"colorscale\":[[0.0,\"#0d0887\"],[0.1111111111111111,\"#46039f\"],[0.2222222222222222,\"#7201a8\"],[0.3333333333333333,\"#9c179e\"],[0.4444444444444444,\"#bd3786\"],[0.5555555555555556,\"#d8576b\"],[0.6666666666666666,\"#ed7953\"],[0.7777777777777778,\"#fb9f3a\"],[0.8888888888888888,\"#fdca26\"],[1.0,\"#f0f921\"]]}],\"heatmapgl\":[{\"colorbar\":{\"outlinewidth\":0.0,\"ticks\":\"\"},\"colorscale\":[[0.0,\"#0d0887\"],[0.1111111111111111,\"#46039f\"],[0.2222222222222222,\"#7201a8\"],[0.3333333333333333,\"#9c179e\"],[0.4444444444444444,\"#bd3786\"],[0.5555555555555556,\"#d8576b\"],[0.6666666666666666,\"#ed7953\"],[0.7777777777777778,\"#fb9f3a\"],[0.8888888888888888,\"#fdca26\"],[1.0,\"#f0f921\"]]}],\"histogram\":[{\"marker\":{\"pattern\":{\"fillmode\":\"overlay\",\"size\":10,\"solidity\":0.2}}}],\"histogram2d\":[{\"colorbar\":{\"outlinewidth\":0.0,\"ticks\":\"\"},\"colorscale\":[[0.0,\"#0d0887\"],[0.1111111111111111,\"#46039f\"],[0.2222222222222222,\"#7201a8\"],[0.3333333333333333,\"#9c179e\"],[0.4444444444444444,\"#bd3786\"],[0.5555555555555556,\"#d8576b\"],[0.6666666666666666,\"#ed7953\"],[0.7777777777777778,\"#fb9f3a\"],[0.8888888888888888,\"#fdca26\"],[1.0,\"#f0f921\"]]}],\"histogram2dcontour\":[{\"colorbar\":{\"outlinewidth\":0.0,\"ticks\":\"\"},\"colorscale\":[[0.0,\"#0d0887\"],[0.1111111111111111,\"#46039f\"],[0.2222222222222222,\"#7201a8\"],[0.3333333333333333,\"#9c179e\"],[0.4444444444444444,\"#bd3786\"],[0.5555555555555556,\"#d8576b\"],[0.6666666666666666,\"#ed7953\"],[0.7777777777777778,\"#fb9f3a\"],[0.8888888888888888,\"#fdca26\"],[1.0,\"#f0f921\"]]}],\"mesh3d\":[{\"colorbar\":{\"outlinewidth\":0.0,\"ticks\":\"\"}}],\"parcoords\":[{\"line\":{\"colorbar\":{\"outlinewidth\":0.0,\"ticks\":\"\"}}}],\"pie\":[{\"automargin\":true}],\"scatter\":[{\"marker\":{\"colorbar\":{\"outlinewidth\":0.0,\"ticks\":\"\"}}}],\"scatter3d\":[{\"marker\":{\"colorbar\":{\"outlinewidth\":0.0,\"ticks\":\"\"}},\"line\":{\"colorbar\":{\"outlinewidth\":0.0,\"ticks\":\"\"}}}],\"scattercarpet\":[{\"marker\":{\"colorbar\":{\"outlinewidth\":0.0,\"ticks\":\"\"}}}],\"scattergeo\":[{\"marker\":{\"colorbar\":{\"outlinewidth\":0.0,\"ticks\":\"\"}}}],\"scattergl\":[{\"marker\":{\"colorbar\":{\"outlinewidth\":0.0,\"ticks\":\"\"}}}],\"scattermapbox\":[{\"marker\":{\"colorbar\":{\"outlinewidth\":0.0,\"ticks\":\"\"}}}],\"scatterpolar\":[{\"marker\":{\"colorbar\":{\"outlinewidth\":0.0,\"ticks\":\"\"}}}],\"scatterpolargl\":[{\"marker\":{\"colorbar\":{\"outlinewidth\":0.0,\"ticks\":\"\"}}}],\"scatterternary\":[{\"marker\":{\"colorbar\":{\"outlinewidth\":0.0,\"ticks\":\"\"}}}],\"surface\":[{\"colorbar\":{\"outlinewidth\":0.0,\"ticks\":\"\"},\"colorscale\":[[0.0,\"#0d0887\"],[0.1111111111111111,\"#46039f\"],[0.2222222222222222,\"#7201a8\"],[0.3333333333333333,\"#9c179e\"],[0.4444444444444444,\"#bd3786\"],[0.5555555555555556,\"#d8576b\"],[0.6666666666666666,\"#ed7953\"],[0.7777777777777778,\"#fb9f3a\"],[0.8888888888888888,\"#fdca26\"],[1.0,\"#f0f921\"]]}],\"table\":[{\"cells\":{\"fill\":{\"color\":\"rgba(235, 240, 248, 1.0)\"},\"line\":{\"color\":\"rgba(255, 255, 255, 1.0)\"}},\"header\":{\"fill\":{\"color\":\"rgba(200, 212, 227, 1.0)\"},\"line\":{\"color\":\"rgba(255, 255, 255, 1.0)\"}}}]}}};\r\n",
              "            var config = {\"responsive\":true};\r\n",
              "            Plotly.newPlot('dfea2b9e-11c1-4318-a121-4c00e86bfec8', data, layout, config);\r\n",
              "});\r\n",
              "            };\r\n",
              "            if ((typeof(requirejs) !==  typeof(Function)) || (typeof(requirejs.config) !== typeof(Function))) {\r\n",
              "                var script = document.createElement(\"script\");\r\n",
              "                script.setAttribute(\"src\", \"https://cdnjs.cloudflare.com/ajax/libs/require.js/2.3.6/require.min.js\");\r\n",
              "                script.onload = function(){\r\n",
              "                    renderPlotly_dfea2b9e11c14318a1214c00e86bfec8();\r\n",
              "                };\r\n",
              "                document.getElementsByTagName(\"head\")[0].appendChild(script);\r\n",
              "            }\r\n",
              "            else {\r\n",
              "                renderPlotly_dfea2b9e11c14318a1214c00e86bfec8();\r\n",
              "            }\r\n",
              "</script>\r\n"
            ]
          },
          "metadata": {},
          "output_type": "display_data"
        }
      ],
      "source": [
        "var lastThreeWeek = df[\"load\"].Cast<float>().TakeLast(7 * 24 * 3);\n",
        "var x = Enumerable.Range(0, lastThreeWeek.Count());\n",
        "var line = Chart2D.Chart.Line<int, float, string>(x, lastThreeWeek, Name: \"load\");\n",
        "line.Display();"
      ]
    },
    {
      "cell_type": "markdown",
      "metadata": {},
      "source": [
        "## Create `ForecastInput` and `ForecastOutput` class\n"
      ]
    },
    {
      "cell_type": "code",
      "execution_count": null,
      "metadata": {
        "dotnet_interactive": {
          "language": "csharp"
        },
        "vscode": {
          "languageId": "dotnet-interactive.csharp"
        }
      },
      "outputs": [],
      "source": [
        "public class ForecastInput\n",
        "{\n",
        "    [ColumnName(\"load\")]\n",
        "    public float Load { get; set; }\n",
        "}\n",
        "\n",
        "public class ForecastOutnput\n",
        "{\n",
        "    [ColumnName(\"predict\")]\n",
        "    public float[] Predict { get; set; }\n",
        "}"
      ]
    },
    {
      "cell_type": "markdown",
      "metadata": {},
      "source": [
        "## Set up search space for SSA\n",
        "SSA(Singular Spectrum Analysis) is an algorithm for univariante-timeseries forecasting and can be consumed via [ForecastBySSA](https://docs.microsoft.com/en-us/dotnet/api/microsoft.ml.timeseriescatalog.forecastbyssa?view=ml-dotnet) in ML.Net. \n",
        "\n",
        "The following code shows how to create a search space on SSA's certain parameters. This is necessary if you want to set up a customized hyper-parameter optimization using `AutoMLExperiment`. \n",
        "\n",
        "In SSA, the parameters that have the most significant impact on training result are `windowSize`, `seriesLenth` and `rank`. So we want to set up a sweeping range for those parameters using `Range` attribute over Properties."
      ]
    },
    {
      "cell_type": "code",
      "execution_count": null,
      "metadata": {
        "dotnet_interactive": {
          "language": "csharp"
        },
        "vscode": {
          "languageId": "dotnet-interactive.csharp"
        }
      },
      "outputs": [],
      "source": [
        "public class ForecastBySsaSearchSpace\n",
        "{\n",
        "    [Range(2, 24 * 7 * 30)]\n",
        "    public int WindowSize { get; set; } = 2;\n",
        "\n",
        "    [Range(2, 24 * 7 * 30)]\n",
        "    public int SeriesLength { get; set; } = 2;\n",
        "\n",
        "    [Range(1, 24 * 7 * 30)]\n",
        "    public int Rank { get; set; } = 1;\n",
        "}"
      ]
    },
    {
      "cell_type": "markdown",
      "metadata": {},
      "source": [
        "## Create a custom `TrialRunner` for `AutoMLExperimet`.\n",
        "A `TrialRunner`, which implements `ITrialRunner`, is in response of taking in parameter and pipeline, training and evaluating model and return metric. `AutoMLExperiment` has built-in trial runners for binary, mulitclass classification and regression. But not for time-series forecasting, so it is necessary to provide our own trial runner.\n",
        "\n",
        "In the code below, we create `SSARunner` that implements `ITrialRunner`. The core function is `Run`. It will train SSA model first, then calculating rolling-update rmse by creating a timeseries prediction engine using trained model, predict next 1-hour Luna load, comparing it with actual value, then update model with actual value and so on."
      ]
    },
    {
      "cell_type": "code",
      "execution_count": null,
      "metadata": {
        "dotnet_interactive": {
          "language": "csharp"
        },
        "vscode": {
          "languageId": "dotnet-interactive.csharp"
        }
      },
      "outputs": [],
      "source": [
        "public class SSARunner : ITrialRunner\n",
        "{\n",
        "    private MLContext _context;\n",
        "    private IDataView _trainDataset;\n",
        "    private IDataView _evaluateDataset;\n",
        "\n",
        "    public SSARunner(MLContext context, IDataView trainDataset, IDataView evaluateDataset)\n",
        "    {\n",
        "        this._context = context;\n",
        "        this._trainDataset = trainDataset;\n",
        "        this._evaluateDataset = evaluateDataset;\n",
        "    }\n",
        "\n",
        "    public TrialResult Run(TrialSettings settings, IServiceProvider provider)\n",
        "    {\n",
        "        try\n",
        "        {\n",
        "            var trainDataset = this._trainDataset;\n",
        "            var testDataset = this._evaluateDataset;\n",
        "\n",
        "            var stopWatch = new Stopwatch();\n",
        "            stopWatch.Start();\n",
        "            var pipeline = settings.Pipeline.BuildTrainingPipeline(this._context, settings.Parameter);\n",
        "            var model = pipeline.Fit(trainDataset);\n",
        "\n",
        "            var predictEngine = model.CreateTimeSeriesEngine<ForecastInput, ForecastOutnput>(this._context);\n",
        "\n",
        "            // check point\n",
        "            predictEngine.CheckPoint(this._context, \"origin\");\n",
        "\n",
        "            var predictedLoad1H = new List<float>();\n",
        "            var N = testDataset.GetRowCount();\n",
        "\n",
        "            // rolling update evaluate\n",
        "            foreach (var load in testDataset.GetColumn<Single>(\"load\"))\n",
        "            {\n",
        "                // firstly, get next n predict where n is horizon, in this case, it's always 1.\n",
        "                var predict = predictEngine.Predict();\n",
        "\n",
        "                predictedLoad1H.Add(predict.Predict[0]);\n",
        "\n",
        "                // update model with truth value\n",
        "                predictEngine.Predict(new ForecastInput()\n",
        "                {\n",
        "                    Load = load,\n",
        "                });\n",
        "            }\n",
        "\n",
        "            var rmse = Enumerable.Zip(testDataset.GetColumn<float>(\"load\"), predictedLoad1H)\n",
        "                                   .Select(x => Math.Pow(x.First - x.Second, 2))\n",
        "                                   .Average();\n",
        "            rmse = Math.Sqrt(rmse);\n",
        "\n",
        "            return new TrialResult()\n",
        "            {\n",
        "                Metric = rmse,\n",
        "                Model = model,\n",
        "                TrialSettings = settings,\n",
        "                DurationInMilliseconds = stopWatch.ElapsedMilliseconds,\n",
        "                IsMaximize = false,\n",
        "            };\n",
        "\n",
        "        }\n",
        "        catch (Exception)\n",
        "        {\n",
        "            return new TrialResult()\n",
        "            {\n",
        "                Metric = double.MaxValue,\n",
        "                Model = null,\n",
        "                TrialSettings = settings,\n",
        "                DurationInMilliseconds = 0,\n",
        "                IsMaximize = false,\n",
        "            };\n",
        "        }\n",
        "    }\n",
        "}"
      ]
    },
    {
      "cell_type": "markdown",
      "metadata": {},
      "source": [
        "### Construct training pipeline\n",
        "The following code shows how to construct a sweepable training pipeline. It firstly copies column `load` to `newLoad`, which doesn't has any actual meaning other than translating a single estimator into a pipeline, then followed by a sweepable estimator. That sweepable estimator takes a lambda function, which takes in `Parameter` and returns a trainable `IEstimator<ITransformer>`, and a search space. During hyper-parameter optimization, a `Parameter` will be sampled from that search space and fed into that lambda function from sweepable estimator, which returns a trainable `IEstimator<ITransformer>`."
      ]
    },
    {
      "cell_type": "code",
      "execution_count": null,
      "metadata": {
        "dotnet_interactive": {
          "language": "csharp"
        },
        "vscode": {
          "languageId": "dotnet-interactive.csharp"
        }
      },
      "outputs": [],
      "source": [
        "var mlContext = new MLContext();\n",
        "var searchSpace = new SearchSpace<ForecastBySsaSearchSpace>();\n",
        "var pipeline = mlContext.Transforms.CopyColumns(\"newLoad\", \"load\")\n",
        "                .Append(mlContext.Auto().CreateSweepableEstimator((context, ss) =>\n",
        "                {\n",
        "                    return mlContext.Forecasting.ForecastBySsa(\"predict\", \"load\", ss.WindowSize, ss.SeriesLength, Convert.ToInt32(trainDf.Rows.Count), 1, rank: ss.Rank, variableHorizon: true);\n",
        "                }, searchSpace));"
      ]
    },
    {
      "cell_type": "markdown",
      "metadata": {},
      "source": [
        "## Split train-test dataset.\n",
        "The following code shows how to split train-test dataset. Unlike classification or regression, where we randomly sample a subset of dataset as test set. In forecasting, in order to avoid leakage, we will want to make sure not using future data to train our model. So we need to take first _N_ rows as training set and keep the rest as test set."
      ]
    },
    {
      "cell_type": "code",
      "execution_count": null,
      "metadata": {
        "dotnet_interactive": {
          "language": "csharp"
        },
        "vscode": {
          "languageId": "dotnet-interactive.csharp"
        }
      },
      "outputs": [],
      "source": [
        "var rowCount = df.Rows.Count();\n",
        "var evaluateCount = 24*7;\n",
        "var trainDf = df.Head(rowCount -evaluateCount);\n",
        "var evaluateDf = df.Tail(evaluateCount);"
      ]
    },
    {
      "cell_type": "markdown",
      "metadata": {},
      "source": [
        "### Run Hyper-parameter optimization using AutoMLExperiment\n",
        "The following code shows how to config an `AutoMLExperiment` with `pipeline` and `SSARunner`. One thing to notice is that it's likely that the first few trials fail (return `Infinity`). This is because the parameters sampled from search space does not satisfied pre-requisit when creating SSA, which is probably `windowsSize` is smaller than `rank` or so. But with training continues, there'll be more successful running trials because tuner can learn from failure trial and try to propose parameter that is potential to success the next time."
      ]
    },
    {
      "cell_type": "code",
      "execution_count": null,
      "metadata": {
        "dotnet_interactive": {
          "language": "csharp"
        },
        "vscode": {
          "languageId": "dotnet-interactive.csharp"
        }
      },
      "outputs": [
        {
          "data": {
            "text/html": [
              "<div><h3>Best Run</h3><p>Trial: 8</p><p>Pipeline: Unknown=&gt;Unknown</p><h3>Active Run</h3><p>Trial: 23</p><p>Pipeline: Unknown=&gt;Unknown</p><p>Parameters: {\r\n",
              "  &quot;0&quot;: {},\r\n",
              "  &quot;1&quot;: {\r\n",
              "    &quot;Rank&quot;: 36,\r\n",
              "    &quot;SeriesLength&quot;: 3651,\r\n",
              "    &quot;WindowSize&quot;: 1008\r\n",
              "  }\r\n",
              "}</p></div><!DOCTYPE html>\r\n",
              "<div style=\"width: 500px; height: 500px;\" id=\"a8bda6a5-83da-4221-81db-e2ad226c2603\"></div><script type=\"text/javascript\">\r\n",
              "\n",
              "var renderPlotly = function() {\n",
              "    var xplotRequire = require.config({context:'xplot-3.0.1',paths:{plotly:'https://cdn.plot.ly/plotly-1.49.2.min'}}) || require;\n",
              "    xplotRequire(['plotly'], function(Plotly) { \r\n",
              "\n",
              "            var data = [{\"type\":\"scatter\",\"x\":[0,1,2,3,4,5,6,7,8,9,10,11,12,13,14,15,16,17,18,19,20,21,22,23],\"y\":[1.7976931348623157E+308,1.7976931348623157E+308,1.7976931348623157E+308,1.7976931348623157E+308,552355.6983589529,1.7976931348623157E+308,438225.5705499285,414087.2254571641,392441.9578468082,1.7976931348623157E+308,438225.5705499285,1.7976931348623157E+308,438225.5705499285,1.7976931348623157E+308,438225.5705499285,481623.34878897003,499226.0053380674,402566.9729889203,788169.3013683119,511673.6569413072,397347.4956275298,5522733882631087.0,548022.6801926672,446829.16269056936],\"mode\":\"markers\"}];\n",
              "           var layout = {\"title\":\"Plot metrics over trials.\",\"showlegend\":false,\"xaxis\":{\"title\":\"Trial\",\"_isSubplotObj\":true},\"yaxis\":{\"title\":\"Metric\",\"_isSubplotObj\":true}};\n",
              "           Plotly.newPlot('a8bda6a5-83da-4221-81db-e2ad226c2603', data, layout);\n",
              "        \r\n",
              "});\n",
              "};\r\n",
              "// ensure `require` is available globally\r\n",
              "if ((typeof(require) !==  typeof(Function)) || (typeof(require.config) !== typeof(Function))) {\r\n",
              "    let require_script = document.createElement('script');\r\n",
              "    require_script.setAttribute('src', 'https://cdnjs.cloudflare.com/ajax/libs/require.js/2.3.6/require.min.js');\r\n",
              "    require_script.setAttribute('type', 'text/javascript');\r\n",
              "    \r\n",
              "    \r\n",
              "    require_script.onload = function() {\r\n",
              "        renderPlotly();\r\n",
              "    };\r\n",
              "\r\n",
              "    document.getElementsByTagName('head')[0].appendChild(require_script);\r\n",
              "}\r\n",
              "else {\r\n",
              "    renderPlotly();\r\n",
              "}\r\n",
              "\r\n",
              "</script>\r\n",
              "<table id=\"table_637889900655393384\"><thead><tr><th><i>index</i></th><th>Trial</th><th>Metric</th><th>Pipeline</th></tr></thead><tbody><tr><td><i><div class=\"dni-plaintext\">0</div></i></td><td><div class=\"dni-plaintext\">0</div></td><td><div class=\"dni-plaintext\">Infinity</div></td><td>Unknown=&gt;Unknown</td></tr><tr><td><i><div class=\"dni-plaintext\">1</div></i></td><td><div class=\"dni-plaintext\">1</div></td><td><div class=\"dni-plaintext\">Infinity</div></td><td>Unknown=&gt;Unknown</td></tr><tr><td><i><div class=\"dni-plaintext\">2</div></i></td><td><div class=\"dni-plaintext\">2</div></td><td><div class=\"dni-plaintext\">Infinity</div></td><td>Unknown=&gt;Unknown</td></tr><tr><td><i><div class=\"dni-plaintext\">3</div></i></td><td><div class=\"dni-plaintext\">3</div></td><td><div class=\"dni-plaintext\">Infinity</div></td><td>Unknown=&gt;Unknown</td></tr><tr><td><i><div class=\"dni-plaintext\">4</div></i></td><td><div class=\"dni-plaintext\">4</div></td><td><div class=\"dni-plaintext\">552355.7</div></td><td>Unknown=&gt;Unknown</td></tr><tr><td><i><div class=\"dni-plaintext\">5</div></i></td><td><div class=\"dni-plaintext\">5</div></td><td><div class=\"dni-plaintext\">Infinity</div></td><td>Unknown=&gt;Unknown</td></tr><tr><td><i><div class=\"dni-plaintext\">6</div></i></td><td><div class=\"dni-plaintext\">6</div></td><td><div class=\"dni-plaintext\">438225.56</div></td><td>Unknown=&gt;Unknown</td></tr><tr><td><i><div class=\"dni-plaintext\">7</div></i></td><td><div class=\"dni-plaintext\">7</div></td><td><div class=\"dni-plaintext\">414087.22</div></td><td>Unknown=&gt;Unknown</td></tr><tr><td><i><div class=\"dni-plaintext\">8</div></i></td><td><div class=\"dni-plaintext\">8</div></td><td><div class=\"dni-plaintext\">392441.97</div></td><td>Unknown=&gt;Unknown</td></tr><tr><td><i><div class=\"dni-plaintext\">9</div></i></td><td><div class=\"dni-plaintext\">9</div></td><td><div class=\"dni-plaintext\">Infinity</div></td><td>Unknown=&gt;Unknown</td></tr><tr><td><i><div class=\"dni-plaintext\">10</div></i></td><td><div class=\"dni-plaintext\">10</div></td><td><div class=\"dni-plaintext\">438225.56</div></td><td>Unknown=&gt;Unknown</td></tr><tr><td><i><div class=\"dni-plaintext\">11</div></i></td><td><div class=\"dni-plaintext\">11</div></td><td><div class=\"dni-plaintext\">Infinity</div></td><td>Unknown=&gt;Unknown</td></tr><tr><td><i><div class=\"dni-plaintext\">12</div></i></td><td><div class=\"dni-plaintext\">12</div></td><td><div class=\"dni-plaintext\">438225.56</div></td><td>Unknown=&gt;Unknown</td></tr><tr><td><i><div class=\"dni-plaintext\">13</div></i></td><td><div class=\"dni-plaintext\">13</div></td><td><div class=\"dni-plaintext\">Infinity</div></td><td>Unknown=&gt;Unknown</td></tr><tr><td><i><div class=\"dni-plaintext\">14</div></i></td><td><div class=\"dni-plaintext\">14</div></td><td><div class=\"dni-plaintext\">438225.56</div></td><td>Unknown=&gt;Unknown</td></tr><tr><td><i><div class=\"dni-plaintext\">15</div></i></td><td><div class=\"dni-plaintext\">15</div></td><td><div class=\"dni-plaintext\">481623.34</div></td><td>Unknown=&gt;Unknown</td></tr><tr><td><i><div class=\"dni-plaintext\">16</div></i></td><td><div class=\"dni-plaintext\">16</div></td><td><div class=\"dni-plaintext\">499226</div></td><td>Unknown=&gt;Unknown</td></tr><tr><td><i><div class=\"dni-plaintext\">17</div></i></td><td><div class=\"dni-plaintext\">17</div></td><td><div class=\"dni-plaintext\">402566.97</div></td><td>Unknown=&gt;Unknown</td></tr><tr><td><i><div class=\"dni-plaintext\">18</div></i></td><td><div class=\"dni-plaintext\">18</div></td><td><div class=\"dni-plaintext\">788169.3</div></td><td>Unknown=&gt;Unknown</td></tr><tr><td><i><div class=\"dni-plaintext\">19</div></i></td><td><div class=\"dni-plaintext\">19</div></td><td><div class=\"dni-plaintext\">511673.66</div></td><td>Unknown=&gt;Unknown</td></tr><tr><td><i><div class=\"dni-plaintext\">20</div></i></td><td><div class=\"dni-plaintext\">20</div></td><td><div class=\"dni-plaintext\">397347.5</div></td><td>Unknown=&gt;Unknown</td></tr><tr><td><i><div class=\"dni-plaintext\">21</div></i></td><td><div class=\"dni-plaintext\">21</div></td><td><div class=\"dni-plaintext\">5.5227336E+15</div></td><td>Unknown=&gt;Unknown</td></tr><tr><td><i><div class=\"dni-plaintext\">22</div></i></td><td><div class=\"dni-plaintext\">22</div></td><td><div class=\"dni-plaintext\">548022.7</div></td><td>Unknown=&gt;Unknown</td></tr><tr><td><i><div class=\"dni-plaintext\">23</div></i></td><td><div class=\"dni-plaintext\">23</div></td><td><div class=\"dni-plaintext\">446829.16</div></td><td>Unknown=&gt;Unknown</td></tr></tbody></table>"
            ]
          },
          "metadata": {},
          "output_type": "display_data"
        }
      ],
      "source": [
        "// Configure AutoML\n",
        "var ssaTrialRunner = new SSARunner(mlContext, trainDf, evaluateDf);\n",
        "// NotebookMonitor plots trials and show best run nicely in notebook output cell.\n",
        "var monitor = new NotebookMonitor();\n",
        "\n",
        "var experiment = mlContext.Auto().CreateExperiment()\n",
        "                    .SetPipeline(pipeline)\n",
        "                    .SetTrainingTimeInSeconds(120)\n",
        "                    .SetTrialRunner(ssaTrialRunner)\n",
        "                    .SetEvaluateMetric(RegressionMetric.RootMeanSquaredError, \"load\", \"Score\")\n",
        "\t\t\t\t\t.SetMonitor(monitor);\n",
        "\n",
        "// Configure Visualizer\t\t\t\n",
        "monitor.SetUpdate(monitor.Display());\n",
        "\n",
        "// Start Experiment\n",
        "var res = await experiment.Run();"
      ]
    },
    {
      "cell_type": "markdown",
      "metadata": {},
      "source": [
        "## Evaluate model using test dataset\n",
        "The following code shows how to use the best model produced by hyper-parameter optimization from `AutoMLExperiment` to predict the Luna `load` for next two weeks, then compare it with the actual `load` and calculate rmse metric. The evaluating way should keep the same with `SSARunner` so we need to calculate rolling-update rmse as well."
      ]
    },
    {
      "cell_type": "code",
      "execution_count": null,
      "metadata": {
        "dotnet_interactive": {
          "language": "csharp"
        },
        "vscode": {
          "languageId": "dotnet-interactive.csharp"
        }
      },
      "outputs": [
        {
          "data": {
            "text/html": [
              "<div class=\"dni-plaintext\">371908.9285510634</div>"
            ]
          },
          "metadata": {},
          "output_type": "display_data"
        }
      ],
      "source": [
        "var model = res.Model;\n",
        "// evaluate\n",
        "var predictEngine = model.CreateTimeSeriesEngine<ForecastInput, ForecastOutnput>(mlContext);\n",
        "\n",
        "var predictLoads1H = new List<float>();\n",
        "foreach (var load in evaluateDf.GetColumn<Single>(\"load\"))\n",
        "{\n",
        "    // firstly, get next n predict where n is horizon\n",
        "    var predict = predictEngine.Predict();\n",
        "\n",
        "    predictLoads1H.Add(predict.Predict[0]);\n",
        "\n",
        "    // update model with truth value\n",
        "    predictEngine.Predict(new ForecastInput()\n",
        "    {\n",
        "        Load = load,\n",
        "    });\n",
        "}\n",
        "\n",
        "evaluateDf[\"predict_load_1h\"] = DataFrameColumn.Create(\"predict_load_1h\", predictLoads1H);\n",
        "\n",
        "var mse = (evaluateDf[\"load\"] - evaluateDf[\"predict_load_1h\"]).Cast<float>().Select(x => x * x).Average();\n",
        "var rmse = Math.Sqrt(mse);\n",
        "rmse"
      ]
    },
    {
      "cell_type": "markdown",
      "metadata": {},
      "source": [
        "## Plot both predicted and truth sonar in test dataset"
      ]
    },
    {
      "cell_type": "code",
      "execution_count": null,
      "metadata": {
        "dotnet_interactive": {
          "language": "csharp"
        },
        "vscode": {
          "languageId": "dotnet-interactive.csharp"
        }
      },
      "outputs": [
        {
          "data": {
            "text/html": [
              "<div id=\"52b84952-6a61-4a45-817e-6765150d326c\"><!-- Plotly chart will be drawn inside this DIV --></div>\r\n",
              "<script type=\"text/javascript\">\r\n",
              "\r\n",
              "            var renderPlotly_52b849526a614a45817e6765150d326c = function() {\r\n",
              "            var fsharpPlotlyRequire = requirejs.config({context:'fsharp-plotly',paths:{plotly:'https://cdn.plot.ly/plotly-2.6.3.min'}}) || require;\r\n",
              "            fsharpPlotlyRequire(['plotly'], function(Plotly) {\r\n",
              "\r\n",
              "            var data = [{\"type\":\"scatter\",\"name\":\"predict_load_1h\",\"mode\":\"lines\",\"x\":[0,1,2,3,4,5,6,7,8,9,10,11,12,13,14,15,16,17,18,19,20,21,22,23,24,25,26,27,28,29,30,31,32,33,34,35,36,37,38,39,40,41,42,43,44,45,46,47,48,49,50,51,52,53,54,55,56,57,58,59,60,61,62,63,64,65,66,67,68,69,70,71,72,73,74,75,76,77,78,79,80,81,82,83,84,85,86,87,88,89,90,91,92,93,94,95,96,97,98,99,100,101,102,103,104,105,106,107,108,109,110,111,112,113,114,115,116,117,118,119,120,121,122,123,124,125,126,127,128,129,130,131,132,133,134,135,136,137,138,139,140,141,142,143,144,145,146,147,148,149,150,151,152,153,154,155,156,157,158,159,160,161,162,163,164,165,166,167],\"y\":[1800331.4,1618067.6,1468349.0,1330895.0,1196066.2,1069164.1,969503.25,925485.2,965647.8,1108454.1,1354549.5,1683702.5,2056444.4,2421643.8,2726469.5,2926082.8,2994959.5,2931608.5,2758188.8,2514743.0,2248772.0,2002998.0,1805697.5,1664971.4,1570602.4,1497221.0,1414230.6,1295645.1,1129105.2,920445.0,693033.44,482373.06,325925.72,253084.2,276520.22,388089.7,559724.25,749586.44,912090.0,1009048.56,1018620.6,940948.7,797010.0,623222.2,461435.12,347871.28,303945.88,331077.56,411734.62,514553.78,603847.4,649981.2,638264.3,573482.8,478766.4,389699.25,344328.0,372325.75,486285.4,677402.5,916393.2,1159958.8,1360812.6,1479196.5,1492204.8,1399484.8,1222563.5,999453.0,774695.75,588702.7,468311.47,421588.8,438326.75,494888.38,563085.7,619812.0,655287.94,677247.94,709446.5,785114.44,937106.4,1187097.6,1537613.8,1968125.2,2437475.8,2891058.2,3270746.0,3526453.8,3627149.0,3566562.0,3364343.2,3060140.8,2703165.5,2341557.2,2012007.5,1733690.5,1510236.9,1331475.2,1182007.2,1049807.8,933731.4,847024.2,815644.94,871825.75,1044273.2,1347867.5,1776107.8,2298463.0,2863217.8,3405636.0,3859235.8,4166698.5,4292196.5,4227314.0,3992135.8,3629078.0,3192238.0,2735825.0,2303425.5,1921370.0,1600081.4,1335108.8,1115238.5,931022.2,782325.0,681214.75,650768.06,719206.1,910161.4,1233364.8,1677429.9,2207825.8,2770223.8,3298696.8,3727284.8,4000882.5,4086839.5,3980933.5,3707571.5,3313880.8,2858354.2,2398385.8,1979638.2,1628889.9,1355644.2,1153219.5,1006451.5,900874.94,830764.9,802924.2,835683.3,953217.56,1176889.9,1515516.1,1958572.4,2473991.5,3011094.0,3508379.8,3904609.0,4149883.8,4217068.0,4105707.8,3843154.8,3476640.0,3062782.8,2654973.2,2293423.2,1998288.6],\"marker\":{},\"line\":{}},{\"type\":\"scatter\",\"name\":\"truth\",\"mode\":\"lines\",\"x\":[0,1,2,3,4,5,6,7,8,9,10,11,12,13,14,15,16,17,18,19,20,21,22,23,24,25,26,27,28,29,30,31,32,33,34,35,36,37,38,39,40,41,42,43,44,45,46,47,48,49,50,51,52,53,54,55,56,57,58,59,60,61,62,63,64,65,66,67,68,69,70,71,72,73,74,75,76,77,78,79,80,81,82,83,84,85,86,87,88,89,90,91,92,93,94,95,96,97,98,99,100,101,102,103,104,105,106,107,108,109,110,111,112,113,114,115,116,117,118,119,120,121,122,123,124,125,126,127,128,129,130,131,132,133,134,135,136,137,138,139,140,141,142,143,144,145,146,147,148,149,150,151,152,153,154,155,156,157,158,159,160,161,162,163,164,165,166,167],\"y\":[2140878.0,1895147.0,1579756.0,1402062.0,1322785.0,1165658.0,1131081.0,1244647.0,1313523.0,1327327.0,1506570.0,1799622.0,2468453.0,3322579.0,3490262.0,3537042.0,3357287.0,3054315.0,2878427.0,2817847.0,2560142.0,2086403.0,1311481.0,1131604.0,835595.0,706414.0,564374.0,501562.0,460359.0,407497.0,524727.0,513550.0,498451.0,471818.0,568307.0,736493.0,880628.0,980110.0,1056655.0,960999.0,944985.0,792694.0,730271.0,704140.0,667614.0,615589.0,464296.0,476380.0,456389.0,435793.0,371625.0,335967.0,349326.0,320461.0,360233.0,401795.0,400516.0,397158.0,480181.0,593995.0,728192.0,791722.0,842580.0,787016.0,789116.0,720734.0,727569.0,693815.0,700541.0,675098.0,602570.0,654610.0,700733.0,754041.0,716777.0,641627.0,647768.0,720232.0,826600.0,955412.0,989776.0,1085038.0,1248893.0,1755543.0,2648495.0,3460453.0,3797630.0,3866752.0,3578963.0,3419092.0,3371077.0,3133834.0,2904028.0,2427113.0,1536951.0,1431362.0,1240912.0,1152746.0,1017037.0,879557.0,794088.0,776213.0,866713.0,994684.0,1053025.0,1082314.0,1272833.0,1740110.0,2559427.0,3543817.0,3795470.0,3786953.0,3478702.0,3325876.0,3290135.0,3147765.0,2918741.0,2411975.0,1507603.0,1415209.0,1207824.0,1049837.0,891704.0,899598.0,859797.0,852082.0,1017008.0,1110451.0,1186555.0,1212441.0,1413617.0,1954505.0,2815706.0,3879214.0,4287130.0,4297613.0,4004459.0,3668727.0,3560500.0,3427783.0,3095399.0,2544989.0,1552230.0,1468952.0,1401150.0,1246200.0,1018963.0,893128.0,836865.0,838962.0,888329.0,1035122.0,1092601.0,1138552.0,1369574.0,1856648.0,2527278.0,3220888.0,3388005.0,3576955.0,3282861.0,3294191.0,3219435.0,3105795.0,2722333.0,2231878.0,1382403.0,1330587.0],\"marker\":{},\"line\":{}}];\r\n",
              "            var layout = {\"width\":600,\"height\":600,\"template\":{\"layout\":{\"title\":{\"x\":0.05},\"font\":{\"color\":\"rgba(42, 63, 95, 1.0)\"},\"paper_bgcolor\":\"rgba(255, 255, 255, 1.0)\",\"plot_bgcolor\":\"rgba(229, 236, 246, 1.0)\",\"autotypenumbers\":\"strict\",\"colorscale\":{\"diverging\":[[0.0,\"#8e0152\"],[0.1,\"#c51b7d\"],[0.2,\"#de77ae\"],[0.3,\"#f1b6da\"],[0.4,\"#fde0ef\"],[0.5,\"#f7f7f7\"],[0.6,\"#e6f5d0\"],[0.7,\"#b8e186\"],[0.8,\"#7fbc41\"],[0.9,\"#4d9221\"],[1.0,\"#276419\"]],\"sequential\":[[0.0,\"#0d0887\"],[0.1111111111111111,\"#46039f\"],[0.2222222222222222,\"#7201a8\"],[0.3333333333333333,\"#9c179e\"],[0.4444444444444444,\"#bd3786\"],[0.5555555555555556,\"#d8576b\"],[0.6666666666666666,\"#ed7953\"],[0.7777777777777778,\"#fb9f3a\"],[0.8888888888888888,\"#fdca26\"],[1.0,\"#f0f921\"]],\"sequentialminus\":[[0.0,\"#0d0887\"],[0.1111111111111111,\"#46039f\"],[0.2222222222222222,\"#7201a8\"],[0.3333333333333333,\"#9c179e\"],[0.4444444444444444,\"#bd3786\"],[0.5555555555555556,\"#d8576b\"],[0.6666666666666666,\"#ed7953\"],[0.7777777777777778,\"#fb9f3a\"],[0.8888888888888888,\"#fdca26\"],[1.0,\"#f0f921\"]]},\"hovermode\":\"closest\",\"hoverlabel\":{\"align\":\"left\"},\"coloraxis\":{\"colorbar\":{\"outlinewidth\":0.0,\"ticks\":\"\"}},\"geo\":{\"showland\":true,\"landcolor\":\"rgba(229, 236, 246, 1.0)\",\"showlakes\":true,\"lakecolor\":\"rgba(255, 255, 255, 1.0)\",\"subunitcolor\":\"rgba(255, 255, 255, 1.0)\",\"bgcolor\":\"rgba(255, 255, 255, 1.0)\"},\"mapbox\":{\"style\":\"light\"},\"polar\":{\"bgcolor\":\"rgba(229, 236, 246, 1.0)\",\"radialaxis\":{\"linecolor\":\"rgba(255, 255, 255, 1.0)\",\"gridcolor\":\"rgba(255, 255, 255, 1.0)\",\"ticks\":\"\"},\"angularaxis\":{\"linecolor\":\"rgba(255, 255, 255, 1.0)\",\"gridcolor\":\"rgba(255, 255, 255, 1.0)\",\"ticks\":\"\"}},\"scene\":{\"xaxis\":{\"ticks\":\"\",\"linecolor\":\"rgba(255, 255, 255, 1.0)\",\"gridcolor\":\"rgba(255, 255, 255, 1.0)\",\"gridwidth\":2.0,\"zerolinecolor\":\"rgba(255, 255, 255, 1.0)\",\"backgroundcolor\":\"rgba(229, 236, 246, 1.0)\",\"showbackground\":true},\"yaxis\":{\"ticks\":\"\",\"linecolor\":\"rgba(255, 255, 255, 1.0)\",\"gridcolor\":\"rgba(255, 255, 255, 1.0)\",\"gridwidth\":2.0,\"zerolinecolor\":\"rgba(255, 255, 255, 1.0)\",\"backgroundcolor\":\"rgba(229, 236, 246, 1.0)\",\"showbackground\":true},\"zaxis\":{\"ticks\":\"\",\"linecolor\":\"rgba(255, 255, 255, 1.0)\",\"gridcolor\":\"rgba(255, 255, 255, 1.0)\",\"gridwidth\":2.0,\"zerolinecolor\":\"rgba(255, 255, 255, 1.0)\",\"backgroundcolor\":\"rgba(229, 236, 246, 1.0)\",\"showbackground\":true}},\"ternary\":{\"aaxis\":{\"ticks\":\"\",\"linecolor\":\"rgba(255, 255, 255, 1.0)\",\"gridcolor\":\"rgba(255, 255, 255, 1.0)\"},\"baxis\":{\"ticks\":\"\",\"linecolor\":\"rgba(255, 255, 255, 1.0)\",\"gridcolor\":\"rgba(255, 255, 255, 1.0)\"},\"caxis\":{\"ticks\":\"\",\"linecolor\":\"rgba(255, 255, 255, 1.0)\",\"gridcolor\":\"rgba(255, 255, 255, 1.0)\"},\"bgcolor\":\"rgba(229, 236, 246, 1.0)\"},\"xaxis\":{\"title\":{\"standoff\":15},\"ticks\":\"\",\"automargin\":true,\"linecolor\":\"rgba(255, 255, 255, 1.0)\",\"gridcolor\":\"rgba(255, 255, 255, 1.0)\",\"zerolinecolor\":\"rgba(255, 255, 255, 1.0)\",\"zerolinewidth\":2.0},\"yaxis\":{\"title\":{\"standoff\":15},\"ticks\":\"\",\"automargin\":true,\"linecolor\":\"rgba(255, 255, 255, 1.0)\",\"gridcolor\":\"rgba(255, 255, 255, 1.0)\",\"zerolinecolor\":\"rgba(255, 255, 255, 1.0)\",\"zerolinewidth\":2.0},\"annotationdefaults\":{\"arrowcolor\":\"#2a3f5f\",\"arrowhead\":0,\"arrowwidth\":1},\"shapedefaults\":{\"line\":{\"color\":\"rgba(42, 63, 95, 1.0)\"}},\"colorway\":[\"rgba(99, 110, 250, 1.0)\",\"rgba(239, 85, 59, 1.0)\",\"rgba(0, 204, 150, 1.0)\",\"rgba(171, 99, 250, 1.0)\",\"rgba(255, 161, 90, 1.0)\",\"rgba(25, 211, 243, 1.0)\",\"rgba(255, 102, 146, 1.0)\",\"rgba(182, 232, 128, 1.0)\",\"rgba(255, 151, 255, 1.0)\",\"rgba(254, 203, 82, 1.0)\"]},\"data\":{\"bar\":[{\"marker\":{\"line\":{\"color\":\"rgba(229, 236, 246, 1.0)\",\"width\":0.5},\"pattern\":{\"fillmode\":\"overlay\",\"size\":10,\"solidity\":0.2}},\"errorx\":{\"color\":\"rgba(42, 63, 95, 1.0)\"},\"errory\":{\"color\":\"rgba(42, 63, 95, 1.0)\"}}],\"barpolar\":[{\"marker\":{\"line\":{\"color\":\"rgba(229, 236, 246, 1.0)\",\"width\":0.5},\"pattern\":{\"fillmode\":\"overlay\",\"size\":10,\"solidity\":0.2}}}],\"carpet\":[{\"aaxis\":{\"linecolor\":\"rgba(255, 255, 255, 1.0)\",\"gridcolor\":\"rgba(255, 255, 255, 1.0)\",\"endlinecolor\":\"rgba(42, 63, 95, 1.0)\",\"minorgridcolor\":\"rgba(255, 255, 255, 1.0)\",\"startlinecolor\":\"rgba(42, 63, 95, 1.0)\"},\"baxis\":{\"linecolor\":\"rgba(255, 255, 255, 1.0)\",\"gridcolor\":\"rgba(255, 255, 255, 1.0)\",\"endlinecolor\":\"rgba(42, 63, 95, 1.0)\",\"minorgridcolor\":\"rgba(255, 255, 255, 1.0)\",\"startlinecolor\":\"rgba(42, 63, 95, 1.0)\"}}],\"choropleth\":[{\"colorbar\":{\"outlinewidth\":0.0,\"ticks\":\"\"},\"colorscale\":[[0.0,\"#0d0887\"],[0.1111111111111111,\"#46039f\"],[0.2222222222222222,\"#7201a8\"],[0.3333333333333333,\"#9c179e\"],[0.4444444444444444,\"#bd3786\"],[0.5555555555555556,\"#d8576b\"],[0.6666666666666666,\"#ed7953\"],[0.7777777777777778,\"#fb9f3a\"],[0.8888888888888888,\"#fdca26\"],[1.0,\"#f0f921\"]]}],\"contour\":[{\"colorbar\":{\"outlinewidth\":0.0,\"ticks\":\"\"},\"colorscale\":[[0.0,\"#0d0887\"],[0.1111111111111111,\"#46039f\"],[0.2222222222222222,\"#7201a8\"],[0.3333333333333333,\"#9c179e\"],[0.4444444444444444,\"#bd3786\"],[0.5555555555555556,\"#d8576b\"],[0.6666666666666666,\"#ed7953\"],[0.7777777777777778,\"#fb9f3a\"],[0.8888888888888888,\"#fdca26\"],[1.0,\"#f0f921\"]]}],\"contourcarpet\":[{\"colorbar\":{\"outlinewidth\":0.0,\"ticks\":\"\"}}],\"heatmap\":[{\"colorbar\":{\"outlinewidth\":0.0,\"ticks\":\"\"},\"colorscale\":[[0.0,\"#0d0887\"],[0.1111111111111111,\"#46039f\"],[0.2222222222222222,\"#7201a8\"],[0.3333333333333333,\"#9c179e\"],[0.4444444444444444,\"#bd3786\"],[0.5555555555555556,\"#d8576b\"],[0.6666666666666666,\"#ed7953\"],[0.7777777777777778,\"#fb9f3a\"],[0.8888888888888888,\"#fdca26\"],[1.0,\"#f0f921\"]]}],\"heatmapgl\":[{\"colorbar\":{\"outlinewidth\":0.0,\"ticks\":\"\"},\"colorscale\":[[0.0,\"#0d0887\"],[0.1111111111111111,\"#46039f\"],[0.2222222222222222,\"#7201a8\"],[0.3333333333333333,\"#9c179e\"],[0.4444444444444444,\"#bd3786\"],[0.5555555555555556,\"#d8576b\"],[0.6666666666666666,\"#ed7953\"],[0.7777777777777778,\"#fb9f3a\"],[0.8888888888888888,\"#fdca26\"],[1.0,\"#f0f921\"]]}],\"histogram\":[{\"marker\":{\"pattern\":{\"fillmode\":\"overlay\",\"size\":10,\"solidity\":0.2}}}],\"histogram2d\":[{\"colorbar\":{\"outlinewidth\":0.0,\"ticks\":\"\"},\"colorscale\":[[0.0,\"#0d0887\"],[0.1111111111111111,\"#46039f\"],[0.2222222222222222,\"#7201a8\"],[0.3333333333333333,\"#9c179e\"],[0.4444444444444444,\"#bd3786\"],[0.5555555555555556,\"#d8576b\"],[0.6666666666666666,\"#ed7953\"],[0.7777777777777778,\"#fb9f3a\"],[0.8888888888888888,\"#fdca26\"],[1.0,\"#f0f921\"]]}],\"histogram2dcontour\":[{\"colorbar\":{\"outlinewidth\":0.0,\"ticks\":\"\"},\"colorscale\":[[0.0,\"#0d0887\"],[0.1111111111111111,\"#46039f\"],[0.2222222222222222,\"#7201a8\"],[0.3333333333333333,\"#9c179e\"],[0.4444444444444444,\"#bd3786\"],[0.5555555555555556,\"#d8576b\"],[0.6666666666666666,\"#ed7953\"],[0.7777777777777778,\"#fb9f3a\"],[0.8888888888888888,\"#fdca26\"],[1.0,\"#f0f921\"]]}],\"mesh3d\":[{\"colorbar\":{\"outlinewidth\":0.0,\"ticks\":\"\"}}],\"parcoords\":[{\"line\":{\"colorbar\":{\"outlinewidth\":0.0,\"ticks\":\"\"}}}],\"pie\":[{\"automargin\":true}],\"scatter\":[{\"marker\":{\"colorbar\":{\"outlinewidth\":0.0,\"ticks\":\"\"}}}],\"scatter3d\":[{\"marker\":{\"colorbar\":{\"outlinewidth\":0.0,\"ticks\":\"\"}},\"line\":{\"colorbar\":{\"outlinewidth\":0.0,\"ticks\":\"\"}}}],\"scattercarpet\":[{\"marker\":{\"colorbar\":{\"outlinewidth\":0.0,\"ticks\":\"\"}}}],\"scattergeo\":[{\"marker\":{\"colorbar\":{\"outlinewidth\":0.0,\"ticks\":\"\"}}}],\"scattergl\":[{\"marker\":{\"colorbar\":{\"outlinewidth\":0.0,\"ticks\":\"\"}}}],\"scattermapbox\":[{\"marker\":{\"colorbar\":{\"outlinewidth\":0.0,\"ticks\":\"\"}}}],\"scatterpolar\":[{\"marker\":{\"colorbar\":{\"outlinewidth\":0.0,\"ticks\":\"\"}}}],\"scatterpolargl\":[{\"marker\":{\"colorbar\":{\"outlinewidth\":0.0,\"ticks\":\"\"}}}],\"scatterternary\":[{\"marker\":{\"colorbar\":{\"outlinewidth\":0.0,\"ticks\":\"\"}}}],\"surface\":[{\"colorbar\":{\"outlinewidth\":0.0,\"ticks\":\"\"},\"colorscale\":[[0.0,\"#0d0887\"],[0.1111111111111111,\"#46039f\"],[0.2222222222222222,\"#7201a8\"],[0.3333333333333333,\"#9c179e\"],[0.4444444444444444,\"#bd3786\"],[0.5555555555555556,\"#d8576b\"],[0.6666666666666666,\"#ed7953\"],[0.7777777777777778,\"#fb9f3a\"],[0.8888888888888888,\"#fdca26\"],[1.0,\"#f0f921\"]]}],\"table\":[{\"cells\":{\"fill\":{\"color\":\"rgba(235, 240, 248, 1.0)\"},\"line\":{\"color\":\"rgba(255, 255, 255, 1.0)\"}},\"header\":{\"fill\":{\"color\":\"rgba(200, 212, 227, 1.0)\"},\"line\":{\"color\":\"rgba(255, 255, 255, 1.0)\"}}}]}}};\r\n",
              "            var config = {\"responsive\":true};\r\n",
              "            Plotly.newPlot('52b84952-6a61-4a45-817e-6765150d326c', data, layout, config);\r\n",
              "});\r\n",
              "            };\r\n",
              "            if ((typeof(requirejs) !==  typeof(Function)) || (typeof(requirejs.config) !== typeof(Function))) {\r\n",
              "                var script = document.createElement(\"script\");\r\n",
              "                script.setAttribute(\"src\", \"https://cdnjs.cloudflare.com/ajax/libs/require.js/2.3.6/require.min.js\");\r\n",
              "                script.onload = function(){\r\n",
              "                    renderPlotly_52b849526a614a45817e6765150d326c();\r\n",
              "                };\r\n",
              "                document.getElementsByTagName(\"head\")[0].appendChild(script);\r\n",
              "            }\r\n",
              "            else {\r\n",
              "                renderPlotly_52b849526a614a45817e6765150d326c();\r\n",
              "            }\r\n",
              "</script>\r\n"
            ]
          },
          "metadata": {},
          "output_type": "display_data"
        }
      ],
      "source": [
        "var predicted = evaluateDf[\"predict_load_1h\"].Cast<float>();\n",
        "var truth = evaluateDf[\"load\"].Cast<float>();\n",
        "var X = Enumerable.Range(0, truth.Count());\n",
        "var predictedChart = Chart2D.Chart.Line<int, float, string>(X, predicted, Name: \"predict_load_1h\");\n",
        "var truthChart = Chart2D.Chart.Line<int, float, string>(X, truth, Name: \"truth\");\n",
        "var combineChart = Chart.Combine(new[]{ predictedChart, truthChart});\n",
        "combineChart.Display()"
      ]
    }
  ],
  "metadata": {
    "kernelspec": {
      "display_name": ".NET (C#)",
      "language": "C#",
      "name": ".net-csharp"
    },
    "language_info": {
      "file_extension": ".cs",
      "mimetype": "text/x-csharp",
      "name": "C#",
      "pygments_lexer": "csharp",
      "version": "8.0"
    }
  },
  "nbformat": 4,
  "nbformat_minor": 4
}
