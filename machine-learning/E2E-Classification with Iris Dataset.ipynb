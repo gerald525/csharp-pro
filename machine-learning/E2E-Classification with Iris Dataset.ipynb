{
  "cells": [
    {
      "cell_type": "markdown",
      "metadata": {},
      "source": [
        "## ==**This notebook is under active development**=="
      ]
    },
    {
      "cell_type": "markdown",
      "metadata": {},
      "source": [
        "This notebook demonstrates how to:\n",
        "\n",
        "1. Define the model input and output schema\n",
        "1. Load in data from a text file to an IDataView\n",
        "1. Set up the training pipeline with data transforms\n",
        "1. Choose an algorithm and append it to the pipeline\n",
        "1. Train the model\n",
        "1. Evaluate the model\n",
        "1. Consume the model"
      ]
    },
    {
      "cell_type": "markdown",
      "metadata": {},
      "source": [
        "## Install the necessary NuGet packages for training ML.NET model and plotting:"
      ]
    },
    {
      "cell_type": "code",
      "execution_count": 1,
      "metadata": {
        "dotnet_interactive": {
          "language": "csharp"
        }
      },
      "source": [
        "\n",
        "/* Notebook files contain both code snippets and rich text elements.\n",
        "Use the \"run\" button in the left margin to execute each code snippet and explore ML.NET. */\n",
        "\n",
        "#i \"nuget:https://pkgs.dev.azure.com/dnceng/public/_packaging/dotnet5/nuget/v3/index.json\" \n",
        "#i \"nuget:https://pkgs.dev.azure.com/dnceng/public/_packaging/dotnet-tools/nuget/v3/index.json\" \n",
        "\n",
        "#r \"nuget:MLNetAutoML.InteractiveExtension,0.1.1\"\n",
        "#r \"nuget:XPlot.Plotly.Interactive,4.0.6\"\n",
        "#r \"nuget:Microsoft.ML.AutoML,0.20.0-preview.22226.2\"\n",
        "#r \"nuget:Microsoft.Data.Analysis,0.20.0-preview.22226.2\""
      ],
      "outputs": [
        {
          "output_type": "execute_result",
          "data": {
            "text/html": "<div><div><strong>Restore sources</strong><ul><li><span>https://pkgs.dev.azure.com/dnceng/public/_packaging/dotnet-tools/nuget/v3/index.json</span></li><li><span>https://pkgs.dev.azure.com/dnceng/public/_packaging/dotnet5/nuget/v3/index.json</span></li></ul></div><div></div><div><strong>Installed Packages</strong><ul><li><span>Microsoft.Data.Analysis, 0.20.0-preview.22226.2</span></li><li><span>Microsoft.ML.AutoML, 0.20.0-preview.22226.2</span></li><li><span>MLNetAutoML.InteractiveExtension, 0.1.1</span></li><li><span>XPlot.Plotly.Interactive, 4.0.6</span></li></ul></div></div>"
          },
          "execution_count": 1,
          "metadata": {}
        }
      ]
    },
    {
      "cell_type": "code",
      "execution_count": 1,
      "metadata": {
        "dotnet_interactive": {
          "language": "csharp"
        }
      },
      "source": [
        "\n",
        "// Import common usings.\n",
        "using static Microsoft.DotNet.Interactive.Formatting.PocketViewTags;\n",
        "using Microsoft.DotNet.Interactive.Formatting;\n",
        "using Microsoft.Data.Analysis;\n",
        "using System;\n",
        "using System.Collections.Generic;\n",
        "using System.IO;\n",
        "using System.Linq;\n",
        "using Microsoft.ML;\n",
        "using Microsoft.ML.Data;\n",
        "using Microsoft.ML.AutoML;\n",
        "using MLNetAutoML.InteractiveExtension;"
      ],
      "outputs": []
    },
    {
      "cell_type": "markdown",
      "metadata": {},
      "source": [
        "## Define the model input and output schemas:"
      ]
    },
    {
      "cell_type": "code",
      "execution_count": 1,
      "metadata": {
        "dotnet_interactive": {
          "language": "csharp"
        }
      },
      "source": [
        "// Define the model input schema (which columns you will be loading in for training)\n",
        "public class ModelInput\n",
        "{\n",
        "    [ColumnName(@\"Label\"), LoadColumn(0)]\n",
        "    public string Label { get; set; }\n",
        "    \n",
        "    [ColumnName(@\"Sepal length\"), LoadColumn(1)]\n",
        "    public float Sepal_length { get; set; }\n",
        "    \n",
        "    [ColumnName(@\"Sepal width\"), LoadColumn(2)]\n",
        "    public float Sepal_width { get; set; }\n",
        "    \n",
        "    [ColumnName(@\"Petal length\"), LoadColumn(3)]\n",
        "    public float Petal_length { get; set; }\n",
        "    \n",
        "    [ColumnName(@\"Petal width\"), LoadColumn(4)]\n",
        "    public float Petal_width { get; set; }\n",
        "    \n",
        "}\n",
        "\n",
        "\n",
        "// Define the model output schema (what the model will return)\n",
        "public class ModelOutput\n",
        "{\n",
        "    [ColumnName(\"PredictedLabel\")]\n",
        "    public string PredictedLabel { get; set;}\n",
        "\n",
        "    public float[] Score { get; set;}\n",
        "}\n",
        "\n",
        ""
      ],
      "outputs": []
    },
    {
      "cell_type": "markdown",
      "metadata": {},
      "source": [
        "## Create MLContext and load training data:"
      ]
    },
    {
      "cell_type": "code",
      "execution_count": 1,
      "metadata": {
        "dotnet_interactive": {
          "language": "csharp"
        }
      },
      "source": [
        "// Create a new MLContext (the starting point for all ML.NET operations)\n",
        "var mlContext = new MLContext();\n",
        "\n",
        "// Define path to training data\n",
        "string trainValidateDataPath = @\".\\data\\iris-train.tsv\";\n",
        "string testDataPath = @\".\\data\\iris-test.tsv\";\n",
        "\n",
        "// Load data from a text file to an IDataView (a flexible, efficient way of describing tabular data)\n",
        "IDataView trainValidateData = mlContext.Data.LoadFromTextFile<ModelInput>(\n",
        "    path: trainValidateDataPath,\n",
        "    hasHeader: true ,\n",
        "    separatorChar: '\\t',\n",
        "    allowQuoting: true,\n",
        "    allowSparse: false);\n",
        "\n",
        "IDataView testData = mlContext.Data.LoadFromTextFile<ModelInput>(\n",
        "    path: testDataPath,\n",
        "    hasHeader: true ,\n",
        "    separatorChar: '\\t',\n",
        "    allowQuoting: true,\n",
        "    allowSparse: false);\n",
        "\n",
        "// Display training data schema\n",
        "display(trainValidateData.Schema); \n",
        ""
      ],
      "outputs": [
        {
          "output_type": "execute_result",
          "data": {
            "text/html": "<table><thead><tr><th><i>index</i></th><th>Name</th><th>Index</th><th>IsHidden</th><th>Type</th><th>Annotations</th></tr></thead><tbody><tr><td>0</td><td>Label</td><td><div class=\"dni-plaintext\">0</div></td><td><div class=\"dni-plaintext\">False</div></td><td><table><thead><tr><th>RawType</th></tr></thead><tbody><tr><td><div class=\"dni-plaintext\">System.ReadOnlyMemory&lt;System.Char&gt;</div></td></tr></tbody></table></td><td><table><thead><tr><th>Schema</th></tr></thead><tbody><tr><td><div class=\"dni-plaintext\">[  ]</div></td></tr></tbody></table></td></tr><tr><td>1</td><td>Sepal length</td><td><div class=\"dni-plaintext\">1</div></td><td><div class=\"dni-plaintext\">False</div></td><td><table><thead><tr><th>RawType</th></tr></thead><tbody><tr><td><div class=\"dni-plaintext\">System.Single</div></td></tr></tbody></table></td><td><table><thead><tr><th>Schema</th></tr></thead><tbody><tr><td><div class=\"dni-plaintext\">[  ]</div></td></tr></tbody></table></td></tr><tr><td>2</td><td>Sepal width</td><td><div class=\"dni-plaintext\">2</div></td><td><div class=\"dni-plaintext\">False</div></td><td><table><thead><tr><th>RawType</th></tr></thead><tbody><tr><td><div class=\"dni-plaintext\">System.Single</div></td></tr></tbody></table></td><td><table><thead><tr><th>Schema</th></tr></thead><tbody><tr><td><div class=\"dni-plaintext\">[  ]</div></td></tr></tbody></table></td></tr><tr><td>3</td><td>Petal length</td><td><div class=\"dni-plaintext\">3</div></td><td><div class=\"dni-plaintext\">False</div></td><td><table><thead><tr><th>RawType</th></tr></thead><tbody><tr><td><div class=\"dni-plaintext\">System.Single</div></td></tr></tbody></table></td><td><table><thead><tr><th>Schema</th></tr></thead><tbody><tr><td><div class=\"dni-plaintext\">[  ]</div></td></tr></tbody></table></td></tr><tr><td>4</td><td>Petal width</td><td><div class=\"dni-plaintext\">4</div></td><td><div class=\"dni-plaintext\">False</div></td><td><table><thead><tr><th>RawType</th></tr></thead><tbody><tr><td><div class=\"dni-plaintext\">System.Single</div></td></tr></tbody></table></td><td><table><thead><tr><th>Schema</th></tr></thead><tbody><tr><td><div class=\"dni-plaintext\">[  ]</div></td></tr></tbody></table></td></tr></tbody></table>"
          },
          "execution_count": 1,
          "metadata": {}
        }
      ]
    },
    {
      "cell_type": "code",
      "execution_count": 1,
      "metadata": {
        "dotnet_interactive": {
          "language": "csharp"
        }
      },
      "source": [
        "display(h4(\"Showing 5 rows from training DataView:\"));\n",
        "var fewRows = mlContext.Data.CreateEnumerable<ModelInput>(trainValidateData, reuseRowObject: false)\n",
        "                    .Take(5)\n",
        "                    .ToList();\n",
        "display(fewRows);"
      ],
      "outputs": [
        {
          "output_type": "execute_result",
          "data": {
            "text/html": "<h4>Showing 5 rows from training DataView:</h4>"
          },
          "execution_count": 1,
          "metadata": {}
        },
        {
          "output_type": "execute_result",
          "data": {
            "text/html": "<table><thead><tr><th><i>index</i></th><th>Label</th><th>Sepal_length</th><th>Sepal_width</th><th>Petal_length</th><th>Petal_width</th></tr></thead><tbody><tr><td>0</td><td>setosa</td><td><div class=\"dni-plaintext\">5.4</div></td><td><div class=\"dni-plaintext\">3.7</div></td><td><div class=\"dni-plaintext\">1.5</div></td><td><div class=\"dni-plaintext\">0.2</div></td></tr><tr><td>1</td><td>setosa</td><td><div class=\"dni-plaintext\">4.8</div></td><td><div class=\"dni-plaintext\">3.4</div></td><td><div class=\"dni-plaintext\">1.6</div></td><td><div class=\"dni-plaintext\">0.2</div></td></tr><tr><td>2</td><td>setosa</td><td><div class=\"dni-plaintext\">4.8</div></td><td><div class=\"dni-plaintext\">3</div></td><td><div class=\"dni-plaintext\">1.4</div></td><td><div class=\"dni-plaintext\">0.1</div></td></tr><tr><td>3</td><td>setosa</td><td><div class=\"dni-plaintext\">4.3</div></td><td><div class=\"dni-plaintext\">3</div></td><td><div class=\"dni-plaintext\">1.1</div></td><td><div class=\"dni-plaintext\">0.1</div></td></tr><tr><td>4</td><td>setosa</td><td><div class=\"dni-plaintext\">5.8</div></td><td><div class=\"dni-plaintext\">4</div></td><td><div class=\"dni-plaintext\">1.2</div></td><td><div class=\"dni-plaintext\">0.2</div></td></tr></tbody></table>"
          },
          "execution_count": 1,
          "metadata": {}
        }
      ]
    },
    {
      "cell_type": "markdown",
      "metadata": {},
      "source": [
        "## Create the training pipeline, choose an algorithm, and train the model:"
      ]
    },
    {
      "cell_type": "code",
      "execution_count": 1,
      "metadata": {
        "dotnet_interactive": {
          "language": "csharp"
        }
      },
      "source": [
        "using Microsoft.ML.Data;\n",
        "using Microsoft.ML.Trainers.FastTree;\n",
        "using Microsoft.ML.Trainers;\n",
        "using Microsoft.ML;\n",
        "\n",
        "var trainValidateSplit = mlContext.Data.TrainTestSplit(trainValidateData, 0.2);\n",
        "\n",
        "var trainDataset = trainValidateSplit.TrainSet;\n",
        "var validateDataset = trainValidateSplit.TestSet;\n",
        "\n",
        "// Append the trainer to the data processing pipeline\n",
        "var pipeline = mlContext.Transforms.ReplaceMissingValues(new []{new InputOutputColumnPair(@\"Sepal length\", @\"Sepal length\"),new InputOutputColumnPair(@\"Sepal width\", @\"Sepal width\"),new InputOutputColumnPair(@\"Petal length\", @\"Petal length\"),new InputOutputColumnPair(@\"Petal width\", @\"Petal width\")})      \n",
        "                 .Append(mlContext.Transforms.Concatenate(@\"Features\", new []{@\"Sepal length\",@\"Sepal width\",@\"Petal length\",@\"Petal width\"}))      \n",
        "                 .Append(mlContext.Transforms.Conversion.MapValueToKey(outputColumnName:@\"Label\",inputColumnName:@\"Label\"))   \n",
        "\t\t\t\t .Append(mlContext.Auto().MultiClassification(labelColumnName: \"Label\"))\n",
        "                 .Append(mlContext.Transforms.Conversion.MapKeyToValue(outputColumnName:@\"PredictedLabel\",inputColumnName:@\"PredictedLabel\"));\n",
        "\n",
        "\n",
        "var monitor = new NotebookMonitor();\n",
        "\n",
        "var experiment = mlContext.Auto().CreateExperiment()\n",
        "                    .SetPipeline(pipeline)\n",
        "                    .SetTrainingTimeInSeconds(50)\n",
        "                    .SetDataset(trainDataset, validateDataset)\n",
        "                    .SetEvaluateMetric(MulticlassClassificationMetric.MacroAccuracy, \"Label\", \"PredictedLabel\")\n",
        "                    .SetMonitor(monitor);\n",
        "\n",
        "// Configure Visualizer\t\t\t\n",
        "monitor.SetUpdate(monitor.Display());\n",
        "\n",
        "// Start Experiment\n",
        "var res = await experiment.Run();\n",
        "\n",
        "\n",
        "var model = res.Model;\n",
        ""
      ],
      "outputs": [
        {
          "output_type": "execute_result",
          "data": {
            "text/html": "<div><h3>Best Run</h3><p>Trial: 3</p><p>Pipeline: Unknown=&gt;LbfgsLogisticRegressionOva=&gt;Unknown</p><h3>Active Run</h3><p>Trial: 21</p><p>Pipeline: Unknown=&gt;SdcaLogisticRegressionOva=&gt;Unknown</p><p>Parameters: {\r\n  &quot;0&quot;: {},\r\n  &quot;1&quot;: {\r\n    &quot;L1Regularization&quot;: 0.03125,\r\n    &quot;L2Regularization&quot;: 0.16136408,\r\n    &quot;LabelColumnName&quot;: &quot;Label&quot;,\r\n    &quot;FeatureColumnName&quot;: &quot;Features&quot;\r\n  },\r\n  &quot;2&quot;: {}\r\n}</p></div><!DOCTYPE html>\r\n<div style=\"width: 500px; height: 500px;\" id=\"9a893e9b-1909-4982-980d-41848bd25973\"></div><script type=\"text/javascript\">\r\n\nvar renderPlotly = function() {\n    var xplotRequire = require.config({context:'xplot-3.0.1',paths:{plotly:'https://cdn.plot.ly/plotly-1.49.2.min'}}) || require;\n    xplotRequire(['plotly'], function(Plotly) { \r\n\n            var data = [{\"type\":\"scatter\",\"x\":[0,1,2,3,4,5,6,7,8,9,10,11,12,13,14,15,16,17,18,19,20,21],\"y\":[0.8095238095238096,0.6666666666666666,0.6666666666666666,1.0,0.7999999999999999,0.9333333333333332,1.0,0.9333333333333332,0.6666666666666666,1.0,0.8095238095238096,1.0,0.9333333333333332,1.0,0.7999999999999999,0.6666666666666666,0.9333333333333332,0.6666666666666666,0.9333333333333332,1.0,0.8857142857142858,0.7142857142857143],\"mode\":\"markers\"}];\n           var layout = {\"title\":\"Plot metrics over trials.\",\"showlegend\":false,\"xaxis\":{\"title\":\"Trial\",\"_isSubplotObj\":true},\"yaxis\":{\"title\":\"Metric\",\"_isSubplotObj\":true}};\n           Plotly.newPlot('9a893e9b-1909-4982-980d-41848bd25973', data, layout);\n        \r\n});\n};\r\n// ensure `require` is available globally\r\nif ((typeof(require) !==  typeof(Function)) || (typeof(require.config) !== typeof(Function))) {\r\n    let require_script = document.createElement('script');\r\n    require_script.setAttribute('src', 'https://cdnjs.cloudflare.com/ajax/libs/require.js/2.3.6/require.min.js');\r\n    require_script.setAttribute('type', 'text/javascript');\r\n    \r\n    \r\n    require_script.onload = function() {\r\n        renderPlotly();\r\n    };\r\n\r\n    document.getElementsByTagName('head')[0].appendChild(require_script);\r\n}\r\nelse {\r\n    renderPlotly();\r\n}\r\n\r\n</script>\r\n<table id=\"table_637896059481870188\"><thead><tr><th><i>index</i></th><th>Trial</th><th>Metric</th><th>Pipeline</th></tr></thead><tbody><tr><td><i><div class=\"dni-plaintext\">0</div></i></td><td><div class=\"dni-plaintext\">0</div></td><td><div class=\"dni-plaintext\">0.8095238</div></td><td>Unknown=&gt;SdcaMaximumEntropyMulti=&gt;Unknown</td></tr><tr><td><i><div class=\"dni-plaintext\">1</div></i></td><td><div class=\"dni-plaintext\">1</div></td><td><div class=\"dni-plaintext\">0.6666667</div></td><td>Unknown=&gt;SdcaMaximumEntropyMulti=&gt;Unknown</td></tr><tr><td><i><div class=\"dni-plaintext\">2</div></i></td><td><div class=\"dni-plaintext\">2</div></td><td><div class=\"dni-plaintext\">0.6666667</div></td><td>Unknown=&gt;SdcaLogisticRegressionOva=&gt;Unknown</td></tr><tr><td><i><div class=\"dni-plaintext\">3</div></i></td><td><div class=\"dni-plaintext\">3</div></td><td><div class=\"dni-plaintext\">1</div></td><td>Unknown=&gt;LbfgsLogisticRegressionOva=&gt;Unknown</td></tr><tr><td><i><div class=\"dni-plaintext\">4</div></i></td><td><div class=\"dni-plaintext\">4</div></td><td><div class=\"dni-plaintext\">0.8</div></td><td>Unknown=&gt;FastForestOva=&gt;Unknown</td></tr><tr><td><i><div class=\"dni-plaintext\">5</div></i></td><td><div class=\"dni-plaintext\">5</div></td><td><div class=\"dni-plaintext\">0.93333334</div></td><td>Unknown=&gt;FastTreeOva=&gt;Unknown</td></tr><tr><td><i><div class=\"dni-plaintext\">6</div></i></td><td><div class=\"dni-plaintext\">6</div></td><td><div class=\"dni-plaintext\">1</div></td><td>Unknown=&gt;LbfgsMaximumEntropyMulti=&gt;Unknown</td></tr><tr><td><i><div class=\"dni-plaintext\">7</div></i></td><td><div class=\"dni-plaintext\">7</div></td><td><div class=\"dni-plaintext\">0.93333334</div></td><td>Unknown=&gt;LightGbmMulti=&gt;Unknown</td></tr><tr><td><i><div class=\"dni-plaintext\">8</div></i></td><td><div class=\"dni-plaintext\">8</div></td><td><div class=\"dni-plaintext\">0.6666667</div></td><td>Unknown=&gt;SdcaMaximumEntropyMulti=&gt;Unknown</td></tr><tr><td><i><div class=\"dni-plaintext\">9</div></i></td><td><div class=\"dni-plaintext\">9</div></td><td><div class=\"dni-plaintext\">1</div></td><td>Unknown=&gt;SdcaLogisticRegressionOva=&gt;Unknown</td></tr><tr><td><i><div class=\"dni-plaintext\">10</div></i></td><td><div class=\"dni-plaintext\">10</div></td><td><div class=\"dni-plaintext\">0.8095238</div></td><td>Unknown=&gt;LbfgsLogisticRegressionOva=&gt;Unknown</td></tr><tr><td><i><div class=\"dni-plaintext\">11</div></i></td><td><div class=\"dni-plaintext\">11</div></td><td><div class=\"dni-plaintext\">1</div></td><td>Unknown=&gt;FastTreeOva=&gt;Unknown</td></tr><tr><td><i><div class=\"dni-plaintext\">12</div></i></td><td><div class=\"dni-plaintext\">12</div></td><td><div class=\"dni-plaintext\">0.93333334</div></td><td>Unknown=&gt;LightGbmMulti=&gt;Unknown</td></tr><tr><td><i><div class=\"dni-plaintext\">13</div></i></td><td><div class=\"dni-plaintext\">13</div></td><td><div class=\"dni-plaintext\">1</div></td><td>Unknown=&gt;LbfgsMaximumEntropyMulti=&gt;Unknown</td></tr><tr><td><i><div class=\"dni-plaintext\">14</div></i></td><td><div class=\"dni-plaintext\">14</div></td><td><div class=\"dni-plaintext\">0.8</div></td><td>Unknown=&gt;FastForestOva=&gt;Unknown</td></tr><tr><td><i><div class=\"dni-plaintext\">15</div></i></td><td><div class=\"dni-plaintext\">15</div></td><td><div class=\"dni-plaintext\">0.6666667</div></td><td>Unknown=&gt;SdcaLogisticRegressionOva=&gt;Unknown</td></tr><tr><td><i><div class=\"dni-plaintext\">16</div></i></td><td><div class=\"dni-plaintext\">16</div></td><td><div class=\"dni-plaintext\">0.93333334</div></td><td>Unknown=&gt;FastTreeOva=&gt;Unknown</td></tr><tr><td><i><div class=\"dni-plaintext\">17</div></i></td><td><div class=\"dni-plaintext\">17</div></td><td><div class=\"dni-plaintext\">0.6666667</div></td><td>Unknown=&gt;SdcaMaximumEntropyMulti=&gt;Unknown</td></tr><tr><td><i><div class=\"dni-plaintext\">18</div></i></td><td><div class=\"dni-plaintext\">18</div></td><td><div class=\"dni-plaintext\">0.93333334</div></td><td>Unknown=&gt;LbfgsMaximumEntropyMulti=&gt;Unknown</td></tr><tr><td><i><div class=\"dni-plaintext\">19</div></i></td><td><div class=\"dni-plaintext\">19</div></td><td><div class=\"dni-plaintext\">1</div></td><td>Unknown=&gt;LbfgsLogisticRegressionOva=&gt;Unknown</td></tr><tr><td><i><div class=\"dni-plaintext\">20</div></i></td><td><div class=\"dni-plaintext\">20</div></td><td><div class=\"dni-plaintext\">0.8857143</div></td><td>Unknown=&gt;LightGbmMulti=&gt;Unknown</td></tr><tr><td><i><div class=\"dni-plaintext\">21</div></i></td><td><div class=\"dni-plaintext\">21</div></td><td><div class=\"dni-plaintext\">0.71428573</div></td><td>Unknown=&gt;SdcaLogisticRegressionOva=&gt;Unknown</td></tr></tbody></table>"
          },
          "execution_count": 1,
          "metadata": {}
        }
      ]
    },
    {
      "cell_type": "markdown",
      "metadata": {},
      "source": [
        "## Evaluate the model:"
      ]
    },
    {
      "cell_type": "code",
      "execution_count": 1,
      "metadata": {
        "dotnet_interactive": {
          "language": "csharp"
        }
      },
      "source": [
        "// Evaluate the model using the cross validation method\n",
        "// Learn more about cross validation at https://aka.ms/mlnet-cross-validation\n",
        "\n",
        "\n",
        "var testDataPredictions = model.Transform(testData);\n",
        "MulticlassClassificationMetrics trainedModelMetrics = mlContext.MulticlassClassification.Evaluate(testDataPredictions);\n",
        "\n",
        "\n",
        "trainedModelMetrics"
      ],
      "outputs": [
        {
          "output_type": "execute_result",
          "data": {
            "text/html": "<table><thead><tr><th>LogLoss</th><th>LogLossReduction</th><th>MacroAccuracy</th><th>MicroAccuracy</th><th>TopKAccuracy</th><th>TopKPredictionCount</th><th>TopKAccuracyForAllK</th><th>PerClassLogLoss</th><th>ConfusionMatrix</th></tr></thead><tbody><tr><td><div class=\"dni-plaintext\">0.3762630738247702</div></td><td><div class=\"dni-plaintext\">0.6575105906735046</div></td><td><div class=\"dni-plaintext\">0.8666666666666667</div></td><td><div class=\"dni-plaintext\">0.8666666666666667</div></td><td><div class=\"dni-plaintext\">0</div></td><td><div class=\"dni-plaintext\">0</div></td><td><div class=\"dni-plaintext\">&lt;null&gt;</div></td><td><div class=\"dni-plaintext\">[ 0.1716505159342918, 0.539718674602535, 0.4174200309374839 ]</div></td><td><div class=\"dni-plaintext\">{ Microsoft.ML.Data.ConfusionMatrix: PerClassPrecision: [ 1, 0.875, 0.75 ], PerClassRecall: [ 1, 0.7, 0.9 ], Counts: [ [ 10, 0, 0 ], [ 0, 7, 3 ], [ 0, 1, 9 ] ], NumberOfClasses: 3 }</div></td></tr></tbody></table>"
          },
          "execution_count": 1,
          "metadata": {}
        }
      ]
    },
    {
      "cell_type": "markdown",
      "metadata": {},
      "source": [
        "## Consume the model"
      ]
    },
    {
      "cell_type": "code",
      "execution_count": 1,
      "metadata": {
        "dotnet_interactive": {
          "language": "csharp"
        }
      },
      "source": [
        " // Define sample model input\n",
        "var sampleData = new ModelInput()\n",
        "{\n",
        "    Sepal_length = 4.8F,\n",
        "    Sepal_width = 3.4F,\n",
        "    Petal_length = 1.6F,\n",
        "    Petal_width = 0.2F,\n",
        "};\n",
        "\n",
        "// Create a Prediction Engine (used to make single predictions)\n",
        "var predEngine = mlContext.Model.CreatePredictionEngine<ModelInput, ModelOutput>(model);\n",
        "// Use the model and Prediction Engine to predict on new sample data\n",
        "var predictionResult = predEngine.Predict(sampleData);\n",
        "Console.WriteLine(\"Using model to make single prediction -- Comparing actual Label with predicted Label from sample data...\\n\\n\");\n",
        "\n",
        "Console.WriteLine($\"Label: {0F}\");\n",
        "Console.WriteLine($\"Sepal_length: {4.8F}\");\n",
        "Console.WriteLine($\"Sepal_width: {3.4F}\");\n",
        "Console.WriteLine($\"Petal_length: {1.6F}\");\n",
        "Console.WriteLine($\"Petal_width: {0.2F}\");\n",
        "\n",
        "Console.WriteLine($\"\\n\\nPredicted Label: {predictionResult.PredictedLabel}\\n\\n\");"
      ],
      "outputs": [
        {
          "output_type": "execute_result",
          "data": {
            "text/plain": "\n\nPredicted Label: setosa\n\n\r\n"
          },
          "execution_count": 1,
          "metadata": {}
        }
      ]
    }
  ],
  "metadata": {
    "kernelspec": {
      "display_name": ".NET (C#)",
      "language": "C#",
      "name": ".net-csharp"
    },
    "language_info": {
      "file_extension": ".cs",
      "mimetype": "text/x-csharp",
      "name": "C#",
      "pygments_lexer": "csharp",
      "version": "8.0"
    }
  },
  "nbformat": 4,
  "nbformat_minor": 4
}