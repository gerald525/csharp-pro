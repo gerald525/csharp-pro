{
 "cells": [
  {
   "cell_type": "markdown",
   "metadata": {
    "dotnet_interactive": {
     "language": "markdown"
    }
   },
   "source": [
    "You can create your own search space in AutoML.Net. There're two ways to define a search space: via scratch and via attribution. Via scratch gives you more flexibility while via attribution is more readable. And both ways are equivalant.\n",
    "\n",
    "In this notebook, we will go through a series of topics on search space\n",
    "- available options in search space\n",
    "- create search space from scratch && it's equivalant way via attribution api.\n",
    "- default search space for mlnet trainers."
   ]
  },
  {
   "cell_type": "code",
   "execution_count": null,
   "metadata": {
    "dotnet_interactive": {
     "language": "csharp"
    },
    "vscode": {
     "languageId": "dotnet-interactive.csharp"
    }
   },
   "outputs": [
    {
     "data": {
      "text/html": [
       "<div><div><strong>Restore sources</strong><ul><li><span>https://pkgs.dev.azure.com/dnceng/public/_packaging/MachineLearning/nuget/v3/index.json</span></li></ul></div><div></div><div><strong>Installed Packages</strong><ul><li><span>Microsoft.Data.Analysis, 0.20.0-preview.22356.1</span></li><li><span>Microsoft.ML.AutoML, 0.20.0-preview.22356.1</span></li><li><span>Plotly.NET.CSharp, 0.0.1</span></li><li><span>Plotly.NET.Interactive, 3.0.2</span></li></ul></div></div>"
      ]
     },
     "metadata": {},
     "output_type": "display_data"
    },
    {
     "data": {
      "text/markdown": [
       "Loading extensions from `Microsoft.Data.Analysis.Interactive.dll`"
      ]
     },
     "metadata": {},
     "output_type": "display_data"
    },
    {
     "data": {
      "text/markdown": [
       "Loading extensions from `Plotly.NET.Interactive.dll`"
      ]
     },
     "metadata": {},
     "output_type": "display_data"
    },
    {
     "data": {
      "text/markdown": [
       "Loading extensions from `Microsoft.ML.AutoML.Interactive.dll`"
      ]
     },
     "metadata": {},
     "output_type": "display_data"
    }
   ],
   "source": [
    "// install dependencies and import using statement\n",
    "#i \"nuget:https://pkgs.dev.azure.com/dnceng/public/_packaging/MachineLearning/nuget/v3/index.json\"\n",
    "#r \"nuget: Plotly.NET.Interactive, 3.0.2\"\n",
    "#r \"nuget: Plotly.NET.CSharp, 0.0.1\"\n",
    "\n",
    "// make sure you are using Microsoft.ML.AutoML later than 0.20.0.\n",
    "#r \"nuget: Microsoft.ML.AutoML, 0.20.0-preview.22356.1\"\n",
    "#r \"nuget: Microsoft.Data.Analysis, 0.20.0-preview.22356.1\""
   ]
  },
  {
   "cell_type": "code",
   "execution_count": null,
   "metadata": {
    "dotnet_interactive": {
     "language": "csharp"
    },
    "vscode": {
     "languageId": "dotnet-interactive.csharp"
    }
   },
   "outputs": [],
   "source": [
    "// Import usings.\n",
    "using Microsoft.Data.Analysis;\n",
    "using System;\n",
    "using System.IO;\n",
    "using Microsoft.ML;\n",
    "using Microsoft.ML.AutoML;\n",
    "using Microsoft.ML.Data;\n",
    "using Microsoft.ML.SearchSpace;\n",
    "using Newtonsoft.Json;"
   ]
  },
  {
   "cell_type": "markdown",
   "metadata": {
    "dotnet_interactive": {
     "language": "csharp"
    }
   },
   "source": [
    "# Available options in search space.\n",
    "AutoML.Net search space supports multiple options which should be enough to cover most of usage cases. In summary, it supports\n",
    "- numeric option - an option that is numeric type, like float, double, int...\n",
    "- choice option - an option that is descrete, like string or boolean.\n",
    "- nested option - an option that itself is also a search space.\n",
    "\n",
    "Underlying, a search space is no more than a json object, where key is option name and value is its value as another json object. This is also how search space supports nested search space. In general, there's no strong limitation on the type of option as long as it can be saved as json, but in practice, it's better to use primitive type since it's well tested.\n",
    "\n",
    "Once after you create a search space, a n-dimension linear space will be associated with that search space where `n` depends on the # of options and dimension of that option. During hpo, tuner will sample on that n-dimension linear space instead of original options. This feature makes option being transparent to tuner and greatly simplify the implementation of tuner."
   ]
  },
  {
   "cell_type": "markdown",
   "metadata": {},
   "source": [
    "# create search space from scratch\n",
    "The following code shows how to create a search space from scratch and print it out as a json string."
   ]
  },
  {
   "cell_type": "code",
   "execution_count": null,
   "metadata": {
    "dotnet_interactive": {
     "language": "csharp"
    },
    "vscode": {
     "languageId": "dotnet-interactive.csharp"
    }
   },
   "outputs": [
    {
     "name": "stdout",
     "output_type": "stream",
     "text": [
      "search space dimension: 6\r\n"
     ]
    },
    {
     "data": {
      "text/plain": [
       "{\r\n",
       "  \"IntOption\": {\r\n",
       "    \"Min\": -10.0,\r\n",
       "    \"Max\": 10.0,\r\n",
       "    \"LogBase\": false,\r\n",
       "    \"FeatureSpaceDim\": 1,\r\n",
       "    \"Step\": [\r\n",
       "      null\r\n",
       "    ],\r\n",
       "    \"Default\": [\r\n",
       "      0.5\r\n",
       "    ]\r\n",
       "  },\r\n",
       "  \"SingleOption\": {\r\n",
       "    \"Min\": 1.0,\r\n",
       "    \"Max\": 10.0,\r\n",
       "    \"LogBase\": true,\r\n",
       "    \"FeatureSpaceDim\": 1,\r\n",
       "    \"Step\": [\r\n",
       "      null\r\n",
       "    ],\r\n",
       "    \"Default\": [\r\n",
       "      0.0\r\n",
       "    ]\r\n",
       "  },\r\n",
       "  \"DoubleOption\": {\r\n",
       "    \"Min\": -10.0,\r\n",
       "    \"Max\": 10.0,\r\n",
       "    \"LogBase\": false,\r\n",
       "    \"FeatureSpaceDim\": 1,\r\n",
       "    \"Step\": [\r\n",
       "      null\r\n",
       "    ],\r\n",
       "    \"Default\": [\r\n",
       "      0.5\r\n",
       "    ]\r\n",
       "  },\r\n",
       "  \"BoolOption\": {\r\n",
       "    \"Choices\": [\r\n",
       "      false,\r\n",
       "      true\r\n",
       "    ],\r\n",
       "    \"FeatureSpaceDim\": 1,\r\n",
       "    \"Step\": [\r\n",
       "      2\r\n",
       "    ],\r\n",
       "    \"Default\": [\r\n",
       "      0.0\r\n",
       "    ]\r\n",
       "  },\r\n",
       "  \"StrOption\": {\r\n",
       "    \"Choices\": [\r\n",
       "      \"a\",\r\n",
       "      \"b\",\r\n",
       "      \"c\"\r\n",
       "    ],\r\n",
       "    \"FeatureSpaceDim\": 1,\r\n",
       "    \"Step\": [\r\n",
       "      3\r\n",
       "    ],\r\n",
       "    \"Default\": [\r\n",
       "      0.0\r\n",
       "    ]\r\n",
       "  },\r\n",
       "  \"Nest\": {\r\n",
       "    \"IntOption\": {\r\n",
       "      \"Min\": -10.0,\r\n",
       "      \"Max\": 10.0,\r\n",
       "      \"LogBase\": false,\r\n",
       "      \"FeatureSpaceDim\": 1,\r\n",
       "      \"Step\": [\r\n",
       "        null\r\n",
       "      ],\r\n",
       "      \"Default\": [\r\n",
       "        0.5\r\n",
       "      ]\r\n",
       "    }\r\n",
       "  }\r\n",
       "}"
      ]
     },
     "metadata": {},
     "output_type": "display_data"
    }
   ],
   "source": [
    "using Microsoft.ML.SearchSpace.Option;\n",
    "\n",
    "var searchSpace = new SearchSpace();\n",
    "\n",
    "// numeric options\n",
    "searchSpace[\"IntOption\"] = new UniformIntOption(-10, 10, false, 0);\n",
    "searchSpace[\"SingleOption\"] = new UniformSingleOption(1, 10, true, 1);\n",
    "searchSpace[\"DoubleOption\"] = new UniformDoubleOption(-10, 10, false, 0);\n",
    "\n",
    "// choice options\n",
    "searchSpace[\"BoolOption\"] = new ChoiceOption(true, false);\n",
    "searchSpace[\"StrOption\"] = new ChoiceOption(\"a\", \"b\", \"c\");\n",
    "\n",
    "// nest options\n",
    "var nestedSearchSpace = new SearchSpace();\n",
    "nestedSearchSpace[\"IntOption\"] = new UniformIntOption(-10, 10, false, 0);\n",
    "searchSpace[\"Nest\"] = nestedSearchSpace;\n",
    "\n",
    "// check out search space's dimension\n",
    "Console.WriteLine(\"search space dimension: \" + searchSpace.FeatureSpaceDim);\n",
    "// pretty print search space\n",
    "JsonConvert.SerializeObject(searchSpace, Formatting.Indented)"
   ]
  },
  {
   "cell_type": "markdown",
   "metadata": {},
   "source": [
    "# create search space from attribution\n",
    "AutoML allows you to use attribution on property to avoid creating search space from scratch. The following code shows how to create an identical search space from above except using attribution API"
   ]
  },
  {
   "cell_type": "code",
   "execution_count": null,
   "metadata": {
    "dotnet_interactive": {
     "language": "csharp"
    },
    "vscode": {
     "languageId": "dotnet-interactive.csharp"
    }
   },
   "outputs": [
    {
     "name": "stdout",
     "output_type": "stream",
     "text": [
      "search space dimension: 6\r\n"
     ]
    },
    {
     "data": {
      "text/plain": [
       "{\r\n",
       "  \"IntOption\": {\r\n",
       "    \"Min\": -10.0,\r\n",
       "    \"Max\": 10.0,\r\n",
       "    \"LogBase\": false,\r\n",
       "    \"FeatureSpaceDim\": 1,\r\n",
       "    \"Step\": [\r\n",
       "      null\r\n",
       "    ],\r\n",
       "    \"Default\": [\r\n",
       "      0.5\r\n",
       "    ]\r\n",
       "  },\r\n",
       "  \"SingleOption\": {\r\n",
       "    \"Min\": 1.0,\r\n",
       "    \"Max\": 10.0,\r\n",
       "    \"LogBase\": true,\r\n",
       "    \"FeatureSpaceDim\": 1,\r\n",
       "    \"Step\": [\r\n",
       "      null\r\n",
       "    ],\r\n",
       "    \"Default\": [\r\n",
       "      0.0\r\n",
       "    ]\r\n",
       "  },\r\n",
       "  \"DoubleOption\": {\r\n",
       "    \"Min\": -10.0,\r\n",
       "    \"Max\": 10.0,\r\n",
       "    \"LogBase\": false,\r\n",
       "    \"FeatureSpaceDim\": 1,\r\n",
       "    \"Step\": [\r\n",
       "      null\r\n",
       "    ],\r\n",
       "    \"Default\": [\r\n",
       "      0.0\r\n",
       "    ]\r\n",
       "  },\r\n",
       "  \"BoolOption\": {\r\n",
       "    \"Choices\": [\r\n",
       "      false,\r\n",
       "      true\r\n",
       "    ],\r\n",
       "    \"FeatureSpaceDim\": 1,\r\n",
       "    \"Step\": [\r\n",
       "      2\r\n",
       "    ],\r\n",
       "    \"Default\": [\r\n",
       "      0.0\r\n",
       "    ]\r\n",
       "  },\r\n",
       "  \"StrOption\": {\r\n",
       "    \"Choices\": [\r\n",
       "      \"a\",\r\n",
       "      \"b\",\r\n",
       "      \"c\"\r\n",
       "    ],\r\n",
       "    \"FeatureSpaceDim\": 1,\r\n",
       "    \"Step\": [\r\n",
       "      3\r\n",
       "    ],\r\n",
       "    \"Default\": [\r\n",
       "      0.0\r\n",
       "    ]\r\n",
       "  },\r\n",
       "  \"Nest\": {\r\n",
       "    \"IntOption\": {\r\n",
       "      \"Min\": -10.0,\r\n",
       "      \"Max\": 10.0,\r\n",
       "      \"LogBase\": false,\r\n",
       "      \"FeatureSpaceDim\": 1,\r\n",
       "      \"Step\": [\r\n",
       "        null\r\n",
       "      ],\r\n",
       "      \"Default\": [\r\n",
       "        0.5\r\n",
       "      ]\r\n",
       "    }\r\n",
       "  }\r\n",
       "}"
      ]
     },
     "metadata": {},
     "output_type": "display_data"
    }
   ],
   "source": [
    "public class MyParameter\n",
    "{\n",
    "    [Range((int)-10, 10, 0, false)]\n",
    "    public int IntOption {get; set;}\n",
    "\n",
    "    [Range(1f, 10f, 1f, true)]\n",
    "    public float SingleOption {get; set;}\n",
    "\n",
    "    [Range(-10, 10, false)]\n",
    "    public double DoubleOption {get; set;}\n",
    "\n",
    "    [BooleanChoice]\n",
    "    public bool BoolOption {get; set;}\n",
    "\n",
    "    [Choice(\"a\", \"b\", \"c\")]\n",
    "    public string StrOption {get; set;}\n",
    "\n",
    "    [NestOption]\n",
    "    public NestParameter Nest {get; set;}\n",
    "}\n",
    "\n",
    "public class NestParameter\n",
    "{\n",
    "    [Range((int)-10, 10, 0, false)]\n",
    "    public int IntOption {get; set;}\n",
    "}\n",
    "\n",
    "var searchSpace = new SearchSpace<MyParameter>();\n",
    "\n",
    "// check out search space's dimension\n",
    "Console.WriteLine(\"search space dimension: \" + searchSpace.FeatureSpaceDim);\n",
    "// pretty print search space\n",
    "JsonConvert.SerializeObject(searchSpace, Formatting.Indented)"
   ]
  },
  {
   "cell_type": "markdown",
   "metadata": {},
   "source": [
    "# Sampling from search space\n",
    "In HPO, what tuner does is basically sampling from search space, and pass the sampling result, a.k.a `parameter`, to trial runner. The way of how parameter sampled is what make tuners different from each other and is critial to the final optimizing result. The common tunning algorithems are random search, grid search, smac, eci-cfo and many others.\n",
    "\n",
    "The following example shows how to sample from the given search space using random search, which sampling from the linear space and mapping it back to the original options."
   ]
  },
  {
   "cell_type": "code",
   "execution_count": null,
   "metadata": {
    "dotnet_interactive": {
     "language": "csharp"
    },
    "vscode": {
     "languageId": "dotnet-interactive.csharp"
    }
   },
   "outputs": [
    {
     "name": "stdout",
     "output_type": "stream",
     "text": [
      "0 - {\"IntOption\":9,\"SingleOption\":7.392224,\"DoubleOption\":0.0,\"BoolOption\":true,\"StrOption\":\"b\",\"Nest\":{\"IntOption\":3}}\r\n",
      "0 - {\"IntOption\":9,\"SingleOption\":7.392224,\"DoubleOption\":0.0,\"BoolOption\":false,\"StrOption\":\"b\",\"Nest\":{\"IntOption\":3}}\r\n",
      "1 - {\"IntOption\":-6,\"SingleOption\":3.4464028,\"DoubleOption\":-7.0,\"BoolOption\":false,\"StrOption\":\"a\",\"Nest\":{\"IntOption\":-5}}\r\n",
      "1 - {\"IntOption\":-6,\"SingleOption\":3.4464028,\"DoubleOption\":-7.0,\"BoolOption\":false,\"StrOption\":\"a\",\"Nest\":{\"IntOption\":-5}}\r\n",
      "2 - {\"IntOption\":-9,\"SingleOption\":8.262646,\"DoubleOption\":-7.0,\"BoolOption\":true,\"StrOption\":\"c\",\"Nest\":{\"IntOption\":2}}\r\n",
      "2 - {\"IntOption\":-9,\"SingleOption\":8.262646,\"DoubleOption\":-7.0,\"BoolOption\":false,\"StrOption\":\"c\",\"Nest\":{\"IntOption\":2}}\r\n"
     ]
    }
   ],
   "source": [
    "var rnd = new Random();\n",
    "SearchSpace searchSpace = new SearchSpace<MyParameter>();\n",
    "\n",
    "foreach(var i in Enumerable.Range(0, 3))\n",
    "{\n",
    "    var dim = searchSpace.FeatureSpaceDim;\n",
    "    var featureVector = Enumerable.Range(0, dim).Select(x => rnd.NextDouble()).ToArray();\n",
    "    var parameter = searchSpace.SampleFromFeatureSpace(featureVector);\n",
    "\n",
    "    // use Parameter.AsType to map parameter to a concrete type.\n",
    "    var myParameter = parameter.AsType<MyParameter>();\n",
    "    var json = JsonConvert.SerializeObject(myParameter);\n",
    "\n",
    "    Console.WriteLine($\"{i} - {json}\");\n",
    "\n",
    "    // equivalant to\n",
    "    var intOption = parameter[\"IntOption\"].AsType<int>();\n",
    "    var singleOption = parameter[\"SingleOption\"].AsType<float>();\n",
    "    var doubleOption = parameter[\"DoubleOption\"].AsType<double>();\n",
    "    var strOption = parameter[\"StrOption\"].AsType<string>();\n",
    "    var nest = parameter[\"Nest\"].AsType<NestParameter>();\n",
    "\n",
    "    myParameter = new MyParameter()\n",
    "    {\n",
    "        IntOption = intOption,\n",
    "        SingleOption = singleOption,\n",
    "        DoubleOption = doubleOption,\n",
    "        StrOption = strOption,\n",
    "        Nest = nest,\n",
    "    };\n",
    "    json = JsonConvert.SerializeObject(myParameter);\n",
    "\n",
    "    Console.WriteLine($\"{i} - {json}\");\n",
    "}"
   ]
  },
  {
   "cell_type": "markdown",
   "metadata": {},
   "source": [
    "# Default search space for ml.net trainer\n",
    "AutoML.Net comes with a series of default search space for most of ml.net trainers. You can check it under `Microsoft.ML.AutoML.CodeGen` namespace. The following code shows the default search space for LightGbm."
   ]
  },
  {
   "cell_type": "code",
   "execution_count": null,
   "metadata": {
    "dotnet_interactive": {
     "language": "csharp"
    },
    "vscode": {
     "languageId": "dotnet-interactive.csharp"
    }
   },
   "outputs": [],
   "source": [
    "using Microsoft.ML.AutoML.CodeGen;\n",
    "var lgbmSearchSpace = new SearchSpace<LgbmOption>();\n",
    "JsonConvert.SerializeObject(lgbmSearchSpace, Formatting.Indented)"
   ]
  },
  {
   "cell_type": "markdown",
   "metadata": {},
   "source": [
    "# Continue learning\n",
    "> E2E-Forecasting using SSA with Luna Dataset (create `SweepableEstimator` with custom search space)"
   ]
  }
 ],
 "metadata": {
  "kernelspec": {
   "display_name": ".NET (C#)",
   "language": "C#",
   "name": ".net-csharp"
  },
  "language_info": {
   "file_extension": ".cs",
   "mimetype": "text/x-csharp",
   "name": "C#",
   "pygments_lexer": "csharp",
   "version": "9.0"
  },
  "orig_nbformat": 4
 },
 "nbformat": 4,
 "nbformat_minor": 2
}
