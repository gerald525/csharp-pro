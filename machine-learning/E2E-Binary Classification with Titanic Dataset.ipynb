{
  "cells": [
    {
      "cell_type": "markdown",
      "metadata": {},
      "source": [
        "## Titanic tutorial using proposed AutoML API\n",
        "### Disclaimer: This is for demo and private preview purposes only.\n",
        "### Disclaimer: This notebook uses features that may be broken or unsupported at any time.\n",
        "\n",
        "This notebook shows how to anticipate the [well-known titanic competition](https://www.kaggle.com/c/titanic) on kaggle using ml.net. In this notebook, you will learn how to\n",
        "- Create pipeline for titanic\n",
        "- Use AutoML API to run hyper-parameter optimization on that pipeline and get the best model\n",
        "- Predict using the best model, and save predicting result to csv for submission"
      ]
    },
    {
      "cell_type": "markdown",
      "metadata": {},
      "source": [
        "## Install NuGet packages for training ML.NET models and plotting:"
      ]
    },
    {
      "cell_type": "code",
      "execution_count": null,
      "metadata": {
        "dotnet_interactive": {
          "language": "csharp"
        },
        "vscode": {
          "languageId": "dotnet-interactive.csharp"
        }
      },
      "outputs": [
        {
          "data": {
            "text/html": [
              "<div><div><strong>Restore sources</strong><ul><li><span>https://mlnetcli.blob.core.windows.net/mlnetcli/index.json</span></li><li><span>https://pkgs.dev.azure.com/dnceng/public/_packaging/dotnet-tools/nuget/v3/index.json</span></li><li><span>https://pkgs.dev.azure.com/dnceng/public/_packaging/dotnet5/nuget/v3/index.json</span></li><li><span>https://pkgs.dev.azure.com/dnceng/public/_packaging/MachineLearning/nuget/v3/index.json</span></li></ul></div><div></div><div><strong>Installed Packages</strong><ul><li><span>Microsoft.Data.Analysis, 0.20.0-preview.22226.2</span></li><li><span>Microsoft.ML.AutoML, 0.20.0-preview.22226.2</span></li><li><span>MLNetAutoML.InteractiveExtension, 0.1.1</span></li><li><span>XPlot.Plotly.Interactive, 4.0.6</span></li></ul></div></div>"
            ]
          },
          "metadata": {},
          "output_type": "display_data"
        },
        {
          "data": {
            "text/markdown": [
              "Loading extensions from `XPlot.Plotly.Interactive.dll`"
            ]
          },
          "metadata": {},
          "output_type": "display_data"
        },
        {
          "data": {
            "text/markdown": [
              "Configuring PowerShell Kernel for XPlot.Plotly integration."
            ]
          },
          "metadata": {},
          "output_type": "display_data"
        },
        {
          "data": {
            "text/markdown": [
              "Installed support for XPlot.Plotly."
            ]
          },
          "metadata": {},
          "output_type": "display_data"
        },
        {
          "data": {
            "text/markdown": [
              "Loading extensions from `Microsoft.Data.Analysis.Interactive.dll`"
            ]
          },
          "metadata": {},
          "output_type": "display_data"
        },
        {
          "data": {
            "text/markdown": [
              "Loading extensions from `MLNetAutoML.InteractiveExtension.dll`"
            ]
          },
          "metadata": {},
          "output_type": "display_data"
        }
      ],
      "source": [
        "#i \"nuget:https://pkgs.dev.azure.com/dnceng/public/_packaging/dotnet5/nuget/v3/index.json\" \n",
        "#i \"nuget:https://pkgs.dev.azure.com/dnceng/public/_packaging/dotnet-tools/nuget/v3/index.json\"\n",
        "#i \"nuget:https://mlnetcli.blob.core.windows.net/mlnetcli/index.json\"\n",
        "\n",
        "// add nightly build for ml.net\n",
        "#i \"nuget:https://pkgs.dev.azure.com/dnceng/public/_packaging/MachineLearning/nuget/v3/index.json\"\n",
        "\n",
        "#r \"nuget:MLNetAutoML.InteractiveExtension,0.1.1\"\n",
        "#r \"nuget:XPlot.Plotly.Interactive,4.0.6\"\n",
        "#r \"nuget:Microsoft.ML.AutoML,0.20.0-preview.22226.2\"\n",
        "#r \"nuget:Microsoft.Data.Analysis,0.20.0-preview.22226.2\""
      ]
    },
    {
      "cell_type": "markdown",
      "metadata": {},
      "source": [
        "## Import packages"
      ]
    },
    {
      "cell_type": "code",
      "execution_count": null,
      "metadata": {
        "dotnet_interactive": {
          "language": "csharp"
        },
        "vscode": {
          "languageId": "dotnet-interactive.csharp"
        }
      },
      "outputs": [],
      "source": [
        "// Import usings.\n",
        "using Microsoft.Data.Analysis;\n",
        "using System;\n",
        "using System.IO;\n",
        "using Microsoft.ML;\n",
        "using Microsoft.ML.AutoML;\n",
        "using Microsoft.ML.Data;\n",
        "using MLNetAutoML.InteractiveExtension;"
      ]
    },
    {
      "cell_type": "markdown",
      "metadata": {},
      "source": [
        "## Load Dataset\n",
        "The dataset comes from [kaggle titanic](https://www.kaggle.com/competitions/titanic/data) and is splitted into __train.csv__ and __test.csv__. __train.csv__ includes feature columns like `Sex`, `Pclass`, etc.. and also ground truth label for us to train a model while __test.csv__ only contains feature columns.\n",
        "\n",
        "In the following section, we are going to load and split __train.csv__ into training and validation set using `DataFrame` api, and preview the first 10 line of it."
      ]
    },
    {
      "cell_type": "code",
      "execution_count": null,
      "metadata": {
        "dotnet_interactive": {
          "language": "csharp"
        },
        "vscode": {
          "languageId": "dotnet-interactive.csharp"
        }
      },
      "outputs": [
        {
          "data": {
            "text/html": [
              "<table id=\"table_637890907336007951\"><thead><tr><th><i>index</i></th><th>PassengerId</th><th>Survived</th><th>Pclass</th><th>Name</th><th>Sex</th><th>Age</th><th>SibSp</th><th>Parch</th><th>Ticket</th><th>Fare</th><th>Cabin</th><th>Embarked</th></tr></thead><tbody><tr><td><i><div class=\"dni-plaintext\">0</div></i></td><td><div class=\"dni-plaintext\">1</div></td><td><div class=\"dni-plaintext\">0</div></td><td><div class=\"dni-plaintext\">3</div></td><td>Braund, Mr. Owen Harris</td><td>male</td><td><div class=\"dni-plaintext\">22</div></td><td><div class=\"dni-plaintext\">1</div></td><td><div class=\"dni-plaintext\">0</div></td><td>A/5 21171</td><td><div class=\"dni-plaintext\">7.25</div></td><td></td><td>S</td></tr><tr><td><i><div class=\"dni-plaintext\">1</div></i></td><td><div class=\"dni-plaintext\">2</div></td><td><div class=\"dni-plaintext\">1</div></td><td><div class=\"dni-plaintext\">1</div></td><td>Cumings, Mrs. John Bradley (Florence Briggs Thayer)</td><td>female</td><td><div class=\"dni-plaintext\">38</div></td><td><div class=\"dni-plaintext\">1</div></td><td><div class=\"dni-plaintext\">0</div></td><td>PC 17599</td><td><div class=\"dni-plaintext\">71.2833</div></td><td>C85</td><td>C</td></tr><tr><td><i><div class=\"dni-plaintext\">2</div></i></td><td><div class=\"dni-plaintext\">3</div></td><td><div class=\"dni-plaintext\">1</div></td><td><div class=\"dni-plaintext\">3</div></td><td>Heikkinen, Miss. Laina</td><td>female</td><td><div class=\"dni-plaintext\">26</div></td><td><div class=\"dni-plaintext\">0</div></td><td><div class=\"dni-plaintext\">0</div></td><td>STON/O2. 3101282</td><td><div class=\"dni-plaintext\">7.925</div></td><td></td><td>S</td></tr><tr><td><i><div class=\"dni-plaintext\">3</div></i></td><td><div class=\"dni-plaintext\">4</div></td><td><div class=\"dni-plaintext\">1</div></td><td><div class=\"dni-plaintext\">1</div></td><td>Futrelle, Mrs. Jacques Heath (Lily May Peel)</td><td>female</td><td><div class=\"dni-plaintext\">35</div></td><td><div class=\"dni-plaintext\">1</div></td><td><div class=\"dni-plaintext\">0</div></td><td>113803</td><td><div class=\"dni-plaintext\">53.1</div></td><td>C123</td><td>S</td></tr><tr><td><i><div class=\"dni-plaintext\">4</div></i></td><td><div class=\"dni-plaintext\">5</div></td><td><div class=\"dni-plaintext\">0</div></td><td><div class=\"dni-plaintext\">3</div></td><td>Allen, Mr. William Henry</td><td>male</td><td><div class=\"dni-plaintext\">35</div></td><td><div class=\"dni-plaintext\">0</div></td><td><div class=\"dni-plaintext\">0</div></td><td>373450</td><td><div class=\"dni-plaintext\">8.05</div></td><td></td><td>S</td></tr><tr><td><i><div class=\"dni-plaintext\">5</div></i></td><td><div class=\"dni-plaintext\">6</div></td><td><div class=\"dni-plaintext\">0</div></td><td><div class=\"dni-plaintext\">3</div></td><td>Moran, Mr. James</td><td>male</td><td><div class=\"dni-plaintext\">&lt;null&gt;</div></td><td><div class=\"dni-plaintext\">0</div></td><td><div class=\"dni-plaintext\">0</div></td><td>330877</td><td><div class=\"dni-plaintext\">8.4583</div></td><td></td><td>Q</td></tr><tr><td><i><div class=\"dni-plaintext\">6</div></i></td><td><div class=\"dni-plaintext\">7</div></td><td><div class=\"dni-plaintext\">0</div></td><td><div class=\"dni-plaintext\">1</div></td><td>McCarthy, Mr. Timothy J</td><td>male</td><td><div class=\"dni-plaintext\">54</div></td><td><div class=\"dni-plaintext\">0</div></td><td><div class=\"dni-plaintext\">0</div></td><td>17463</td><td><div class=\"dni-plaintext\">51.8625</div></td><td>E46</td><td>S</td></tr><tr><td><i><div class=\"dni-plaintext\">7</div></i></td><td><div class=\"dni-plaintext\">8</div></td><td><div class=\"dni-plaintext\">0</div></td><td><div class=\"dni-plaintext\">3</div></td><td>Palsson, Master. Gosta Leonard</td><td>male</td><td><div class=\"dni-plaintext\">2</div></td><td><div class=\"dni-plaintext\">3</div></td><td><div class=\"dni-plaintext\">1</div></td><td>349909</td><td><div class=\"dni-plaintext\">21.075</div></td><td></td><td>S</td></tr><tr><td><i><div class=\"dni-plaintext\">8</div></i></td><td><div class=\"dni-plaintext\">9</div></td><td><div class=\"dni-plaintext\">1</div></td><td><div class=\"dni-plaintext\">3</div></td><td>Johnson, Mrs. Oscar W (Elisabeth Vilhelmina Berg)</td><td>female</td><td><div class=\"dni-plaintext\">27</div></td><td><div class=\"dni-plaintext\">0</div></td><td><div class=\"dni-plaintext\">2</div></td><td>347742</td><td><div class=\"dni-plaintext\">11.1333</div></td><td></td><td>S</td></tr><tr><td><i><div class=\"dni-plaintext\">9</div></i></td><td><div class=\"dni-plaintext\">10</div></td><td><div class=\"dni-plaintext\">1</div></td><td><div class=\"dni-plaintext\">2</div></td><td>Nasser, Mrs. Nicholas (Adele Achem)</td><td>female</td><td><div class=\"dni-plaintext\">14</div></td><td><div class=\"dni-plaintext\">1</div></td><td><div class=\"dni-plaintext\">0</div></td><td>237736</td><td><div class=\"dni-plaintext\">30.0708</div></td><td></td><td>C</td></tr></tbody></table>"
            ]
          },
          "metadata": {},
          "output_type": "display_data"
        }
      ],
      "source": [
        "var context = new MLContext();\n",
        "\n",
        "//Load File\n",
        "var trainDataPath = Path.Combine(Directory.GetCurrentDirectory(), \"data\", \"titanic\", \"train.csv\");\n",
        "var df = DataFrame.LoadCsv(trainDataPath);\n",
        "\n",
        "var trainTestSplit = context.Data.TrainTestSplit(df, 0.1);\n",
        "df.Head(10)"
      ]
    },
    {
      "cell_type": "markdown",
      "metadata": {},
      "source": [
        "### Construct training pipeline\n",
        "The following code shows how to construct sweepable pipeline with default binary classifiers and search space for hyper-parameter optimization. The sweepable pipeline comes with featurize pipeline first, which transfers columns into a single feature and then fed into binary classifiers."
      ]
    },
    {
      "cell_type": "code",
      "execution_count": null,
      "metadata": {
        "dotnet_interactive": {
          "language": "csharp"
        },
        "vscode": {
          "languageId": "dotnet-interactive.csharp"
        }
      },
      "outputs": [],
      "source": [
        "var pipeline = context.Transforms.Categorical.OneHotEncoding(new[] { new InputOutputColumnPair(@\"Sex\", @\"Sex\"), new InputOutputColumnPair(@\"Embarked\", @\"Embarked\") })\n",
        "                           .Append(context.Transforms.ReplaceMissingValues(new[] { new InputOutputColumnPair(@\"Pclass\", @\"Pclass\"), new InputOutputColumnPair(@\"Age\", @\"Age\"), new InputOutputColumnPair(@\"SibSp\", @\"SibSp\"), new InputOutputColumnPair(@\"Parch\", @\"Parch\"), new InputOutputColumnPair(@\"Fare\", @\"Fare\") }))\n",
        "                           .Append(context.Transforms.Concatenate(@\"TextFeature\", @\"Name\", \"Ticket\", \"Cabin\"))\n",
        "                           .Append(context.Transforms.Text.FeaturizeText(\"TextFeature\", \"TextFeature\"))\n",
        "                           .Append(context.Transforms.Concatenate(@\"Features\", new[] { @\"Sex\", @\"Embarked\", @\"Pclass\", @\"Age\", @\"SibSp\", @\"Parch\", @\"Fare\", \"TextFeature\" }))\n",
        "                           .Append(context.Transforms.Conversion.ConvertType(\"Survived\", \"Survived\", DataKind.Boolean))\n",
        "\t\t\t\t\t\t   .Append(context.Auto().BinaryClassification(labelColumnName: \"Survived\", useFastForest: false));\n"
      ]
    },
    {
      "cell_type": "markdown",
      "metadata": {},
      "source": [
        "### Run Hyper-parameter optimization using AutoMLExperiment\n",
        "The following code shows how to use `AutoMLExperiment` to sweep over the sweepable pipeline created before and optimizing for the best parameters. During the 50 seconds training time budget, it will train model on `trainTestSplit.TrainSet`, and evaluate model with `trainTestSplit.TestSet` using `Accuracy` metric. While training, the `NotebookMonitor` helps organize the experiment output and plotting it in output panel. "
      ]
    },
    {
      "cell_type": "code",
      "execution_count": null,
      "metadata": {
        "dotnet_interactive": {
          "language": "csharp"
        },
        "vscode": {
          "languageId": "dotnet-interactive.csharp"
        }
      },
      "outputs": [
        {
          "data": {
            "text/html": [
              "<div><h3>Best Run</h3><p>Trial: 8</p><p>Pipeline: Unknown=&gt;FastTreeBinary</p><h3>Active Run</h3><p>Trial: 20</p><p>Pipeline: Unknown=&gt;FastTreeBinary</p><p>Parameters: {\r\n",
              "  &quot;0&quot;: {},\r\n",
              "  &quot;1&quot;: {\r\n",
              "    &quot;NumberOfLeaves&quot;: 16,\r\n",
              "    &quot;MinimumExampleCountPerLeaf&quot;: 17,\r\n",
              "    &quot;NumberOfTrees&quot;: 4,\r\n",
              "    &quot;MaximumBinCountPerFeature&quot;: 438,\r\n",
              "    &quot;FeatureFraction&quot;: 0.99999999,\r\n",
              "    &quot;LearningRate&quot;: 0.027302295510122126,\r\n",
              "    &quot;LabelColumnName&quot;: &quot;Survived&quot;,\r\n",
              "    &quot;FeatureColumnName&quot;: &quot;Features&quot;\r\n",
              "  }\r\n",
              "}</p></div><!DOCTYPE html>\r\n",
              "<div style=\"width: 500px; height: 500px;\" id=\"57b82992-1cbe-4649-a466-bcb88ca2786f\"></div><script type=\"text/javascript\">\r\n",
              "\n",
              "var renderPlotly = function() {\n",
              "    var xplotRequire = require.config({context:'xplot-3.0.1',paths:{plotly:'https://cdn.plot.ly/plotly-1.49.2.min'}}) || require;\n",
              "    xplotRequire(['plotly'], function(Plotly) { \r\n",
              "\n",
              "            var data = [{\"type\":\"scatter\",\"x\":[0,1,2,3,4,5,6,7,8,9,10,11,12,13,14,15,16,17,18,19],\"y\":[0.6794871794871795,0.7564102564102564,0.8205128205128205,0.8205128205128205,0.8205128205128205,0.7948717948717948,0.6794871794871795,0.8076923076923077,0.8333333333333334,0.7564102564102564,0.782051282051282,0.8076923076923077,0.7692307692307693,0.782051282051282,0.8205128205128205,0.7564102564102564,0.8205128205128205,0.8205128205128205,0.6794871794871795,0.8205128205128205],\"mode\":\"markers\"}];\n",
              "           var layout = {\"title\":\"Plot metrics over trials.\",\"showlegend\":false,\"xaxis\":{\"title\":\"Trial\",\"_isSubplotObj\":true},\"yaxis\":{\"title\":\"Metric\",\"_isSubplotObj\":true}};\n",
              "           Plotly.newPlot('57b82992-1cbe-4649-a466-bcb88ca2786f', data, layout);\n",
              "        \r\n",
              "});\n",
              "};\r\n",
              "// ensure `require` is available globally\r\n",
              "if ((typeof(require) !==  typeof(Function)) || (typeof(require.config) !== typeof(Function))) {\r\n",
              "    let require_script = document.createElement('script');\r\n",
              "    require_script.setAttribute('src', 'https://cdnjs.cloudflare.com/ajax/libs/require.js/2.3.6/require.min.js');\r\n",
              "    require_script.setAttribute('type', 'text/javascript');\r\n",
              "    \r\n",
              "    \r\n",
              "    require_script.onload = function() {\r\n",
              "        renderPlotly();\r\n",
              "    };\r\n",
              "\r\n",
              "    document.getElementsByTagName('head')[0].appendChild(require_script);\r\n",
              "}\r\n",
              "else {\r\n",
              "    renderPlotly();\r\n",
              "}\r\n",
              "\r\n",
              "</script>\r\n",
              "<table id=\"table_637890907846979194\"><thead><tr><th><i>index</i></th><th>Trial</th><th>Metric</th><th>Pipeline</th></tr></thead><tbody><tr><td><i><div class=\"dni-plaintext\">0</div></i></td><td><div class=\"dni-plaintext\">0</div></td><td><div class=\"dni-plaintext\">0.67948717</div></td><td>Unknown=&gt;SdcaLogisticRegressionBinary</td></tr><tr><td><i><div class=\"dni-plaintext\">1</div></i></td><td><div class=\"dni-plaintext\">1</div></td><td><div class=\"dni-plaintext\">0.75641024</div></td><td>Unknown=&gt;SdcaLogisticRegressionBinary</td></tr><tr><td><i><div class=\"dni-plaintext\">2</div></i></td><td><div class=\"dni-plaintext\">2</div></td><td><div class=\"dni-plaintext\">0.82051283</div></td><td>Unknown=&gt;LbfgsLogisticRegressionBinary</td></tr><tr><td><i><div class=\"dni-plaintext\">3</div></i></td><td><div class=\"dni-plaintext\">3</div></td><td><div class=\"dni-plaintext\">0.82051283</div></td><td>Unknown=&gt;LightGbmBinary</td></tr><tr><td><i><div class=\"dni-plaintext\">4</div></i></td><td><div class=\"dni-plaintext\">4</div></td><td><div class=\"dni-plaintext\">0.82051283</div></td><td>Unknown=&gt;FastTreeBinary</td></tr><tr><td><i><div class=\"dni-plaintext\">5</div></i></td><td><div class=\"dni-plaintext\">5</div></td><td><div class=\"dni-plaintext\">0.7948718</div></td><td>Unknown=&gt;LbfgsLogisticRegressionBinary</td></tr><tr><td><i><div class=\"dni-plaintext\">6</div></i></td><td><div class=\"dni-plaintext\">6</div></td><td><div class=\"dni-plaintext\">0.67948717</div></td><td>Unknown=&gt;SdcaLogisticRegressionBinary</td></tr><tr><td><i><div class=\"dni-plaintext\">7</div></i></td><td><div class=\"dni-plaintext\">7</div></td><td><div class=\"dni-plaintext\">0.8076923</div></td><td>Unknown=&gt;LbfgsLogisticRegressionBinary</td></tr><tr><td><i><div class=\"dni-plaintext\">8</div></i></td><td><div class=\"dni-plaintext\">8</div></td><td><div class=\"dni-plaintext\">0.8333333</div></td><td>Unknown=&gt;FastTreeBinary</td></tr><tr><td><i><div class=\"dni-plaintext\">9</div></i></td><td><div class=\"dni-plaintext\">9</div></td><td><div class=\"dni-plaintext\">0.75641024</div></td><td>Unknown=&gt;SdcaLogisticRegressionBinary</td></tr><tr><td><i><div class=\"dni-plaintext\">10</div></i></td><td><div class=\"dni-plaintext\">10</div></td><td><div class=\"dni-plaintext\">0.78205127</div></td><td>Unknown=&gt;LightGbmBinary</td></tr><tr><td><i><div class=\"dni-plaintext\">11</div></i></td><td><div class=\"dni-plaintext\">11</div></td><td><div class=\"dni-plaintext\">0.8076923</div></td><td>Unknown=&gt;FastTreeBinary</td></tr><tr><td><i><div class=\"dni-plaintext\">12</div></i></td><td><div class=\"dni-plaintext\">12</div></td><td><div class=\"dni-plaintext\">0.7692308</div></td><td>Unknown=&gt;LbfgsLogisticRegressionBinary</td></tr><tr><td><i><div class=\"dni-plaintext\">13</div></i></td><td><div class=\"dni-plaintext\">13</div></td><td><div class=\"dni-plaintext\">0.78205127</div></td><td>Unknown=&gt;SdcaLogisticRegressionBinary</td></tr><tr><td><i><div class=\"dni-plaintext\">14</div></i></td><td><div class=\"dni-plaintext\">14</div></td><td><div class=\"dni-plaintext\">0.82051283</div></td><td>Unknown=&gt;LightGbmBinary</td></tr><tr><td><i><div class=\"dni-plaintext\">15</div></i></td><td><div class=\"dni-plaintext\">15</div></td><td><div class=\"dni-plaintext\">0.75641024</div></td><td>Unknown=&gt;SdcaLogisticRegressionBinary</td></tr><tr><td><i><div class=\"dni-plaintext\">16</div></i></td><td><div class=\"dni-plaintext\">16</div></td><td><div class=\"dni-plaintext\">0.82051283</div></td><td>Unknown=&gt;FastTreeBinary</td></tr><tr><td><i><div class=\"dni-plaintext\">17</div></i></td><td><div class=\"dni-plaintext\">17</div></td><td><div class=\"dni-plaintext\">0.82051283</div></td><td>Unknown=&gt;LbfgsLogisticRegressionBinary</td></tr><tr><td><i><div class=\"dni-plaintext\">18</div></i></td><td><div class=\"dni-plaintext\">18</div></td><td><div class=\"dni-plaintext\">0.67948717</div></td><td>Unknown=&gt;SdcaLogisticRegressionBinary</td></tr><tr><td><i><div class=\"dni-plaintext\">19</div></i></td><td><div class=\"dni-plaintext\">19</div></td><td><div class=\"dni-plaintext\">0.82051283</div></td><td>Unknown=&gt;LightGbmBinary</td></tr></tbody></table>"
            ]
          },
          "metadata": {},
          "output_type": "display_data"
        }
      ],
      "source": [
        "// Configure AutoML\n",
        "var monitor = new NotebookMonitor();\n",
        "\n",
        "var experiment = context.Auto().CreateExperiment()\n",
        "                    .SetPipeline(pipeline)\n",
        "                    .SetTrainingTimeInSeconds(50)\n",
        "                    .SetDataset(trainTestSplit.TrainSet, trainTestSplit.TestSet)\n",
        "                    .SetEvaluateMetric(BinaryClassificationMetric.Accuracy, \"Survived\", \"PredictedLabel\")\n",
        "                    .SetMonitor(monitor);\n",
        "\n",
        "// Configure Visualizer\t\t\t\n",
        "monitor.SetUpdate(monitor.Display());\n",
        "\n",
        "// Start Experiment\n",
        "var res = await experiment.Run();"
      ]
    },
    {
      "cell_type": "markdown",
      "metadata": {},
      "source": [
        "## Predicting result from __test.csv__ and write it to csv for submission\n",
        "The following code shows how to consume the best model from previous AutoMLExperiment, generating predicting result and save it to csv."
      ]
    },
    {
      "cell_type": "code",
      "execution_count": null,
      "metadata": {
        "dotnet_interactive": {
          "language": "csharp"
        },
        "vscode": {
          "languageId": "dotnet-interactive.csharp"
        }
      },
      "outputs": [
        {
          "data": {
            "text/html": [
              "<table id=\"table_637890907852759395\"><thead><tr><th><i>index</i></th><th>PassengerId</th><th>Survived</th></tr></thead><tbody><tr><td><i><div class=\"dni-plaintext\">0</div></i></td><td><div class=\"dni-plaintext\">892</div></td><td><div class=\"dni-plaintext\">0</div></td></tr><tr><td><i><div class=\"dni-plaintext\">1</div></i></td><td><div class=\"dni-plaintext\">893</div></td><td><div class=\"dni-plaintext\">1</div></td></tr><tr><td><i><div class=\"dni-plaintext\">2</div></i></td><td><div class=\"dni-plaintext\">894</div></td><td><div class=\"dni-plaintext\">0</div></td></tr><tr><td><i><div class=\"dni-plaintext\">3</div></i></td><td><div class=\"dni-plaintext\">895</div></td><td><div class=\"dni-plaintext\">0</div></td></tr><tr><td><i><div class=\"dni-plaintext\">4</div></i></td><td><div class=\"dni-plaintext\">896</div></td><td><div class=\"dni-plaintext\">1</div></td></tr><tr><td><i><div class=\"dni-plaintext\">5</div></i></td><td><div class=\"dni-plaintext\">897</div></td><td><div class=\"dni-plaintext\">0</div></td></tr><tr><td><i><div class=\"dni-plaintext\">6</div></i></td><td><div class=\"dni-plaintext\">898</div></td><td><div class=\"dni-plaintext\">1</div></td></tr><tr><td><i><div class=\"dni-plaintext\">7</div></i></td><td><div class=\"dni-plaintext\">899</div></td><td><div class=\"dni-plaintext\">0</div></td></tr><tr><td><i><div class=\"dni-plaintext\">8</div></i></td><td><div class=\"dni-plaintext\">900</div></td><td><div class=\"dni-plaintext\">1</div></td></tr><tr><td><i><div class=\"dni-plaintext\">9</div></i></td><td><div class=\"dni-plaintext\">901</div></td><td><div class=\"dni-plaintext\">0</div></td></tr></tbody></table>"
            ]
          },
          "metadata": {},
          "output_type": "display_data"
        }
      ],
      "source": [
        "var bestModel = res.Model;\n",
        "var testDataPath = Path.Combine(Directory.GetCurrentDirectory(), \"data\", \"titanic\", \"test.csv\");\n",
        "var submissionCsvPath = Path.Combine(Directory.GetCurrentDirectory(), \"data\", \"titanic\", \"submission.csv\");\n",
        "\n",
        "var testDf = DataFrame.LoadCsv(testDataPath,guessRows: 200);\n",
        "var predictionResult = bestModel.Transform(testDf);\n",
        "var survived = predictionResult.GetColumn<bool>(\"PredictedLabel\");\n",
        "var passengerId = predictionResult.GetColumn<float>(\"PassengerId\");\n",
        "\n",
        "var submissionDf = new DataFrame();\n",
        "submissionDf[\"PassengerId\"] = DataFrameColumn.Create(\"PassengerId\", passengerId);\n",
        "submissionDf[\"Survived\"] = DataFrameColumn.Create(\"Survived\", survived.Select(x => x ? 1 : 0));\n",
        "DataFrame.WriteCsv(submissionDf, submissionCsvPath);\n",
        "\n",
        "submissionDf.Head(10)"
      ]
    }
  ],
  "metadata": {
    "kernelspec": {
      "display_name": ".NET (C#)",
      "language": "C#",
      "name": ".net-csharp"
    },
    "language_info": {
      "file_extension": ".cs",
      "mimetype": "text/x-csharp",
      "name": "C#",
      "pygments_lexer": "csharp",
      "version": "8.0"
    }
  },
  "nbformat": 4,
  "nbformat_minor": 4
}
