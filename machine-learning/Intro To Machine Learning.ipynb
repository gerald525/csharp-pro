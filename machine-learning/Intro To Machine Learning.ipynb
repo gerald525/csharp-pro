{
  "cells": [
    {
      "cell_type": "markdown",
      "metadata": {},
      "source": [
        "# Introduction to ML.NET Concepts\n",
        "ML.NET gives you the ability to add machine learning to .NET applications, in either online or offline scenarios. With this capability, you can make automatic predictions using the data available to your application. Machine learning applications make use of patterns in the data to make predictions rather than needing to be explicitly programmed.\n",
        "\n",
        "Central to ML.NET is a machine learning model. The model specifies the steps needed to transform your input data into a prediction. With ML.NET, you can train a custom model by specifying an algorithm, or you can import pre-trained TensorFlow and ONNX models.\n",
        "\n",
        "Once you have a model, you can add it to your application to make the predictions.\n",
        "\n",
        "ML.NET runs on Windows, Linux, and macOS using .NET Core, or Windows using .NET Framework. 64 bit is supported on all platforms. 32 bit is supported on Windows, except for TensorFlow, LightGBM, and ONNX-related functionality.\n",
        "\n",
        "Examples of the type of predictions that you can make with ML.NET:\n",
        "\n",
        "Classification/Categorization\n",
        "\n",
        "Automatically divide customer feedback into positive and negative categories\n",
        "\n",
        "Regression/Predict continuous values\n",
        "\n",
        "Predict the price of houses based on size and location\n",
        "\n",
        "Anomaly Detection\n",
        "\n",
        "Detect fraudulent banking transactions\n",
        "\n",
        "Recommendations\n",
        "\n",
        "Suggest products that online shoppers may want to buy, based on their previous purchases\n",
        "\n",
        "Time series/sequential data\n",
        "\n",
        "Forecast the weather/product sales\n",
        "\n",
        "Image classification\n",
        "\n",
        "Categorize pathologies in medical images"
      ]
    },
    {
      "cell_type": "markdown",
      "metadata": {},
      "source": [
        "# Hello ML.NET World\n",
        "The code in the following snippet demonstrates the simplest ML.NET application. This example constructs a linear regression model to predict house prices using house size and price data. \n",
        "\n",
        "First step is to reference the [Microsoft.ML](https://www.nuget.org/packages/Microsoft.ML/)  in the project\n",
        "\n",
        "```Xml\n",
        "  <ItemGroup>\n",
        "    <PackageReference Include=\"Microsoft.ML\" Version=\"1.7.1\" />\n",
        "  </ItemGroup>\n",
        "```"
      ]
    },
    {
      "cell_type": "code",
      "execution_count": 1,
      "metadata": {
        "dotnet_interactive": {
          "language": "csharp"
        }
      },
      "source": [
        "#r \"nuget: Microsoft.ML, 1.7.1\""
      ],
      "outputs": [
        {
          "output_type": "execute_result",
          "data": {
            "text/html": "<div><div></div><div></div><div><strong>Installed Packages</strong><ul><li><span>Microsoft.ML, 1.7.1</span></li></ul></div></div>"
          },
          "execution_count": 1,
          "metadata": {}
        }
      ]
    },
    {
      "cell_type": "markdown",
      "metadata": {},
      "source": [
        "The second step is to reference the ML.NET namespaces:"
      ]
    },
    {
      "cell_type": "code",
      "execution_count": 1,
      "metadata": {
        "dotnet_interactive": {
          "language": "csharp"
        }
      },
      "source": [
        "   using Microsoft.ML;\n",
        "   using Microsoft.ML.Data;"
      ],
      "outputs": []
    },
    {
      "cell_type": "markdown",
      "metadata": {},
      "source": [
        "Now we are ready to write the code to achieve the machine learning task we need to do. Always start with creating the [MLContext](https://docs.microsoft.com/en-us/dotnet/api/microsoft.ml.mlcontext?ranMID=43674&ranEAID=rl2xnKiLcHs&ranSiteID=rl2xnKiLcHs-LuTsrQLVgyEOYaht34D47g&epi=rl2xnKiLcHs-LuTsrQLVgyEOYaht34D47g&irgwc=1&OCID=AID2200057_aff_7795_1243925&tduid=(ir__2m3q0nl02wkf6gcatnnkkvci0e2xvxwafx3xgf9200)(7795)(1243925)(rl2xnKiLcHs-LuTsrQLVgyEOYaht34D47g)()&irclickid=_2m3q0nl02wkf6gcatnnkkvci0e2xvxwafx3xgf9200&view=ml-dotnet) which is the common context for all ML.NET operations"
      ]
    },
    {
      "cell_type": "code",
      "execution_count": 1,
      "metadata": {
        "dotnet_interactive": {
          "language": "csharp"
        }
      },
      "source": [
        "MLContext mlContext = new MLContext();"
      ],
      "outputs": []
    },
    {
      "cell_type": "markdown",
      "metadata": {},
      "source": [
        "Next step is to define the data structures for the data we are going to use. This sample is about house prediction prices. Start defining the following data structure which contains the house size and price:"
      ]
    },
    {
      "cell_type": "code",
      "execution_count": 1,
      "metadata": {
        "dotnet_interactive": {
          "language": "csharp"
        }
      },
      "source": [
        "       public class HouseData\n",
        "       {\n",
        "           public float Size { get; set; }\n",
        "           public float Price { get; set; }\n",
        "       }"
      ],
      "outputs": []
    },
    {
      "cell_type": "markdown",
      "metadata": {},
      "source": [
        "Then define the house price prediction data structure"
      ]
    },
    {
      "cell_type": "code",
      "execution_count": 1,
      "metadata": {
        "dotnet_interactive": {
          "language": "csharp"
        }
      },
      "source": [
        "       public class Prediction\n",
        "       {\n",
        "           [ColumnName(\"Score\")]\n",
        "           public float Price { get; set; }\n",
        "       }"
      ],
      "outputs": []
    },
    {
      "cell_type": "markdown",
      "metadata": {},
      "source": [
        "Now we are ready to train the pre-collected data we'll use for the house price prediction scenario"
      ]
    },
    {
      "cell_type": "code",
      "execution_count": 1,
      "metadata": {
        "dotnet_interactive": {
          "language": "csharp"
        }
      },
      "source": [
        "           HouseData[] houseData = {\n",
        "               new HouseData() { Size = 1.1F, Price = 1.2F },\n",
        "               new HouseData() { Size = 1.9F, Price = 2.3F },\n",
        "               new HouseData() { Size = 2.8F, Price = 3.0F },\n",
        "               new HouseData() { Size = 3.4F, Price = 3.7F } };"
      ],
      "outputs": []
    },
    {
      "cell_type": "markdown",
      "metadata": {},
      "source": [
        "Using the `MLContext` we previously created, load the training data into ML.NET [IDataView](https://docs.microsoft.com/en-us/dotnet/api/microsoft.ml.idataview?view=ml-dotnet) which is the fundamental ML.NET data pipeline type"
      ]
    },
    {
      "cell_type": "code",
      "execution_count": 1,
      "metadata": {
        "dotnet_interactive": {
          "language": "csharp"
        }
      },
      "source": [
        "IDataView trainingData = mlContext.Data.LoadFromEnumerable(houseData);"
      ],
      "outputs": []
    },
    {
      "cell_type": "markdown",
      "metadata": {},
      "source": [
        "Now we have the data ready, next we'll create the ML.NET pipeline specifying the training model we are going to use for our ML operation. For house price prediction, we are going to use the Regression transformer model. ML.NET supports other machine learning models which can be used for other scenarios as needed. The pipeline will create what is called [Estimator](https://docs.microsoft.com/en-us/dotnet/api/microsoft.ml.iestimator-1?view=ml-dotnet) which used for training the data"
      ]
    },
    {
      "cell_type": "code",
      "execution_count": 1,
      "metadata": {
        "dotnet_interactive": {
          "language": "csharp"
        }
      },
      "source": [
        "// 2. Specify data preparation and model training pipeline\n",
        "var pipeline = mlContext.Transforms.Concatenate(\"Features\", new[] { \"Size\" })\n",
        "               .Append(mlContext.Regression.Trainers.Sdca(labelColumnName: \"Price\", maximumNumberOfIterations: 100));\n",
        ""
      ],
      "outputs": []
    },
    {
      "cell_type": "markdown",
      "metadata": {},
      "source": [
        "After creating the estimator, we are ready to train the data using the regression transformer model. To do that, call the [Fit](https://docs.microsoft.com/en-us/dotnet/api/microsoft.ml.iestimator-1.fit?ranMID=43674&ranEAID=rl2xnKiLcHs&ranSiteID=rl2xnKiLcHs-G8Db905fJ0jxggGna1mdkw&epi=rl2xnKiLcHs-G8Db905fJ0jxggGna1mdkw&irgwc=1&OCID=AID2200057_aff_7795_1243925&tduid=(ir__2m3q0nl02wkf6gcatnnkkvci0e2xvx1gft3xgf9200)(7795)(1243925)(rl2xnKiLcHs-G8Db905fJ0jxggGna1mdkw)()&irclickid=_2m3q0nl02wkf6gcatnnkkvci0e2xvx1gft3xgf9200&view=ml-dotnet) method."
      ]
    },
    {
      "cell_type": "code",
      "execution_count": 1,
      "metadata": {
        "dotnet_interactive": {
          "language": "csharp"
        }
      },
      "source": [
        "           var model = pipeline.Fit(trainingData);"
      ],
      "outputs": []
    },
    {
      "cell_type": "markdown",
      "metadata": {},
      "source": [
        "Now we have the trained model ready which can be used for house price prediction. Let's use this model to predict a sample house price."
      ]
    },
    {
      "cell_type": "code",
      "execution_count": 1,
      "metadata": {
        "dotnet_interactive": {
          "language": "csharp"
        }
      },
      "source": [
        "           var size = new HouseData() { Size = 2.5F };\n",
        "           var price = mlContext.Model.CreatePredictionEngine<HouseData, Prediction>(model).Predict(size);\n",
        "\n",
        "           Console.WriteLine($\"Predicted price for size: {size.Size*1000} sq ft= {price.Price*100:C}k\");\n",
        "\n",
        ""
      ],
      "outputs": [
        {
          "output_type": "execute_result",
          "data": {
            "text/plain": "Predicted price for size: 2500 sq ft= $273.92k\r\n"
          },
          "execution_count": 1,
          "metadata": {}
        }
      ]
    },
    {
      "cell_type": "markdown",
      "metadata": {},
      "source": [
        "Congrats, you have finished the complete scenario from creating and training ML.NET regression model using your own data, then used this model to predict the house prices. Here is a diagram summarizing the end-to-end operation of creation and training ML.NET model then using it to predict the house prices.\n",
        "\n",
        "![](https://docs.microsoft.com/en-us/dotnet/machine-learning/media/mldotnet-annotated-workflow.png)\n",
        "\n",
        "\n",
        ""
      ]
    }
  ],
  "metadata": {
    "kernelspec": {
      "display_name": ".NET (C#)",
      "language": "C#",
      "name": ".net-csharp"
    },
    "language_info": {
      "file_extension": ".cs",
      "mimetype": "text/x-csharp",
      "name": "C#",
      "pygments_lexer": "csharp",
      "version": "8.0"
    }
  },
  "nbformat": 4,
  "nbformat_minor": 4
}