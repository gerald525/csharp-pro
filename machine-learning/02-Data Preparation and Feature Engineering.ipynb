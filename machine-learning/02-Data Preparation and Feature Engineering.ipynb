{
  "cells": [
    {
      "cell_type": "markdown",
      "metadata": {},
      "source": [
        "# Data Preparation and Feature Engineering\n",
        "\n",
        "Data is critical to training and preparing a model. In this notebook we will cover how to load data into ML.NET and ensure it is in the proper format so that ML.NET can work with it. \n",
        "\n",
        "In this notebook you will learn how to... \n",
        "\n",
        "- Load data into ML.NET\n",
        "- Apply data transforms to help ML.NET understand the data"
      ]
    },
    {
      "cell_type": "markdown",
      "metadata": {},
      "source": [
        "## Loading data in ML.NET"
      ]
    },
    {
      "cell_type": "markdown",
      "metadata": {},
      "source": [
        "### What is an IDataView?\n",
        "\n",
        "The [IDataView](https://docs.microsoft.com/dotnet/api/microsoft.ml.idataview?view=ml-dotnet) is the data format ML.NET loads for training. It is a set of interfaces and components that provide efficient, compositional processing of schematized data for machine learning and advanced analytics applications. It is designed to gracefully and efficiently handle high dimensional data and large data sets. \n",
        "\n",
        "The IDataView has general schema support, in that a view can have an arbitrary number of columns, each having an associated name, index, data type, and optional annotation."
      ]
    },
    {
      "cell_type": "markdown",
      "metadata": {},
      "source": [
        "### How to create an IDataView\n",
        "\n",
        "You can create an IDataView by using any of the methods for loading data:\n",
        "\n",
        "- TextLoader\n",
        "- LoadFromEnumerable\n",
        "- DatabaseLoader\n",
        "- LoadFromTextFile\n",
        "\n",
        "See [Load Data from files and other sources](https://docs.microsoft.com/en-us/dotnet/machine-learning/how-to-guides/load-data-ml-net) for further documentation and examples. "
      ]
    },
    {
      "cell_type": "code",
      "execution_count": null,
      "metadata": {
        "dotnet_interactive": {
          "language": "csharp"
        },
        "vscode": {
          "languageId": "dotnet-interactive.csharp"
        }
      },
      "outputs": [
        {
          "data": {
            "text/html": [
              "<div><div></div><div></div><div><strong>Installed Packages</strong><ul><li><span>Microsoft.ML, 1.7.1</span></li></ul></div></div>"
            ]
          },
          "metadata": {},
          "output_type": "display_data"
        }
      ],
      "source": [
        "#r \"nuget: Microsoft.ML, 1.7.1\""
      ]
    },
    {
      "cell_type": "code",
      "execution_count": null,
      "metadata": {
        "dotnet_interactive": {
          "language": "csharp"
        },
        "vscode": {
          "languageId": "dotnet-interactive.csharp"
        }
      },
      "outputs": [],
      "source": [
        "using Microsoft.ML;\n",
        "using Microsoft.ML.Data;"
      ]
    },
    {
      "cell_type": "markdown",
      "metadata": {},
      "source": [
        "#### Loading from a file\n",
        "\n",
        "A [TextLoader](https://docs.microsoft.com/en-us/dotnet/api/microsoft.ml.data.textloader?view=ml-dotnet) can load a structred file into the IDataView format. Structured information is basically columns and rows of data. The loader will need to be told if the file has a header, and what separator character the file uses. \n",
        "\n",
        "By using the loader instead of the direct method LoadFromTextFile, there is the option to load from multiple files. "
      ]
    },
    {
      "cell_type": "code",
      "execution_count": null,
      "metadata": {
        "dotnet_interactive": {
          "language": "csharp"
        },
        "vscode": {
          "languageId": "dotnet-interactive.csharp"
        }
      },
      "outputs": [],
      "source": [
        "public class ModelInput\n",
        "{\n",
        "    [LoadColumn(0)]\n",
        "    [ColumnName(@\"vendor_id\")]\n",
        "    public string Vendor_id { get; set; }\n",
        "\n",
        "    [LoadColumn(1)]\n",
        "    [ColumnName(@\"rate_code\")]\n",
        "    public float Rate_code { get; set; }\n",
        "\n",
        "    [LoadColumn(2)]\n",
        "    [ColumnName(@\"passenger_count\")]\n",
        "    public float Passenger_count { get; set; }\n",
        "\n",
        "    [LoadColumn(3)]\n",
        "    [ColumnName(@\"trip_time_in_secs\")]\n",
        "    public float Trip_time_in_secs { get; set; }\n",
        "\n",
        "    [LoadColumn(4)]\n",
        "    [ColumnName(@\"trip_distance\")]\n",
        "    public float Trip_distance { get; set; }\n",
        "\n",
        "    [LoadColumn(5)]\n",
        "    [ColumnName(@\"payment_type\")]\n",
        "    public string Payment_type { get; set; }\n",
        "\n",
        "    [LoadColumn(6)]\n",
        "    [ColumnName(@\"fare_amount\")]\n",
        "    public float Fare_amount { get; set; }\n",
        "\n",
        "}"
      ]
    },
    {
      "cell_type": "code",
      "execution_count": null,
      "metadata": {
        "dotnet_interactive": {
          "language": "csharp"
        },
        "vscode": {
          "languageId": "dotnet-interactive.csharp"
        }
      },
      "outputs": [
        {
          "data": {
            "text/html": [
              "<table><thead><tr><th>CanShuffle</th><th>Schema</th></tr></thead><tbody><tr><td><div class=\"dni-plaintext\">False</div></td><td><div class=\"dni-plaintext\">[ { vendor_id: String: Name: vendor_id, Index: 0, IsHidden: False, Type: { String: RawType: System.ReadOnlyMemory&lt;System.Char&gt; }, Annotations: { : Schema: [  ] } }, { rate_code: Single: Name: rate_code, Index: 1, IsHidden: False, Type: { Single: RawType: System.Single }, Annotations: { : Schema: [  ] } }, { passenger_count: Single: Name: passenger_count, Index: 2, IsHidden: False, Type: { Single: RawType: System.Single }, Annotations: { : Schema: [  ] } }, { trip_time_in_secs: Single: Name: trip_time_in_secs, Index: 3, IsHidden: False, Type: { Single: RawType: System.Single }, Annotations: { : Schema: [  ] } }, { trip_distance: Single: Name: trip_distance, Index: 4, IsHidden: False, Type: { Single: RawType: System.Single }, Annotations: { : Schema: [  ] } }, { payment_type: String: Name: payment_type, Index: 5, IsHidden: False, Type: { String: RawType: System.ReadOnlyMemory&lt;System.Char&gt; }, Annotations: { : Schema: [  ] } }, { fare_amount: Single: Name: fare_amount, Index: 6, IsHidden: False, Type: { Single: RawType: System.Single }, Annotations: { : Schema: [  ] } } ]</div></td></tr></tbody></table>"
            ]
          },
          "metadata": {},
          "output_type": "display_data"
        }
      ],
      "source": [
        "//Create MLContext\n",
        "MLContext mlContext = new MLContext();\n",
        "\n",
        "// Create TextLoader based on the Model Input type. \n",
        "TextLoader textLoader = mlContext.Data.CreateTextLoader<ModelInput>(separatorChar: ',', hasHeader: true);\n",
        "\n",
        "// Load the data into an IDataView. Load() method can support multiple files. \n",
        "// Files must they have the same separator character, header, column names, etc. \n",
        "IDataView data = textLoader.Load(\"data/taxi-fare.csv\");\n",
        "\n",
        "data.Preview(1); "
      ]
    },
    {
      "cell_type": "markdown",
      "metadata": {},
      "source": [
        "#### Loading in memory collection\n",
        "\n",
        "ML.NET supports loading data from an in memory collection. This makes it easy to load from a JSON or XML file using C#. Learn how to [deserialize JSON with C#](https://docs.microsoft.com/en-us/dotnet/standard/serialization/system-text-json-how-to?pivots=dotnet-6-0#how-to-read-json-as-net-objects-deserialize) or use [XML serializer](https://docs.microsoft.com/en-us/dotnet/api/system.xml.serialization?view=net-6.0) to get those files into memory. \n",
        "\n",
        "Once you have the data collection in memory, you can load it into ML.NET with the `LoadFromEnumerable` method. "
      ]
    },
    {
      "cell_type": "code",
      "execution_count": null,
      "metadata": {
        "dotnet_interactive": {
          "language": "csharp"
        },
        "vscode": {
          "languageId": "dotnet-interactive.csharp"
        }
      },
      "outputs": [],
      "source": [
        "ModelInput[] inMemoryCollection = new ModelInput[]\n",
        "{\n",
        "    new ModelInput\n",
        "    {\n",
        "        Vendor_id = \"CMT\",\n",
        "        Rate_code = 1,\n",
        "        Passenger_count = 1,\n",
        "        Trip_time_in_secs = 1271,\n",
        "        Trip_distance = 3.8f,\n",
        "        Payment_type = \"CRD\",\n",
        "        Fare_amount = 17.5f,\n",
        "    },\n",
        "    new ModelInput\n",
        "    {\n",
        "        Vendor_id = \"CMT\",\n",
        "        Rate_code = 1,\n",
        "        Passenger_count = 1,\n",
        "        Trip_time_in_secs = 474,\n",
        "        Trip_distance = 1.5f,\n",
        "        Payment_type = \"CRD\",\n",
        "        Fare_amount = 8, \n",
        "    }\n",
        "};"
      ]
    },
    {
      "cell_type": "code",
      "execution_count": null,
      "metadata": {
        "dotnet_interactive": {
          "language": "csharp"
        },
        "vscode": {
          "languageId": "dotnet-interactive.csharp"
        }
      },
      "outputs": [],
      "source": [
        "// Create MLContext\n",
        "MLContext mlContext = new MLContext();\n",
        "\n",
        "//Load Data\n",
        "IDataView data = mlContext.Data.LoadFromEnumerable<ModelInput>(inMemoryCollection);\n",
        "\n",
        "data.Preview(1);"
      ]
    },
    {
      "cell_type": "markdown",
      "metadata": {},
      "source": [
        "### What's the difference between a DataFrame and IDataView?\n",
        "\n",
        "You may have heard of the [DataFrame](https://docs.microsoft.com/en-us/dotnet/api/microsoft.data.analysis.dataframe?view=ml-dotnet-preview) type. It is another tool to load, view and manipulate data that is common to Notebooks. It implements an IDataView, so it can easily be passed to ML.NET.\n",
        "\n",
        "DataFrame and IDataView are very similar in the sense that they both are ways of representing data in a tabular format and applying transformations for it. Some key differences:\n",
        "\n",
        "- DataFrame only supports loading delimited files.\n",
        "- DataFrame runs on memory so you're limited to the amount of memory on your PC.\n",
        "\n",
        "The DataFrame is recommended when performing tasks like exploratory data anlysis on a sample of your data. Look at the reference notebook REF - Data Processing for an example of using Data Frames to manipulate a data file for training.\n",
        "\n",
        "IDataView is recommended for training on larger datasets, and what we will use here for training examples. "
      ]
    },
    {
      "cell_type": "markdown",
      "metadata": {},
      "source": [
        "## Data Transformations\n",
        "\n",
        "ML.NET supports a variety of data transformations that will convert data into the required format and help you make corrections to your data. Some common operations are manipulating columns, normalizing values, replacing missing values, converting values, and more. \n",
        "\n",
        "Look for more information on [data transformations available](https://docs.microsoft.com/en-us/dotnet/machine-learning/resources/transforms). \n",
        "\n",
        "Below are a few common transformations. "
      ]
    },
    {
      "cell_type": "markdown",
      "metadata": {},
      "source": [
        "### One Hot Encoding \n",
        "\n",
        "One hot encoding is an important step for data containing strings. ML algorithms require data to be numerical, it doesn't know how to process a string. The columns of vendor_id and payment_type are categorical, vendor can be \"CMD\" or \"VST\" and payment can be \"CReDit\" or \"CaSH\". One hot encoding takes the string values passed in and converts them into numerical data."
      ]
    },
    {
      "cell_type": "code",
      "execution_count": null,
      "metadata": {
        "dotnet_interactive": {
          "language": "csharp"
        },
        "vscode": {
          "languageId": "dotnet-interactive.csharp"
        }
      },
      "outputs": [],
      "source": [
        "var pipeline = mlContext.Transforms.Categorical.OneHotEncoding(\n",
        "    new[] { new InputOutputColumnPair(@\"vendor_id\", @\"vendor_id\"), \n",
        "    new InputOutputColumnPair(@\"payment_type\", @\"payment_type\")},\n",
        "    outputKind: OutputKind.Binary); \n",
        "                 "
      ]
    },
    {
      "cell_type": "markdown",
      "metadata": {},
      "source": [
        "### Replace missing values \n",
        "\n",
        "Another common operation is to replace missing values. Here we use the default replacement mode, which replaces the value with the default value for its type."
      ]
    },
    {
      "cell_type": "code",
      "execution_count": null,
      "metadata": {
        "dotnet_interactive": {
          "language": "csharp"
        },
        "vscode": {
          "languageId": "dotnet-interactive.csharp"
        }
      },
      "outputs": [],
      "source": [
        "pipeline.Append(mlContext.Transforms.ReplaceMissingValues(\n",
        "    new[] { new InputOutputColumnPair(@\"rate_code\", @\"rate_code\"), \n",
        "    new InputOutputColumnPair(@\"passenger_count\", @\"passenger_count\"), \n",
        "    new InputOutputColumnPair(@\"trip_time_in_secs\", @\"trip_time_in_secs\"), \n",
        "    new InputOutputColumnPair(@\"trip_distance\", @\"trip_distance\") })); \n"
      ]
    },
    {
      "cell_type": "markdown",
      "metadata": {},
      "source": [
        "Now let's concatenate all of our feature columns. "
      ]
    },
    {
      "cell_type": "code",
      "execution_count": null,
      "metadata": {
        "dotnet_interactive": {
          "language": "csharp"
        },
        "vscode": {
          "languageId": "dotnet-interactive.csharp"
        }
      },
      "outputs": [],
      "source": [
        "pipeline.Append(mlContext.Transforms.Concatenate(\n",
        "    @\"Features\", new[] { @\"vendor_id\", @\"payment_type\", @\"rate_code\", @\"passenger_count\", @\"trip_time_in_secs\", @\"trip_distance\" }));"
      ]
    },
    {
      "cell_type": "markdown",
      "metadata": {},
      "source": [
        "We now have a loaded IDataView and Pipeline to use in training. "
      ]
    },
    {
      "cell_type": "markdown",
      "metadata": {},
      "source": [
        "# Continue learning\n",
        "\n",
        "> [⏩ Next Module - Training and AutoML](https://raw.githubusercontent.com/JakeRadMSFT/csharp-notebooks/main/machine-learning/03-Training%20and%20AutoML.ipynb)  \n",
        "> [⏪ Last Module - Intro to Machine Learning](https://raw.githubusercontent.com/JakeRadMSFT/csharp-notebooks/main/machine-learning/01-Intro%20to%20Machine%20Learning.ipynb)  \n"
      ]
    }
  ],
  "metadata": {
    "kernelspec": {
      "display_name": ".NET (C#)",
      "language": "C#",
      "name": ".net-csharp"
    },
    "language_info": {
      "file_extension": ".cs",
      "mimetype": "text/x-csharp",
      "name": "C#",
      "pygments_lexer": "csharp",
      "version": "8.0"
    }
  },
  "nbformat": 4,
  "nbformat_minor": 4
}
