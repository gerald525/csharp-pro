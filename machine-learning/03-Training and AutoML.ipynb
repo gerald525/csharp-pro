{
  "cells": [
    {
      "cell_type": "markdown",
      "metadata": {},
      "source": [
        "# Training and AutoML"
      ]
    },
    {
      "cell_type": "markdown",
      "metadata": {},
      "source": [
        "# Under Contstruction! Coming soon!"
      ]
    },
    {
      "cell_type": "markdown",
      "metadata": {},
      "source": [
        "# Continue learning\n",
        "\n",
        "> [⏩ Next Module - Model Evaluation](https://raw.githubusercontent.com/dotnet/csharp-notebooks/fa302c12c7494e5f8a5fdbe5d8283d8ff1fb7009/machine-learning/04-Model%20Evaluation.ipynb)  \n",
        "> [⏪ Last Module - Data Prep and Feature Engineering](https://raw.githubusercontent.com/dotnet/csharp-notebooks/fa302c12c7494e5f8a5fdbe5d8283d8ff1fb7009/machine-learning/02-Data%20Preparation%20and%20Feature%20Engineering.ipynb)  \n",
        ""
      ]
    }
  ],
  "metadata": {
    "kernelspec": {
      "display_name": ".NET (C#)",
      "language": "C#",
      "name": ".net-csharp"
    },
    "language_info": {
      "file_extension": ".cs",
      "mimetype": "text/x-csharp",
      "name": "C#",
      "pygments_lexer": "csharp",
      "version": "8.0"
    }
  },
  "nbformat": 4,
  "nbformat_minor": 4
}