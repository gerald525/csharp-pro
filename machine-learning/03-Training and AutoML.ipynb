{
  "cells": [
    {
      "cell_type": "markdown",
      "metadata": {},
      "source": [
        "# Training and AutoML"
      ]
    },
    {
      "cell_type": "markdown",
      "metadata": {},
      "source": [
        "## In this Notebook, you will learn\n",
        "- What does __Training__ mean?\n",
        "- Introduction to trainers,  some of their differences, and how to decide which one to use.\n",
        "- How hyper-parameters impact training performance.\n",
        "- How to use AutoML to simplify your training process."
      ]
    },
    {
      "cell_type": "markdown",
      "metadata": {},
      "source": [
        "## What does __Training__ mean.\n",
        "Before diving into code, let's first talk a little about what does \"train a model\" actually mean. \n",
        "\n",
        "In ML.Net, \"train a model\" usually means call `model.Fit(X)` in ML.Net, where `X` is an `IDataView` which includes both feature and label. So what happen when you call `Fit`? Generally speaking, `Fit` updates parameters in the trainer so it can predict label that is **close** to the actual label in `X`, or in another word, to decrease the distance between predicted and actual label.\n",
        "\n",
        "In machine learning, the difference or distance between predicted and actual label is usually called **loss** and you use different loss measures based on the task. For classification softmax is a common loss measure. For regression, Root Mean Squared Error (RMSE) is a common loss measure. In general though, they are all metrics to quantify the distance between the predicted and actual label. In most of cases, a **lower loss means a better model**. For more information, see the [ML.NET evaluation metrics guide](https://docs.microsoft.com/dotnet/machine-learning/resources/metrics).\n",
        "\n",
        "So `Fit` applies an algorithm to your data to identify patterns and adjust parameters in that algorithm to lower the loss. When you train a model, you want to decrease its loss to make the prediction of that model closer to the actual label."
      ]
    },
    {
      "cell_type": "markdown",
      "metadata": {},
      "source": [
        "## Trainers in ML.Net\n",
        "ML.NET provides a variety of trainers. You can find most of them under the [StandardTrainersCatalog](https://docs.microsoft.com/dotnet/api/microsoft.ml.standardtrainerscatalog?view=ml-dotnet). Examples of trainers include linear trainers like `SDCA`, `Lbfgs`, `LinearSvm` and tree-based non-linear trainers like `FastTree`, `RandomForest` and `LightGbm`. Generally, each trainer's capability is different. Non-linear models sometimes have better training performance (lower loss) than linear ones, but it doesn't always mean they are always the better choice. Picking the right trainer to build the best model for your data requires many attempts of trial and error.\n",
        "\n",
        "### Overfitting and Underfitting\n",
        "Overfitting and underfitting are the two most common problems you encounter when training a model. Underfitting means the selected trainer is not capable enough to fit training dataset and usually result in a high loss during training and low score/metric on test dataset. To resolve this you need to either select a more powerful model or perform more feature engineering. Overfitting is the opposite, which happens when the model learns the training data too well. This usually results in low loss metric during training but high loss on test dataset.\n",
        "\n",
        "A good analogy for these concepts is studying for an exam. Let's say you knew the questions and answers ahead of time. After studying, you take the test and get a perfect score. Great news! However, when you're given the exam again with the questions rearranged and with slightly different wording you get a lower score. That suggests you memorized the answers and didn't actually learn the concepts you were being tested on. This is an example of overfitting. Underfitting is the opposite where the study materials you were given don't accurately represent what you're evaluated on for the exam. As a result, you resort to guessing the answers since you don't have enough knowledge to answer correctly.\n",
        "\n",
        "### Difference in parameter and hyper-parameter\n",
        "In the nutshell, parameters are internal to a trainer, and are updated based on training dataset during training(`Fit`) process. While hyper-parameters are external to a trainer and control the training process. For example, in `LightGbm`, `LearningRate` is a hyper-parameter which you can designate when creating and it controls the updating steps for the tree nodes weight during training. And tree nodes weight is parameter which is adjusted during `Fit` process.\n",
        "\n",
        "### Hyper-parameter optimization\n",
        "Choosing the right trainer impacts your final training performance. Choosing the right hyper-parameters also has a huge impact over the final training performance, especially for tree-base trainers. Hyper-parameters are important because it controls how parameters are updated. For example, larger `numberOfLeaves` in `LightGbm` produces a larger model and usually enables it to fit on a more complex dataset, but it might have counter effect on small dataset and cause **overfitting**. Conversely, if the dataset is complex but you set a small `numberOfLeaves`, it might impair `LightGbm`'s ability to fit that dataset and cause **underfitting**.\n",
        "\n",
        "The process of finding the best configuration for your trainer is known as hyper-parameter optimization (HPO). Like the process of choosing your trainer it involves a lot of trial and error. The built-in Automated ML (AutoML) capabilities in ML.NET simplify the HPO process.\n",
        "\n",
        "In the next section, we will go through two examples. The first example trains a regression model on a linear dataset using both linear and more advanced non-linear trainers to highlight the importance of selecting the right trainer. The second example trains a regression model on a non-linear dataset using `LightGbm` with different hyper-parameters to show the importance of hyper-parameter optimization"
      ]
    },
    {
      "cell_type": "markdown",
      "metadata": {},
      "source": [
        "## Example 1: Linear regression\n",
        "In the below section, we are going to show the difference of trainers via a linear regression task. First, we fit the linear dataset with the linear trainer, `SDCA`. Then we fit the linear dataset with `LightGbm`, a tree-base non-linear trainer. Their performance is evaluated against a test dataset. The code below:\n",
        "- Creates a linear dataset and splits it into train/test sets\n",
        "- Create training pipelines using `SDCA` and `LightGbm`\n",
        "- Trains both `SDCA` and `LightGbm` on the linear training set, and evaluates them on the test set."
      ]
    },
    {
      "cell_type": "code",
      "execution_count": 1,
      "metadata": {
        "dotnet_interactive": {
          "language": "csharp"
        }
      },
      "source": [
        "// install dependencies and import using statement\n",
        "#i \"nuget:https://pkgs.dev.azure.com/dnceng/public/_packaging/dotnet5/nuget/v3/index.json\" \n",
        "#i \"nuget:https://pkgs.dev.azure.com/dnceng/public/_packaging/dotnet-tools/nuget/v3/index.json\"\n",
        "#i \"nuget:https://mlnetcli.blob.core.windows.net/mlnetcli/index.json\"\n",
        "\n",
        "// add nightly build for ml.net\n",
        "#i \"nuget:https://pkgs.dev.azure.com/dnceng/public/_packaging/MachineLearning/nuget/v3/index.json\"\n",
        "\n",
        "#r \"nuget:Microsoft.DotNet.Interactive.Formatting, 1.0.0-beta.22256.1\"\n",
        "#r \"nuget:MLNetAutoML.InteractiveExtension,0.2.0\"\n",
        "\n",
        "// XPlot is used to plot trials during training because it's strong-named. However it's recommended to use Ploty.Net to plot digrams in notebook.\n",
        "#r \"nuget:XPlot.Plotly.Interactive,4.0.6\"\n",
        "#r \"nuget:Microsoft.ML.AutoML,0.20.0-preview.22226.2\"\n",
        "#r \"nuget:Microsoft.Data.Analysis,0.20.0-preview.22226.2\""
      ],
      "outputs": []
    },
    {
      "cell_type": "code",
      "execution_count": 1,
      "metadata": {
        "dotnet_interactive": {
          "language": "csharp"
        }
      },
      "source": [
        "// Import usings.\n",
        "using Microsoft.Data.Analysis;\n",
        "using System;\n",
        "using System.IO;\n",
        "using Microsoft.ML;\n",
        "using Microsoft.ML.AutoML;\n",
        "using Microsoft.ML.Data;\n",
        "using MLNetAutoML.InteractiveExtension;"
      ],
      "outputs": []
    },
    {
      "cell_type": "markdown",
      "metadata": {},
      "source": [
        "## Create linear dataset\n",
        "The code below creates a linear dataset with a random residual. The dataset is loaded into train and test set."
      ]
    },
    {
      "cell_type": "code",
      "execution_count": 1,
      "metadata": {
        "dotnet_interactive": {
          "language": "csharp"
        }
      },
      "source": [
        "var rand = new Random(0);\n",
        "var context =new MLContext(seed: 1);\n",
        "var x = Enumerable.Range(-10000, 10000).Select(_x => _x * 0.1f).ToArray();\n",
        "var y = x.Select(_x => 100 * _x + (rand.NextSingle() - 0.5f) * 10).ToArray();\n",
        "var df = new DataFrame();\n",
        "df[\"X\"] = DataFrameColumn.Create(\"X\", x);\n",
        "df[\"y\"] = DataFrameColumn.Create(\"y\", y);\n",
        "var trainTestSplit = context.Data.TrainTestSplit(df);\n",
        "df.Head(10)"
      ],
      "outputs": [
        {
          "output_type": "execute_result",
          "data": {
            "text/html": [
              "<table id=\"table_637892513085904149\"><thead><tr><th><i>index</i></th><th>X</th><th>y</th></tr></thead><tbody><tr><td><i><div class=\"dni-plaintext\">0</div></i></td><td><div class=\"dni-plaintext\">-1000</div></td><td><div class=\"dni-plaintext\">-99997.734</div></td></tr><tr><td><i><div class=\"dni-plaintext\">1</div></i></td><td><div class=\"dni-plaintext\">-999.9</div></td><td><div class=\"dni-plaintext\">-99986.83</div></td></tr><tr><td><i><div class=\"dni-plaintext\">2</div></i></td><td><div class=\"dni-plaintext\">-999.8</div></td><td><div class=\"dni-plaintext\">-99977.32</div></td></tr><tr><td><i><div class=\"dni-plaintext\">3</div></i></td><td><div class=\"dni-plaintext\">-999.7</div></td><td><div class=\"dni-plaintext\">-99969.42</div></td></tr><tr><td><i><div class=\"dni-plaintext\">4</div></i></td><td><div class=\"dni-plaintext\">-999.60004</div></td><td><div class=\"dni-plaintext\">-99962.94</div></td></tr><tr><td><i><div class=\"dni-plaintext\">5</div></i></td><td><div class=\"dni-plaintext\">-999.5</div></td><td><div class=\"dni-plaintext\">-99949.414</div></td></tr><tr><td><i><div class=\"dni-plaintext\">6</div></i></td><td><div class=\"dni-plaintext\">-999.4</div></td><td><div class=\"dni-plaintext\">-99935.94</div></td></tr><tr><td><i><div class=\"dni-plaintext\">7</div></i></td><td><div class=\"dni-plaintext\">-999.3</div></td><td><div class=\"dni-plaintext\">-99930.58</div></td></tr><tr><td><i><div class=\"dni-plaintext\">8</div></i></td><td><div class=\"dni-plaintext\">-999.2</div></td><td><div class=\"dni-plaintext\">-99915.23</div></td></tr><tr><td><i><div class=\"dni-plaintext\">9</div></i></td><td><div class=\"dni-plaintext\">-999.10004</div></td><td><div class=\"dni-plaintext\">-99912.266</div></td></tr></tbody></table>"
            ]
          },
          "execution_count": 1,
          "metadata": {}
        }
      ]
    },
    {
      "cell_type": "markdown",
      "metadata": {},
      "source": [
        "## Construct pipeline\n",
        "The code below shows how to construct training pipelines for both `SDCA` and `LightGbm`. The `Concatenate` transformer is required to convert a `single` column into `Vector<single>` type, which is the expected feature type for both `SDCA` and `LightGbm` regressor."
      ]
    },
    {
      "cell_type": "code",
      "execution_count": 1,
      "metadata": {
        "dotnet_interactive": {
          "language": "csharp"
        }
      },
      "source": [
        "var sdcaPipeline = context.Transforms.Concatenate(\"Features\", \"X\")\n",
        "                            .Append(context.Regression.Trainers.Sdca(\"y\"));"
      ],
      "outputs": []
    },
    {
      "cell_type": "code",
      "execution_count": 1,
      "metadata": {
        "dotnet_interactive": {
          "language": "csharp"
        }
      },
      "source": [
        "var lgbmPipeline = context.Transforms.Concatenate(\"Features\", \"X\")\n",
        "                            .Append(context.Regression.Trainers.LightGbm(\"y\"));"
      ],
      "outputs": []
    },
    {
      "cell_type": "markdown",
      "metadata": {},
      "source": [
        "## Train and evaluate model\n",
        "The code below first trains `sdcaPipeline` and `lgbmPipeline` which are created above, then evaluates their performance on test dataset by calculating `Root Mean Square Error` between predicted and actual value. `SDCA` has better performance with a significantly lower `Root Mean Square Error` compared to `LightGbm` even though it's a simpler linear model. This is because the training dataset is also linear, so `SDCA` can fit the dataset better than `LightGbm`."
      ]
    },
    {
      "cell_type": "code",
      "execution_count": 1,
      "metadata": {
        "dotnet_interactive": {
          "language": "csharp"
        }
      },
      "source": [
        "var sdcaModel = sdcaPipeline.Fit(trainTestSplit.TrainSet);\n",
        "var lgbmModel = lgbmPipeline.Fit(trainTestSplit.TrainSet);\n",
        "\n",
        "// evaluate on train set\n",
        "var sdcaTrainEval = sdcaModel.Transform(trainTestSplit.TrainSet);\n",
        "var sdcaTrainMetric = context.Regression.Evaluate(sdcaTrainEval, \"y\");\n",
        "\n",
        "var lgbmTrainEval = lgbmModel.Transform(trainTestSplit.TrainSet);\n",
        "var lgbmTrainMetric = context.Regression.Evaluate(lgbmTrainEval, \"y\");\n",
        "\n",
        "Console.WriteLine($\"sdca rmse on trainset: {sdcaTrainMetric.RootMeanSquaredError}, lgbm rmse on trainset: {lgbmTrainMetric.RootMeanSquaredError}\");\n",
        "\n",
        "// evaluate on test set\n",
        "var sdcaTestEval = sdcaModel.Transform(trainTestSplit.TestSet);\n",
        "var sdcaTestMetric = context.Regression.Evaluate(sdcaTestEval, \"y\");\n",
        "\n",
        "var lgbmTestEval = lgbmModel.Transform(trainTestSplit.TestSet);\n",
        "var lgbmTestMetric = context.Regression.Evaluate(lgbmTestEval, \"y\");\n",
        "Console.WriteLine($\"sdca rmse on testset: {sdcaTestMetric.RootMeanSquaredError}, lgbm rmse on testset: {lgbmTestMetric.RootMeanSquaredError}\");"
      ],
      "outputs": [
        {
          "output_type": "stream",
          "name": "stdout",
          "text": "sdca rmse on trainset: 2.8852798375466646, lgbm rmse on trainset: 117.9591141671402\nsdca rmse on testset: 2.917825665723388, lgbm rmse on testset: 119.860254032606"
        }
      ]
    },
    {
      "cell_type": "markdown",
      "metadata": {},
      "source": [
        "## Example 2: Non-linear regression on LightGbm.\n",
        "This example shows the importance of hyper-parameter optimization. First we create a non-linear dataset and two pipelines. One pipeline has `LightGbm` with `numberOfLeaves` set to `10`, the other's set to `1000`. Both pipelines are trained with the same training dataset and their training performance is evaluated on the same test dataset."
      ]
    },
    {
      "cell_type": "markdown",
      "metadata": {},
      "source": [
        "## Create non-linear dataset\n",
        "The code below creates a non-linear dataset with a random residual. The dataset is loaded into train and test set"
      ]
    },
    {
      "cell_type": "code",
      "execution_count": 1,
      "metadata": {
        "dotnet_interactive": {
          "language": "csharp"
        }
      },
      "source": [
        "var rand = new Random(0);\n",
        "var context =new MLContext(seed: 1);\n",
        "var x = Enumerable.Range(-10000, 10000).Select(_x => _x * 0.1f).ToArray();\n",
        "var y = x.Select(_x => 100 * _x * _x + (rand.NextSingle() - 0.5f) * 10).ToArray();\n",
        "var df = new DataFrame();\n",
        "df[\"X\"] = DataFrameColumn.Create(\"X\", x);\n",
        "df[\"y\"] = DataFrameColumn.Create(\"y\", y);\n",
        "var trainTestSplit = context.Data.TrainTestSplit(df);\n",
        "df.Head(10)"
      ],
      "outputs": [
        {
          "output_type": "execute_result",
          "data": {
            "text/html": [
              "<table id=\"table_637892513112895619\"><thead><tr><th><i>index</i></th><th>X</th><th>y</th></tr></thead><tbody><tr><td><i><div class=\"dni-plaintext\">0</div></i></td><td><div class=\"dni-plaintext\">-1000</div></td><td><div class=\"dni-plaintext\">100000000</div></td></tr><tr><td><i><div class=\"dni-plaintext\">1</div></i></td><td><div class=\"dni-plaintext\">-999.9</div></td><td><div class=\"dni-plaintext\">99980000</div></td></tr><tr><td><i><div class=\"dni-plaintext\">2</div></i></td><td><div class=\"dni-plaintext\">-999.8</div></td><td><div class=\"dni-plaintext\">99960000</div></td></tr><tr><td><i><div class=\"dni-plaintext\">3</div></i></td><td><div class=\"dni-plaintext\">-999.7</div></td><td><div class=\"dni-plaintext\">99940010</div></td></tr><tr><td><i><div class=\"dni-plaintext\">4</div></i></td><td><div class=\"dni-plaintext\">-999.60004</div></td><td><div class=\"dni-plaintext\">99920020</div></td></tr><tr><td><i><div class=\"dni-plaintext\">5</div></i></td><td><div class=\"dni-plaintext\">-999.5</div></td><td><div class=\"dni-plaintext\">99900024</div></td></tr><tr><td><i><div class=\"dni-plaintext\">6</div></i></td><td><div class=\"dni-plaintext\">-999.4</div></td><td><div class=\"dni-plaintext\">99880050</div></td></tr><tr><td><i><div class=\"dni-plaintext\">7</div></i></td><td><div class=\"dni-plaintext\">-999.3</div></td><td><div class=\"dni-plaintext\">99860050</div></td></tr><tr><td><i><div class=\"dni-plaintext\">8</div></i></td><td><div class=\"dni-plaintext\">-999.2</div></td><td><div class=\"dni-plaintext\">99840070</div></td></tr><tr><td><i><div class=\"dni-plaintext\">9</div></i></td><td><div class=\"dni-plaintext\">-999.10004</div></td><td><div class=\"dni-plaintext\">99820090</div></td></tr></tbody></table>"
            ]
          },
          "execution_count": 1,
          "metadata": {}
        }
      ]
    },
    {
      "cell_type": "markdown",
      "metadata": {},
      "source": [
        "## Construct pipeline\n",
        "The code below shows how to construct training pipelines for `LightGbm` with different hyper-parameters. The `Concatenate` transformer is required because it converts a `single` column into `Vector<single>` type, which is the expected feature type for the `LightGbm` trainer."
      ]
    },
    {
      "cell_type": "code",
      "execution_count": 1,
      "metadata": {
        "dotnet_interactive": {
          "language": "csharp"
        }
      },
      "source": [
        "var smallLgbmPipeline = context.Transforms.Concatenate(\"Features\", \"X\")\n",
        "                            .Append(context.Regression.Trainers.LightGbm(\"y\", numberOfLeaves: 10));"
      ],
      "outputs": []
    },
    {
      "cell_type": "code",
      "execution_count": 1,
      "metadata": {
        "dotnet_interactive": {
          "language": "csharp"
        }
      },
      "source": [
        "var largeLgbmPipeline = context.Transforms.Concatenate(\"Features\", \"X\")\n",
        "                            .Append(context.Regression.Trainers.LightGbm(\"y\", numberOfLeaves: 1000));"
      ],
      "outputs": []
    },
    {
      "cell_type": "markdown",
      "metadata": {},
      "source": [
        "## Train and evaluate model\n",
        "The code below first trains `smallLgbmPipeline` and `largeLgbmPipeline` which are created above, then evaluates their performance on the test dataset by calculating the `Root Mean Square Error` between predicted and actual value. The model created by `largeLgbmPipeline` has better performance with a lower RMSE."
      ]
    },
    {
      "cell_type": "code",
      "execution_count": 1,
      "metadata": {
        "dotnet_interactive": {
          "language": "csharp"
        }
      },
      "source": [
        "var smallLgbmModel = smallLgbmPipeline.Fit(trainTestSplit.TrainSet);\n",
        "var largeLgbmModel = largeLgbmPipeline.Fit(trainTestSplit.TrainSet);\n",
        "\n",
        "// evaluate on test set\n",
        "var smallTestEval = smallLgbmModel.Transform(trainTestSplit.TrainSet);\n",
        "var smallLgbmMetric = context.Regression.Evaluate(smallTestEval, \"y\");\n",
        "\n",
        "var largeLgbmEval = largeLgbmModel.Transform(trainTestSplit.TrainSet);\n",
        "var largeLgbmMetric = context.Regression.Evaluate(largeLgbmEval, \"y\");\n",
        "\n",
        "Console.WriteLine($\"small lgbm rmse on testset: {smallLgbmMetric.RootMeanSquaredError}, large lgbm rmse on testset: {largeLgbmMetric.RootMeanSquaredError}\");"
      ],
      "outputs": [
        {
          "output_type": "stream",
          "name": "stdout",
          "text": "small lgbm rmse on testset: 173938.52924678137, large lgbm rmse on testset: 132927.2510939994"
        }
      ]
    },
    {
      "cell_type": "markdown",
      "metadata": {},
      "source": [
        "## Use AutoML to simplify trainer selection and hyper-parameter optimization.\n",
        "Trainer selection and Hyper-parameter optimization is an important process with lots of trial and error. This process can be automated and simplified using the built-in `AutoMLExperiment`. `AutoMLExperiment` applies the latest research from Microsoft Research to conduct a swift, accurate and thorough hyper-parameter optimization given a limited time budget.\n",
        "\n",
        "The code below shows how to use `AutoMLExperiment` for finding the best trainer along with its best hyper parrameter on the non-linear dataset used in Example 2. Firstly, a `SweepableEstimatorPipeline` is created via `context.Auto().Regression(\"y\")`, which returns the most popular regressors along with their default search space in ML.Net. Then an `AutoMLExperiment` is created. It uses `RootMeanSquaredError` as the optimization metric and train-test validation to evaluate trial score, and uses `NotebookMonitor` to present the training process. Once the training is completed, it returns the best trial as result."
      ]
    },
    {
      "cell_type": "code",
      "execution_count": 1,
      "metadata": {
        "dotnet_interactive": {
          "language": "csharp"
        }
      },
      "source": [
        "var context =new MLContext(seed: 1);\n",
        "var pipeline = context.Transforms.Concatenate(\"Features\", \"X\")\n",
        "    .Append(context.Auto().Regression(\"y\", useLbfgs: false, useSdca: false, useFastForest: false));\n",
        "\n",
        "var monitor = new NotebookMonitor();\n",
        "var experiment = context.Auto().CreateExperiment();\n",
        "experiment.SetPipeline(pipeline)\n",
        "        .SetEvaluateMetric(RegressionMetric.RootMeanSquaredError, \"y\")\n",
        "        .SetTrainingTimeInSeconds(300)\n",
        "        .SetDataset(trainTestSplit.TrainSet, trainTestSplit.TestSet)\n",
        "        .SetMonitor(monitor);\n",
        "\n",
        "// Configure Visualizer\t\t\t\n",
        "monitor.SetUpdate(monitor.Display());\n",
        "\n",
        "var res = await experiment.Run();"
      ],
      "outputs": [
        {
          "output_type": "execute_result",
          "data": {
            "text/html": [
              "<div><h3>Best Run</h3><p>Trial: 50</p><p>Pipeline: Unknown=&gt;LightGbmRegression</p><h3>Active Run</h3><p>Trial: 62</p><p>Pipeline: Unknown=&gt;LightGbmRegression</p><p>Parameters: {\r\n",
              "  &quot;0&quot;: {},\r\n",
              "  &quot;1&quot;: {\r\n",
              "    &quot;NumberOfLeaves&quot;: 32767,\r\n",
              "    &quot;MinimumExampleCountPerLeaf&quot;: 20,\r\n",
              "    &quot;LearningRate&quot;: 0.012041286370928224,\r\n",
              "    &quot;NumberOfTrees&quot;: 7776,\r\n",
              "    &quot;SubsampleFraction&quot;: 3.2102996810058405E-07,\r\n",
              "    &quot;MaximumBinCountPerFeature&quot;: 394,\r\n",
              "    &quot;FeatureFraction&quot;: 0.14289467622354007,\r\n",
              "    &quot;L1Regularization&quot;: 0.06560687753203169,\r\n",
              "    &quot;L2Regularization&quot;: 2E-10,\r\n",
              "    &quot;LabelColumnName&quot;: &quot;y&quot;,\r\n",
              "    &quot;FeatureColumnName&quot;: &quot;Features&quot;\r\n",
              "  }\r\n",
              "}</p></div><!DOCTYPE html>\r\n",
              "<div style=\"width: 500px; height: 500px;\" id=\"f0c15885-4db5-4d42-bfa6-ee82afbb1b3e\"></div><script type=\"text/javascript\">\r\n",
              "\n",
              "var renderPlotly = function() {\n",
              "    var xplotRequire = require.config({context:'xplot-3.0.1',paths:{plotly:'https://cdn.plot.ly/plotly-1.49.2.min'}}) || require;\n",
              "    xplotRequire(['plotly'], function(Plotly) { \r\n",
              "\n",
              "            var data = [{\"type\":\"scatter\",\"x\":[0,1,2,3,4,5,6,7,8,9,10,11,12,13,14,15,16,17,18,19,20,21,22,23,24,25,26,27,28,29,30,31,32,33,34,35,36,37,38,39,40,41,42,43,44,45,46,47,48,49,50,51,52,53,54,55,56,57,58,59,60,61,62],\"y\":[30531504.718025338,3561386.8891544966,2683648.341797033,4904403.127296921,3581210.803470383,34429326.182825334,10191519.880926471,1697507.2992406206,14242793.211891294,3545703.1980089224,6340464.934510642,34577439.89505001,343443.2455819706,1441538.0016318979,17656754.923233107,29924733.578145858,320260.33702656836,571180.0001773401,595347.180094176,2701225.473829388,8525410.966168772,313260.37151353556,158754.06091000495,995530.462021105,14682026.693625376,29453419.26238532,309644.55021014763,430567.86590274115,2911693.1809445294,93022.36915640003,322038.4829845047,13014950.385711925,180851.66364781934,1086670.8939605274,45823904.27701145,30306112.28165494,450559.83136344014,15728467.873586264,40561.94040747738,5599544.240100672,45071.083929421235,145709.4155425012,30289424.244706426,45822591.42493072,15687953.55953713,489720.24030666373,326419.80571651994,707651.2908383309,94929.6412781329,45799945.0281766,40561.94038384951,38077876.92039429,90475.29923754459,467822.1079028823,884693.5781621169,278337.2359480462,42483.28825817922,24742867.916905817,91285.31072916654,3880265.619867682,383441.79421076743,266354.45633637253,91366.64501416158],\"mode\":\"markers\"}];\n",
              "           var layout = {\"title\":\"Plot metrics over trials.\",\"showlegend\":false,\"xaxis\":{\"title\":\"Trial\",\"_isSubplotObj\":true},\"yaxis\":{\"title\":\"Metric\",\"_isSubplotObj\":true}};\n",
              "           Plotly.newPlot('f0c15885-4db5-4d42-bfa6-ee82afbb1b3e', data, layout);\n",
              "        \r\n",
              "});\n",
              "};\r\n",
              "// ensure `require` is available globally\r\n",
              "if ((typeof(require) !==  typeof(Function)) || (typeof(require.config) !== typeof(Function))) {\r\n",
              "    let require_script = document.createElement('script');\r\n",
              "    require_script.setAttribute('src', 'https://cdnjs.cloudflare.com/ajax/libs/require.js/2.3.6/require.min.js');\r\n",
              "    require_script.setAttribute('type', 'text/javascript');\r\n",
              "    \r\n",
              "    \r\n",
              "    require_script.onload = function() {\r\n",
              "        renderPlotly();\r\n",
              "    };\r\n",
              "\r\n",
              "    document.getElementsByTagName('head')[0].appendChild(require_script);\r\n",
              "}\r\n",
              "else {\r\n",
              "    renderPlotly();\r\n",
              "}\r\n",
              "\r\n",
              "</script>\r\n",
              "<table id=\"table_637892527019829053\"><caption><h3 style=\"text-align: center;\">DataFrame - 63 rows </h3></caption><thead><tr><th><i>index</i></th><th>Trial</th><th>Metric</th><th>Pipeline</th></tr></thead><tbody><tr style=\"display: none\"><td><i><div class=\"dni-plaintext\">0</div></i></td><td><div class=\"dni-plaintext\">0</div></td><td><div class=\"dni-plaintext\">30531504</div></td><td>Unknown=&gt;FastTreeRegression</td></tr><tr style=\"display: none\"><td><i><div class=\"dni-plaintext\">1</div></i></td><td><div class=\"dni-plaintext\">1</div></td><td><div class=\"dni-plaintext\">3561387</div></td><td>Unknown=&gt;LightGbmRegression</td></tr><tr style=\"display: none\"><td><i><div class=\"dni-plaintext\">2</div></i></td><td><div class=\"dni-plaintext\">2</div></td><td><div class=\"dni-plaintext\">2683648.2</div></td><td>Unknown=&gt;LightGbmRegression</td></tr><tr style=\"display: none\"><td><i><div class=\"dni-plaintext\">3</div></i></td><td><div class=\"dni-plaintext\">3</div></td><td><div class=\"dni-plaintext\">4904403</div></td><td>Unknown=&gt;LightGbmRegression</td></tr><tr style=\"display: none\"><td><i><div class=\"dni-plaintext\">4</div></i></td><td><div class=\"dni-plaintext\">4</div></td><td><div class=\"dni-plaintext\">3581210.8</div></td><td>Unknown=&gt;LightGbmRegression</td></tr><tr style=\"display: none\"><td><i><div class=\"dni-plaintext\">5</div></i></td><td><div class=\"dni-plaintext\">5</div></td><td><div class=\"dni-plaintext\">34429330</div></td><td>Unknown=&gt;FastTreeRegression</td></tr><tr style=\"display: none\"><td><i><div class=\"dni-plaintext\">6</div></i></td><td><div class=\"dni-plaintext\">6</div></td><td><div class=\"dni-plaintext\">10191520</div></td><td>Unknown=&gt;LightGbmRegression</td></tr><tr style=\"display: none\"><td><i><div class=\"dni-plaintext\">7</div></i></td><td><div class=\"dni-plaintext\">7</div></td><td><div class=\"dni-plaintext\">1697507.2</div></td><td>Unknown=&gt;LightGbmRegression</td></tr><tr style=\"display: none\"><td><i><div class=\"dni-plaintext\">8</div></i></td><td><div class=\"dni-plaintext\">8</div></td><td><div class=\"dni-plaintext\">14242793</div></td><td>Unknown=&gt;FastTreeRegression</td></tr><tr style=\"display: none\"><td><i><div class=\"dni-plaintext\">9</div></i></td><td><div class=\"dni-plaintext\">9</div></td><td><div class=\"dni-plaintext\">3545703.2</div></td><td>Unknown=&gt;LightGbmRegression</td></tr><tr style=\"display: none\"><td><i><div class=\"dni-plaintext\">10</div></i></td><td><div class=\"dni-plaintext\">10</div></td><td><div class=\"dni-plaintext\">6340465</div></td><td>Unknown=&gt;FastTreeRegression</td></tr><tr style=\"display: none\"><td><i><div class=\"dni-plaintext\">11</div></i></td><td><div class=\"dni-plaintext\">11</div></td><td><div class=\"dni-plaintext\">34577440</div></td><td>Unknown=&gt;FastTreeRegression</td></tr><tr style=\"display: none\"><td><i><div class=\"dni-plaintext\">12</div></i></td><td><div class=\"dni-plaintext\">12</div></td><td><div class=\"dni-plaintext\">343443.25</div></td><td>Unknown=&gt;LightGbmRegression</td></tr><tr style=\"display: none\"><td><i><div class=\"dni-plaintext\">13</div></i></td><td><div class=\"dni-plaintext\">13</div></td><td><div class=\"dni-plaintext\">1441538</div></td><td>Unknown=&gt;LightGbmRegression</td></tr><tr style=\"display: none\"><td><i><div class=\"dni-plaintext\">14</div></i></td><td><div class=\"dni-plaintext\">14</div></td><td><div class=\"dni-plaintext\">17656754</div></td><td>Unknown=&gt;LightGbmRegression</td></tr><tr style=\"display: none\"><td><i><div class=\"dni-plaintext\">15</div></i></td><td><div class=\"dni-plaintext\">15</div></td><td><div class=\"dni-plaintext\">29924734</div></td><td>Unknown=&gt;LightGbmRegression</td></tr><tr style=\"display: none\"><td><i><div class=\"dni-plaintext\">16</div></i></td><td><div class=\"dni-plaintext\">16</div></td><td><div class=\"dni-plaintext\">320260.34</div></td><td>Unknown=&gt;FastTreeRegression</td></tr><tr style=\"display: none\"><td><i><div class=\"dni-plaintext\">17</div></i></td><td><div class=\"dni-plaintext\">17</div></td><td><div class=\"dni-plaintext\">571180</div></td><td>Unknown=&gt;LightGbmRegression</td></tr><tr style=\"display: none\"><td><i><div class=\"dni-plaintext\">18</div></i></td><td><div class=\"dni-plaintext\">18</div></td><td><div class=\"dni-plaintext\">595347.2</div></td><td>Unknown=&gt;LightGbmRegression</td></tr><tr style=\"display: none\"><td><i><div class=\"dni-plaintext\">19</div></i></td><td><div class=\"dni-plaintext\">19</div></td><td><div class=\"dni-plaintext\">2701225.5</div></td><td>Unknown=&gt;FastTreeRegression</td></tr><tr style=\"display: none\"><td><i><div class=\"dni-plaintext\">20</div></i></td><td><div class=\"dni-plaintext\">20</div></td><td><div class=\"dni-plaintext\">8525411</div></td><td>Unknown=&gt;FastTreeRegression</td></tr><tr style=\"display: none\"><td><i><div class=\"dni-plaintext\">21</div></i></td><td><div class=\"dni-plaintext\">21</div></td><td><div class=\"dni-plaintext\">313260.38</div></td><td>Unknown=&gt;LightGbmRegression</td></tr><tr style=\"display: none\"><td><i><div class=\"dni-plaintext\">22</div></i></td><td><div class=\"dni-plaintext\">22</div></td><td><div class=\"dni-plaintext\">158754.06</div></td><td>Unknown=&gt;LightGbmRegression</td></tr><tr style=\"display: none\"><td><i><div class=\"dni-plaintext\">23</div></i></td><td><div class=\"dni-plaintext\">23</div></td><td><div class=\"dni-plaintext\">995530.44</div></td><td>Unknown=&gt;LightGbmRegression</td></tr><tr style=\"display: none\"><td><i><div class=\"dni-plaintext\">24</div></i></td><td><div class=\"dni-plaintext\">24</div></td><td><div class=\"dni-plaintext\">14682027</div></td><td>Unknown=&gt;FastTreeRegression</td></tr><tr style=\"display: none\"><td><i><div class=\"dni-plaintext\">25</div></i></td><td><div class=\"dni-plaintext\">25</div></td><td><div class=\"dni-plaintext\">29453420</div></td><td>Unknown=&gt;LightGbmRegression</td></tr><tr style=\"display: none\"><td><i><div class=\"dni-plaintext\">26</div></i></td><td><div class=\"dni-plaintext\">26</div></td><td><div class=\"dni-plaintext\">309644.56</div></td><td>Unknown=&gt;FastTreeRegression</td></tr><tr style=\"display: none\"><td><i><div class=\"dni-plaintext\">27</div></i></td><td><div class=\"dni-plaintext\">27</div></td><td><div class=\"dni-plaintext\">430567.88</div></td><td>Unknown=&gt;LightGbmRegression</td></tr><tr style=\"display: none\"><td><i><div class=\"dni-plaintext\">28</div></i></td><td><div class=\"dni-plaintext\">28</div></td><td><div class=\"dni-plaintext\">2911693.2</div></td><td>Unknown=&gt;FastTreeRegression</td></tr><tr style=\"display: none\"><td><i><div class=\"dni-plaintext\">29</div></i></td><td><div class=\"dni-plaintext\">29</div></td><td><div class=\"dni-plaintext\">93022.37</div></td><td>Unknown=&gt;LightGbmRegression</td></tr><tr style=\"display: none\"><td><i><div class=\"dni-plaintext\">30</div></i></td><td><div class=\"dni-plaintext\">30</div></td><td><div class=\"dni-plaintext\">322038.47</div></td><td>Unknown=&gt;FastTreeRegression</td></tr><tr style=\"display: none\"><td><i><div class=\"dni-plaintext\">31</div></i></td><td><div class=\"dni-plaintext\">31</div></td><td><div class=\"dni-plaintext\">13014950</div></td><td>Unknown=&gt;LightGbmRegression</td></tr><tr style=\"display: none\"><td><i><div class=\"dni-plaintext\">32</div></i></td><td><div class=\"dni-plaintext\">32</div></td><td><div class=\"dni-plaintext\">180851.66</div></td><td>Unknown=&gt;FastTreeRegression</td></tr><tr style=\"display: none\"><td><i><div class=\"dni-plaintext\">33</div></i></td><td><div class=\"dni-plaintext\">33</div></td><td><div class=\"dni-plaintext\">1086670.9</div></td><td>Unknown=&gt;LightGbmRegression</td></tr><tr style=\"display: none\"><td><i><div class=\"dni-plaintext\">34</div></i></td><td><div class=\"dni-plaintext\">34</div></td><td><div class=\"dni-plaintext\">45823904</div></td><td>Unknown=&gt;FastTreeRegression</td></tr><tr style=\"display: none\"><td><i><div class=\"dni-plaintext\">35</div></i></td><td><div class=\"dni-plaintext\">35</div></td><td><div class=\"dni-plaintext\">30306112</div></td><td>Unknown=&gt;LightGbmRegression</td></tr><tr style=\"display: none\"><td><i><div class=\"dni-plaintext\">36</div></i></td><td><div class=\"dni-plaintext\">36</div></td><td><div class=\"dni-plaintext\">450559.84</div></td><td>Unknown=&gt;FastTreeRegression</td></tr><tr style=\"display: none\"><td><i><div class=\"dni-plaintext\">37</div></i></td><td><div class=\"dni-plaintext\">37</div></td><td><div class=\"dni-plaintext\">15728468</div></td><td>Unknown=&gt;FastTreeRegression</td></tr><tr style=\"display: none\"><td><i><div class=\"dni-plaintext\">38</div></i></td><td><div class=\"dni-plaintext\">38</div></td><td><div class=\"dni-plaintext\">40561.94</div></td><td>Unknown=&gt;LightGbmRegression</td></tr><tr style=\"display: none\"><td><i><div class=\"dni-plaintext\">39</div></i></td><td><div class=\"dni-plaintext\">39</div></td><td><div class=\"dni-plaintext\">5599544</div></td><td>Unknown=&gt;FastTreeRegression</td></tr><tr style=\"display: none\"><td><i><div class=\"dni-plaintext\">40</div></i></td><td><div class=\"dni-plaintext\">40</div></td><td><div class=\"dni-plaintext\">45071.082</div></td><td>Unknown=&gt;LightGbmRegression</td></tr><tr style=\"display: none\"><td><i><div class=\"dni-plaintext\">41</div></i></td><td><div class=\"dni-plaintext\">41</div></td><td><div class=\"dni-plaintext\">145709.42</div></td><td>Unknown=&gt;FastTreeRegression</td></tr><tr style=\"display: none\"><td><i><div class=\"dni-plaintext\">42</div></i></td><td><div class=\"dni-plaintext\">42</div></td><td><div class=\"dni-plaintext\">30289424</div></td><td>Unknown=&gt;LightGbmRegression</td></tr><tr style=\"display: none\"><td><i><div class=\"dni-plaintext\">43</div></i></td><td><div class=\"dni-plaintext\">43</div></td><td><div class=\"dni-plaintext\">45822590</div></td><td>Unknown=&gt;FastTreeRegression</td></tr><tr style=\"display: none\"><td><i><div class=\"dni-plaintext\">44</div></i></td><td><div class=\"dni-plaintext\">44</div></td><td><div class=\"dni-plaintext\">15687954</div></td><td>Unknown=&gt;LightGbmRegression</td></tr><tr style=\"display: none\"><td><i><div class=\"dni-plaintext\">45</div></i></td><td><div class=\"dni-plaintext\">45</div></td><td><div class=\"dni-plaintext\">489720.25</div></td><td>Unknown=&gt;FastTreeRegression</td></tr><tr style=\"display: none\"><td><i><div class=\"dni-plaintext\">46</div></i></td><td><div class=\"dni-plaintext\">46</div></td><td><div class=\"dni-plaintext\">326419.8</div></td><td>Unknown=&gt;LightGbmRegression</td></tr><tr style=\"display: none\"><td><i><div class=\"dni-plaintext\">47</div></i></td><td><div class=\"dni-plaintext\">47</div></td><td><div class=\"dni-plaintext\">707651.3</div></td><td>Unknown=&gt;FastTreeRegression</td></tr><tr style=\"display: none\"><td><i><div class=\"dni-plaintext\">48</div></i></td><td><div class=\"dni-plaintext\">48</div></td><td><div class=\"dni-plaintext\">94929.64</div></td><td>Unknown=&gt;LightGbmRegression</td></tr><tr style=\"display: none\"><td><i><div class=\"dni-plaintext\">49</div></i></td><td><div class=\"dni-plaintext\">49</div></td><td><div class=\"dni-plaintext\">45799944</div></td><td>Unknown=&gt;FastTreeRegression</td></tr><tr style=\"display: none\"><td><i><div class=\"dni-plaintext\">50</div></i></td><td><div class=\"dni-plaintext\">50</div></td><td><div class=\"dni-plaintext\">40561.94</div></td><td>Unknown=&gt;LightGbmRegression</td></tr><tr style=\"display: none\"><td><i><div class=\"dni-plaintext\">51</div></i></td><td><div class=\"dni-plaintext\">51</div></td><td><div class=\"dni-plaintext\">38077876</div></td><td>Unknown=&gt;FastTreeRegression</td></tr><tr style=\"display: none\"><td><i><div class=\"dni-plaintext\">52</div></i></td><td><div class=\"dni-plaintext\">52</div></td><td><div class=\"dni-plaintext\">90475.3</div></td><td>Unknown=&gt;LightGbmRegression</td></tr><tr style=\"display: none\"><td><i><div class=\"dni-plaintext\">53</div></i></td><td><div class=\"dni-plaintext\">53</div></td><td><div class=\"dni-plaintext\">467822.1</div></td><td>Unknown=&gt;FastTreeRegression</td></tr><tr style=\"display: none\"><td><i><div class=\"dni-plaintext\">54</div></i></td><td><div class=\"dni-plaintext\">54</div></td><td><div class=\"dni-plaintext\">884693.56</div></td><td>Unknown=&gt;LightGbmRegression</td></tr><tr style=\"display: none\"><td><i><div class=\"dni-plaintext\">55</div></i></td><td><div class=\"dni-plaintext\">55</div></td><td><div class=\"dni-plaintext\">278337.25</div></td><td>Unknown=&gt;FastTreeRegression</td></tr><tr style=\"display: none\"><td><i><div class=\"dni-plaintext\">56</div></i></td><td><div class=\"dni-plaintext\">56</div></td><td><div class=\"dni-plaintext\">42483.29</div></td><td>Unknown=&gt;LightGbmRegression</td></tr><tr style=\"display: none\"><td><i><div class=\"dni-plaintext\">57</div></i></td><td><div class=\"dni-plaintext\">57</div></td><td><div class=\"dni-plaintext\">24742868</div></td><td>Unknown=&gt;FastTreeRegression</td></tr><tr style=\"display: none\"><td><i><div class=\"dni-plaintext\">58</div></i></td><td><div class=\"dni-plaintext\">58</div></td><td><div class=\"dni-plaintext\">91285.31</div></td><td>Unknown=&gt;LightGbmRegression</td></tr><tr style=\"display: none\"><td><i><div class=\"dni-plaintext\">59</div></i></td><td><div class=\"dni-plaintext\">59</div></td><td><div class=\"dni-plaintext\">3880265.5</div></td><td>Unknown=&gt;FastTreeRegression</td></tr><tr style=\"display: none\"><td><i><div class=\"dni-plaintext\">60</div></i></td><td><div class=\"dni-plaintext\">60</div></td><td><div class=\"dni-plaintext\">383441.78</div></td><td>Unknown=&gt;LightGbmRegression</td></tr><tr style=\"display: none\"><td><i><div class=\"dni-plaintext\">61</div></i></td><td><div class=\"dni-plaintext\">61</div></td><td><div class=\"dni-plaintext\">266354.47</div></td><td>Unknown=&gt;FastTreeRegression</td></tr><tr style=\"display: none\"><td><i><div class=\"dni-plaintext\">62</div></i></td><td><div class=\"dni-plaintext\">62</div></td><td><div class=\"dni-plaintext\">91366.65</div></td><td>Unknown=&gt;LightGbmRegression</td></tr></tbody><tfoot><tr><td colspan=\"4\" style=\"text-align: center;\"><button style=\"margin: 2px;\" onclick=\"var allRows = document.querySelectorAll(&#39;#table_637892527019829053 tbody tr:nth-child(n)&#39;); for (let i = 0; i &lt; allRows.length; i++) { allRows[i].style.display=&#39;none&#39;; } document.querySelector(&#39;#page_637892527019829053&#39;).innerHTML = 1; var page = parseInt(document.querySelector(&#39;#page_637892527019829053&#39;).innerHTML) - 1; var pageRows = document.querySelectorAll(`#table_637892527019829053 tbody tr:nth-child(n + ${page * 25 + 1 })`); for (let j = 0; j &lt; 25; j++) { pageRows[j].style.display=&#39;table-row&#39;; } \">⏮</button><button style=\"margin: 2px;\" onclick=\"var allRows = document.querySelectorAll(&#39;#table_637892527019829053 tbody tr:nth-child(n)&#39;); for (let i = 0; i &lt; allRows.length; i++) { allRows[i].style.display=&#39;none&#39;; } var page = parseInt(document.querySelector(&#39;#page_637892527019829053&#39;).innerHTML) - 1; page = parseInt(page) + parseInt(-10); page = page &lt; 0 ? 0 : page; page = page > 2 ? 2 : page; document.querySelector(&#39;#page_637892527019829053&#39;).innerHTML = page + 1; var page = parseInt(document.querySelector(&#39;#page_637892527019829053&#39;).innerHTML) - 1; var pageRows = document.querySelectorAll(`#table_637892527019829053 tbody tr:nth-child(n + ${page * 25 + 1 })`); for (let j = 0; j &lt; 25; j++) { pageRows[j].style.display=&#39;table-row&#39;; } \">⏪</button><button style=\"margin: 2px;\" onclick=\"var allRows = document.querySelectorAll(&#39;#table_637892527019829053 tbody tr:nth-child(n)&#39;); for (let i = 0; i &lt; allRows.length; i++) { allRows[i].style.display=&#39;none&#39;; } var page = parseInt(document.querySelector(&#39;#page_637892527019829053&#39;).innerHTML) - 1; page = parseInt(page) + parseInt(-1); page = page &lt; 0 ? 0 : page; page = page > 2 ? 2 : page; document.querySelector(&#39;#page_637892527019829053&#39;).innerHTML = page + 1; var page = parseInt(document.querySelector(&#39;#page_637892527019829053&#39;).innerHTML) - 1; var pageRows = document.querySelectorAll(`#table_637892527019829053 tbody tr:nth-child(n + ${page * 25 + 1 })`); for (let j = 0; j &lt; 25; j++) { pageRows[j].style.display=&#39;table-row&#39;; } \">◀️</button><b style=\"margin: 2px;\">Page</b><b id=\"page_637892527019829053\" style=\"margin: 2px;\">1</b><button style=\"margin: 2px;\" onclick=\"var allRows = document.querySelectorAll(&#39;#table_637892527019829053 tbody tr:nth-child(n)&#39;); for (let i = 0; i &lt; allRows.length; i++) { allRows[i].style.display=&#39;none&#39;; } var page = parseInt(document.querySelector(&#39;#page_637892527019829053&#39;).innerHTML) - 1; page = parseInt(page) + parseInt(1); page = page &lt; 0 ? 0 : page; page = page > 2 ? 2 : page; document.querySelector(&#39;#page_637892527019829053&#39;).innerHTML = page + 1; var page = parseInt(document.querySelector(&#39;#page_637892527019829053&#39;).innerHTML) - 1; var pageRows = document.querySelectorAll(`#table_637892527019829053 tbody tr:nth-child(n + ${page * 25 + 1 })`); for (let j = 0; j &lt; 25; j++) { pageRows[j].style.display=&#39;table-row&#39;; } \">▶️</button><button style=\"margin: 2px;\" onclick=\"var allRows = document.querySelectorAll(&#39;#table_637892527019829053 tbody tr:nth-child(n)&#39;); for (let i = 0; i &lt; allRows.length; i++) { allRows[i].style.display=&#39;none&#39;; } var page = parseInt(document.querySelector(&#39;#page_637892527019829053&#39;).innerHTML) - 1; page = parseInt(page) + parseInt(10); page = page &lt; 0 ? 0 : page; page = page > 2 ? 2 : page; document.querySelector(&#39;#page_637892527019829053&#39;).innerHTML = page + 1; var page = parseInt(document.querySelector(&#39;#page_637892527019829053&#39;).innerHTML) - 1; var pageRows = document.querySelectorAll(`#table_637892527019829053 tbody tr:nth-child(n + ${page * 25 + 1 })`); for (let j = 0; j &lt; 25; j++) { pageRows[j].style.display=&#39;table-row&#39;; } \">⏩</button><button style=\"margin: 2px;\" onclick=\"var allRows = document.querySelectorAll(&#39;#table_637892527019829053 tbody tr:nth-child(n)&#39;); for (let i = 0; i &lt; allRows.length; i++) { allRows[i].style.display=&#39;none&#39;; } document.querySelector(&#39;#page_637892527019829053&#39;).innerHTML = 3; var page = parseInt(document.querySelector(&#39;#page_637892527019829053&#39;).innerHTML) - 1; var pageRows = document.querySelectorAll(`#table_637892527019829053 tbody tr:nth-child(n + ${page * 25 + 1 })`); for (let j = 0; j &lt; 25; j++) { pageRows[j].style.display=&#39;table-row&#39;; } \">⏭️</button></td></tr></tfoot></table><script>var page = parseInt(document.querySelector('#page_637892527019829053').innerHTML) - 1; var pageRows = document.querySelectorAll(`#table_637892527019829053 tbody tr:nth-child(n + ${page * 25 + 1 })`); for (let j = 0; j < 25; j++) { pageRows[j].style.display='table-row'; } </script>"
            ]
          },
          "execution_count": 1,
          "metadata": {}
        }
      ]
    },
    {
      "cell_type": "markdown",
      "metadata": {},
      "source": [
        "## Check model/metric from experiment result"
      ]
    },
    {
      "cell_type": "code",
      "execution_count": 1,
      "metadata": {
        "dotnet_interactive": {
          "language": "csharp"
        }
      },
      "source": [
        "// get model\n",
        "var model  = res.Model;\n",
        "var eval = model.Transform(trainTestSplit.TestSet);\n",
        "var metric = context.Regression.Evaluate(eval, \"y\");\n",
        "\n",
        "// should be identical with res.Metric\n",
        "metric.RootMeanSquaredError"
      ],
      "outputs": [
        {
          "output_type": "execute_result",
          "data": {
            "text/html": [
              "<div class=\"dni-plaintext\">40561.94038384951</div>"
            ]
          },
          "execution_count": 1,
          "metadata": {}
        }
      ]
    },
    {
      "cell_type": "markdown",
      "metadata": {},
      "source": [
        "# Continue learning\n",
        "\n",
        "> [⏩ Next Module - Model Evaluation](https://ntbk.io/ml-04-evaluation)  \n",
        "> [⏪ Last Module - Data Prep and Feature Engineering](https://ntbk.io/ml-02-data)  "
      ]
    }
  ],
  "metadata": {
    "kernelspec": {
      "display_name": ".NET (C#)",
      "language": "C#",
      "name": ".net-csharp"
    },
    "language_info": {
      "file_extension": ".cs",
      "mimetype": "text/x-csharp",
      "name": "C#",
      "pygments_lexer": "csharp",
      "version": "8.0"
    }
  },
  "nbformat": 4,
  "nbformat_minor": 4
}