{
  "cells": [
    {
      "cell_type": "markdown",
      "metadata": {},
      "source": [
        "# Training and AutoML"
      ]
    },
    {
      "cell_type": "markdown",
      "metadata": {},
      "source": [
        "## In this Notebook, you will learn\n",
        "- What does __Training__ mean?\n",
        "- Introduction to trainers,  some of their differences, and how to decide which one to use.\n",
        "- How hyper-parameters impact training performance.\n",
        "- How to use AutoML to simplify your training process."
      ]
    },
    {
      "cell_type": "markdown",
      "metadata": {},
      "source": [
        "## What does __Training__ mean.\n",
        "Before diving into code, let's first talk a little about what does \"train a model\" actually mean. \n",
        "\n",
        "In ML.Net, \"train a model\" usually means call `model.Fit(X)` in ML.Net, where `X` is an `IDataView` which includes both feature and label. So what happen when you call `Fit`? Generally speaking, `Fit` updates parameters in the trainer so it can predict label that is **close** to the actual label in `X`, or in another word, to decrease the distance between predicted and actual label.\n",
        "\n",
        "In machine learning, the difference or distance between predicted and actual label is usually called **loss** and you use different loss measures based on the task. For classification softmax is a common loss measure. For regression, Root Mean Squared Error (RMSE) is a common loss measure. In general though, they are all metrics to quantify the distance between the predicted and actual label. In most of cases, a **lower loss means a better model**. For more information, see the [ML.NET evaluation metrics guide](https://docs.microsoft.com/dotnet/machine-learning/resources/metrics).\n",
        "\n",
        "So `Fit` applies an algorithm to your data to identify patterns and adjust parameters in that algorithm to lower the loss. When you train a model, you want to decrease its loss to make the prediction of that model closer to the actual label."
      ]
    },
    {
      "cell_type": "markdown",
      "metadata": {},
      "source": [
        "## Trainers in ML.Net\n",
        "ML.NET provides a variety of trainers. You can find most of them under the [StandardTrainersCatalog](https://docs.microsoft.com/dotnet/api/microsoft.ml.standardtrainerscatalog?view=ml-dotnet). Examples of trainers include linear trainers like `SDCA`, `Lbfgs`, `LinearSvm` and tree-based non-linear trainers like `FastTree`, `RandomForest` and `LightGbm`. Generally, each trainer's capability is different. Non-linear models sometimes have better training performance (lower loss) than linear ones, but it doesn't always mean they are always the better choice. Picking the right trainer to build the best model for your data requires many attempts of trial and error.\n",
        "\n",
        "### Overfitting and Underfitting\n",
        "Overfitting and underfitting are the two most common problems you encounter when training a model. Underfitting means the selected trainer is not capable enough to fit training dataset and usually result in a high loss during training and low score/metric on test dataset. To resolve this you need to either select a more powerful model or perform more feature engineering. Overfitting is the opposite, which happens when the model learns the training data too well. This usually results in low loss metric during training but high loss on test dataset.\n",
        "\n",
        "A good analogy for these concepts is studying for an exam. Let's say you knew the questions and answers ahead of time. After studying, you take the test and get a perfect score. Great news! However, when you're given the exam again with the questions rearranged and with slightly different wording you get a lower score. That suggests you memorized the answers and didn't actually learn the concepts you were being tested on. This is an example of overfitting. Underfitting is the opposite where the study materials you were given don't accurately represent what you're evaluated on for the exam. As a result, you resort to guessing the answers since you don't have enough knowledge to answer correctly.\n",
        "\n",
        "### Difference in parameter and hyper-parameter\n",
        "In the nutshell, parameters are internal to a trainer, and are updated based on training dataset during training(`Fit`) process. While hyper-parameters are external to a trainer and control the training process. For example, in `LightGbm`, `LearningRate` is a hyper-parameter which you can designate when creating and it controls the updating steps for the tree nodes weight during training. And tree nodes weight is parameter which is adjusted during `Fit` process.\n",
        "\n",
        "### Hyper-parameter optimization\n",
        "Choosing the right trainer impacts your final training performance. Choosing the right hyper-parameters also has a huge impact over the final training performance, especially for tree-base trainers. Hyper-parameters are important because it controls how parameters are updated. For example, larger `numberOfLeaves` in `LightGbm` produces a larger model and usually enables it to fit on a more complex dataset, but it might have counter effect on small dataset and cause **overfitting**. Conversely, if the dataset is complex but you set a small `numberOfLeaves`, it might impair `LightGbm`'s ability to fit that dataset and cause **underfitting**.\n",
        "\n",
        "The process of finding the best configuration for your trainer is known as hyper-parameter optimization (HPO). Like the process of choosing your trainer it involves a lot of trial and error. The built-in Automated ML (AutoML) capabilities in ML.NET simplify the HPO process.\n",
        "\n",
        "In the next section, we will go through two examples. The first example trains a regression model on a linear dataset using both linear and more advanced non-linear trainers to highlight the importance of selecting the right trainer. The second example trains a regression model on a non-linear dataset using `LightGbm` with different hyper-parameters to show the importance of hyper-parameter optimization"
      ]
    },
    {
      "cell_type": "markdown",
      "metadata": {},
      "source": [
        "## Example 1: Linear regression\n",
        "In the below section, we are going to show the difference of trainers via a linear regression task. First, we fit the linear dataset with the linear trainer, `SDCA`. Then we fit the linear dataset with `LightGbm`, a tree-base non-linear trainer. Their performance is evaluated against a test dataset. The code below:\n",
        "- Creates a linear dataset and splits it into train/test sets\n",
        "- Create training pipelines using `SDCA` and `LightGbm`\n",
        "- Trains both `SDCA` and `LightGbm` on the linear training set, and evaluates them on the test set."
      ]
    },
    {
      "cell_type": "code",
      "execution_count": 1,
      "metadata": {
        "dotnet_interactive": {
          "language": "csharp"
        }
      },
      "source": [
        "// install dependencies and import using statement\n",
        "#i \"nuget:https://pkgs.dev.azure.com/dnceng/public/_packaging/MachineLearning/nuget/v3/index.json\"\n",
        "#r \"nuget: Plotly.NET.Interactive, 3.0.2\"\n",
        "#r \"nuget: Plotly.NET.CSharp, 0.0.1\"\n",
        "#r \"nuget: Microsoft.ML.AutoML, 0.20.0-preview.22356.1\"\n",
        "#r \"nuget: Microsoft.Data.Analysis, 0.20.0-preview.22356.1\""
      ],
      "outputs": [
        {
          "output_type": "execute_result",
          "data": {
            "text/html": "<div><div><strong>Restore sources</strong><ul><li><span>https://pkgs.dev.azure.com/dnceng/public/_packaging/MachineLearning/nuget/v3/index.json</span></li></ul></div><div></div><div><strong>Installed Packages</strong><ul><li><span>Microsoft.Data.Analysis, 0.20.0-preview.22356.1</span></li><li><span>Microsoft.ML.AutoML, 0.20.0-preview.22356.1</span></li><li><span>Plotly.NET.CSharp, 0.0.1</span></li><li><span>Plotly.NET.Interactive, 3.0.2</span></li></ul></div></div>"
          },
          "execution_count": 1,
          "metadata": {}
        },
        {
          "output_type": "execute_result",
          "data": {
            "text/markdown": "Loading extensions from `Microsoft.ML.AutoML.Interactive.dll`"
          },
          "execution_count": 1,
          "metadata": {}
        },
        {
          "output_type": "execute_result",
          "data": {
            "text/markdown": "Loading extensions from `Microsoft.Data.Analysis.Interactive.dll`"
          },
          "execution_count": 1,
          "metadata": {}
        },
        {
          "output_type": "execute_result",
          "data": {
            "text/markdown": "Loading extensions from `Plotly.NET.Interactive.dll`"
          },
          "execution_count": 1,
          "metadata": {}
        }
      ]
    },
    {
      "cell_type": "code",
      "execution_count": 1,
      "metadata": {
        "dotnet_interactive": {
          "language": "csharp"
        }
      },
      "source": [
        "// Import usings.\n",
        "using Microsoft.Data.Analysis;\n",
        "using System;\n",
        "using System.IO;\n",
        "using Microsoft.ML;\n",
        "using Microsoft.ML.AutoML;\n",
        "using Microsoft.ML.Data;"
      ],
      "outputs": []
    },
    {
      "cell_type": "markdown",
      "metadata": {},
      "source": [
        "## Create linear dataset\n",
        "The code below creates a linear dataset with a random residual. The dataset is loaded into train and test set."
      ]
    },
    {
      "cell_type": "code",
      "execution_count": 1,
      "metadata": {
        "dotnet_interactive": {
          "language": "csharp"
        }
      },
      "source": [
        "var rand = new Random(0);\n",
        "var context =new MLContext(seed: 1);\n",
        "var x = Enumerable.Range(-10000, 10000).Select(_x => _x * 0.1f).ToArray();\n",
        "var y = x.Select(_x => 100 * _x + (rand.NextSingle() - 0.5f) * 10).ToArray();\n",
        "var df = new DataFrame();\n",
        "df[\"X\"] = DataFrameColumn.Create(\"X\", x);\n",
        "df[\"y\"] = DataFrameColumn.Create(\"y\", y);\n",
        "var trainTestSplit = context.Data.TrainTestSplit(df);\n",
        "df.Head(10)"
      ],
      "outputs": [
        {
          "output_type": "execute_result",
          "data": {
            "text/html": "<table id=\"table_637927147924393876\"><thead><tr><th><i>index</i></th><th>X</th><th>y</th></tr></thead><tbody><tr><td><i><div class=\"dni-plaintext\">0</div></i></td><td><div class=\"dni-plaintext\">-1000</div></td><td><div class=\"dni-plaintext\">-99997.734</div></td></tr><tr><td><i><div class=\"dni-plaintext\">1</div></i></td><td><div class=\"dni-plaintext\">-999.9</div></td><td><div class=\"dni-plaintext\">-99986.83</div></td></tr><tr><td><i><div class=\"dni-plaintext\">2</div></i></td><td><div class=\"dni-plaintext\">-999.8</div></td><td><div class=\"dni-plaintext\">-99977.32</div></td></tr><tr><td><i><div class=\"dni-plaintext\">3</div></i></td><td><div class=\"dni-plaintext\">-999.7</div></td><td><div class=\"dni-plaintext\">-99969.42</div></td></tr><tr><td><i><div class=\"dni-plaintext\">4</div></i></td><td><div class=\"dni-plaintext\">-999.60004</div></td><td><div class=\"dni-plaintext\">-99962.94</div></td></tr><tr><td><i><div class=\"dni-plaintext\">5</div></i></td><td><div class=\"dni-plaintext\">-999.5</div></td><td><div class=\"dni-plaintext\">-99949.414</div></td></tr><tr><td><i><div class=\"dni-plaintext\">6</div></i></td><td><div class=\"dni-plaintext\">-999.4</div></td><td><div class=\"dni-plaintext\">-99935.94</div></td></tr><tr><td><i><div class=\"dni-plaintext\">7</div></i></td><td><div class=\"dni-plaintext\">-999.3</div></td><td><div class=\"dni-plaintext\">-99930.58</div></td></tr><tr><td><i><div class=\"dni-plaintext\">8</div></i></td><td><div class=\"dni-plaintext\">-999.2</div></td><td><div class=\"dni-plaintext\">-99915.23</div></td></tr><tr><td><i><div class=\"dni-plaintext\">9</div></i></td><td><div class=\"dni-plaintext\">-999.10004</div></td><td><div class=\"dni-plaintext\">-99912.266</div></td></tr></tbody></table>"
          },
          "execution_count": 1,
          "metadata": {}
        }
      ]
    },
    {
      "cell_type": "markdown",
      "metadata": {},
      "source": [
        "## Construct pipeline\n",
        "The code below shows how to construct training pipelines for both `SDCA` and `LightGbm`. The `Concatenate` transformer is required to convert a `single` column into `Vector<single>` type, which is the expected feature type for both `SDCA` and `LightGbm` regressor."
      ]
    },
    {
      "cell_type": "code",
      "execution_count": 1,
      "metadata": {
        "dotnet_interactive": {
          "language": "csharp"
        }
      },
      "source": [
        "var sdcaPipeline = context.Transforms.Concatenate(\"Features\", \"X\")\n",
        "                            .Append(context.Regression.Trainers.Sdca(\"y\"));"
      ],
      "outputs": []
    },
    {
      "cell_type": "code",
      "execution_count": 1,
      "metadata": {
        "dotnet_interactive": {
          "language": "csharp"
        }
      },
      "source": [
        "var lgbmPipeline = context.Transforms.Concatenate(\"Features\", \"X\")\n",
        "                            .Append(context.Regression.Trainers.LightGbm(\"y\"));"
      ],
      "outputs": []
    },
    {
      "cell_type": "markdown",
      "metadata": {},
      "source": [
        "## Train and evaluate model\n",
        "The code below first trains `sdcaPipeline` and `lgbmPipeline` which are created above, then evaluates their performance on test dataset by calculating `Root Mean Square Error` between predicted and actual value. `SDCA` has better performance with a significantly lower `Root Mean Square Error` compared to `LightGbm` even though it's a simpler linear model. This is because the training dataset is also linear, so `SDCA` can fit the dataset better than `LightGbm`."
      ]
    },
    {
      "cell_type": "code",
      "execution_count": 1,
      "metadata": {
        "dotnet_interactive": {
          "language": "csharp"
        }
      },
      "source": [
        "var sdcaModel = sdcaPipeline.Fit(trainTestSplit.TrainSet);\n",
        "var lgbmModel = lgbmPipeline.Fit(trainTestSplit.TrainSet);\n",
        "\n",
        "// evaluate on train set\n",
        "var sdcaTrainEval = sdcaModel.Transform(trainTestSplit.TrainSet);\n",
        "var sdcaTrainMetric = context.Regression.Evaluate(sdcaTrainEval, \"y\");\n",
        "\n",
        "var lgbmTrainEval = lgbmModel.Transform(trainTestSplit.TrainSet);\n",
        "var lgbmTrainMetric = context.Regression.Evaluate(lgbmTrainEval, \"y\");\n",
        "\n",
        "Console.WriteLine($\"sdca rmse on trainset: {sdcaTrainMetric.RootMeanSquaredError}, lgbm rmse on trainset: {lgbmTrainMetric.RootMeanSquaredError}\");\n",
        "\n",
        "// evaluate on test set\n",
        "var sdcaTestEval = sdcaModel.Transform(trainTestSplit.TestSet);\n",
        "var sdcaTestMetric = context.Regression.Evaluate(sdcaTestEval, \"y\");\n",
        "\n",
        "var lgbmTestEval = lgbmModel.Transform(trainTestSplit.TestSet);\n",
        "var lgbmTestMetric = context.Regression.Evaluate(lgbmTestEval, \"y\");\n",
        "Console.WriteLine($\"sdca rmse on testset: {sdcaTestMetric.RootMeanSquaredError}, lgbm rmse on testset: {lgbmTestMetric.RootMeanSquaredError}\");"
      ],
      "outputs": [
        {
          "output_type": "execute_result",
          "data": {
            "text/plain": "sdca rmse on testset: 2.928102605313311, lgbm rmse on testset: 119.860254032606\r\n"
          },
          "execution_count": 1,
          "metadata": {}
        }
      ]
    },
    {
      "cell_type": "markdown",
      "metadata": {},
      "source": [
        "## Example 2: Non-linear regression on LightGbm.\n",
        "This example shows the importance of hyper-parameter optimization. First we create a non-linear dataset and two pipelines. One pipeline has `LightGbm` with `numberOfLeaves` set to `10`, the other's set to `1000`. Both pipelines are trained with the same training dataset and their training performance is evaluated on the same test dataset."
      ]
    },
    {
      "cell_type": "markdown",
      "metadata": {},
      "source": [
        "## Create non-linear dataset\n",
        "The code below creates a non-linear dataset with a random residual. The dataset is loaded into train and test set"
      ]
    },
    {
      "cell_type": "code",
      "execution_count": 1,
      "metadata": {
        "dotnet_interactive": {
          "language": "csharp"
        }
      },
      "source": [
        "var rand = new Random(0);\n",
        "var context =new MLContext(seed: 1);\n",
        "var x = Enumerable.Range(-10000, 10000).Select(_x => _x * 0.1f).ToArray();\n",
        "var y = x.Select(_x => 100 * _x * _x + (rand.NextSingle() - 0.5f) * 10).ToArray();\n",
        "var df = new DataFrame();\n",
        "df[\"X\"] = DataFrameColumn.Create(\"X\", x);\n",
        "df[\"y\"] = DataFrameColumn.Create(\"y\", y);\n",
        "var trainTestSplit = context.Data.TrainTestSplit(df);\n",
        "df.Head(10)"
      ],
      "outputs": [
        {
          "output_type": "execute_result",
          "data": {
            "text/html": "<table id=\"table_637927147956942043\"><thead><tr><th><i>index</i></th><th>X</th><th>y</th></tr></thead><tbody><tr><td><i><div class=\"dni-plaintext\">0</div></i></td><td><div class=\"dni-plaintext\">-1000</div></td><td><div class=\"dni-plaintext\">100000000</div></td></tr><tr><td><i><div class=\"dni-plaintext\">1</div></i></td><td><div class=\"dni-plaintext\">-999.9</div></td><td><div class=\"dni-plaintext\">99980000</div></td></tr><tr><td><i><div class=\"dni-plaintext\">2</div></i></td><td><div class=\"dni-plaintext\">-999.8</div></td><td><div class=\"dni-plaintext\">99960000</div></td></tr><tr><td><i><div class=\"dni-plaintext\">3</div></i></td><td><div class=\"dni-plaintext\">-999.7</div></td><td><div class=\"dni-plaintext\">99940010</div></td></tr><tr><td><i><div class=\"dni-plaintext\">4</div></i></td><td><div class=\"dni-plaintext\">-999.60004</div></td><td><div class=\"dni-plaintext\">99920020</div></td></tr><tr><td><i><div class=\"dni-plaintext\">5</div></i></td><td><div class=\"dni-plaintext\">-999.5</div></td><td><div class=\"dni-plaintext\">99900024</div></td></tr><tr><td><i><div class=\"dni-plaintext\">6</div></i></td><td><div class=\"dni-plaintext\">-999.4</div></td><td><div class=\"dni-plaintext\">99880050</div></td></tr><tr><td><i><div class=\"dni-plaintext\">7</div></i></td><td><div class=\"dni-plaintext\">-999.3</div></td><td><div class=\"dni-plaintext\">99860050</div></td></tr><tr><td><i><div class=\"dni-plaintext\">8</div></i></td><td><div class=\"dni-plaintext\">-999.2</div></td><td><div class=\"dni-plaintext\">99840070</div></td></tr><tr><td><i><div class=\"dni-plaintext\">9</div></i></td><td><div class=\"dni-plaintext\">-999.10004</div></td><td><div class=\"dni-plaintext\">99820090</div></td></tr></tbody></table>"
          },
          "execution_count": 1,
          "metadata": {}
        }
      ]
    },
    {
      "cell_type": "markdown",
      "metadata": {},
      "source": [
        "## Construct pipeline\n",
        "The code below shows how to construct training pipelines for `LightGbm` with different hyper-parameters. The `Concatenate` transformer is required because it converts a `single` column into `Vector<single>` type, which is the expected feature type for the `LightGbm` trainer."
      ]
    },
    {
      "cell_type": "code",
      "execution_count": 1,
      "metadata": {
        "dotnet_interactive": {
          "language": "csharp"
        }
      },
      "source": [
        "var smallLgbmPipeline = context.Transforms.Concatenate(\"Features\", \"X\")\n",
        "                            .Append(context.Regression.Trainers.LightGbm(\"y\", numberOfLeaves: 10));"
      ],
      "outputs": []
    },
    {
      "cell_type": "code",
      "execution_count": 1,
      "metadata": {
        "dotnet_interactive": {
          "language": "csharp"
        }
      },
      "source": [
        "var largeLgbmPipeline = context.Transforms.Concatenate(\"Features\", \"X\")\n",
        "                            .Append(context.Regression.Trainers.LightGbm(\"y\", numberOfLeaves: 1000));"
      ],
      "outputs": []
    },
    {
      "cell_type": "markdown",
      "metadata": {},
      "source": [
        "## Train and evaluate model\n",
        "The code below first trains `smallLgbmPipeline` and `largeLgbmPipeline` which are created above, then evaluates their performance on the test dataset by calculating the `Root Mean Square Error` between predicted and actual value. The model created by `largeLgbmPipeline` has better performance with a lower RMSE."
      ]
    },
    {
      "cell_type": "code",
      "execution_count": 1,
      "metadata": {
        "dotnet_interactive": {
          "language": "csharp"
        }
      },
      "source": [
        "var smallLgbmModel = smallLgbmPipeline.Fit(trainTestSplit.TrainSet);\n",
        "var largeLgbmModel = largeLgbmPipeline.Fit(trainTestSplit.TrainSet);\n",
        "\n",
        "// evaluate on test set\n",
        "var smallTestEval = smallLgbmModel.Transform(trainTestSplit.TrainSet);\n",
        "var smallLgbmMetric = context.Regression.Evaluate(smallTestEval, \"y\");\n",
        "\n",
        "var largeLgbmEval = largeLgbmModel.Transform(trainTestSplit.TrainSet);\n",
        "var largeLgbmMetric = context.Regression.Evaluate(largeLgbmEval, \"y\");\n",
        "\n",
        "Console.WriteLine($\"small lgbm rmse on testset: {smallLgbmMetric.RootMeanSquaredError}, large lgbm rmse on testset: {largeLgbmMetric.RootMeanSquaredError}\");"
      ],
      "outputs": [
        {
          "output_type": "execute_result",
          "data": {
            "text/plain": "small lgbm rmse on testset: 173938.52924678137, large lgbm rmse on testset: 132927.2510939994\r\n"
          },
          "execution_count": 1,
          "metadata": {}
        }
      ]
    },
    {
      "cell_type": "markdown",
      "metadata": {},
      "source": [
        "## Use AutoML to simplify trainer selection and hyper-parameter optimization.\n",
        "Trainer selection and Hyper-parameter optimization is an important process with lots of trial and error. This process can be automated and simplified using the built-in `AutoMLExperiment`. `AutoMLExperiment` applies the latest research from Microsoft Research to conduct a swift, accurate and thorough hyper-parameter optimization given a limited time budget.\n",
        "\n",
        "The code below shows how to use `AutoMLExperiment` for finding the best trainer along with its best hyper parrameter on the non-linear dataset used in Example 2. Firstly, a `SweepableEstimatorPipeline` is created via `context.Auto().Regression(\"y\")`, which returns the most popular regressors along with their default search space in ML.Net. Then an `AutoMLExperiment` is created. It uses `RootMeanSquaredError` as the optimization metric and train-test validation to evaluate trial score, and uses `NotebookMonitor` to present the training process. Once the training is completed, it returns the best trial as result."
      ]
    },
    {
      "cell_type": "code",
      "execution_count": 1,
      "metadata": {
        "dotnet_interactive": {
          "language": "csharp"
        }
      },
      "source": [
        "var context =new MLContext(seed: 1);\n",
        "var pipeline = context.Transforms.Concatenate(\"Features\", \"X\")\n",
        "    .Append(context.Auto().Regression(\"y\", useLbfgs: false, useSdca: false, useFastForest: false));\n",
        "\n",
        "var monitor = new NotebookMonitor();\n",
        "var experiment = context.Auto().CreateExperiment();\n",
        "experiment.SetPipeline(pipeline)\n",
        "        .SetEvaluateMetric(RegressionMetric.RootMeanSquaredError, \"y\")\n",
        "        .SetTrainingTimeInSeconds(30)\n",
        "        .SetDataset(trainTestSplit.TrainSet, trainTestSplit.TestSet)\n",
        "        .SetMonitor(monitor);\n",
        "\n",
        "// Configure Visualizer\t\t\t\n",
        "monitor.SetUpdate(monitor.Display());\n",
        "\n",
        "var res = await experiment.RunAsync();"
      ],
      "outputs": [
        {
          "output_type": "execute_result",
          "data": {
            "text/html": "<div><h3>Best Trial</h3><p>Id: 26</p><p>Trainer: FastTreeRegression</p><p>Parameters: {\r\n  &quot;0&quot;: {},\r\n  &quot;1&quot;: {\r\n    &quot;NumberOfLeaves&quot;: 15,\r\n    &quot;MinimumExampleCountPerLeaf&quot;: 2,\r\n    &quot;NumberOfTrees&quot;: 93,\r\n    &quot;MaximumBinCountPerFeature&quot;: 1022,\r\n    &quot;FeatureFraction&quot;: 0.99999999,\r\n    &quot;LearningRate&quot;: 0.9999997766729865,\r\n    &quot;LabelColumnName&quot;: &quot;y&quot;,\r\n    &quot;FeatureColumnName&quot;: &quot;Features&quot;\r\n  }\r\n}</p><h3>Active Trial</h3><p>Id: 28</p><p>Trainer: FastTreeRegression</p><p>Parameters: {\r\n  &quot;0&quot;: {},\r\n  &quot;1&quot;: {\r\n    &quot;NumberOfLeaves&quot;: 27752,\r\n    &quot;MinimumExampleCountPerLeaf&quot;: 9,\r\n    &quot;NumberOfTrees&quot;: 32767,\r\n    &quot;MaximumBinCountPerFeature&quot;: 597,\r\n    &quot;FeatureFraction&quot;: 0.99999999,\r\n    &quot;LearningRate&quot;: 0.4866562145758301,\r\n    &quot;LabelColumnName&quot;: &quot;y&quot;,\r\n    &quot;FeatureColumnName&quot;: &quot;Features&quot;\r\n  }\r\n}</p></div><div><h3>Plot Metrics over Trials</h3></div>\n<div>\n    <div id=\"61522983-7e39-418e-b046-8a4af1c2a1a4\"><!-- Plotly chart will be drawn inside this DIV --></div>\r\n<script type=\"text/javascript\">\r\n\r\n            var renderPlotly_615229837e39418eb0468a4af1c2a1a4 = function() {\r\n            var fsharpPlotlyRequire = requirejs.config({context:'fsharp-plotly',paths:{plotly:'https://cdn.plot.ly/plotly-2.6.3.min'}}) || require;\r\n            fsharpPlotlyRequire(['plotly'], function(Plotly) {\r\n\r\n            var data = [{\"type\":\"scatter\",\"name\":\"Plot Metrics over Trials.\",\"mode\":\"markers\",\"x\":[0,1,2,3,4,5,6,7,8,9,10,11,12,13,14,15,16,17,18,19,20,21,22,23,24,25,26,27],\"y\":[30531504.718025338,28271444.19917599,43418691.92575334,3561386.8891544966,1591941.1512782967,2438581.853456937,5660383.855942066,2328389.774139143,835078.7524347446,2264880.8577011367,15518372.112736763,3559082.983182236,206693.0123211177,45738950.00413678,28724569.77699838,366513.40940166835,168282.87938222368,17166178.738562558,137948.2903051771,90409.54767763379,173304.92856255456,30203496.104273986,45819639.00155087,62639.396864649105,68839.21304942694,30308695.36656402,49348.620433557706,807310.5960999113],\"marker\":{},\"line\":{},\"showlegend\":false}];\r\n            var layout = {\"width\":600,\"height\":600,\"template\":{\"layout\":{\"title\":{\"x\":0.05},\"font\":{\"color\":\"rgba(42, 63, 95, 1.0)\"},\"paper_bgcolor\":\"rgba(255, 255, 255, 1.0)\",\"plot_bgcolor\":\"rgba(229, 236, 246, 1.0)\",\"autotypenumbers\":\"strict\",\"colorscale\":{\"diverging\":[[0.0,\"#8e0152\"],[0.1,\"#c51b7d\"],[0.2,\"#de77ae\"],[0.3,\"#f1b6da\"],[0.4,\"#fde0ef\"],[0.5,\"#f7f7f7\"],[0.6,\"#e6f5d0\"],[0.7,\"#b8e186\"],[0.8,\"#7fbc41\"],[0.9,\"#4d9221\"],[1.0,\"#276419\"]],\"sequential\":[[0.0,\"#0d0887\"],[0.1111111111111111,\"#46039f\"],[0.2222222222222222,\"#7201a8\"],[0.3333333333333333,\"#9c179e\"],[0.4444444444444444,\"#bd3786\"],[0.5555555555555556,\"#d8576b\"],[0.6666666666666666,\"#ed7953\"],[0.7777777777777778,\"#fb9f3a\"],[0.8888888888888888,\"#fdca26\"],[1.0,\"#f0f921\"]],\"sequentialminus\":[[0.0,\"#0d0887\"],[0.1111111111111111,\"#46039f\"],[0.2222222222222222,\"#7201a8\"],[0.3333333333333333,\"#9c179e\"],[0.4444444444444444,\"#bd3786\"],[0.5555555555555556,\"#d8576b\"],[0.6666666666666666,\"#ed7953\"],[0.7777777777777778,\"#fb9f3a\"],[0.8888888888888888,\"#fdca26\"],[1.0,\"#f0f921\"]]},\"hovermode\":\"closest\",\"hoverlabel\":{\"align\":\"left\"},\"coloraxis\":{\"colorbar\":{\"outlinewidth\":0.0,\"ticks\":\"\"}},\"geo\":{\"showland\":true,\"landcolor\":\"rgba(229, 236, 246, 1.0)\",\"showlakes\":true,\"lakecolor\":\"rgba(255, 255, 255, 1.0)\",\"subunitcolor\":\"rgba(255, 255, 255, 1.0)\",\"bgcolor\":\"rgba(255, 255, 255, 1.0)\"},\"mapbox\":{\"style\":\"light\"},\"polar\":{\"bgcolor\":\"rgba(229, 236, 246, 1.0)\",\"radialaxis\":{\"linecolor\":\"rgba(255, 255, 255, 1.0)\",\"gridcolor\":\"rgba(255, 255, 255, 1.0)\",\"ticks\":\"\"},\"angularaxis\":{\"linecolor\":\"rgba(255, 255, 255, 1.0)\",\"gridcolor\":\"rgba(255, 255, 255, 1.0)\",\"ticks\":\"\"}},\"scene\":{\"xaxis\":{\"ticks\":\"\",\"linecolor\":\"rgba(255, 255, 255, 1.0)\",\"gridcolor\":\"rgba(255, 255, 255, 1.0)\",\"gridwidth\":2.0,\"zerolinecolor\":\"rgba(255, 255, 255, 1.0)\",\"backgroundcolor\":\"rgba(229, 236, 246, 1.0)\",\"showbackground\":true},\"yaxis\":{\"ticks\":\"\",\"linecolor\":\"rgba(255, 255, 255, 1.0)\",\"gridcolor\":\"rgba(255, 255, 255, 1.0)\",\"gridwidth\":2.0,\"zerolinecolor\":\"rgba(255, 255, 255, 1.0)\",\"backgroundcolor\":\"rgba(229, 236, 246, 1.0)\",\"showbackground\":true},\"zaxis\":{\"ticks\":\"\",\"linecolor\":\"rgba(255, 255, 255, 1.0)\",\"gridcolor\":\"rgba(255, 255, 255, 1.0)\",\"gridwidth\":2.0,\"zerolinecolor\":\"rgba(255, 255, 255, 1.0)\",\"backgroundcolor\":\"rgba(229, 236, 246, 1.0)\",\"showbackground\":true}},\"ternary\":{\"aaxis\":{\"ticks\":\"\",\"linecolor\":\"rgba(255, 255, 255, 1.0)\",\"gridcolor\":\"rgba(255, 255, 255, 1.0)\"},\"baxis\":{\"ticks\":\"\",\"linecolor\":\"rgba(255, 255, 255, 1.0)\",\"gridcolor\":\"rgba(255, 255, 255, 1.0)\"},\"caxis\":{\"ticks\":\"\",\"linecolor\":\"rgba(255, 255, 255, 1.0)\",\"gridcolor\":\"rgba(255, 255, 255, 1.0)\"},\"bgcolor\":\"rgba(229, 236, 246, 1.0)\"},\"xaxis\":{\"title\":{\"standoff\":15},\"ticks\":\"\",\"automargin\":true,\"linecolor\":\"rgba(255, 255, 255, 1.0)\",\"gridcolor\":\"rgba(255, 255, 255, 1.0)\",\"zerolinecolor\":\"rgba(255, 255, 255, 1.0)\",\"zerolinewidth\":2.0},\"yaxis\":{\"title\":{\"standoff\":15},\"ticks\":\"\",\"automargin\":true,\"linecolor\":\"rgba(255, 255, 255, 1.0)\",\"gridcolor\":\"rgba(255, 255, 255, 1.0)\",\"zerolinecolor\":\"rgba(255, 255, 255, 1.0)\",\"zerolinewidth\":2.0},\"annotationdefaults\":{\"arrowcolor\":\"#2a3f5f\",\"arrowhead\":0,\"arrowwidth\":1},\"shapedefaults\":{\"line\":{\"color\":\"rgba(42, 63, 95, 1.0)\"}},\"colorway\":[\"rgba(99, 110, 250, 1.0)\",\"rgba(239, 85, 59, 1.0)\",\"rgba(0, 204, 150, 1.0)\",\"rgba(171, 99, 250, 1.0)\",\"rgba(255, 161, 90, 1.0)\",\"rgba(25, 211, 243, 1.0)\",\"rgba(255, 102, 146, 1.0)\",\"rgba(182, 232, 128, 1.0)\",\"rgba(255, 151, 255, 1.0)\",\"rgba(254, 203, 82, 1.0)\"]},\"data\":{\"bar\":[{\"marker\":{\"line\":{\"color\":\"rgba(229, 236, 246, 1.0)\",\"width\":0.5},\"pattern\":{\"fillmode\":\"overlay\",\"size\":10,\"solidity\":0.2}},\"error_x\":{\"color\":\"rgba(42, 63, 95, 1.0)\"},\"error_y\":{\"color\":\"rgba(42, 63, 95, 1.0)\"}}],\"barpolar\":[{\"marker\":{\"line\":{\"color\":\"rgba(229, 236, 246, 1.0)\",\"width\":0.5},\"pattern\":{\"fillmode\":\"overlay\",\"size\":10,\"solidity\":0.2}}}],\"carpet\":[{\"aaxis\":{\"linecolor\":\"rgba(255, 255, 255, 1.0)\",\"gridcolor\":\"rgba(255, 255, 255, 1.0)\",\"endlinecolor\":\"rgba(42, 63, 95, 1.0)\",\"minorgridcolor\":\"rgba(255, 255, 255, 1.0)\",\"startlinecolor\":\"rgba(42, 63, 95, 1.0)\"},\"baxis\":{\"linecolor\":\"rgba(255, 255, 255, 1.0)\",\"gridcolor\":\"rgba(255, 255, 255, 1.0)\",\"endlinecolor\":\"rgba(42, 63, 95, 1.0)\",\"minorgridcolor\":\"rgba(255, 255, 255, 1.0)\",\"startlinecolor\":\"rgba(42, 63, 95, 1.0)\"}}],\"choropleth\":[{\"colorbar\":{\"outlinewidth\":0.0,\"ticks\":\"\"},\"colorscale\":[[0.0,\"#0d0887\"],[0.1111111111111111,\"#46039f\"],[0.2222222222222222,\"#7201a8\"],[0.3333333333333333,\"#9c179e\"],[0.4444444444444444,\"#bd3786\"],[0.5555555555555556,\"#d8576b\"],[0.6666666666666666,\"#ed7953\"],[0.7777777777777778,\"#fb9f3a\"],[0.8888888888888888,\"#fdca26\"],[1.0,\"#f0f921\"]]}],\"contour\":[{\"colorbar\":{\"outlinewidth\":0.0,\"ticks\":\"\"},\"colorscale\":[[0.0,\"#0d0887\"],[0.1111111111111111,\"#46039f\"],[0.2222222222222222,\"#7201a8\"],[0.3333333333333333,\"#9c179e\"],[0.4444444444444444,\"#bd3786\"],[0.5555555555555556,\"#d8576b\"],[0.6666666666666666,\"#ed7953\"],[0.7777777777777778,\"#fb9f3a\"],[0.8888888888888888,\"#fdca26\"],[1.0,\"#f0f921\"]]}],\"contourcarpet\":[{\"colorbar\":{\"outlinewidth\":0.0,\"ticks\":\"\"}}],\"heatmap\":[{\"colorbar\":{\"outlinewidth\":0.0,\"ticks\":\"\"},\"colorscale\":[[0.0,\"#0d0887\"],[0.1111111111111111,\"#46039f\"],[0.2222222222222222,\"#7201a8\"],[0.3333333333333333,\"#9c179e\"],[0.4444444444444444,\"#bd3786\"],[0.5555555555555556,\"#d8576b\"],[0.6666666666666666,\"#ed7953\"],[0.7777777777777778,\"#fb9f3a\"],[0.8888888888888888,\"#fdca26\"],[1.0,\"#f0f921\"]]}],\"heatmapgl\":[{\"colorbar\":{\"outlinewidth\":0.0,\"ticks\":\"\"},\"colorscale\":[[0.0,\"#0d0887\"],[0.1111111111111111,\"#46039f\"],[0.2222222222222222,\"#7201a8\"],[0.3333333333333333,\"#9c179e\"],[0.4444444444444444,\"#bd3786\"],[0.5555555555555556,\"#d8576b\"],[0.6666666666666666,\"#ed7953\"],[0.7777777777777778,\"#fb9f3a\"],[0.8888888888888888,\"#fdca26\"],[1.0,\"#f0f921\"]]}],\"histogram\":[{\"marker\":{\"pattern\":{\"fillmode\":\"overlay\",\"size\":10,\"solidity\":0.2}}}],\"histogram2d\":[{\"colorbar\":{\"outlinewidth\":0.0,\"ticks\":\"\"},\"colorscale\":[[0.0,\"#0d0887\"],[0.1111111111111111,\"#46039f\"],[0.2222222222222222,\"#7201a8\"],[0.3333333333333333,\"#9c179e\"],[0.4444444444444444,\"#bd3786\"],[0.5555555555555556,\"#d8576b\"],[0.6666666666666666,\"#ed7953\"],[0.7777777777777778,\"#fb9f3a\"],[0.8888888888888888,\"#fdca26\"],[1.0,\"#f0f921\"]]}],\"histogram2dcontour\":[{\"colorbar\":{\"outlinewidth\":0.0,\"ticks\":\"\"},\"colorscale\":[[0.0,\"#0d0887\"],[0.1111111111111111,\"#46039f\"],[0.2222222222222222,\"#7201a8\"],[0.3333333333333333,\"#9c179e\"],[0.4444444444444444,\"#bd3786\"],[0.5555555555555556,\"#d8576b\"],[0.6666666666666666,\"#ed7953\"],[0.7777777777777778,\"#fb9f3a\"],[0.8888888888888888,\"#fdca26\"],[1.0,\"#f0f921\"]]}],\"mesh3d\":[{\"colorbar\":{\"outlinewidth\":0.0,\"ticks\":\"\"}}],\"parcoords\":[{\"line\":{\"colorbar\":{\"outlinewidth\":0.0,\"ticks\":\"\"}}}],\"pie\":[{\"automargin\":true}],\"scatter\":[{\"marker\":{\"colorbar\":{\"outlinewidth\":0.0,\"ticks\":\"\"}}}],\"scatter3d\":[{\"marker\":{\"colorbar\":{\"outlinewidth\":0.0,\"ticks\":\"\"}},\"line\":{\"colorbar\":{\"outlinewidth\":0.0,\"ticks\":\"\"}}}],\"scattercarpet\":[{\"marker\":{\"colorbar\":{\"outlinewidth\":0.0,\"ticks\":\"\"}}}],\"scattergeo\":[{\"marker\":{\"colorbar\":{\"outlinewidth\":0.0,\"ticks\":\"\"}}}],\"scattergl\":[{\"marker\":{\"colorbar\":{\"outlinewidth\":0.0,\"ticks\":\"\"}}}],\"scattermapbox\":[{\"marker\":{\"colorbar\":{\"outlinewidth\":0.0,\"ticks\":\"\"}}}],\"scatterpolar\":[{\"marker\":{\"colorbar\":{\"outlinewidth\":0.0,\"ticks\":\"\"}}}],\"scatterpolargl\":[{\"marker\":{\"colorbar\":{\"outlinewidth\":0.0,\"ticks\":\"\"}}}],\"scatterternary\":[{\"marker\":{\"colorbar\":{\"outlinewidth\":0.0,\"ticks\":\"\"}}}],\"surface\":[{\"colorbar\":{\"outlinewidth\":0.0,\"ticks\":\"\"},\"colorscale\":[[0.0,\"#0d0887\"],[0.1111111111111111,\"#46039f\"],[0.2222222222222222,\"#7201a8\"],[0.3333333333333333,\"#9c179e\"],[0.4444444444444444,\"#bd3786\"],[0.5555555555555556,\"#d8576b\"],[0.6666666666666666,\"#ed7953\"],[0.7777777777777778,\"#fb9f3a\"],[0.8888888888888888,\"#fdca26\"],[1.0,\"#f0f921\"]]}],\"table\":[{\"cells\":{\"fill\":{\"color\":\"rgba(235, 240, 248, 1.0)\"},\"line\":{\"color\":\"rgba(255, 255, 255, 1.0)\"}},\"header\":{\"fill\":{\"color\":\"rgba(200, 212, 227, 1.0)\"},\"line\":{\"color\":\"rgba(255, 255, 255, 1.0)\"}}}]}},\"xaxis\":{\"title\":{\"text\":\"Trial\"},\"showgrid\":false},\"yaxis\":{\"title\":{\"text\":\"Metric\"},\"showgrid\":false}};\r\n            var config = {\"responsive\":true};\r\n            Plotly.newPlot('61522983-7e39-418e-b046-8a4af1c2a1a4', data, layout, config);\r\n});\r\n            };\r\n            if ((typeof(requirejs) !==  typeof(Function)) || (typeof(requirejs.config) !== typeof(Function))) {\r\n                var script = document.createElement(\"script\");\r\n                script.setAttribute(\"src\", \"https://cdnjs.cloudflare.com/ajax/libs/require.js/2.3.6/require.min.js\");\r\n                script.onload = function(){\r\n                    renderPlotly_615229837e39418eb0468a4af1c2a1a4();\r\n                };\r\n                document.getElementsByTagName(\"head\")[0].appendChild(script);\r\n            }\r\n            else {\r\n                renderPlotly_615229837e39418eb0468a4af1c2a1a4();\r\n            }\r\n</script>\r\n\n    \n</div>    \n<div><h3>All Trials Table</h3></div><table id=\"table_637927148138551409\"><caption><h3 style=\"text-align: center;\">DataFrame - 28 rows </h3></caption><thead><tr><th><i>index</i></th><th>Trial</th><th>Metric</th><th>Trainer</th><th>Parameters</th></tr></thead><tbody><tr style=\"display: none\"><td><i><div class=\"dni-plaintext\">0</div></i></td><td><div class=\"dni-plaintext\">0</div></td><td><div class=\"dni-plaintext\">30531504</div></td><td>FastTreeRegression</td><td>{&quot;0&quot;:{},&quot;1&quot;:{&quot;NumberOfLeaves&quot;:4,&quot;MinimumExampleCountPerLeaf&quot;:20,&quot;NumberOfTrees&quot;:4,&quot;MaximumBinCountPerFeature&quot;:255,&quot;FeatureFraction&quot;:1,&quot;LearningRate&quot;:0.09999999999999998,&quot;LabelColumnName&quot;:&quot;y&quot;,&quot;FeatureColumnName&quot;:&quot;Features&quot;}}</td></tr><tr style=\"display: none\"><td><i><div class=\"dni-plaintext\">1</div></i></td><td><div class=\"dni-plaintext\">1</div></td><td><div class=\"dni-plaintext\">28271444</div></td><td>FastTreeRegression</td><td>{&quot;0&quot;:{},&quot;1&quot;:{&quot;NumberOfLeaves&quot;:4,&quot;MinimumExampleCountPerLeaf&quot;:17,&quot;NumberOfTrees&quot;:5,&quot;MaximumBinCountPerFeature&quot;:142,&quot;FeatureFraction&quot;:0.99999999,&quot;LearningRate&quot;:0.09527170568448684,&quot;LabelColumnName&quot;:&quot;y&quot;,&quot;FeatureColumnName&quot;:&quot;Features&quot;}}</td></tr><tr style=\"display: none\"><td><i><div class=\"dni-plaintext\">2</div></i></td><td><div class=\"dni-plaintext\">2</div></td><td><div class=\"dni-plaintext\">43418692</div></td><td>FastTreeRegression</td><td>{&quot;0&quot;:{},&quot;1&quot;:{&quot;NumberOfLeaves&quot;:9,&quot;MinimumExampleCountPerLeaf&quot;:20,&quot;NumberOfTrees&quot;:12,&quot;MaximumBinCountPerFeature&quot;:108,&quot;FeatureFraction&quot;:0.9429810067840684,&quot;LearningRate&quot;:0.0049161436161526285,&quot;LabelColumnName&quot;:&quot;y&quot;,&quot;FeatureColumnName&quot;:&quot;Features&quot;}}</td></tr><tr style=\"display: none\"><td><i><div class=\"dni-plaintext\">3</div></i></td><td><div class=\"dni-plaintext\">3</div></td><td><div class=\"dni-plaintext\">3561387</div></td><td>LightGbmRegression</td><td>{&quot;0&quot;:{},&quot;1&quot;:{&quot;NumberOfLeaves&quot;:4,&quot;MinimumExampleCountPerLeaf&quot;:20,&quot;LearningRate&quot;:1,&quot;NumberOfTrees&quot;:4,&quot;SubsampleFraction&quot;:1,&quot;MaximumBinCountPerFeature&quot;:255,&quot;FeatureFraction&quot;:1,&quot;L1Regularization&quot;:2E-10,&quot;L2Regularization&quot;:1,&quot;LabelColumnName&quot;:&quot;y&quot;,&quot;FeatureColumnName&quot;:&quot;Features&quot;}}</td></tr><tr style=\"display: none\"><td><i><div class=\"dni-plaintext\">4</div></i></td><td><div class=\"dni-plaintext\">4</div></td><td><div class=\"dni-plaintext\">1591941.1</div></td><td>LightGbmRegression</td><td>{&quot;0&quot;:{},&quot;1&quot;:{&quot;NumberOfLeaves&quot;:6,&quot;MinimumExampleCountPerLeaf&quot;:24,&quot;LearningRate&quot;:0.9999997766729865,&quot;NumberOfTrees&quot;:7,&quot;SubsampleFraction&quot;:0.6764246740266566,&quot;MaximumBinCountPerFeature&quot;:209,&quot;FeatureFraction&quot;:0.9930819860056658,&quot;L1Regularization&quot;:2E-10,&quot;L2Regularization&quot;:0.6027311545000066,&quot;LabelColumnName&quot;:&quot;y&quot;,&quot;FeatureColumnName&quot;:&quot;Features&quot;}}</td></tr><tr style=\"display: none\"><td><i><div class=\"dni-plaintext\">5</div></i></td><td><div class=\"dni-plaintext\">5</div></td><td><div class=\"dni-plaintext\">2438581.8</div></td><td>LightGbmRegression</td><td>{&quot;0&quot;:{},&quot;1&quot;:{&quot;NumberOfLeaves&quot;:5,&quot;MinimumExampleCountPerLeaf&quot;:20,&quot;LearningRate&quot;:0.9999997766729865,&quot;NumberOfTrees&quot;:5,&quot;SubsampleFraction&quot;:0.7123509045084578,&quot;MaximumBinCountPerFeature&quot;:137,&quot;FeatureFraction&quot;:0.99999999,&quot;L1Regularization&quot;:2E-10,&quot;L2Regularization&quot;:0.12476966149682746,&quot;LabelColumnName&quot;:&quot;y&quot;,&quot;FeatureColumnName&quot;:&quot;Features&quot;}}</td></tr><tr style=\"display: none\"><td><i><div class=\"dni-plaintext\">6</div></i></td><td><div class=\"dni-plaintext\">6</div></td><td><div class=\"dni-plaintext\">5660384</div></td><td>LightGbmRegression</td><td>{&quot;0&quot;:{},&quot;1&quot;:{&quot;NumberOfLeaves&quot;:6,&quot;MinimumExampleCountPerLeaf&quot;:43,&quot;LearningRate&quot;:0.1369535720570494,&quot;NumberOfTrees&quot;:12,&quot;SubsampleFraction&quot;:0.6423103230953168,&quot;MaximumBinCountPerFeature&quot;:316,&quot;FeatureFraction&quot;:0.9443457404493634,&quot;L1Regularization&quot;:2.5482951969282366E-10,&quot;L2Regularization&quot;:0.9999997766729865,&quot;LabelColumnName&quot;:&quot;y&quot;,&quot;FeatureColumnName&quot;:&quot;Features&quot;}}</td></tr><tr style=\"display: none\"><td><i><div class=\"dni-plaintext\">7</div></i></td><td><div class=\"dni-plaintext\">7</div></td><td><div class=\"dni-plaintext\">2328389.8</div></td><td>LightGbmRegression</td><td>{&quot;0&quot;:{},&quot;1&quot;:{&quot;NumberOfLeaves&quot;:4,&quot;MinimumExampleCountPerLeaf&quot;:20,&quot;LearningRate&quot;:0.9999997766729865,&quot;NumberOfTrees&quot;:6,&quot;SubsampleFraction&quot;:0.13833609921842094,&quot;MaximumBinCountPerFeature&quot;:119,&quot;FeatureFraction&quot;:0.99999999,&quot;L1Regularization&quot;:7.15571620321891E-10,&quot;L2Regularization&quot;:0.9999997766729865,&quot;LabelColumnName&quot;:&quot;y&quot;,&quot;FeatureColumnName&quot;:&quot;Features&quot;}}</td></tr><tr style=\"display: none\"><td><i><div class=\"dni-plaintext\">8</div></i></td><td><div class=\"dni-plaintext\">8</div></td><td><div class=\"dni-plaintext\">835078.75</div></td><td>LightGbmRegression</td><td>{&quot;0&quot;:{},&quot;1&quot;:{&quot;NumberOfLeaves&quot;:10,&quot;MinimumExampleCountPerLeaf&quot;:36,&quot;LearningRate&quot;:0.5413328586783751,&quot;NumberOfTrees&quot;:7,&quot;SubsampleFraction&quot;:0.9999997766729865,&quot;MaximumBinCountPerFeature&quot;:366,&quot;FeatureFraction&quot;:0.9548753471519563,&quot;L1Regularization&quot;:2E-10,&quot;L2Regularization&quot;:0.08277284240976927,&quot;LabelColumnName&quot;:&quot;y&quot;,&quot;FeatureColumnName&quot;:&quot;Features&quot;}}</td></tr><tr style=\"display: none\"><td><i><div class=\"dni-plaintext\">9</div></i></td><td><div class=\"dni-plaintext\">9</div></td><td><div class=\"dni-plaintext\">2264880.8</div></td><td>LightGbmRegression</td><td>{&quot;0&quot;:{},&quot;1&quot;:{&quot;NumberOfLeaves&quot;:6,&quot;MinimumExampleCountPerLeaf&quot;:34,&quot;LearningRate&quot;:0.9999997766729865,&quot;NumberOfTrees&quot;:4,&quot;SubsampleFraction&quot;:0.9999997766729865,&quot;MaximumBinCountPerFeature&quot;:1022,&quot;FeatureFraction&quot;:0.8493106759339805,&quot;L1Regularization&quot;:2.752833867144174E-10,&quot;L2Regularization&quot;:0.027086893709178227,&quot;LabelColumnName&quot;:&quot;y&quot;,&quot;FeatureColumnName&quot;:&quot;Features&quot;}}</td></tr><tr style=\"display: none\"><td><i><div class=\"dni-plaintext\">10</div></i></td><td><div class=\"dni-plaintext\">10</div></td><td><div class=\"dni-plaintext\">15518372</div></td><td>LightGbmRegression</td><td>{&quot;0&quot;:{},&quot;1&quot;:{&quot;NumberOfLeaves&quot;:13,&quot;MinimumExampleCountPerLeaf&quot;:38,&quot;LearningRate&quot;:0.03683486677289391,&quot;NumberOfTrees&quot;:18,&quot;SubsampleFraction&quot;:0.05681903336462996,&quot;MaximumBinCountPerFeature&quot;:129,&quot;FeatureFraction&quot;:0.99999999,&quot;L1Regularization&quot;:2E-10,&quot;L2Regularization&quot;:0.2529394294581281,&quot;LabelColumnName&quot;:&quot;y&quot;,&quot;FeatureColumnName&quot;:&quot;Features&quot;}}</td></tr><tr style=\"display: none\"><td><i><div class=\"dni-plaintext\">11</div></i></td><td><div class=\"dni-plaintext\">11</div></td><td><div class=\"dni-plaintext\">3559083</div></td><td>FastTreeRegression</td><td>{&quot;0&quot;:{},&quot;1&quot;:{&quot;NumberOfLeaves&quot;:4,&quot;MinimumExampleCountPerLeaf&quot;:16,&quot;NumberOfTrees&quot;:4,&quot;MaximumBinCountPerFeature&quot;:188,&quot;FeatureFraction&quot;:0.99999999,&quot;LearningRate&quot;:0.9999997766729865,&quot;LabelColumnName&quot;:&quot;y&quot;,&quot;FeatureColumnName&quot;:&quot;Features&quot;}}</td></tr><tr style=\"display: none\"><td><i><div class=\"dni-plaintext\">12</div></i></td><td><div class=\"dni-plaintext\">12</div></td><td><div class=\"dni-plaintext\">206693.02</div></td><td>FastTreeRegression</td><td>{&quot;0&quot;:{},&quot;1&quot;:{&quot;NumberOfLeaves&quot;:19,&quot;MinimumExampleCountPerLeaf&quot;:7,&quot;NumberOfTrees&quot;:23,&quot;MaximumBinCountPerFeature&quot;:164,&quot;FeatureFraction&quot;:0.99999999,&quot;LearningRate&quot;:0.9999997766729865,&quot;LabelColumnName&quot;:&quot;y&quot;,&quot;FeatureColumnName&quot;:&quot;Features&quot;}}</td></tr><tr style=\"display: none\"><td><i><div class=\"dni-plaintext\">13</div></i></td><td><div class=\"dni-plaintext\">13</div></td><td><div class=\"dni-plaintext\">45738950</div></td><td>FastTreeRegression</td><td>{&quot;0&quot;:{},&quot;1&quot;:{&quot;NumberOfLeaves&quot;:37,&quot;MinimumExampleCountPerLeaf&quot;:16,&quot;NumberOfTrees&quot;:4,&quot;MaximumBinCountPerFeature&quot;:129,&quot;FeatureFraction&quot;:0.99999999,&quot;LearningRate&quot;:0.00046426336161466846,&quot;LabelColumnName&quot;:&quot;y&quot;,&quot;FeatureColumnName&quot;:&quot;Features&quot;}}</td></tr><tr style=\"display: none\"><td><i><div class=\"dni-plaintext\">14</div></i></td><td><div class=\"dni-plaintext\">14</div></td><td><div class=\"dni-plaintext\">28724570</div></td><td>LightGbmRegression</td><td>{&quot;0&quot;:{},&quot;1&quot;:{&quot;NumberOfLeaves&quot;:4,&quot;MinimumExampleCountPerLeaf&quot;:57,&quot;LearningRate&quot;:0.008093745894721952,&quot;NumberOfTrees&quot;:7,&quot;SubsampleFraction&quot;:0.9999997766729865,&quot;MaximumBinCountPerFeature&quot;:178,&quot;FeatureFraction&quot;:0.99999999,&quot;L1Regularization&quot;:2.0641627771065047E-10,&quot;L2Regularization&quot;:0.09022767626668778,&quot;LabelColumnName&quot;:&quot;y&quot;,&quot;FeatureColumnName&quot;:&quot;Features&quot;}}</td></tr><tr style=\"display: none\"><td><i><div class=\"dni-plaintext\">15</div></i></td><td><div class=\"dni-plaintext\">15</div></td><td><div class=\"dni-plaintext\">366513.4</div></td><td>LightGbmRegression</td><td>{&quot;0&quot;:{},&quot;1&quot;:{&quot;NumberOfLeaves&quot;:23,&quot;MinimumExampleCountPerLeaf&quot;:23,&quot;LearningRate&quot;:0.9999997766729865,&quot;NumberOfTrees&quot;:6,&quot;SubsampleFraction&quot;:0.04227740911891621,&quot;MaximumBinCountPerFeature&quot;:752,&quot;FeatureFraction&quot;:0.9087417561115821,&quot;L1Regularization&quot;:2E-10,&quot;L2Regularization&quot;:0.07593394537106159,&quot;LabelColumnName&quot;:&quot;y&quot;,&quot;FeatureColumnName&quot;:&quot;Features&quot;}}</td></tr><tr style=\"display: none\"><td><i><div class=\"dni-plaintext\">16</div></i></td><td><div class=\"dni-plaintext\">16</div></td><td><div class=\"dni-plaintext\">168282.88</div></td><td>FastTreeRegression</td><td>{&quot;0&quot;:{},&quot;1&quot;:{&quot;NumberOfLeaves&quot;:9,&quot;MinimumExampleCountPerLeaf&quot;:3,&quot;NumberOfTrees&quot;:226,&quot;MaximumBinCountPerFeature&quot;:208,&quot;FeatureFraction&quot;:0.9225175683594683,&quot;LearningRate&quot;:0.9999997766729865,&quot;LabelColumnName&quot;:&quot;y&quot;,&quot;FeatureColumnName&quot;:&quot;Features&quot;}}</td></tr><tr style=\"display: none\"><td><i><div class=\"dni-plaintext\">17</div></i></td><td><div class=\"dni-plaintext\">17</div></td><td><div class=\"dni-plaintext\">17166178</div></td><td>LightGbmRegression</td><td>{&quot;0&quot;:{},&quot;1&quot;:{&quot;NumberOfLeaves&quot;:4,&quot;MinimumExampleCountPerLeaf&quot;:34,&quot;LearningRate&quot;:0.14283752396741806,&quot;NumberOfTrees&quot;:4,&quot;SubsampleFraction&quot;:0.016501362168655838,&quot;MaximumBinCountPerFeature&quot;:1022,&quot;FeatureFraction&quot;:0.8382397768662253,&quot;L1Regularization&quot;:4.4896583055841196E-09,&quot;L2Regularization&quot;:7.712407168293753E-05,&quot;LabelColumnName&quot;:&quot;y&quot;,&quot;FeatureColumnName&quot;:&quot;Features&quot;}}</td></tr><tr style=\"display: none\"><td><i><div class=\"dni-plaintext\">18</div></i></td><td><div class=\"dni-plaintext\">18</div></td><td><div class=\"dni-plaintext\">137948.3</div></td><td>LightGbmRegression</td><td>{&quot;0&quot;:{},&quot;1&quot;:{&quot;NumberOfLeaves&quot;:119,&quot;MinimumExampleCountPerLeaf&quot;:20,&quot;LearningRate&quot;:0.9999997766729865,&quot;NumberOfTrees&quot;:10,&quot;SubsampleFraction&quot;:0.10831707731397641,&quot;MaximumBinCountPerFeature&quot;:246,&quot;FeatureFraction&quot;:0.979243735356939,&quot;L1Regularization&quot;:2E-10,&quot;L2Regularization&quot;:0.9999997766729865,&quot;LabelColumnName&quot;:&quot;y&quot;,&quot;FeatureColumnName&quot;:&quot;Features&quot;}}</td></tr><tr style=\"display: none\"><td><i><div class=\"dni-plaintext\">19</div></i></td><td><div class=\"dni-plaintext\">19</div></td><td><div class=\"dni-plaintext\">90409.55</div></td><td>LightGbmRegression</td><td>{&quot;0&quot;:{},&quot;1&quot;:{&quot;NumberOfLeaves&quot;:18776,&quot;MinimumExampleCountPerLeaf&quot;:20,&quot;LearningRate&quot;:0.9999997766729865,&quot;NumberOfTrees&quot;:4,&quot;SubsampleFraction&quot;:0.00029063232534179943,&quot;MaximumBinCountPerFeature&quot;:404,&quot;FeatureFraction&quot;:0.919598874373406,&quot;L1Regularization&quot;:2E-10,&quot;L2Regularization&quot;:0.9999997766729865,&quot;LabelColumnName&quot;:&quot;y&quot;,&quot;FeatureColumnName&quot;:&quot;Features&quot;}}</td></tr><tr style=\"display: none\"><td><i><div class=\"dni-plaintext\">20</div></i></td><td><div class=\"dni-plaintext\">20</div></td><td><div class=\"dni-plaintext\">173304.92</div></td><td>LightGbmRegression</td><td>{&quot;0&quot;:{},&quot;1&quot;:{&quot;NumberOfLeaves&quot;:86,&quot;MinimumExampleCountPerLeaf&quot;:20,&quot;LearningRate&quot;:0.9999997766729865,&quot;NumberOfTrees&quot;:4,&quot;SubsampleFraction&quot;:0.9999997766729865,&quot;MaximumBinCountPerFeature&quot;:1022,&quot;FeatureFraction&quot;:0.9534776100010853,&quot;L1Regularization&quot;:6.07364644517405E-09,&quot;L2Regularization&quot;:0.9999997766729865,&quot;LabelColumnName&quot;:&quot;y&quot;,&quot;FeatureColumnName&quot;:&quot;Features&quot;}}</td></tr><tr style=\"display: none\"><td><i><div class=\"dni-plaintext\">21</div></i></td><td><div class=\"dni-plaintext\">21</div></td><td><div class=\"dni-plaintext\">30203496</div></td><td>LightGbmRegression</td><td>{&quot;0&quot;:{},&quot;1&quot;:{&quot;NumberOfLeaves&quot;:32767,&quot;MinimumExampleCountPerLeaf&quot;:24,&quot;LearningRate&quot;:2.094065219017954E-05,&quot;NumberOfTrees&quot;:166,&quot;SubsampleFraction&quot;:2.7486289430651695E-09,&quot;MaximumBinCountPerFeature&quot;:154,&quot;FeatureFraction&quot;:0.8857201387457266,&quot;L1Regularization&quot;:2E-10,&quot;L2Regularization&quot;:0.004825452936658503,&quot;LabelColumnName&quot;:&quot;y&quot;,&quot;FeatureColumnName&quot;:&quot;Features&quot;}}</td></tr><tr style=\"display: none\"><td><i><div class=\"dni-plaintext\">22</div></i></td><td><div class=\"dni-plaintext\">22</div></td><td><div class=\"dni-plaintext\">45819640</div></td><td>FastTreeRegression</td><td>{&quot;0&quot;:{},&quot;1&quot;:{&quot;NumberOfLeaves&quot;:4,&quot;MinimumExampleCountPerLeaf&quot;:2,&quot;NumberOfTrees&quot;:44,&quot;MaximumBinCountPerFeature&quot;:79,&quot;FeatureFraction&quot;:0.99999999,&quot;LearningRate&quot;:2.174978704140884E-06,&quot;LabelColumnName&quot;:&quot;y&quot;,&quot;FeatureColumnName&quot;:&quot;Features&quot;}}</td></tr><tr style=\"display: none\"><td><i><div class=\"dni-plaintext\">23</div></i></td><td><div class=\"dni-plaintext\">23</div></td><td><div class=\"dni-plaintext\">62639.4</div></td><td>LightGbmRegression</td><td>{&quot;0&quot;:{},&quot;1&quot;:{&quot;NumberOfLeaves&quot;:32767,&quot;MinimumExampleCountPerLeaf&quot;:20,&quot;LearningRate&quot;:0.9999997766729865,&quot;NumberOfTrees&quot;:4,&quot;SubsampleFraction&quot;:0.0004910609397797638,&quot;MaximumBinCountPerFeature&quot;:888,&quot;FeatureFraction&quot;:0.7466675934025189,&quot;L1Regularization&quot;:5.438875603837853E-06,&quot;L2Regularization&quot;:0.0006776518827977476,&quot;LabelColumnName&quot;:&quot;y&quot;,&quot;FeatureColumnName&quot;:&quot;Features&quot;}}</td></tr><tr style=\"display: none\"><td><i><div class=\"dni-plaintext\">24</div></i></td><td><div class=\"dni-plaintext\">24</div></td><td><div class=\"dni-plaintext\">68839.21</div></td><td>FastTreeRegression</td><td>{&quot;0&quot;:{},&quot;1&quot;:{&quot;NumberOfLeaves&quot;:38,&quot;MinimumExampleCountPerLeaf&quot;:7,&quot;NumberOfTrees&quot;:1157,&quot;MaximumBinCountPerFeature&quot;:535,&quot;FeatureFraction&quot;:0.8388767626485135,&quot;LearningRate&quot;:0.9999997766729865,&quot;LabelColumnName&quot;:&quot;y&quot;,&quot;FeatureColumnName&quot;:&quot;Features&quot;}}</td></tr><tr style=\"display: none\"><td><i><div class=\"dni-plaintext\">25</div></i></td><td><div class=\"dni-plaintext\">25</div></td><td><div class=\"dni-plaintext\">30308696</div></td><td>LightGbmRegression</td><td>{&quot;0&quot;:{},&quot;1&quot;:{&quot;NumberOfLeaves&quot;:32767,&quot;MinimumExampleCountPerLeaf&quot;:20,&quot;LearningRate&quot;:6.311868499002285E-09,&quot;NumberOfTrees&quot;:4,&quot;SubsampleFraction&quot;:2.6655886140292923E-10,&quot;MaximumBinCountPerFeature&quot;:1022,&quot;FeatureFraction&quot;:0.6658915560063399,&quot;L1Regularization&quot;:4.413254466736735E-09,&quot;L2Regularization&quot;:0.00847392136406343,&quot;LabelColumnName&quot;:&quot;y&quot;,&quot;FeatureColumnName&quot;:&quot;Features&quot;}}</td></tr><tr style=\"display: none\"><td><i><div class=\"dni-plaintext\">26</div></i></td><td><div class=\"dni-plaintext\">26</div></td><td><div class=\"dni-plaintext\">49348.62</div></td><td>FastTreeRegression</td><td>{&quot;0&quot;:{},&quot;1&quot;:{&quot;NumberOfLeaves&quot;:15,&quot;MinimumExampleCountPerLeaf&quot;:2,&quot;NumberOfTrees&quot;:93,&quot;MaximumBinCountPerFeature&quot;:1022,&quot;FeatureFraction&quot;:0.99999999,&quot;LearningRate&quot;:0.9999997766729865,&quot;LabelColumnName&quot;:&quot;y&quot;,&quot;FeatureColumnName&quot;:&quot;Features&quot;}}</td></tr><tr style=\"display: none\"><td><i><div class=\"dni-plaintext\">27</div></i></td><td><div class=\"dni-plaintext\">27</div></td><td><div class=\"dni-plaintext\">807310.6</div></td><td>LightGbmRegression</td><td>{&quot;0&quot;:{},&quot;1&quot;:{&quot;NumberOfLeaves&quot;:21536,&quot;MinimumExampleCountPerLeaf&quot;:297,&quot;LearningRate&quot;:0.9999997766729865,&quot;NumberOfTrees&quot;:10,&quot;SubsampleFraction&quot;:0.9999997766729865,&quot;MaximumBinCountPerFeature&quot;:72,&quot;FeatureFraction&quot;:0.8274436307986979,&quot;L1Regularization&quot;:0.00670284663097973,&quot;L2Regularization&quot;:5.419121260751587E-05,&quot;LabelColumnName&quot;:&quot;y&quot;,&quot;FeatureColumnName&quot;:&quot;Features&quot;}}</td></tr></tbody><tfoot><tr><td colspan=\"5\" style=\"text-align: center;\"><button style=\"margin: 2px;\" onclick=\"var allRows = document.querySelectorAll(&#39;#table_637927148138551409 tbody tr:nth-child(n)&#39;); for (let i = 0; i &lt; allRows.length; i++) { allRows[i].style.display=&#39;none&#39;; } document.querySelector(&#39;#page_637927148138551409&#39;).innerHTML = 1; var page = parseInt(document.querySelector(&#39;#page_637927148138551409&#39;).innerHTML) - 1; var pageRows = document.querySelectorAll(`#table_637927148138551409 tbody tr:nth-child(n + ${page * 25 + 1 })`); for (let j = 0; j &lt; 25; j++) { pageRows[j].style.display=&#39;table-row&#39;; } \">⏮</button><button style=\"margin: 2px;\" onclick=\"var allRows = document.querySelectorAll(&#39;#table_637927148138551409 tbody tr:nth-child(n)&#39;); for (let i = 0; i &lt; allRows.length; i++) { allRows[i].style.display=&#39;none&#39;; } var page = parseInt(document.querySelector(&#39;#page_637927148138551409&#39;).innerHTML) - 1; page = parseInt(page) + parseInt(-10); page = page &lt; 0 ? 0 : page; page = page > 1 ? 1 : page; document.querySelector(&#39;#page_637927148138551409&#39;).innerHTML = page + 1; var page = parseInt(document.querySelector(&#39;#page_637927148138551409&#39;).innerHTML) - 1; var pageRows = document.querySelectorAll(`#table_637927148138551409 tbody tr:nth-child(n + ${page * 25 + 1 })`); for (let j = 0; j &lt; 25; j++) { pageRows[j].style.display=&#39;table-row&#39;; } \">⏪</button><button style=\"margin: 2px;\" onclick=\"var allRows = document.querySelectorAll(&#39;#table_637927148138551409 tbody tr:nth-child(n)&#39;); for (let i = 0; i &lt; allRows.length; i++) { allRows[i].style.display=&#39;none&#39;; } var page = parseInt(document.querySelector(&#39;#page_637927148138551409&#39;).innerHTML) - 1; page = parseInt(page) + parseInt(-1); page = page &lt; 0 ? 0 : page; page = page > 1 ? 1 : page; document.querySelector(&#39;#page_637927148138551409&#39;).innerHTML = page + 1; var page = parseInt(document.querySelector(&#39;#page_637927148138551409&#39;).innerHTML) - 1; var pageRows = document.querySelectorAll(`#table_637927148138551409 tbody tr:nth-child(n + ${page * 25 + 1 })`); for (let j = 0; j &lt; 25; j++) { pageRows[j].style.display=&#39;table-row&#39;; } \">◀️</button><b style=\"margin: 2px;\">Page</b><b id=\"page_637927148138551409\" style=\"margin: 2px;\">1</b><button style=\"margin: 2px;\" onclick=\"var allRows = document.querySelectorAll(&#39;#table_637927148138551409 tbody tr:nth-child(n)&#39;); for (let i = 0; i &lt; allRows.length; i++) { allRows[i].style.display=&#39;none&#39;; } var page = parseInt(document.querySelector(&#39;#page_637927148138551409&#39;).innerHTML) - 1; page = parseInt(page) + parseInt(1); page = page &lt; 0 ? 0 : page; page = page > 1 ? 1 : page; document.querySelector(&#39;#page_637927148138551409&#39;).innerHTML = page + 1; var page = parseInt(document.querySelector(&#39;#page_637927148138551409&#39;).innerHTML) - 1; var pageRows = document.querySelectorAll(`#table_637927148138551409 tbody tr:nth-child(n + ${page * 25 + 1 })`); for (let j = 0; j &lt; 25; j++) { pageRows[j].style.display=&#39;table-row&#39;; } \">▶️</button><button style=\"margin: 2px;\" onclick=\"var allRows = document.querySelectorAll(&#39;#table_637927148138551409 tbody tr:nth-child(n)&#39;); for (let i = 0; i &lt; allRows.length; i++) { allRows[i].style.display=&#39;none&#39;; } var page = parseInt(document.querySelector(&#39;#page_637927148138551409&#39;).innerHTML) - 1; page = parseInt(page) + parseInt(10); page = page &lt; 0 ? 0 : page; page = page > 1 ? 1 : page; document.querySelector(&#39;#page_637927148138551409&#39;).innerHTML = page + 1; var page = parseInt(document.querySelector(&#39;#page_637927148138551409&#39;).innerHTML) - 1; var pageRows = document.querySelectorAll(`#table_637927148138551409 tbody tr:nth-child(n + ${page * 25 + 1 })`); for (let j = 0; j &lt; 25; j++) { pageRows[j].style.display=&#39;table-row&#39;; } \">⏩</button><button style=\"margin: 2px;\" onclick=\"var allRows = document.querySelectorAll(&#39;#table_637927148138551409 tbody tr:nth-child(n)&#39;); for (let i = 0; i &lt; allRows.length; i++) { allRows[i].style.display=&#39;none&#39;; } document.querySelector(&#39;#page_637927148138551409&#39;).innerHTML = 2; var page = parseInt(document.querySelector(&#39;#page_637927148138551409&#39;).innerHTML) - 1; var pageRows = document.querySelectorAll(`#table_637927148138551409 tbody tr:nth-child(n + ${page * 25 + 1 })`); for (let j = 0; j &lt; 25; j++) { pageRows[j].style.display=&#39;table-row&#39;; } \">⏭️</button></td></tr></tfoot></table><script>var page = parseInt(document.querySelector('#page_637927148138551409').innerHTML) - 1; var pageRows = document.querySelectorAll(`#table_637927148138551409 tbody tr:nth-child(n + ${page * 25 + 1 })`); for (let j = 0; j < 25; j++) { pageRows[j].style.display='table-row'; } </script>"
          },
          "execution_count": 1,
          "metadata": {}
        }
      ]
    },
    {
      "cell_type": "markdown",
      "metadata": {},
      "source": [
        "## Check model/metric from experiment result"
      ]
    },
    {
      "cell_type": "code",
      "execution_count": 1,
      "metadata": {
        "dotnet_interactive": {
          "language": "csharp"
        }
      },
      "source": [
        "// get model\n",
        "var model  = res.Model;\n",
        "var eval = model.Transform(trainTestSplit.TestSet);\n",
        "var metric = context.Regression.Evaluate(eval, \"y\");\n",
        "\n",
        "// should be identical with res.Metric\n",
        "metric.RootMeanSquaredError"
      ],
      "outputs": [
        {
          "output_type": "execute_result",
          "data": {
            "text/html": "<div class=\"dni-plaintext\">49348.620433557706</div>"
          },
          "execution_count": 1,
          "metadata": {}
        }
      ]
    },
    {
      "cell_type": "markdown",
      "metadata": {},
      "source": [
        "# Continue learning\n",
        "\n",
        "> [⏩ Next Module - Model Evaluation](https://ntbk.io/ml-04-evaluation)  \n",
        "> [⏪ Last Module - Data Prep and Feature Engineering](https://ntbk.io/ml-02-data)  "
      ]
    }
  ],
  "metadata": {
    "kernelspec": {
      "display_name": ".NET (C#)",
      "language": "C#",
      "name": ".net-csharp"
    },
    "language_info": {
      "file_extension": ".cs",
      "mimetype": "text/x-csharp",
      "name": "C#",
      "pygments_lexer": "csharp",
      "version": "8.0"
    }
  },
  "nbformat": 4,
  "nbformat_minor": 4
}