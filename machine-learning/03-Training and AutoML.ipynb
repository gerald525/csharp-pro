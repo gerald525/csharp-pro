{
  "cells": [
    {
      "cell_type": "markdown",
      "metadata": {},
      "source": [
        "# Training and AutoML"
      ]
    },
    {
      "cell_type": "markdown",
      "metadata": {},
      "source": [
        "## In this Notebook, you will learn\n",
        "- What does __Training__ mean?\n",
        "- Introduction to trainers,  some of their differences, and how to decide which one to use.\n",
        "- How hyper-parameters impact training performance.\n",
        "- How to use AutoML to simplify your training process."
      ]
    },
    {
      "cell_type": "markdown",
      "metadata": {},
      "source": [
        "## What does __Training__ mean.\n",
        "Before diving into code, let's first talk a little about what does \"train a model\" actually mean. \n",
        "\n",
        "In ML.Net, \"train a model\" usually means call `model.Fit(X)` in ML.Net, where `X` is an `IDataView` which includes both feature and label. So what happen when you call `Fit`? Generally speaking, `Fit` updates parameters in the trainer so it can predict label that is **close** to the actual label in `X`, or in another word, to decrease the distance between predicted and actual label.\n",
        "\n",
        "In machine learning, the difference or distance between predicted and actual label is usually called **loss** and you use different loss measures based on the task. For classification softmax is a common loss measure. For regression, Root Mean Squared Error (RMSE) is a common loss measure. In general though, they are all metrics to quantify the distance between the predicted and actual label. In most of cases, a **lower loss means a better model**. For more information, see the [ML.NET evaluation metrics guide](https://docs.microsoft.com/dotnet/machine-learning/resources/metrics).\n",
        "\n",
        "So `Fit` applies an algorithm to your data to identify patterns and adjust parameters in that algorithm to lower the loss. When you train a model, you want to decrease its loss to make the prediction of that model closer to the actual label."
      ]
    },
    {
      "cell_type": "markdown",
      "metadata": {},
      "source": [
        "## Trainers in ML.Net\n",
        "ML.NET provides a variety of trainers. You can find most of them under the [StandardTrainersCatalog](https://docs.microsoft.com/dotnet/api/microsoft.ml.standardtrainerscatalog?view=ml-dotnet). Examples of trainers include linear trainers like `SDCA`, `Lbfgs`, `LinearSvm` and tree-based non-linear trainers like `FastTree`, `RandomForest` and `LightGbm`. Generally, each trainer's capability is different. Non-linear models sometimes have better training performance (lower loss) than linear ones, but it doesn't always mean they are always the better choice. Picking the right trainer to build the best model for your data requires many attempts of trial and error.\n",
        "\n",
        "### Overfitting and Underfitting\n",
        "Overfitting and underfitting are the two most common problems you encounter when training a model. Underfitting means the selected trainer is not capable enough to fit training dataset and usually result in a high loss during training and low score/metric on test dataset. To resolve this you need to either select a more powerful model or perform more feature engineering. Overfitting is the opposite, which happens when the model learns the training data too well. This usually results in low loss metric during training but high loss on test dataset.\n",
        "\n",
        "A good analogy for these concepts is studying for an exam. Let's say you knew the questions and answers ahead of time. After studying, you take the test and get a perfect score. Great news! However, when you're given the exam again with the questions rearranged and with slightly different wording you get a lower score. That suggests you memorized the answers and didn't actually learn the concepts you were being tested on. This is an example of overfitting. Underfitting is the opposite where the study materials you were given don't accurately represent what you're evaluated on for the exam. As a result, you resort to guessing the answers since you don't have enough knowledge to answer correctly.\n",
        "\n",
        "### Difference in parameter and hyper-parameter\n",
        "In the nutshell, parameters are internal to a trainer, and are updated based on training dataset during training(`Fit`) process. While hyper-parameters are external to a trainer and control the training process. For example, in `LightGbm`, `LearningRate` is a hyper-parameter which you can designate when creating and it controls the updating steps for the tree nodes weight during training. And tree nodes weight is parameter which is adjusted during `Fit` process.\n",
        "\n",
        "### Hyper-parameter optimization\n",
        "Choosing the right trainer impacts your final training performance. Choosing the right hyper-parameters also has a huge impact over the final training performance, especially for tree-base trainers. Hyper-parameters are important because it controls how parameters are updated. For example, larger `numberOfLeaves` in `LightGbm` produces a larger model and usually enables it to fit on a more complex dataset, but it might have counter effect on small dataset and cause **overfitting**. Conversely, if the dataset is complex but you set a small `numberOfLeaves`, it might impair `LightGbm`'s ability to fit that dataset and cause **underfitting**.\n",
        "\n",
        "The process of finding the best configuration for your trainer is known as hyper-parameter optimization (HPO). Like the process of choosing your trainer it involves a lot of trial and error. The built-in Automated ML (AutoML) capabilities in ML.NET simplify the HPO process.\n",
        "\n",
        "In the next section, we will go through two examples. The first example trains a regression model on a linear dataset using both linear and more advanced non-linear trainers to highlight the importance of selecting the right trainer. The second example trains a regression model on a non-linear dataset using `LightGbm` with different hyper-parameters to show the importance of hyper-parameter optimization"
      ]
    },
    {
      "cell_type": "markdown",
      "metadata": {},
      "source": [
        "## Example 1: Linear regression\n",
        "In the below section, we are going to show the difference of trainers via a linear regression task. First, we fit the linear dataset with the linear trainer, `SDCA`. Then we fit the linear dataset with `LightGbm`, a tree-base non-linear trainer. Their performance is evaluated against a test dataset. The code below:\n",
        "- Creates a linear dataset and splits it into train/test sets\n",
        "- Create training pipelines using `SDCA` and `LightGbm`\n",
        "- Trains both `SDCA` and `LightGbm` on the linear training set, and evaluates them on the test set."
      ]
    },
    {
      "cell_type": "code",
      "execution_count": 1,
      "metadata": {
        "dotnet_interactive": {
          "language": "csharp"
        }
      },
      "source": [
        "// install dependencies and import using statement\n",
        "#i \"nuget:https://mlnetcli.blob.core.windows.net/mlnetcli/index.json\"\n",
        "#r \"nuget:Microsoft.DotNet.Interactive.Formatting, 1.0.0-beta.22256.1\"\n",
        "#r \"nuget:MLNetAutoML.InteractiveExtension,0.2.0\"\n",
        "\n",
        "// XPlot is used to plot trials during training because it's strong-named. However it's recommended to use Ploty.Net to plot digrams in notebook.\n",
        "#r \"nuget:XPlot.Plotly.Interactive,4.0.6\"\n",
        "#r \"nuget: Microsoft.ML.AutoML, 0.20.0-preview.22313.1\"\n",
        "#r \"nuget:Microsoft.Data.Analysis,0.20.0-preview.22226.2\""
      ],
      "outputs": [
        {
          "output_type": "execute_result",
          "data": {
            "text/html": "<div><div><strong>Restore sources</strong><ul><li><span>https://mlnetcli.blob.core.windows.net/mlnetcli/index.json</span></li></ul></div><div></div><div><strong>Installed Packages</strong><ul><li><span>Microsoft.Data.Analysis, 0.20.0-preview.22226.2</span></li><li><span>Microsoft.DotNet.Interactive.Formatting, 1.0.0-beta.22256.1</span></li><li><span>Microsoft.ML.AutoML, 0.20.0-preview.22313.1</span></li><li><span>MLNetAutoML.InteractiveExtension, 0.2.0</span></li><li><span>XPlot.Plotly.Interactive, 4.0.6</span></li></ul></div></div>"
          },
          "execution_count": 1,
          "metadata": {}
        },
        {
          "output_type": "execute_result",
          "data": {
            "text/markdown": "Loading extensions from `MLNetAutoML.InteractiveExtension.dll`"
          },
          "execution_count": 1,
          "metadata": {}
        },
        {
          "output_type": "execute_result",
          "data": {
            "text/markdown": "Loading extensions from `XPlot.Plotly.Interactive.dll`"
          },
          "execution_count": 1,
          "metadata": {}
        },
        {
          "output_type": "execute_result",
          "data": {
            "text/markdown": "Configuring PowerShell Kernel for XPlot.Plotly integration."
          },
          "execution_count": 1,
          "metadata": {}
        },
        {
          "output_type": "execute_result",
          "data": {
            "text/markdown": "Installed support for XPlot.Plotly."
          },
          "execution_count": 1,
          "metadata": {}
        },
        {
          "output_type": "execute_result",
          "data": {
            "text/markdown": "Loading extensions from `Microsoft.Data.Analysis.Interactive.dll`"
          },
          "execution_count": 1,
          "metadata": {}
        }
      ]
    },
    {
      "cell_type": "code",
      "execution_count": 1,
      "metadata": {
        "dotnet_interactive": {
          "language": "csharp"
        }
      },
      "source": [
        "// Import usings.\n",
        "using Microsoft.Data.Analysis;\n",
        "using System;\n",
        "using System.IO;\n",
        "using Microsoft.ML;\n",
        "using Microsoft.ML.AutoML;\n",
        "using Microsoft.ML.Data;\n",
        "using MLNetAutoML.InteractiveExtension;"
      ],
      "outputs": []
    },
    {
      "cell_type": "markdown",
      "metadata": {},
      "source": [
        "## Create linear dataset\n",
        "The code below creates a linear dataset with a random residual. The dataset is loaded into train and test set."
      ]
    },
    {
      "cell_type": "code",
      "execution_count": 1,
      "metadata": {
        "dotnet_interactive": {
          "language": "csharp"
        }
      },
      "source": [
        "var rand = new Random(0);\n",
        "var context =new MLContext(seed: 1);\n",
        "var x = Enumerable.Range(-10000, 10000).Select(_x => _x * 0.1f).ToArray();\n",
        "var y = x.Select(_x => 100 * _x + (rand.NextSingle() - 0.5f) * 10).ToArray();\n",
        "var df = new DataFrame();\n",
        "df[\"X\"] = DataFrameColumn.Create(\"X\", x);\n",
        "df[\"y\"] = DataFrameColumn.Create(\"y\", y);\n",
        "var trainTestSplit = context.Data.TrainTestSplit(df);\n",
        "df.Head(10)"
      ],
      "outputs": [
        {
          "output_type": "execute_result",
          "data": {
            "text/html": "<table id=\"table_637920460157199058\"><thead><tr><th><i>index</i></th><th>X</th><th>y</th></tr></thead><tbody><tr><td><i><div class=\"dni-plaintext\">0</div></i></td><td><div class=\"dni-plaintext\">-1000</div></td><td><div class=\"dni-plaintext\">-99997.734</div></td></tr><tr><td><i><div class=\"dni-plaintext\">1</div></i></td><td><div class=\"dni-plaintext\">-999.9</div></td><td><div class=\"dni-plaintext\">-99986.83</div></td></tr><tr><td><i><div class=\"dni-plaintext\">2</div></i></td><td><div class=\"dni-plaintext\">-999.8</div></td><td><div class=\"dni-plaintext\">-99977.32</div></td></tr><tr><td><i><div class=\"dni-plaintext\">3</div></i></td><td><div class=\"dni-plaintext\">-999.7</div></td><td><div class=\"dni-plaintext\">-99969.42</div></td></tr><tr><td><i><div class=\"dni-plaintext\">4</div></i></td><td><div class=\"dni-plaintext\">-999.60004</div></td><td><div class=\"dni-plaintext\">-99962.94</div></td></tr><tr><td><i><div class=\"dni-plaintext\">5</div></i></td><td><div class=\"dni-plaintext\">-999.5</div></td><td><div class=\"dni-plaintext\">-99949.414</div></td></tr><tr><td><i><div class=\"dni-plaintext\">6</div></i></td><td><div class=\"dni-plaintext\">-999.4</div></td><td><div class=\"dni-plaintext\">-99935.94</div></td></tr><tr><td><i><div class=\"dni-plaintext\">7</div></i></td><td><div class=\"dni-plaintext\">-999.3</div></td><td><div class=\"dni-plaintext\">-99930.58</div></td></tr><tr><td><i><div class=\"dni-plaintext\">8</div></i></td><td><div class=\"dni-plaintext\">-999.2</div></td><td><div class=\"dni-plaintext\">-99915.23</div></td></tr><tr><td><i><div class=\"dni-plaintext\">9</div></i></td><td><div class=\"dni-plaintext\">-999.10004</div></td><td><div class=\"dni-plaintext\">-99912.266</div></td></tr></tbody></table>"
          },
          "execution_count": 1,
          "metadata": {}
        }
      ]
    },
    {
      "cell_type": "markdown",
      "metadata": {},
      "source": [
        "## Construct pipeline\n",
        "The code below shows how to construct training pipelines for both `SDCA` and `LightGbm`. The `Concatenate` transformer is required to convert a `single` column into `Vector<single>` type, which is the expected feature type for both `SDCA` and `LightGbm` regressor."
      ]
    },
    {
      "cell_type": "code",
      "execution_count": 1,
      "metadata": {
        "dotnet_interactive": {
          "language": "csharp"
        }
      },
      "source": [
        "var sdcaPipeline = context.Transforms.Concatenate(\"Features\", \"X\")\n",
        "                            .Append(context.Regression.Trainers.Sdca(\"y\"));"
      ],
      "outputs": []
    },
    {
      "cell_type": "code",
      "execution_count": 1,
      "metadata": {
        "dotnet_interactive": {
          "language": "csharp"
        }
      },
      "source": [
        "var lgbmPipeline = context.Transforms.Concatenate(\"Features\", \"X\")\n",
        "                            .Append(context.Regression.Trainers.LightGbm(\"y\"));"
      ],
      "outputs": []
    },
    {
      "cell_type": "markdown",
      "metadata": {},
      "source": [
        "## Train and evaluate model\n",
        "The code below first trains `sdcaPipeline` and `lgbmPipeline` which are created above, then evaluates their performance on test dataset by calculating `Root Mean Square Error` between predicted and actual value. `SDCA` has better performance with a significantly lower `Root Mean Square Error` compared to `LightGbm` even though it's a simpler linear model. This is because the training dataset is also linear, so `SDCA` can fit the dataset better than `LightGbm`."
      ]
    },
    {
      "cell_type": "code",
      "execution_count": 1,
      "metadata": {
        "dotnet_interactive": {
          "language": "csharp"
        }
      },
      "source": [
        "var sdcaModel = sdcaPipeline.Fit(trainTestSplit.TrainSet);\n",
        "var lgbmModel = lgbmPipeline.Fit(trainTestSplit.TrainSet);\n",
        "\n",
        "// evaluate on train set\n",
        "var sdcaTrainEval = sdcaModel.Transform(trainTestSplit.TrainSet);\n",
        "var sdcaTrainMetric = context.Regression.Evaluate(sdcaTrainEval, \"y\");\n",
        "\n",
        "var lgbmTrainEval = lgbmModel.Transform(trainTestSplit.TrainSet);\n",
        "var lgbmTrainMetric = context.Regression.Evaluate(lgbmTrainEval, \"y\");\n",
        "\n",
        "Console.WriteLine($\"sdca rmse on trainset: {sdcaTrainMetric.RootMeanSquaredError}, lgbm rmse on trainset: {lgbmTrainMetric.RootMeanSquaredError}\");\n",
        "\n",
        "// evaluate on test set\n",
        "var sdcaTestEval = sdcaModel.Transform(trainTestSplit.TestSet);\n",
        "var sdcaTestMetric = context.Regression.Evaluate(sdcaTestEval, \"y\");\n",
        "\n",
        "var lgbmTestEval = lgbmModel.Transform(trainTestSplit.TestSet);\n",
        "var lgbmTestMetric = context.Regression.Evaluate(lgbmTestEval, \"y\");\n",
        "Console.WriteLine($\"sdca rmse on testset: {sdcaTestMetric.RootMeanSquaredError}, lgbm rmse on testset: {lgbmTestMetric.RootMeanSquaredError}\");"
      ],
      "outputs": [
        {
          "output_type": "execute_result",
          "data": {
            "text/plain": "sdca rmse on testset: 24725049.993024595, lgbm rmse on testset: 141602.10900448798\r\n"
          },
          "execution_count": 1,
          "metadata": {}
        }
      ]
    },
    {
      "cell_type": "markdown",
      "metadata": {},
      "source": [
        "## Example 2: Non-linear regression on LightGbm.\n",
        "This example shows the importance of hyper-parameter optimization. First we create a non-linear dataset and two pipelines. One pipeline has `LightGbm` with `numberOfLeaves` set to `10`, the other's set to `1000`. Both pipelines are trained with the same training dataset and their training performance is evaluated on the same test dataset."
      ]
    },
    {
      "cell_type": "markdown",
      "metadata": {},
      "source": [
        "## Create non-linear dataset\n",
        "The code below creates a non-linear dataset with a random residual. The dataset is loaded into train and test set"
      ]
    },
    {
      "cell_type": "code",
      "execution_count": 1,
      "metadata": {
        "dotnet_interactive": {
          "language": "csharp"
        }
      },
      "source": [
        "var rand = new Random(0);\n",
        "var context =new MLContext(seed: 1);\n",
        "var x = Enumerable.Range(-10000, 10000).Select(_x => _x * 0.1f).ToArray();\n",
        "var y = x.Select(_x => 100 * _x * _x + (rand.NextSingle() - 0.5f) * 10).ToArray();\n",
        "var df = new DataFrame();\n",
        "df[\"X\"] = DataFrameColumn.Create(\"X\", x);\n",
        "df[\"y\"] = DataFrameColumn.Create(\"y\", y);\n",
        "var trainTestSplit = context.Data.TrainTestSplit(df);\n",
        "df.Head(10)"
      ],
      "outputs": [
        {
          "output_type": "execute_result",
          "data": {
            "text/html": "<table id=\"table_637920460249268545\"><thead><tr><th><i>index</i></th><th>X</th><th>y</th></tr></thead><tbody><tr><td><i><div class=\"dni-plaintext\">0</div></i></td><td><div class=\"dni-plaintext\">-1000</div></td><td><div class=\"dni-plaintext\">100000000</div></td></tr><tr><td><i><div class=\"dni-plaintext\">1</div></i></td><td><div class=\"dni-plaintext\">-999.9</div></td><td><div class=\"dni-plaintext\">99980000</div></td></tr><tr><td><i><div class=\"dni-plaintext\">2</div></i></td><td><div class=\"dni-plaintext\">-999.8</div></td><td><div class=\"dni-plaintext\">99960000</div></td></tr><tr><td><i><div class=\"dni-plaintext\">3</div></i></td><td><div class=\"dni-plaintext\">-999.7</div></td><td><div class=\"dni-plaintext\">99940010</div></td></tr><tr><td><i><div class=\"dni-plaintext\">4</div></i></td><td><div class=\"dni-plaintext\">-999.60004</div></td><td><div class=\"dni-plaintext\">99920020</div></td></tr><tr><td><i><div class=\"dni-plaintext\">5</div></i></td><td><div class=\"dni-plaintext\">-999.5</div></td><td><div class=\"dni-plaintext\">99900024</div></td></tr><tr><td><i><div class=\"dni-plaintext\">6</div></i></td><td><div class=\"dni-plaintext\">-999.4</div></td><td><div class=\"dni-plaintext\">99880050</div></td></tr><tr><td><i><div class=\"dni-plaintext\">7</div></i></td><td><div class=\"dni-plaintext\">-999.3</div></td><td><div class=\"dni-plaintext\">99860050</div></td></tr><tr><td><i><div class=\"dni-plaintext\">8</div></i></td><td><div class=\"dni-plaintext\">-999.2</div></td><td><div class=\"dni-plaintext\">99840070</div></td></tr><tr><td><i><div class=\"dni-plaintext\">9</div></i></td><td><div class=\"dni-plaintext\">-999.10004</div></td><td><div class=\"dni-plaintext\">99820090</div></td></tr></tbody></table>"
          },
          "execution_count": 1,
          "metadata": {}
        }
      ]
    },
    {
      "cell_type": "markdown",
      "metadata": {},
      "source": [
        "## Construct pipeline\n",
        "The code below shows how to construct training pipelines for `LightGbm` with different hyper-parameters. The `Concatenate` transformer is required because it converts a `single` column into `Vector<single>` type, which is the expected feature type for the `LightGbm` trainer."
      ]
    },
    {
      "cell_type": "code",
      "execution_count": 1,
      "metadata": {
        "dotnet_interactive": {
          "language": "csharp"
        }
      },
      "source": [
        "var smallLgbmPipeline = context.Transforms.Concatenate(\"Features\", \"X\")\n",
        "                            .Append(context.Regression.Trainers.LightGbm(\"y\", numberOfLeaves: 10));"
      ],
      "outputs": []
    },
    {
      "cell_type": "code",
      "execution_count": 1,
      "metadata": {
        "dotnet_interactive": {
          "language": "csharp"
        }
      },
      "source": [
        "var largeLgbmPipeline = context.Transforms.Concatenate(\"Features\", \"X\")\n",
        "                            .Append(context.Regression.Trainers.LightGbm(\"y\", numberOfLeaves: 1000));"
      ],
      "outputs": []
    },
    {
      "cell_type": "markdown",
      "metadata": {},
      "source": [
        "## Train and evaluate model\n",
        "The code below first trains `smallLgbmPipeline` and `largeLgbmPipeline` which are created above, then evaluates their performance on the test dataset by calculating the `Root Mean Square Error` between predicted and actual value. The model created by `largeLgbmPipeline` has better performance with a lower RMSE."
      ]
    },
    {
      "cell_type": "code",
      "execution_count": 1,
      "metadata": {
        "dotnet_interactive": {
          "language": "csharp"
        }
      },
      "source": [
        "var smallLgbmModel = smallLgbmPipeline.Fit(trainTestSplit.TrainSet);\n",
        "var largeLgbmModel = largeLgbmPipeline.Fit(trainTestSplit.TrainSet);\n",
        "\n",
        "// evaluate on test set\n",
        "var smallTestEval = smallLgbmModel.Transform(trainTestSplit.TrainSet);\n",
        "var smallLgbmMetric = context.Regression.Evaluate(smallTestEval, \"y\");\n",
        "\n",
        "var largeLgbmEval = largeLgbmModel.Transform(trainTestSplit.TrainSet);\n",
        "var largeLgbmMetric = context.Regression.Evaluate(largeLgbmEval, \"y\");\n",
        "\n",
        "Console.WriteLine($\"small lgbm rmse on testset: {smallLgbmMetric.RootMeanSquaredError}, large lgbm rmse on testset: {largeLgbmMetric.RootMeanSquaredError}\");"
      ],
      "outputs": [
        {
          "output_type": "execute_result",
          "data": {
            "text/plain": "small lgbm rmse on testset: 173938.52924678137, large lgbm rmse on testset: 132927.2510939994\r\n"
          },
          "execution_count": 1,
          "metadata": {}
        }
      ]
    },
    {
      "cell_type": "markdown",
      "metadata": {},
      "source": [
        "## Use AutoML to simplify trainer selection and hyper-parameter optimization.\n",
        "Trainer selection and Hyper-parameter optimization is an important process with lots of trial and error. This process can be automated and simplified using the built-in `AutoMLExperiment`. `AutoMLExperiment` applies the latest research from Microsoft Research to conduct a swift, accurate and thorough hyper-parameter optimization given a limited time budget.\n",
        "\n",
        "The code below shows how to use `AutoMLExperiment` for finding the best trainer along with its best hyper parrameter on the non-linear dataset used in Example 2. Firstly, a `SweepableEstimatorPipeline` is created via `context.Auto().Regression(\"y\")`, which returns the most popular regressors along with their default search space in ML.Net. Then an `AutoMLExperiment` is created. It uses `RootMeanSquaredError` as the optimization metric and train-test validation to evaluate trial score, and uses `NotebookMonitor` to present the training process. Once the training is completed, it returns the best trial as result."
      ]
    },
    {
      "cell_type": "code",
      "execution_count": 1,
      "metadata": {
        "dotnet_interactive": {
          "language": "csharp"
        }
      },
      "source": [
        "var context =new MLContext(seed: 1);\n",
        "var pipeline = context.Transforms.Concatenate(\"Features\", \"X\")\n",
        "    .Append(context.Auto().Regression(\"y\", useLbfgs: false, useSdca: false, useFastForest: false));\n",
        "\n",
        "var monitor = new NotebookMonitor();\n",
        "var experiment = context.Auto().CreateExperiment();\n",
        "experiment.SetPipeline(pipeline)\n",
        "        .SetEvaluateMetric(RegressionMetric.RootMeanSquaredError, \"y\")\n",
        "        .SetTrainingTimeInSeconds(100)\n",
        "        .SetDataset(trainTestSplit.TrainSet, trainTestSplit.TestSet)\n",
        "        .SetMonitor(monitor);\n",
        "\n",
        "// Configure Visualizer\t\t\t\n",
        "monitor.SetUpdate(monitor.Display());\n",
        "\n",
        "var res = await experiment.RunAsync();"
      ],
      "outputs": [
        {
          "output_type": "execute_result",
          "data": {
            "text/html": "<div><h3>Best Run</h3><p>Trial: 26</p><p>Trainer: LightGbmRegression</p><h3>Active Run</h3><p>Trial: 27</p><p>Trainer: FastTreeRegression</p><p>Parameters: {\r\n  &quot;0&quot;: {},\r\n  &quot;1&quot;: {\r\n    &quot;NumberOfLeaves&quot;: 4,\r\n    &quot;MinimumExampleCountPerLeaf&quot;: 16,\r\n    &quot;NumberOfTrees&quot;: 32767,\r\n    &quot;MaximumBinCountPerFeature&quot;: 1022,\r\n    &quot;FeatureFraction&quot;: 0.99999999,\r\n    &quot;LearningRate&quot;: 0.9999997766729865,\r\n    &quot;LabelColumnName&quot;: &quot;y&quot;,\r\n    &quot;FeatureColumnName&quot;: &quot;Features&quot;\r\n  }\r\n}</p></div><!DOCTYPE html>\r\n<div style=\"width: 500px; height: 500px;\" id=\"0c4f87af-242f-476a-922f-02970a6dc6fb\"></div><script type=\"text/javascript\">\r\n\nvar renderPlotly = function() {\n    var xplotRequire = require.config({context:'xplot-3.0.1',paths:{plotly:'https://cdn.plot.ly/plotly-1.49.2.min'}}) || require;\n    xplotRequire(['plotly'], function(Plotly) { \r\n\n            var data = [{\"type\":\"scatter\",\"x\":[0,1,2,3,4,5,6,7,8,9,10,11,12,13,14,15,16,17,18,19,20,21,22,23,24,25,26],\"y\":[30531504.718025338,44041800.439614706,3561386.8891544966,2706663.7876476,1485122.7795029366,21339913.669474382,4735599.126890524,1614992.3010363136,2220204.069736468,16984647.715769324,1317194.081918289,43842555.01842103,660993.0606095619,1416844.4701900324,549449.269242993,1794147.4255548022,1709101.4548833224,339129.073390491,30161470.014689423,4831583.972895921,286596.01757012453,42483.29600020913,45399392.57038312,1173902.0807317141,107449.24938705706,93445.5643702785,41441.10553270719],\"mode\":\"markers\"}];\n           var layout = {\"title\":\"Plot metrics over trials.\",\"showlegend\":false,\"xaxis\":{\"title\":\"Trial\",\"_isSubplotObj\":true},\"yaxis\":{\"title\":\"Metric\",\"_isSubplotObj\":true}};\n           Plotly.newPlot('0c4f87af-242f-476a-922f-02970a6dc6fb', data, layout);\n        \r\n});\n};\r\n// ensure `require` is available globally\r\nif ((typeof(require) !==  typeof(Function)) || (typeof(require.config) !== typeof(Function))) {\r\n    let require_script = document.createElement('script');\r\n    require_script.setAttribute('src', 'https://cdnjs.cloudflare.com/ajax/libs/require.js/2.3.6/require.min.js');\r\n    require_script.setAttribute('type', 'text/javascript');\r\n    \r\n    \r\n    require_script.onload = function() {\r\n        renderPlotly();\r\n    };\r\n\r\n    document.getElementsByTagName('head')[0].appendChild(require_script);\r\n}\r\nelse {\r\n    renderPlotly();\r\n}\r\n\r\n</script>\r\n<table id=\"table_637920461180539489\"><caption><h3 style=\"text-align: center;\">DataFrame - 27 rows </h3></caption><thead><tr><th><i>index</i></th><th>Trial</th><th>Metric</th><th>Trainer</th><th>Parameters</th></tr></thead><tbody><tr style=\"display: none\"><td><i><div class=\"dni-plaintext\">0</div></i></td><td><div class=\"dni-plaintext\">0</div></td><td><div class=\"dni-plaintext\">30531504</div></td><td>FastTreeRegression</td><td>{&quot;0&quot;:{},&quot;1&quot;:{&quot;NumberOfLeaves&quot;:4,&quot;MinimumExampleCountPerLeaf&quot;:20,&quot;NumberOfTrees&quot;:4,&quot;MaximumBinCountPerFeature&quot;:255,&quot;FeatureFraction&quot;:1,&quot;LearningRate&quot;:0.09999999999999998,&quot;LabelColumnName&quot;:&quot;y&quot;,&quot;FeatureColumnName&quot;:&quot;Features&quot;}}</td></tr><tr style=\"display: none\"><td><i><div class=\"dni-plaintext\">1</div></i></td><td><div class=\"dni-plaintext\">1</div></td><td><div class=\"dni-plaintext\">44041800</div></td><td>FastTreeRegression</td><td>{&quot;0&quot;:{},&quot;1&quot;:{&quot;NumberOfLeaves&quot;:4,&quot;MinimumExampleCountPerLeaf&quot;:15,&quot;NumberOfTrees&quot;:5,&quot;MaximumBinCountPerFeature&quot;:208,&quot;FeatureFraction&quot;:0.99999999,&quot;LearningRate&quot;:0.008121780017392603,&quot;LabelColumnName&quot;:&quot;y&quot;,&quot;FeatureColumnName&quot;:&quot;Features&quot;}}</td></tr><tr style=\"display: none\"><td><i><div class=\"dni-plaintext\">2</div></i></td><td><div class=\"dni-plaintext\">2</div></td><td><div class=\"dni-plaintext\">3561387</div></td><td>LightGbmRegression</td><td>{&quot;0&quot;:{},&quot;1&quot;:{&quot;NumberOfLeaves&quot;:4,&quot;MinimumExampleCountPerLeaf&quot;:20,&quot;LearningRate&quot;:1,&quot;NumberOfTrees&quot;:4,&quot;SubsampleFraction&quot;:1,&quot;MaximumBinCountPerFeature&quot;:255,&quot;FeatureFraction&quot;:1,&quot;L1Regularization&quot;:2E-10,&quot;L2Regularization&quot;:1,&quot;LabelColumnName&quot;:&quot;y&quot;,&quot;FeatureColumnName&quot;:&quot;Features&quot;}}</td></tr><tr style=\"display: none\"><td><i><div class=\"dni-plaintext\">3</div></i></td><td><div class=\"dni-plaintext\">3</div></td><td><div class=\"dni-plaintext\">2706663.8</div></td><td>LightGbmRegression</td><td>{&quot;0&quot;:{},&quot;1&quot;:{&quot;NumberOfLeaves&quot;:6,&quot;MinimumExampleCountPerLeaf&quot;:20,&quot;LearningRate&quot;:0.5174523681236972,&quot;NumberOfTrees&quot;:4,&quot;SubsampleFraction&quot;:0.9999997766729865,&quot;MaximumBinCountPerFeature&quot;:168,&quot;FeatureFraction&quot;:0.9912309247535853,&quot;L1Regularization&quot;:8.337986571398697E-10,&quot;L2Regularization&quot;:0.9999997766729865,&quot;LabelColumnName&quot;:&quot;y&quot;,&quot;FeatureColumnName&quot;:&quot;Features&quot;}}</td></tr><tr style=\"display: none\"><td><i><div class=\"dni-plaintext\">4</div></i></td><td><div class=\"dni-plaintext\">4</div></td><td><div class=\"dni-plaintext\">1485122.8</div></td><td>LightGbmRegression</td><td>{&quot;0&quot;:{},&quot;1&quot;:{&quot;NumberOfLeaves&quot;:4,&quot;MinimumExampleCountPerLeaf&quot;:29,&quot;LearningRate&quot;:0.7679442642674146,&quot;NumberOfTrees&quot;:11,&quot;SubsampleFraction&quot;:0.9999997766729865,&quot;MaximumBinCountPerFeature&quot;:198,&quot;FeatureFraction&quot;:0.99999999,&quot;L1Regularization&quot;:2.1135531696254165E-09,&quot;L2Regularization&quot;:0.40010650320583097,&quot;LabelColumnName&quot;:&quot;y&quot;,&quot;FeatureColumnName&quot;:&quot;Features&quot;}}</td></tr><tr style=\"display: none\"><td><i><div class=\"dni-plaintext\">5</div></i></td><td><div class=\"dni-plaintext\">5</div></td><td><div class=\"dni-plaintext\">21339914</div></td><td>LightGbmRegression</td><td>{&quot;0&quot;:{},&quot;1&quot;:{&quot;NumberOfLeaves&quot;:10,&quot;MinimumExampleCountPerLeaf&quot;:23,&quot;LearningRate&quot;:0.03185626032263953,&quot;NumberOfTrees&quot;:11,&quot;SubsampleFraction&quot;:0.9999997766729865,&quot;MaximumBinCountPerFeature&quot;:121,&quot;FeatureFraction&quot;:0.9729674745592735,&quot;L1Regularization&quot;:3.029313341299169E-08,&quot;L2Regularization&quot;:0.9999997766729865,&quot;LabelColumnName&quot;:&quot;y&quot;,&quot;FeatureColumnName&quot;:&quot;Features&quot;}}</td></tr><tr style=\"display: none\"><td><i><div class=\"dni-plaintext\">6</div></i></td><td><div class=\"dni-plaintext\">6</div></td><td><div class=\"dni-plaintext\">4735599</div></td><td>FastTreeRegression</td><td>{&quot;0&quot;:{},&quot;1&quot;:{&quot;NumberOfLeaves&quot;:4,&quot;MinimumExampleCountPerLeaf&quot;:26,&quot;NumberOfTrees&quot;:4,&quot;MaximumBinCountPerFeature&quot;:309,&quot;FeatureFraction&quot;:0.9835083856684602,&quot;LearningRate&quot;:0.9999997766729865,&quot;LabelColumnName&quot;:&quot;y&quot;,&quot;FeatureColumnName&quot;:&quot;Features&quot;}}</td></tr><tr style=\"display: none\"><td><i><div class=\"dni-plaintext\">7</div></i></td><td><div class=\"dni-plaintext\">7</div></td><td><div class=\"dni-plaintext\">1614992.2</div></td><td>LightGbmRegression</td><td>{&quot;0&quot;:{},&quot;1&quot;:{&quot;NumberOfLeaves&quot;:4,&quot;MinimumExampleCountPerLeaf&quot;:35,&quot;LearningRate&quot;:0.9999997766729865,&quot;NumberOfTrees&quot;:10,&quot;SubsampleFraction&quot;:0.09967342414979584,&quot;MaximumBinCountPerFeature&quot;:325,&quot;FeatureFraction&quot;:0.99999999,&quot;L1Regularization&quot;:2E-10,&quot;L2Regularization&quot;:0.00829447248722201,&quot;LabelColumnName&quot;:&quot;y&quot;,&quot;FeatureColumnName&quot;:&quot;Features&quot;}}</td></tr><tr style=\"display: none\"><td><i><div class=\"dni-plaintext\">8</div></i></td><td><div class=\"dni-plaintext\">8</div></td><td><div class=\"dni-plaintext\">2220204</div></td><td>LightGbmRegression</td><td>{&quot;0&quot;:{},&quot;1&quot;:{&quot;NumberOfLeaves&quot;:4,&quot;MinimumExampleCountPerLeaf&quot;:52,&quot;LearningRate&quot;:0.9999997766729865,&quot;NumberOfTrees&quot;:6,&quot;SubsampleFraction&quot;:0.09476551241448943,&quot;MaximumBinCountPerFeature&quot;:201,&quot;FeatureFraction&quot;:0.99999999,&quot;L1Regularization&quot;:1.9688011248741678E-07,&quot;L2Regularization&quot;:0.8024586119148162,&quot;LabelColumnName&quot;:&quot;y&quot;,&quot;FeatureColumnName&quot;:&quot;Features&quot;}}</td></tr><tr style=\"display: none\"><td><i><div class=\"dni-plaintext\">9</div></i></td><td><div class=\"dni-plaintext\">9</div></td><td><div class=\"dni-plaintext\">16984648</div></td><td>LightGbmRegression</td><td>{&quot;0&quot;:{},&quot;1&quot;:{&quot;NumberOfLeaves&quot;:6,&quot;MinimumExampleCountPerLeaf&quot;:20,&quot;LearningRate&quot;:0.037068194083769934,&quot;NumberOfTrees&quot;:16,&quot;SubsampleFraction&quot;:0.9999997766729865,&quot;MaximumBinCountPerFeature&quot;:195,&quot;FeatureFraction&quot;:0.9620412865558884,&quot;L1Regularization&quot;:2E-10,&quot;L2Regularization&quot;:0.19949342125646133,&quot;LabelColumnName&quot;:&quot;y&quot;,&quot;FeatureColumnName&quot;:&quot;Features&quot;}}</td></tr><tr style=\"display: none\"><td><i><div class=\"dni-plaintext\">10</div></i></td><td><div class=\"dni-plaintext\">10</div></td><td><div class=\"dni-plaintext\">1317194.1</div></td><td>FastTreeRegression</td><td>{&quot;0&quot;:{},&quot;1&quot;:{&quot;NumberOfLeaves&quot;:6,&quot;MinimumExampleCountPerLeaf&quot;:50,&quot;NumberOfTrees&quot;:9,&quot;MaximumBinCountPerFeature&quot;:224,&quot;FeatureFraction&quot;:0.99999999,&quot;LearningRate&quot;:0.9999997766729865,&quot;LabelColumnName&quot;:&quot;y&quot;,&quot;FeatureColumnName&quot;:&quot;Features&quot;}}</td></tr><tr style=\"display: none\"><td><i><div class=\"dni-plaintext\">11</div></i></td><td><div class=\"dni-plaintext\">11</div></td><td><div class=\"dni-plaintext\">43842556</div></td><td>FastTreeRegression</td><td>{&quot;0&quot;:{},&quot;1&quot;:{&quot;NumberOfLeaves&quot;:6,&quot;MinimumExampleCountPerLeaf&quot;:77,&quot;NumberOfTrees&quot;:7,&quot;MaximumBinCountPerFeature&quot;:88,&quot;FeatureFraction&quot;:0.9292312812027668,&quot;LearningRate&quot;:0.007446203696971192,&quot;LabelColumnName&quot;:&quot;y&quot;,&quot;FeatureColumnName&quot;:&quot;Features&quot;}}</td></tr><tr style=\"display: none\"><td><i><div class=\"dni-plaintext\">12</div></i></td><td><div class=\"dni-plaintext\">12</div></td><td><div class=\"dni-plaintext\">660993.06</div></td><td>LightGbmRegression</td><td>{&quot;0&quot;:{},&quot;1&quot;:{&quot;NumberOfLeaves&quot;:4,&quot;MinimumExampleCountPerLeaf&quot;:21,&quot;LearningRate&quot;:0.6034415931320365,&quot;NumberOfTrees&quot;:31,&quot;SubsampleFraction&quot;:0.9735426234033024,&quot;MaximumBinCountPerFeature&quot;:188,&quot;FeatureFraction&quot;:0.99999999,&quot;L1Regularization&quot;:6.714043378412602E-10,&quot;L2Regularization&quot;:0.01779487568870688,&quot;LabelColumnName&quot;:&quot;y&quot;,&quot;FeatureColumnName&quot;:&quot;Features&quot;}}</td></tr><tr style=\"display: none\"><td><i><div class=\"dni-plaintext\">13</div></i></td><td><div class=\"dni-plaintext\">13</div></td><td><div class=\"dni-plaintext\">1416844.5</div></td><td>LightGbmRegression</td><td>{&quot;0&quot;:{},&quot;1&quot;:{&quot;NumberOfLeaves&quot;:4,&quot;MinimumExampleCountPerLeaf&quot;:23,&quot;LearningRate&quot;:0.5922441979834152,&quot;NumberOfTrees&quot;:13,&quot;SubsampleFraction&quot;:0.9999997766729865,&quot;MaximumBinCountPerFeature&quot;:553,&quot;FeatureFraction&quot;:0.99999999,&quot;L1Regularization&quot;:2E-10,&quot;L2Regularization&quot;:0.016705025934878524,&quot;LabelColumnName&quot;:&quot;y&quot;,&quot;FeatureColumnName&quot;:&quot;Features&quot;}}</td></tr><tr style=\"display: none\"><td><i><div class=\"dni-plaintext\">14</div></i></td><td><div class=\"dni-plaintext\">14</div></td><td><div class=\"dni-plaintext\">549449.25</div></td><td>LightGbmRegression</td><td>{&quot;0&quot;:{},&quot;1&quot;:{&quot;NumberOfLeaves&quot;:6,&quot;MinimumExampleCountPerLeaf&quot;:20,&quot;LearningRate&quot;:0.6148506942940578,&quot;NumberOfTrees&quot;:68,&quot;SubsampleFraction&quot;:0.061683477827981226,&quot;MaximumBinCountPerFeature&quot;:63,&quot;FeatureFraction&quot;:0.9080046270555096,&quot;L1Regularization&quot;:1.0900154592376167E-08,&quot;L2Regularization&quot;:0.018955828144832744,&quot;LabelColumnName&quot;:&quot;y&quot;,&quot;FeatureColumnName&quot;:&quot;Features&quot;}}</td></tr><tr style=\"display: none\"><td><i><div class=\"dni-plaintext\">15</div></i></td><td><div class=\"dni-plaintext\">15</div></td><td><div class=\"dni-plaintext\">1794147.4</div></td><td>LightGbmRegression</td><td>{&quot;0&quot;:{},&quot;1&quot;:{&quot;NumberOfLeaves&quot;:4,&quot;MinimumExampleCountPerLeaf&quot;:20,&quot;LearningRate&quot;:0.9999997766729865,&quot;NumberOfTrees&quot;:9,&quot;SubsampleFraction&quot;:0.9999997766729865,&quot;MaximumBinCountPerFeature&quot;:37,&quot;FeatureFraction&quot;:0.99999999,&quot;L1Regularization&quot;:2.1239467118708953E-10,&quot;L2Regularization&quot;:0.0007735732847143597,&quot;LabelColumnName&quot;:&quot;y&quot;,&quot;FeatureColumnName&quot;:&quot;Features&quot;}}</td></tr><tr style=\"display: none\"><td><i><div class=\"dni-plaintext\">16</div></i></td><td><div class=\"dni-plaintext\">16</div></td><td><div class=\"dni-plaintext\">1709101.5</div></td><td>FastTreeRegression</td><td>{&quot;0&quot;:{},&quot;1&quot;:{&quot;NumberOfLeaves&quot;:4,&quot;MinimumExampleCountPerLeaf&quot;:32,&quot;NumberOfTrees&quot;:9,&quot;MaximumBinCountPerFeature&quot;:567,&quot;FeatureFraction&quot;:0.99999999,&quot;LearningRate&quot;:0.9999997766729865,&quot;LabelColumnName&quot;:&quot;y&quot;,&quot;FeatureColumnName&quot;:&quot;Features&quot;}}</td></tr><tr style=\"display: none\"><td><i><div class=\"dni-plaintext\">17</div></i></td><td><div class=\"dni-plaintext\">17</div></td><td><div class=\"dni-plaintext\">339129.06</div></td><td>LightGbmRegression</td><td>{&quot;0&quot;:{},&quot;1&quot;:{&quot;NumberOfLeaves&quot;:41,&quot;MinimumExampleCountPerLeaf&quot;:27,&quot;LearningRate&quot;:0.07108186277019075,&quot;NumberOfTrees&quot;:495,&quot;SubsampleFraction&quot;:0.0005199019354644548,&quot;MaximumBinCountPerFeature&quot;:104,&quot;FeatureFraction&quot;:0.7806728296854526,&quot;L1Regularization&quot;:5.5939901633898E-07,&quot;L2Regularization&quot;:0.46449822887706443,&quot;LabelColumnName&quot;:&quot;y&quot;,&quot;FeatureColumnName&quot;:&quot;Features&quot;}}</td></tr><tr style=\"display: none\"><td><i><div class=\"dni-plaintext\">18</div></i></td><td><div class=\"dni-plaintext\">18</div></td><td><div class=\"dni-plaintext\">30161470</div></td><td>LightGbmRegression</td><td>{&quot;0&quot;:{},&quot;1&quot;:{&quot;NumberOfLeaves&quot;:12,&quot;MinimumExampleCountPerLeaf&quot;:20,&quot;LearningRate&quot;:3.784821006083306E-05,&quot;NumberOfTrees&quot;:133,&quot;SubsampleFraction&quot;:0.00010783096341623953,&quot;MaximumBinCountPerFeature&quot;:8,&quot;FeatureFraction&quot;:0.816483667203949,&quot;L1Regularization&quot;:6.103102346689707E-06,&quot;L2Regularization&quot;:0.15563922234913494,&quot;LabelColumnName&quot;:&quot;y&quot;,&quot;FeatureColumnName&quot;:&quot;Features&quot;}}</td></tr><tr style=\"display: none\"><td><i><div class=\"dni-plaintext\">19</div></i></td><td><div class=\"dni-plaintext\">19</div></td><td><div class=\"dni-plaintext\">4831584</div></td><td>FastTreeRegression</td><td>{&quot;0&quot;:{},&quot;1&quot;:{&quot;NumberOfLeaves&quot;:4,&quot;MinimumExampleCountPerLeaf&quot;:94,&quot;NumberOfTrees&quot;:4,&quot;MaximumBinCountPerFeature&quot;:413,&quot;FeatureFraction&quot;:0.99999999,&quot;LearningRate&quot;:0.4725373846282562,&quot;LabelColumnName&quot;:&quot;y&quot;,&quot;FeatureColumnName&quot;:&quot;Features&quot;}}</td></tr><tr style=\"display: none\"><td><i><div class=\"dni-plaintext\">20</div></i></td><td><div class=\"dni-plaintext\">20</div></td><td><div class=\"dni-plaintext\">286596.03</div></td><td>FastTreeRegression</td><td>{&quot;0&quot;:{},&quot;1&quot;:{&quot;NumberOfLeaves&quot;:35,&quot;MinimumExampleCountPerLeaf&quot;:26,&quot;NumberOfTrees&quot;:26,&quot;MaximumBinCountPerFeature&quot;:121,&quot;FeatureFraction&quot;:0.9121225465387642,&quot;LearningRate&quot;:0.9999997766729865,&quot;LabelColumnName&quot;:&quot;y&quot;,&quot;FeatureColumnName&quot;:&quot;Features&quot;}}</td></tr><tr style=\"display: none\"><td><i><div class=\"dni-plaintext\">21</div></i></td><td><div class=\"dni-plaintext\">21</div></td><td><div class=\"dni-plaintext\">42483.297</div></td><td>LightGbmRegression</td><td>{&quot;0&quot;:{},&quot;1&quot;:{&quot;NumberOfLeaves&quot;:129,&quot;MinimumExampleCountPerLeaf&quot;:34,&quot;LearningRate&quot;:0.9999997766729865,&quot;NumberOfTrees&quot;:1837,&quot;SubsampleFraction&quot;:0.0025066828110985625,&quot;MaximumBinCountPerFeature&quot;:1022,&quot;FeatureFraction&quot;:0.7448619921669561,&quot;L1Regularization&quot;:5.127347399814596E-08,&quot;L2Regularization&quot;:0.9999997766729865,&quot;LabelColumnName&quot;:&quot;y&quot;,&quot;FeatureColumnName&quot;:&quot;Features&quot;}}</td></tr><tr style=\"display: none\"><td><i><div class=\"dni-plaintext\">22</div></i></td><td><div class=\"dni-plaintext\">22</div></td><td><div class=\"dni-plaintext\">45399390</div></td><td>FastTreeRegression</td><td>{&quot;0&quot;:{},&quot;1&quot;:{&quot;NumberOfLeaves&quot;:215,&quot;MinimumExampleCountPerLeaf&quot;:53,&quot;NumberOfTrees&quot;:4,&quot;MaximumBinCountPerFeature&quot;:45,&quot;FeatureFraction&quot;:0.8322349319858072,&quot;LearningRate&quot;:0.004636904825408543,&quot;LabelColumnName&quot;:&quot;y&quot;,&quot;FeatureColumnName&quot;:&quot;Features&quot;}}</td></tr><tr style=\"display: none\"><td><i><div class=\"dni-plaintext\">23</div></i></td><td><div class=\"dni-plaintext\">23</div></td><td><div class=\"dni-plaintext\">1173902.1</div></td><td>LightGbmRegression</td><td>{&quot;0&quot;:{},&quot;1&quot;:{&quot;NumberOfLeaves&quot;:8750,&quot;MinimumExampleCountPerLeaf&quot;:638,&quot;LearningRate&quot;:0.9999997766729865,&quot;NumberOfTrees&quot;:119,&quot;SubsampleFraction&quot;:1.9656326831484527E-05,&quot;MaximumBinCountPerFeature&quot;:288,&quot;FeatureFraction&quot;:0.99999999,&quot;L1Regularization&quot;:2.179847481794481E-05,&quot;L2Regularization&quot;:0.9999997766729865,&quot;LabelColumnName&quot;:&quot;y&quot;,&quot;FeatureColumnName&quot;:&quot;Features&quot;}}</td></tr><tr style=\"display: none\"><td><i><div class=\"dni-plaintext\">24</div></i></td><td><div class=\"dni-plaintext\">24</div></td><td><div class=\"dni-plaintext\">107449.25</div></td><td>FastTreeRegression</td><td>{&quot;0&quot;:{},&quot;1&quot;:{&quot;NumberOfLeaves&quot;:5,&quot;MinimumExampleCountPerLeaf&quot;:12,&quot;NumberOfTrees&quot;:206,&quot;MaximumBinCountPerFeature&quot;:322,&quot;FeatureFraction&quot;:0.9920101610917212,&quot;LearningRate&quot;:0.9999997766729865,&quot;LabelColumnName&quot;:&quot;y&quot;,&quot;FeatureColumnName&quot;:&quot;Features&quot;}}</td></tr><tr style=\"display: none\"><td><i><div class=\"dni-plaintext\">25</div></i></td><td><div class=\"dni-plaintext\">25</div></td><td><div class=\"dni-plaintext\">93445.56</div></td><td>FastTreeRegression</td><td>{&quot;0&quot;:{},&quot;1&quot;:{&quot;NumberOfLeaves&quot;:4,&quot;MinimumExampleCountPerLeaf&quot;:3,&quot;NumberOfTrees&quot;:14290,&quot;MaximumBinCountPerFeature&quot;:370,&quot;FeatureFraction&quot;:0.8945603899293609,&quot;LearningRate&quot;:0.9999997766729865,&quot;LabelColumnName&quot;:&quot;y&quot;,&quot;FeatureColumnName&quot;:&quot;Features&quot;}}</td></tr><tr style=\"display: none\"><td><i><div class=\"dni-plaintext\">26</div></i></td><td><div class=\"dni-plaintext\">26</div></td><td><div class=\"dni-plaintext\">41441.105</div></td><td>LightGbmRegression</td><td>{&quot;0&quot;:{},&quot;1&quot;:{&quot;NumberOfLeaves&quot;:4,&quot;MinimumExampleCountPerLeaf&quot;:20,&quot;LearningRate&quot;:0.09150197486390735,&quot;NumberOfTrees&quot;:28097,&quot;SubsampleFraction&quot;:0.3196659665524313,&quot;MaximumBinCountPerFeature&quot;:1022,&quot;FeatureFraction&quot;:0.453976065304901,&quot;L1Regularization&quot;:2E-10,&quot;L2Regularization&quot;:0.32219865003541853,&quot;LabelColumnName&quot;:&quot;y&quot;,&quot;FeatureColumnName&quot;:&quot;Features&quot;}}</td></tr></tbody><tfoot><tr><td colspan=\"5\" style=\"text-align: center;\"><button style=\"margin: 2px;\" onclick=\"var allRows = document.querySelectorAll(&#39;#table_637920461180539489 tbody tr:nth-child(n)&#39;); for (let i = 0; i &lt; allRows.length; i++) { allRows[i].style.display=&#39;none&#39;; } document.querySelector(&#39;#page_637920461180539489&#39;).innerHTML = 1; var page = parseInt(document.querySelector(&#39;#page_637920461180539489&#39;).innerHTML) - 1; var pageRows = document.querySelectorAll(`#table_637920461180539489 tbody tr:nth-child(n + ${page * 25 + 1 })`); for (let j = 0; j &lt; 25; j++) { pageRows[j].style.display=&#39;table-row&#39;; } \">⏮</button><button style=\"margin: 2px;\" onclick=\"var allRows = document.querySelectorAll(&#39;#table_637920461180539489 tbody tr:nth-child(n)&#39;); for (let i = 0; i &lt; allRows.length; i++) { allRows[i].style.display=&#39;none&#39;; } var page = parseInt(document.querySelector(&#39;#page_637920461180539489&#39;).innerHTML) - 1; page = parseInt(page) + parseInt(-10); page = page &lt; 0 ? 0 : page; page = page > 1 ? 1 : page; document.querySelector(&#39;#page_637920461180539489&#39;).innerHTML = page + 1; var page = parseInt(document.querySelector(&#39;#page_637920461180539489&#39;).innerHTML) - 1; var pageRows = document.querySelectorAll(`#table_637920461180539489 tbody tr:nth-child(n + ${page * 25 + 1 })`); for (let j = 0; j &lt; 25; j++) { pageRows[j].style.display=&#39;table-row&#39;; } \">⏪</button><button style=\"margin: 2px;\" onclick=\"var allRows = document.querySelectorAll(&#39;#table_637920461180539489 tbody tr:nth-child(n)&#39;); for (let i = 0; i &lt; allRows.length; i++) { allRows[i].style.display=&#39;none&#39;; } var page = parseInt(document.querySelector(&#39;#page_637920461180539489&#39;).innerHTML) - 1; page = parseInt(page) + parseInt(-1); page = page &lt; 0 ? 0 : page; page = page > 1 ? 1 : page; document.querySelector(&#39;#page_637920461180539489&#39;).innerHTML = page + 1; var page = parseInt(document.querySelector(&#39;#page_637920461180539489&#39;).innerHTML) - 1; var pageRows = document.querySelectorAll(`#table_637920461180539489 tbody tr:nth-child(n + ${page * 25 + 1 })`); for (let j = 0; j &lt; 25; j++) { pageRows[j].style.display=&#39;table-row&#39;; } \">◀️</button><b style=\"margin: 2px;\">Page</b><b id=\"page_637920461180539489\" style=\"margin: 2px;\">1</b><button style=\"margin: 2px;\" onclick=\"var allRows = document.querySelectorAll(&#39;#table_637920461180539489 tbody tr:nth-child(n)&#39;); for (let i = 0; i &lt; allRows.length; i++) { allRows[i].style.display=&#39;none&#39;; } var page = parseInt(document.querySelector(&#39;#page_637920461180539489&#39;).innerHTML) - 1; page = parseInt(page) + parseInt(1); page = page &lt; 0 ? 0 : page; page = page > 1 ? 1 : page; document.querySelector(&#39;#page_637920461180539489&#39;).innerHTML = page + 1; var page = parseInt(document.querySelector(&#39;#page_637920461180539489&#39;).innerHTML) - 1; var pageRows = document.querySelectorAll(`#table_637920461180539489 tbody tr:nth-child(n + ${page * 25 + 1 })`); for (let j = 0; j &lt; 25; j++) { pageRows[j].style.display=&#39;table-row&#39;; } \">▶️</button><button style=\"margin: 2px;\" onclick=\"var allRows = document.querySelectorAll(&#39;#table_637920461180539489 tbody tr:nth-child(n)&#39;); for (let i = 0; i &lt; allRows.length; i++) { allRows[i].style.display=&#39;none&#39;; } var page = parseInt(document.querySelector(&#39;#page_637920461180539489&#39;).innerHTML) - 1; page = parseInt(page) + parseInt(10); page = page &lt; 0 ? 0 : page; page = page > 1 ? 1 : page; document.querySelector(&#39;#page_637920461180539489&#39;).innerHTML = page + 1; var page = parseInt(document.querySelector(&#39;#page_637920461180539489&#39;).innerHTML) - 1; var pageRows = document.querySelectorAll(`#table_637920461180539489 tbody tr:nth-child(n + ${page * 25 + 1 })`); for (let j = 0; j &lt; 25; j++) { pageRows[j].style.display=&#39;table-row&#39;; } \">⏩</button><button style=\"margin: 2px;\" onclick=\"var allRows = document.querySelectorAll(&#39;#table_637920461180539489 tbody tr:nth-child(n)&#39;); for (let i = 0; i &lt; allRows.length; i++) { allRows[i].style.display=&#39;none&#39;; } document.querySelector(&#39;#page_637920461180539489&#39;).innerHTML = 2; var page = parseInt(document.querySelector(&#39;#page_637920461180539489&#39;).innerHTML) - 1; var pageRows = document.querySelectorAll(`#table_637920461180539489 tbody tr:nth-child(n + ${page * 25 + 1 })`); for (let j = 0; j &lt; 25; j++) { pageRows[j].style.display=&#39;table-row&#39;; } \">⏭️</button></td></tr></tfoot></table><script>var page = parseInt(document.querySelector('#page_637920461180539489').innerHTML) - 1; var pageRows = document.querySelectorAll(`#table_637920461180539489 tbody tr:nth-child(n + ${page * 25 + 1 })`); for (let j = 0; j < 25; j++) { pageRows[j].style.display='table-row'; } </script>"
          },
          "execution_count": 1,
          "metadata": {}
        }
      ]
    },
    {
      "cell_type": "markdown",
      "metadata": {},
      "source": [
        "## Check model/metric from experiment result"
      ]
    },
    {
      "cell_type": "code",
      "execution_count": 1,
      "metadata": {
        "dotnet_interactive": {
          "language": "csharp"
        }
      },
      "source": [
        "// get model\n",
        "var model  = res.Model;\n",
        "var eval = model.Transform(trainTestSplit.TestSet);\n",
        "var metric = context.Regression.Evaluate(eval, \"y\");\n",
        "\n",
        "// should be identical with res.Metric\n",
        "metric.RootMeanSquaredError"
      ],
      "outputs": [
        {
          "output_type": "execute_result",
          "data": {
            "text/html": "<div class=\"dni-plaintext\">38281.698695419735</div>"
          },
          "execution_count": 1,
          "metadata": {}
        }
      ]
    },
    {
      "cell_type": "markdown",
      "metadata": {},
      "source": [
        "# Continue learning\n",
        "\n",
        "> [⏩ Next Module - Model Evaluation](https://ntbk.io/ml-04-evaluation)  \n",
        "> [⏪ Last Module - Data Prep and Feature Engineering](https://ntbk.io/ml-02-data)  "
      ]
    }
  ],
  "metadata": {
    "kernelspec": {
      "display_name": ".NET (C#)",
      "language": "C#",
      "name": ".net-csharp"
    },
    "language_info": {
      "file_extension": ".cs",
      "mimetype": "text/x-csharp",
      "name": "C#",
      "pygments_lexer": "csharp",
      "version": "8.0"
    }
  },
  "nbformat": 4,
  "nbformat_minor": 4
}