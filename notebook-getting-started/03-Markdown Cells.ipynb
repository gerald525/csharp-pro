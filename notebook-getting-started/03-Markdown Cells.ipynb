{
  "cells": [
    {
      "cell_type": "markdown",
      "metadata": {},
      "source": [
        "# Markdown Cells\n",
        "\n",
        "Markdown cells can be mixed with code cells to turn a notebook into a tutorial or just to give context for a seciton of code. For a complete set of Markdown documentation check out [markdownguide.org](https://www.markdownguide.org/) but we hope this cheat sheet will you get started.\n",
        "\n",
        "Click the edit markdown button ![Edit Button](https://github.com/JakeRadMSFT/csharp-notebooks/raw/main/notebook-getting-started/images/edit%20markdown.png) to check out the syntax.\n",
        ""
      ]
    },
    {
      "cell_type": "markdown",
      "metadata": {},
      "source": [
        "# Headers\n",
        "# H1  \n",
        "## H2  \n",
        "### H3  \n",
        "#### H4  \n",
        "##### H5  \n",
        "###### H6  "
      ]
    },
    {
      "cell_type": "markdown",
      "metadata": {},
      "source": [
        "# Paragraphs\n",
        "\n",
        "This is a line in a paragraph.\n",
        "\n",
        "This is the next paragraph!"
      ]
    },
    {
      "cell_type": "markdown",
      "metadata": {},
      "source": [
        "# Line Breaks\n",
        "\n",
        "Two spaces at then end of a line works.  \n",
        "Second line."
      ]
    },
    {
      "cell_type": "markdown",
      "metadata": {},
      "source": [
        "# Emphasis\n",
        "This is a **bold text**.  \n",
        "This is *Italicized text*.  \n",
        "This is ~~strikethrough text~~.  \n",
        "This is ==highlighted text==.  \n",
        "This is water - H~2~0  \n",
        "This is x * x - X^2^\n",
        ""
      ]
    },
    {
      "cell_type": "markdown",
      "metadata": {},
      "source": [
        "# Blockquotes\n",
        "\n",
        "> All of this text will be in a blockquote.\n",
        ">\n",
        "> This will be in the same blockquote.\n",
        ">\n",
        ">> This will be a nested blockquote."
      ]
    },
    {
      "cell_type": "markdown",
      "metadata": {},
      "source": [
        "# Lists\n",
        "\n",
        "## Ordered List\n",
        "\n",
        "1. First item\n",
        "1. Second item\n",
        "1. Third item\n",
        "1. Fourth item\n",
        "\n",
        "## Unordered List\n",
        "- First item\n",
        "- Second item\n",
        "- Third item\n",
        "- Fourth item\n",
        "\n",
        "## Nested List\n",
        "\n",
        "1. First item\n",
        "    - First item\n",
        "    - Second item\n",
        "    - Third item\n",
        "    - Fourth item\n",
        "1. Second item\n",
        "1. Third item\n",
        "1. Fourth item"
      ]
    },
    {
      "cell_type": "markdown",
      "metadata": {},
      "source": [
        "# Code\n",
        "\n",
        "`var x = 5;`\n",
        "\n",
        "To output text try `Console.WriteLine`\n",
        "\n",
        "```\n",
        "{\n",
        "  \"firstName\": \"Hello\",\n",
        "  \"lastName\": \"World\",\n",
        "}\n",
        "```"
      ]
    },
    {
      "cell_type": "markdown",
      "metadata": {},
      "source": [
        "# Horizontal rules\n",
        "\n",
        "***\n",
        "---\n",
        "________________"
      ]
    },
    {
      "cell_type": "markdown",
      "metadata": {},
      "source": [
        "# Links\n",
        "\n",
        "[This Notebook](https://github.com/JakeRadMSFT/csharp-notebooks/blob/main/notebook-getting-started/03-Markdown%20Cells.ipynb)"
      ]
    },
    {
      "cell_type": "markdown",
      "metadata": {},
      "source": [
        "# Images\n",
        "\n",
        "Play Button: ![Play Button](https://github.com/JakeRadMSFT/csharp-notebooks/raw/main/notebook-getting-started/images/play.png)"
      ]
    },
    {
      "cell_type": "markdown",
      "metadata": {},
      "source": [
        "# Table\n",
        "\n",
        "| Column 1 (Aligned Left) | Column 2 (Aligned Center) | Column 3 (Aligned Right)     |\n",
        "| :---        |    :----:   |          ---: |\n",
        "| Row 1 | Value       | Value   |\n",
        "| Row 2 | Value      | Value      |"
      ]
    }
  ],
  "metadata": {
    "kernelspec": {
      "display_name": ".NET (C#)",
      "language": "C#",
      "name": ".net-csharp"
    },
    "language_info": {
      "file_extension": ".cs",
      "mimetype": "text/x-csharp",
      "name": "C#",
      "pygments_lexer": "csharp",
      "version": "8.0"
    }
  },
  "nbformat": 4,
  "nbformat_minor": 4
}